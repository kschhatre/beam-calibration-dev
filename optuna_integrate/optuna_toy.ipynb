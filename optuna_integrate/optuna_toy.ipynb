{
 "cells": [
  {
   "cell_type": "code",
   "execution_count": 1,
   "metadata": {},
   "outputs": [],
   "source": [
    "import optuna\n"
   ]
  },
  {
   "cell_type": "code",
   "execution_count": 2,
   "metadata": {},
   "outputs": [],
   "source": [
    "def objective(trial):\n",
    "    x = trial.suggest_uniform('x',-10,10)\n",
    "    return(x-2)**2\n",
    "\n"
   ]
  },
  {
   "cell_type": "code",
   "execution_count": 3,
   "metadata": {},
   "outputs": [
    {
     "name": "stderr",
     "output_type": "stream",
     "text": [
      "[I 2019-12-13 16:08:56,945] Finished trial#0 resulted in value: 63.24298369127567. Current best value is 63.24298369127567 with parameters: {'x': -5.952545736509515}.\n",
      "[I 2019-12-13 16:08:57,045] Finished trial#1 resulted in value: 29.693775890894674. Current best value is 29.693775890894674 with parameters: {'x': 7.449199564238281}.\n",
      "[I 2019-12-13 16:08:57,170] Finished trial#2 resulted in value: 11.485054360790876. Current best value is 11.485054360790876 with parameters: {'x': -1.3889606608502962}.\n",
      "[I 2019-12-13 16:08:57,323] Finished trial#3 resulted in value: 6.812836391241373. Current best value is 6.812836391241373 with parameters: {'x': -0.6101410673067793}.\n",
      "[I 2019-12-13 16:08:57,431] Finished trial#4 resulted in value: 40.82729287345703. Current best value is 6.812836391241373 with parameters: {'x': -0.6101410673067793}.\n",
      "[I 2019-12-13 16:08:57,533] Finished trial#5 resulted in value: 4.5788598965147855. Current best value is 4.5788598965147855 with parameters: {'x': -0.13982707163798302}.\n",
      "[I 2019-12-13 16:08:57,715] Finished trial#6 resulted in value: 38.31736642936464. Current best value is 4.5788598965147855 with parameters: {'x': -0.13982707163798302}.\n",
      "[I 2019-12-13 16:08:57,828] Finished trial#7 resulted in value: 4.807233899799835. Current best value is 4.5788598965147855 with parameters: {'x': -0.13982707163798302}.\n",
      "[I 2019-12-13 16:08:57,951] Finished trial#8 resulted in value: 129.09967142779297. Current best value is 4.5788598965147855 with parameters: {'x': -0.13982707163798302}.\n",
      "[I 2019-12-13 16:08:58,063] Finished trial#9 resulted in value: 8.029199163429185. Current best value is 4.5788598965147855 with parameters: {'x': -0.13982707163798302}.\n",
      "[I 2019-12-13 16:08:58,215] Finished trial#10 resulted in value: 3.9324919931460527. Current best value is 3.9324919931460527 with parameters: {'x': 3.983051182684414}.\n",
      "[I 2019-12-13 16:08:58,353] Finished trial#11 resulted in value: 3.274903660484794. Current best value is 3.274903660484794 with parameters: {'x': 3.8096694892948806}.\n",
      "[I 2019-12-13 16:08:58,531] Finished trial#12 resulted in value: 3.6942977322800847. Current best value is 3.274903660484794 with parameters: {'x': 3.8096694892948806}.\n",
      "[I 2019-12-13 16:08:58,708] Finished trial#13 resulted in value: 62.7226438288753. Current best value is 3.274903660484794 with parameters: {'x': 3.8096694892948806}.\n",
      "[I 2019-12-13 16:08:58,831] Finished trial#14 resulted in value: 2.763953350814054. Current best value is 2.763953350814054 with parameters: {'x': 3.662514165598012}.\n",
      "[I 2019-12-13 16:08:58,942] Finished trial#15 resulted in value: 22.692124554387696. Current best value is 2.763953350814054 with parameters: {'x': 3.662514165598012}.\n",
      "[I 2019-12-13 16:08:59,064] Finished trial#16 resulted in value: 0.2057538567915222. Current best value is 0.2057538567915222 with parameters: {'x': 2.453600988525733}.\n",
      "[I 2019-12-13 16:08:59,241] Finished trial#17 resulted in value: 0.018333765746743218. Current best value is 0.018333765746743218 with parameters: {'x': 1.8645977631398092}.\n",
      "[I 2019-12-13 16:08:59,426] Finished trial#18 resulted in value: 0.08410106336283316. Current best value is 0.018333765746743218 with parameters: {'x': 1.8645977631398092}.\n",
      "[I 2019-12-13 16:08:59,549] Finished trial#19 resulted in value: 0.4165158864148779. Current best value is 0.018333765746743218 with parameters: {'x': 1.8645977631398092}.\n",
      "[I 2019-12-13 16:08:59,665] Finished trial#20 resulted in value: 22.399872713338738. Current best value is 0.018333765746743218 with parameters: {'x': 1.8645977631398092}.\n",
      "[I 2019-12-13 16:08:59,785] Finished trial#21 resulted in value: 0.16559864918290368. Current best value is 0.018333765746743218 with parameters: {'x': 1.8645977631398092}.\n",
      "[I 2019-12-13 16:08:59,930] Finished trial#22 resulted in value: 0.2125139958859035. Current best value is 0.018333765746743218 with parameters: {'x': 1.8645977631398092}.\n",
      "[I 2019-12-13 16:09:00,132] Finished trial#23 resulted in value: 21.581401673255918. Current best value is 0.018333765746743218 with parameters: {'x': 1.8645977631398092}.\n",
      "[I 2019-12-13 16:09:00,323] Finished trial#24 resulted in value: 0.06517111945989339. Current best value is 0.018333765746743218 with parameters: {'x': 1.8645977631398092}.\n",
      "[I 2019-12-13 16:09:00,449] Finished trial#25 resulted in value: 20.204751958885005. Current best value is 0.018333765746743218 with parameters: {'x': 1.8645977631398092}.\n",
      "[I 2019-12-13 16:09:00,564] Finished trial#26 resulted in value: 16.292535499791708. Current best value is 0.018333765746743218 with parameters: {'x': 1.8645977631398092}.\n",
      "[I 2019-12-13 16:09:00,698] Finished trial#27 resulted in value: 0.2763733167521425. Current best value is 0.018333765746743218 with parameters: {'x': 1.8645977631398092}.\n",
      "[I 2019-12-13 16:09:00,829] Finished trial#28 resulted in value: 53.38453889349934. Current best value is 0.018333765746743218 with parameters: {'x': 1.8645977631398092}.\n",
      "[I 2019-12-13 16:09:00,964] Finished trial#29 resulted in value: 73.16650934402229. Current best value is 0.018333765746743218 with parameters: {'x': 1.8645977631398092}.\n",
      "[I 2019-12-13 16:09:01,122] Finished trial#30 resulted in value: 1.2355228738145407. Current best value is 0.018333765746743218 with parameters: {'x': 1.8645977631398092}.\n",
      "[I 2019-12-13 16:09:01,246] Finished trial#31 resulted in value: 0.01993471798376153. Current best value is 0.018333765746743218 with parameters: {'x': 1.8645977631398092}.\n",
      "[I 2019-12-13 16:09:01,384] Finished trial#32 resulted in value: 11.369414309839474. Current best value is 0.018333765746743218 with parameters: {'x': 1.8645977631398092}.\n",
      "[I 2019-12-13 16:09:01,514] Finished trial#33 resulted in value: 0.1278043576362224. Current best value is 0.018333765746743218 with parameters: {'x': 1.8645977631398092}.\n",
      "[I 2019-12-13 16:09:01,642] Finished trial#34 resulted in value: 39.09751716111564. Current best value is 0.018333765746743218 with parameters: {'x': 1.8645977631398092}.\n",
      "[I 2019-12-13 16:09:01,788] Finished trial#35 resulted in value: 14.49814905030889. Current best value is 0.018333765746743218 with parameters: {'x': 1.8645977631398092}.\n",
      "[I 2019-12-13 16:09:01,979] Finished trial#36 resulted in value: 2.639526295083866. Current best value is 0.018333765746743218 with parameters: {'x': 1.8645977631398092}.\n",
      "[I 2019-12-13 16:09:02,138] Finished trial#37 resulted in value: 7.041125713390392. Current best value is 0.018333765746743218 with parameters: {'x': 1.8645977631398092}.\n",
      "[I 2019-12-13 16:09:02,265] Finished trial#38 resulted in value: 11.22231866675877. Current best value is 0.018333765746743218 with parameters: {'x': 1.8645977631398092}.\n",
      "[I 2019-12-13 16:09:02,380] Finished trial#39 resulted in value: 0.6056724175592295. Current best value is 0.018333765746743218 with parameters: {'x': 1.8645977631398092}.\n",
      "[I 2019-12-13 16:09:02,496] Finished trial#40 resulted in value: 8.603030783653317. Current best value is 0.018333765746743218 with parameters: {'x': 1.8645977631398092}.\n",
      "[I 2019-12-13 16:09:02,615] Finished trial#41 resulted in value: 0.6850726378445974. Current best value is 0.018333765746743218 with parameters: {'x': 1.8645977631398092}.\n",
      "[I 2019-12-13 16:09:02,746] Finished trial#42 resulted in value: 1.6172680685321608. Current best value is 0.018333765746743218 with parameters: {'x': 1.8645977631398092}.\n",
      "[I 2019-12-13 16:09:02,860] Finished trial#43 resulted in value: 0.0015901458291497587. Current best value is 0.0015901458291497587 with parameters: {'x': 2.039876632620493}.\n",
      "[I 2019-12-13 16:09:02,991] Finished trial#44 resulted in value: 6.9244679290491575. Current best value is 0.0015901458291497587 with parameters: {'x': 2.039876632620493}.\n",
      "[I 2019-12-13 16:09:03,130] Finished trial#45 resulted in value: 0.02566417901021105. Current best value is 0.0015901458291497587 with parameters: {'x': 2.039876632620493}.\n",
      "[I 2019-12-13 16:09:03,271] Finished trial#46 resulted in value: 3.4071639020530453. Current best value is 0.0015901458291497587 with parameters: {'x': 2.039876632620493}.\n"
     ]
    },
    {
     "name": "stderr",
     "output_type": "stream",
     "text": [
      "[I 2019-12-13 16:09:03,391] Finished trial#47 resulted in value: 4.8058561895917355. Current best value is 0.0015901458291497587 with parameters: {'x': 2.039876632620493}.\n",
      "[I 2019-12-13 16:09:03,549] Finished trial#48 resulted in value: 0.8483473531891195. Current best value is 0.0015901458291497587 with parameters: {'x': 2.039876632620493}.\n",
      "[I 2019-12-13 16:09:03,677] Finished trial#49 resulted in value: 2.445737559918457. Current best value is 0.0015901458291497587 with parameters: {'x': 2.039876632620493}.\n",
      "[I 2019-12-13 16:09:03,813] Finished trial#50 resulted in value: 7.004241494148117. Current best value is 0.0015901458291497587 with parameters: {'x': 2.039876632620493}.\n",
      "[I 2019-12-13 16:09:03,968] Finished trial#51 resulted in value: 0.008241128810964568. Current best value is 0.0015901458291497587 with parameters: {'x': 2.039876632620493}.\n",
      "[I 2019-12-13 16:09:04,096] Finished trial#52 resulted in value: 0.02172753273181635. Current best value is 0.0015901458291497587 with parameters: {'x': 2.039876632620493}.\n",
      "[I 2019-12-13 16:09:04,229] Finished trial#53 resulted in value: 1.8681205941130359. Current best value is 0.0015901458291497587 with parameters: {'x': 2.039876632620493}.\n",
      "[I 2019-12-13 16:09:04,416] Finished trial#54 resulted in value: 1.095882174321201. Current best value is 0.0015901458291497587 with parameters: {'x': 2.039876632620493}.\n",
      "[I 2019-12-13 16:09:04,635] Finished trial#55 resulted in value: 0.00834588444981996. Current best value is 0.0015901458291497587 with parameters: {'x': 2.039876632620493}.\n",
      "[I 2019-12-13 16:09:04,809] Finished trial#56 resulted in value: 3.2319342374442064. Current best value is 0.0015901458291497587 with parameters: {'x': 2.039876632620493}.\n",
      "[I 2019-12-13 16:09:04,941] Finished trial#57 resulted in value: 11.139376799252569. Current best value is 0.0015901458291497587 with parameters: {'x': 2.039876632620493}.\n",
      "[I 2019-12-13 16:09:05,086] Finished trial#58 resulted in value: 12.306285928982911. Current best value is 0.0015901458291497587 with parameters: {'x': 2.039876632620493}.\n",
      "[I 2019-12-13 16:09:05,220] Finished trial#59 resulted in value: 0.01955020652002931. Current best value is 0.0015901458291497587 with parameters: {'x': 2.039876632620493}.\n",
      "[I 2019-12-13 16:09:05,350] Finished trial#60 resulted in value: 5.687805920158632. Current best value is 0.0015901458291497587 with parameters: {'x': 2.039876632620493}.\n",
      "[I 2019-12-13 16:09:05,545] Finished trial#61 resulted in value: 0.0019007034696391237. Current best value is 0.0015901458291497587 with parameters: {'x': 2.039876632620493}.\n",
      "[I 2019-12-13 16:09:05,768] Finished trial#62 resulted in value: 1.7029003400663443. Current best value is 0.0015901458291497587 with parameters: {'x': 2.039876632620493}.\n",
      "[I 2019-12-13 16:09:05,941] Finished trial#63 resulted in value: 0.045232492675757734. Current best value is 0.0015901458291497587 with parameters: {'x': 2.039876632620493}.\n",
      "[I 2019-12-13 16:09:06,074] Finished trial#64 resulted in value: 0.8745278461272536. Current best value is 0.0015901458291497587 with parameters: {'x': 2.039876632620493}.\n",
      "[I 2019-12-13 16:09:06,188] Finished trial#65 resulted in value: 6.8147383881798556. Current best value is 0.0015901458291497587 with parameters: {'x': 2.039876632620493}.\n",
      "[I 2019-12-13 16:09:06,337] Finished trial#66 resulted in value: 0.5166196392313682. Current best value is 0.0015901458291497587 with parameters: {'x': 2.039876632620493}.\n",
      "[I 2019-12-13 16:09:06,468] Finished trial#67 resulted in value: 1.3845957918490985. Current best value is 0.0015901458291497587 with parameters: {'x': 2.039876632620493}.\n",
      "[I 2019-12-13 16:09:06,589] Finished trial#68 resulted in value: 0.006120266211853796. Current best value is 0.0015901458291497587 with parameters: {'x': 2.039876632620493}.\n",
      "[I 2019-12-13 16:09:06,762] Finished trial#69 resulted in value: 3.558225620311288. Current best value is 0.0015901458291497587 with parameters: {'x': 2.039876632620493}.\n",
      "[I 2019-12-13 16:09:06,895] Finished trial#70 resulted in value: 4.689889480476. Current best value is 0.0015901458291497587 with parameters: {'x': 2.039876632620493}.\n",
      "[I 2019-12-13 16:09:07,038] Finished trial#71 resulted in value: 0.0003866634884335905. Current best value is 0.0003866634884335905 with parameters: {'x': 1.9803362392093071}.\n",
      "[I 2019-12-13 16:09:07,159] Finished trial#72 resulted in value: 0.02161366462664185. Current best value is 0.0003866634884335905 with parameters: {'x': 1.9803362392093071}.\n",
      "[I 2019-12-13 16:09:07,333] Finished trial#73 resulted in value: 1.74139929945299. Current best value is 0.0003866634884335905 with parameters: {'x': 1.9803362392093071}.\n",
      "[I 2019-12-13 16:09:07,493] Finished trial#74 resulted in value: 0.36998387638047897. Current best value is 0.0003866634884335905 with parameters: {'x': 1.9803362392093071}.\n",
      "[I 2019-12-13 16:09:07,617] Finished trial#75 resulted in value: 0.5210830512963504. Current best value is 0.0003866634884335905 with parameters: {'x': 1.9803362392093071}.\n",
      "[I 2019-12-13 16:09:07,752] Finished trial#76 resulted in value: 0.3217185955588801. Current best value is 0.0003866634884335905 with parameters: {'x': 1.9803362392093071}.\n",
      "[I 2019-12-13 16:09:07,871] Finished trial#77 resulted in value: 0.1718758680409069. Current best value is 0.0003866634884335905 with parameters: {'x': 1.9803362392093071}.\n",
      "[I 2019-12-13 16:09:08,003] Finished trial#78 resulted in value: 2.4526264783299743. Current best value is 0.0003866634884335905 with parameters: {'x': 1.9803362392093071}.\n",
      "[I 2019-12-13 16:09:08,166] Finished trial#79 resulted in value: 2.9322325641753273. Current best value is 0.0003866634884335905 with parameters: {'x': 1.9803362392093071}.\n",
      "[I 2019-12-13 16:09:08,329] Finished trial#80 resulted in value: 0.01024926241332607. Current best value is 0.0003866634884335905 with parameters: {'x': 1.9803362392093071}.\n",
      "[I 2019-12-13 16:09:08,464] Finished trial#81 resulted in value: 1.6826285537636112e-05. Current best value is 1.6826285537636112e-05 with parameters: {'x': 1.9958980144396115}.\n",
      "[I 2019-12-13 16:09:08,637] Finished trial#82 resulted in value: 0.6117620043678664. Current best value is 1.6826285537636112e-05 with parameters: {'x': 1.9958980144396115}.\n",
      "[I 2019-12-13 16:09:08,809] Finished trial#83 resulted in value: 0.08456959519003737. Current best value is 1.6826285537636112e-05 with parameters: {'x': 1.9958980144396115}.\n",
      "[I 2019-12-13 16:09:08,946] Finished trial#84 resulted in value: 1.3256927803276883. Current best value is 1.6826285537636112e-05 with parameters: {'x': 1.9958980144396115}.\n",
      "[I 2019-12-13 16:09:09,149] Finished trial#85 resulted in value: 1.0594851701174786. Current best value is 1.6826285537636112e-05 with parameters: {'x': 1.9958980144396115}.\n",
      "[I 2019-12-13 16:09:09,308] Finished trial#86 resulted in value: 5.34575246003018. Current best value is 1.6826285537636112e-05 with parameters: {'x': 1.9958980144396115}.\n",
      "[I 2019-12-13 16:09:09,477] Finished trial#87 resulted in value: 9.852214075582928. Current best value is 1.6826285537636112e-05 with parameters: {'x': 1.9958980144396115}.\n",
      "[I 2019-12-13 16:09:09,683] Finished trial#88 resulted in value: 0.022183457852774827. Current best value is 1.6826285537636112e-05 with parameters: {'x': 1.9958980144396115}.\n",
      "[I 2019-12-13 16:09:09,864] Finished trial#89 resulted in value: 4.607095331533563. Current best value is 1.6826285537636112e-05 with parameters: {'x': 1.9958980144396115}.\n",
      "[I 2019-12-13 16:09:09,985] Finished trial#90 resulted in value: 2.3609541401228804. Current best value is 1.6826285537636112e-05 with parameters: {'x': 1.9958980144396115}.\n",
      "[I 2019-12-13 16:09:10,112] Finished trial#91 resulted in value: 0.037696246138343416. Current best value is 1.6826285537636112e-05 with parameters: {'x': 1.9958980144396115}.\n",
      "[I 2019-12-13 16:09:10,237] Finished trial#92 resulted in value: 0.46863987151224473. Current best value is 1.6826285537636112e-05 with parameters: {'x': 1.9958980144396115}.\n",
      "[I 2019-12-13 16:09:10,375] Finished trial#93 resulted in value: 0.15304605272059882. Current best value is 1.6826285537636112e-05 with parameters: {'x': 1.9958980144396115}.\n"
     ]
    },
    {
     "name": "stderr",
     "output_type": "stream",
     "text": [
      "[I 2019-12-13 16:09:10,530] Finished trial#94 resulted in value: 1.931968759612768. Current best value is 1.6826285537636112e-05 with parameters: {'x': 1.9958980144396115}.\n",
      "[I 2019-12-13 16:09:10,648] Finished trial#95 resulted in value: 0.00047276227409905665. Current best value is 1.6826285537636112e-05 with parameters: {'x': 1.9958980144396115}.\n",
      "[I 2019-12-13 16:09:10,843] Finished trial#96 resulted in value: 0.8561919309715018. Current best value is 1.6826285537636112e-05 with parameters: {'x': 1.9958980144396115}.\n",
      "[I 2019-12-13 16:09:11,039] Finished trial#97 resulted in value: 0.020098639537644222. Current best value is 1.6826285537636112e-05 with parameters: {'x': 1.9958980144396115}.\n",
      "[I 2019-12-13 16:09:11,206] Finished trial#98 resulted in value: 4.235690750773731. Current best value is 1.6826285537636112e-05 with parameters: {'x': 1.9958980144396115}.\n",
      "[I 2019-12-13 16:09:11,343] Finished trial#99 resulted in value: 0.4299193489065718. Current best value is 1.6826285537636112e-05 with parameters: {'x': 1.9958980144396115}.\n"
     ]
    }
   ],
   "source": [
    "study = optuna.create_study()\n",
    "study.optimize(objective,n_trials=100)"
   ]
  },
  {
   "cell_type": "code",
   "execution_count": 4,
   "metadata": {},
   "outputs": [
    {
     "data": {
      "text/plain": [
       "{'x': 1.9958980144396115}"
      ]
     },
     "execution_count": 4,
     "metadata": {},
     "output_type": "execute_result"
    }
   ],
   "source": [
    "study.best_params"
   ]
  },
  {
   "cell_type": "code",
   "execution_count": 5,
   "metadata": {},
   "outputs": [
    {
     "data": {
      "text/plain": [
       "1.6826285537636112e-05"
      ]
     },
     "execution_count": 5,
     "metadata": {},
     "output_type": "execute_result"
    }
   ],
   "source": [
    "study.best_value"
   ]
  },
  {
   "cell_type": "code",
   "execution_count": 6,
   "metadata": {},
   "outputs": [
    {
     "data": {
      "text/plain": [
       "FrozenTrial(number=81, state=TrialState.COMPLETE, value=1.6826285537636112e-05, datetime_start=datetime.datetime(2019, 12, 13, 16, 9, 8, 334541), datetime_complete=datetime.datetime(2019, 12, 13, 16, 9, 8, 464729), params={'x': 1.9958980144396115}, distributions={'x': UniformDistribution(high=10, low=-10)}, user_attrs={}, system_attrs={'_number': 81}, intermediate_values={}, trial_id=81)"
      ]
     },
     "execution_count": 6,
     "metadata": {},
     "output_type": "execute_result"
    }
   ],
   "source": [
    "study.best_trial"
   ]
  },
  {
   "cell_type": "markdown",
   "metadata": {},
   "source": [
    "### Pruners"
   ]
  },
  {
   "cell_type": "code",
   "execution_count": 10,
   "metadata": {},
   "outputs": [
    {
     "name": "stderr",
     "output_type": "stream",
     "text": [
      "[I 2019-12-13 16:40:07,148] Finished trial#0 resulted in value: 0.02631578947368418. Current best value is 0.02631578947368418 with parameters: {'alpha': 0.0069931210141736255}.\n",
      "[I 2019-12-13 16:40:07,508] Finished trial#1 resulted in value: 0.052631578947368474. Current best value is 0.02631578947368418 with parameters: {'alpha': 0.0069931210141736255}.\n",
      "[I 2019-12-13 16:40:07,936] Finished trial#2 resulted in value: 0.3157894736842105. Current best value is 0.02631578947368418 with parameters: {'alpha': 0.0069931210141736255}.\n",
      "[I 2019-12-13 16:40:08,417] Finished trial#3 resulted in value: 0.23684210526315785. Current best value is 0.02631578947368418 with parameters: {'alpha': 0.0069931210141736255}.\n",
      "[I 2019-12-13 16:40:08,891] Finished trial#4 resulted in value: 0.052631578947368474. Current best value is 0.02631578947368418 with parameters: {'alpha': 0.0069931210141736255}.\n",
      "[I 2019-12-13 16:40:08,906] Setting status of trial#5 as TrialState.PRUNED. \n",
      "[I 2019-12-13 16:40:09,080] Setting status of trial#6 as TrialState.PRUNED. \n",
      "[I 2019-12-13 16:40:09,287] Setting status of trial#7 as TrialState.PRUNED. \n",
      "[I 2019-12-13 16:40:09,507] Setting status of trial#8 as TrialState.PRUNED. \n",
      "[I 2019-12-13 16:40:09,671] Setting status of trial#9 as TrialState.PRUNED. \n",
      "[I 2019-12-13 16:40:10,313] Finished trial#10 resulted in value: 0.07894736842105265. Current best value is 0.02631578947368418 with parameters: {'alpha': 0.0069931210141736255}.\n",
      "[I 2019-12-13 16:40:10,329] Setting status of trial#11 as TrialState.PRUNED. \n",
      "[I 2019-12-13 16:40:10,509] Setting status of trial#12 as TrialState.PRUNED. \n",
      "[I 2019-12-13 16:40:11,177] Finished trial#13 resulted in value: 0.1842105263157895. Current best value is 0.02631578947368418 with parameters: {'alpha': 0.0069931210141736255}.\n",
      "[I 2019-12-13 16:40:11,198] Setting status of trial#14 as TrialState.PRUNED. \n",
      "[I 2019-12-13 16:40:11,924] Finished trial#15 resulted in value: 0.23684210526315785. Current best value is 0.02631578947368418 with parameters: {'alpha': 0.0069931210141736255}.\n",
      "[I 2019-12-13 16:40:11,948] Setting status of trial#16 as TrialState.PRUNED. \n",
      "[I 2019-12-13 16:40:12,127] Setting status of trial#17 as TrialState.PRUNED. \n",
      "[I 2019-12-13 16:40:12,358] Setting status of trial#18 as TrialState.PRUNED. \n",
      "[I 2019-12-13 16:40:12,543] Setting status of trial#19 as TrialState.PRUNED. \n"
     ]
    }
   ],
   "source": [
    "\n",
    "\n",
    "import sklearn.datasets\n",
    "import sklearn.linear_model\n",
    "import sklearn.model_selection\n",
    "\n",
    "import optuna\n",
    "\n",
    "def objective(trial):\n",
    "    iris = sklearn.datasets.load_iris()\n",
    "    classes = list(set(iris.target))\n",
    "    train_x, test_x, train_y, test_y = \\\n",
    "    sklearn.model_selection.train_test_split(iris.data,iris.target,test_size=0.25,random_state=0)\n",
    "    alpha= trial.suggest_loguniform('alpha',1e-5,1e-1)\n",
    "    clf = sklearn.linear_model.SGDClassifier(alpha=alpha)\n",
    "    \n",
    "    for step in range(100):\n",
    "        clf.partial_fit(train_x,train_y,classes)\n",
    "        intermediate_value=1.0-clf.score(test_x, test_y)\n",
    "        trial.report(intermediate_value,step)\n",
    "        if trial.should_prune():\n",
    "            raise optuna.exceptions.TrialPruned()\n",
    "            \n",
    "    return 1.0-clf.score(test_x,test_y)\n",
    "\n",
    "study = optuna.create_study(pruner=optuna.pruners.MedianPruner())\n",
    "\n",
    "study.optimize(objective,n_trials=20)\n",
    "    \n"
   ]
  },
  {
   "cell_type": "code",
   "execution_count": null,
   "metadata": {},
   "outputs": [],
   "source": []
  }
 ],
 "metadata": {
  "kernelspec": {
   "display_name": "Python 3",
   "language": "python",
   "name": "python3"
  },
  "language_info": {
   "codemirror_mode": {
    "name": "ipython",
    "version": 3
   },
   "file_extension": ".py",
   "mimetype": "text/x-python",
   "name": "python",
   "nbconvert_exporter": "python",
   "pygments_lexer": "ipython3",
   "version": "3.7.5"
  }
 },
 "nbformat": 4,
 "nbformat_minor": 2
}
