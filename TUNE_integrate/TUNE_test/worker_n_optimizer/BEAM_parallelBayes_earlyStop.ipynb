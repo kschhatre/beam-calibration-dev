{
 "cells": [
  {
   "cell_type": "code",
   "execution_count": 1,
   "metadata": {},
   "outputs": [],
   "source": [
    "\n",
    "%matplotlib inline\n"
   ]
  },
  {
   "cell_type": "code",
   "execution_count": 2,
   "metadata": {},
   "outputs": [],
   "source": [
    "import sys\n",
    "sys.path.insert(1, '/home/berkeleylab/Misc_code/HpBandSter/hpbandster')"
   ]
  },
  {
   "cell_type": "code",
   "execution_count": 3,
   "metadata": {},
   "outputs": [],
   "source": [
    "\n",
    "\n",
    "import core.nameserver as hpns\n",
    "import core.result as hpres\n",
    "from optimizers import BOHB as BOHB\n",
    "from BeamWorker import BeamWorker\n",
    "import visualization as hpvis\n",
    "import matplotlib.pyplot as plt\n",
    "\n",
    "import shutil\n",
    "import os, glob\n",
    "\n"
   ]
  },
  {
   "cell_type": "code",
   "execution_count": 4,
   "metadata": {},
   "outputs": [
    {
     "data": {
      "text/plain": [
       "('127.0.0.1', 9090)"
      ]
     },
     "execution_count": 4,
     "metadata": {},
     "output_type": "execute_result"
    }
   ],
   "source": [
    "\n",
    "NS = hpns.NameServer(run_id='Beamville', host='127.0.0.1', port=None)\n",
    "NS.start()\n"
   ]
  },
  {
   "cell_type": "code",
   "execution_count": 5,
   "metadata": {},
   "outputs": [
    {
     "name": "stderr",
     "output_type": "stream",
     "text": [
      "22:16:31 WORKER: Connected to nameserver <Pyro4.core.Proxy at 0x7f7dd4620210; connected IPv4; for PYRO:Pyro.NameServer@127.0.0.1:9090>\n",
      "22:16:31 WORKER: Connected to nameserver <Pyro4.core.Proxy at 0x7f7dd4620a10; connected IPv4; for PYRO:Pyro.NameServer@127.0.0.1:9090>\n",
      "22:16:31 WORKER: Connected to nameserver <Pyro4.core.Proxy at 0x7f7dd46205d0; connected IPv4; for PYRO:Pyro.NameServer@127.0.0.1:9090>\n",
      "22:16:31 WORKER: Connected to nameserver <Pyro4.core.Proxy at 0x7f7dd4620f10; connected IPv4; for PYRO:Pyro.NameServer@127.0.0.1:9090>\n",
      "22:16:31 WORKER: No dispatcher found. Waiting for one to initiate contact.\n",
      "22:16:31 WORKER: No dispatcher found. Waiting for one to initiate contact.\n",
      "22:16:31 WORKER: No dispatcher found. Waiting for one to initiate contact.\n",
      "22:16:31 WORKER: No dispatcher found. Waiting for one to initiate contact.\n",
      "22:16:31 WORKER: start listening for jobs\n",
      "22:16:31 WORKER: start listening for jobs\n",
      "22:16:31 WORKER: start listening for jobs\n",
      "22:16:31 WORKER: start listening for jobs\n"
     ]
    }
   ],
   "source": [
    "no_of_workers = 4\n",
    "\n",
    "def create_conf_copies(no_of_workers):\n",
    "    Repo='/home/berkeleylab/Repository/beam/test/input/beamville'\n",
    "    for num in range(no_of_workers):\n",
    "        shutil.copy(os.path.join(Repo, 'beam.conf'),os.path.join(Repo, 'beam_'+str(num+1)+'.conf'))\n",
    "        \n",
    "create_conf_copies(no_of_workers)\n",
    "\n",
    "workers=[]\n",
    "for i in range(no_of_workers):\n",
    "   \n",
    "    w = BeamWorker(nameserver='127.0.0.1', run_id='Beamville', id=i)\n",
    "    w.run(background=True)\n",
    "    workers.append(w)\n",
    " \n",
    "    "
   ]
  },
  {
   "cell_type": "code",
   "execution_count": 6,
   "metadata": {
    "scrolled": false
   },
   "outputs": [
    {
     "name": "stderr",
     "output_type": "stream",
     "text": [
      "22:16:38 wait_for_workers trying to get the condition\n",
      "22:16:38 DISPATCHER: started the 'discover_worker' thread\n",
      "22:16:38 DISPATCHER: started the 'job_runner' thread\n",
      "22:16:38 DISPATCHER: Pyro daemon running on localhost:61514\n",
      "22:16:38 DISPATCHER: Starting worker discovery\n",
      "22:16:38 DISPATCHER: Found 4 potential workers, 0 currently in the pool.\n",
      "22:16:38 DISPATCHER: discovered new worker, hpbandster.run_Beamville.worker.KiranCHHATRE.20278.1140179395577664\n",
      "22:16:38 DISPATCHER: discovered new worker, hpbandster.run_Beamville.worker.KiranCHHATRE.20278.0140179395577664\n",
      "22:16:38 DISPATCHER: discovered new worker, hpbandster.run_Beamville.worker.KiranCHHATRE.20278.2140179395577664\n",
      "22:16:38 DISPATCHER: discovered new worker, hpbandster.run_Beamville.worker.KiranCHHATRE.20278.3140179395577664\n",
      "22:16:38 HBMASTER: number of workers changed to 4\n",
      "22:16:38 Enough workers to start this run!\n",
      "22:16:38 DISPATCHER: jobs to submit = 0, number of idle workers = 4 -> waiting!\n",
      "22:16:38 adjust_queue_size: lock accquired\n",
      "22:16:38 HBMASTER: starting run at 1580192198.7687244\n",
      "22:16:38 HBMASTER: adjusted queue size to (3, 4)\n",
      "22:16:38 DISPATCHER: Finished worker discovery\n",
      "22:16:38 start sampling a new configuration.\n",
      "22:16:38 DISPATCHER: Trying to submit another job.\n",
      "22:16:38 done sampling a new configuration.\n",
      "22:16:38 DISPATCHER: jobs to submit = 0, number of idle workers = 4 -> waiting!\n",
      "22:16:38 HBMASTER: schedule new run for iteration 0\n",
      "22:16:38 HBMASTER: trying submitting job (0, 0, 0) to dispatcher\n",
      "22:16:38 HBMASTER: submitting job (0, 0, 0) to dispatcher\n",
      "22:16:38 DISPATCHER: trying to submit job (0, 0, 0)\n",
      "22:16:38 DISPATCHER: trying to notify the job_runner thread.\n",
      "22:16:38 HBMASTER: job (0, 0, 0) submitted to dispatcher\n",
      "22:16:38 DISPATCHER: Trying to submit another job.\n",
      "22:16:38 start sampling a new configuration.\n",
      "22:16:38 DISPATCHER: starting job (0, 0, 0) on hpbandster.run_Beamville.worker.KiranCHHATRE.20278.3140179395577664\n",
      "22:16:38 done sampling a new configuration.\n",
      "22:16:38 DISPATCHER: job (0, 0, 0) dispatched on hpbandster.run_Beamville.worker.KiranCHHATRE.20278.3140179395577664\n",
      "22:16:38 WORKER: start processing job (0, 0, 0)\n",
      "22:16:38 DISPATCHER: jobs to submit = 0, number of idle workers = 3 -> waiting!\n",
      "22:16:38 HBMASTER: schedule new run for iteration 0\n",
      "22:16:38 WORKER: args: ()\n",
      "22:16:38 HBMASTER: trying submitting job (0, 0, 1) to dispatcher\n",
      "22:16:38 WORKER: kwargs: {'config': {'bike_intercept': 0.4804798548112936, 'car_intercept': -0.03697231631734432, 'drive_transit_intercept': -0.5719708913783563, 'ride_hail_intercept': -4.441820327490673, 'ride_hail_pooled_intercept': -0.904448285352216, 'ride_hail_transit_intercept': 6.6994391908391435, 'walk_intercept': 8.887942781466528, 'walk_transit_intercept': 2.55946988611245}, 'budget': 1.6666666666666665, 'working_directory': '.'}\n",
      "22:16:38 HBMASTER: submitting job (0, 0, 1) to dispatcher\n",
      "22:16:38 DISPATCHER: trying to submit job (0, 0, 1)\n",
      "22:16:38 DISPATCHER: trying to notify the job_runner thread.\n",
      "22:16:38 HBMASTER: job (0, 0, 1) submitted to dispatcher\n",
      "22:16:38 DISPATCHER: Trying to submit another job.\n",
      "22:16:38 start sampling a new configuration.\n",
      "22:16:38 DISPATCHER: starting job (0, 0, 1) on hpbandster.run_Beamville.worker.KiranCHHATRE.20278.1140179395577664\n",
      "22:16:38 done sampling a new configuration.\n",
      "22:16:38 DISPATCHER: job (0, 0, 1) dispatched on hpbandster.run_Beamville.worker.KiranCHHATRE.20278.1140179395577664\n",
      "22:16:38 WORKER: start processing job (0, 0, 1)\n",
      "22:16:38 DISPATCHER: jobs to submit = 0, number of idle workers = 2 -> waiting!\n",
      "22:16:38 HBMASTER: schedule new run for iteration 0\n",
      "22:16:38 WORKER: args: ()\n",
      "22:16:38 HBMASTER: trying submitting job (0, 0, 2) to dispatcher\n",
      "22:16:38 WORKER: kwargs: {'config': {'bike_intercept': 1.302381003063461, 'car_intercept': -3.82988140263363, 'drive_transit_intercept': 7.767289068994883, 'ride_hail_intercept': 2.464303997119303, 'ride_hail_pooled_intercept': 4.96450220351497, 'ride_hail_transit_intercept': 6.1574182712863035, 'walk_intercept': 4.739648998773497, 'walk_transit_intercept': -1.016206340578964}, 'budget': 1.6666666666666665, 'working_directory': '.'}\n",
      "22:16:38 HBMASTER: submitting job (0, 0, 2) to dispatcher\n",
      "22:16:38 DISPATCHER: trying to submit job (0, 0, 2)\n",
      "22:16:38 DISPATCHER: trying to notify the job_runner thread.\n",
      "22:16:38 HBMASTER: job (0, 0, 2) submitted to dispatcher\n",
      "22:16:38 DISPATCHER: Trying to submit another job.\n",
      "22:16:38 start sampling a new configuration.\n",
      "22:16:38 DISPATCHER: starting job (0, 0, 2) on hpbandster.run_Beamville.worker.KiranCHHATRE.20278.2140179395577664\n",
      "22:16:38 done sampling a new configuration.\n",
      "22:16:38 WORKER: start processing job (0, 0, 2)\n",
      "22:16:38 DISPATCHER: job (0, 0, 2) dispatched on hpbandster.run_Beamville.worker.KiranCHHATRE.20278.2140179395577664\n",
      "22:16:38 HBMASTER: schedule new run for iteration 1\n",
      "22:16:38 WORKER: done with job (0, 0, 1), trying to register it.\n",
      "22:16:38 WORKER: args: ()\n",
      "22:16:38 DISPATCHER: jobs to submit = 0, number of idle workers = 1 -> waiting!\n",
      "22:16:38 HBMASTER: trying submitting job (1, 0, 0) to dispatcher\n",
      "22:16:38 WORKER: kwargs: {'config': {'bike_intercept': 4.348912222179468, 'car_intercept': 7.332029560332245, 'drive_transit_intercept': -2.0940237280644984, 'ride_hail_intercept': 1.4911844887849472, 'ride_hail_pooled_intercept': 1.6289806266867322, 'ride_hail_transit_intercept': 3.5306856596490412, 'walk_intercept': 0.9732518089947906, 'walk_transit_intercept': 3.391170871618712}, 'budget': 1.6666666666666665, 'working_directory': '.'}\n",
      "22:16:38 WORKER: registered result for job (0, 0, 1) with dispatcher\n",
      "22:16:38 DISPATCHER: job (0, 0, 1) finished\n",
      "22:16:38 HBMASTER: submitting job (1, 0, 0) to dispatcher\n",
      "22:16:38 DISPATCHER: register_result: lock acquired\n",
      "22:16:38 DISPATCHER: trying to submit job (1, 0, 0)\n",
      "22:16:38 DISPATCHER: job (0, 0, 1) on hpbandster.run_Beamville.worker.KiranCHHATRE.20278.1140179395577664 finished\n",
      "22:16:38 job_id: (0, 0, 1)\n",
      "kwargs: {'config': {'bike_intercept': 1.302381003063461, 'car_intercept': -3.82988140263363, 'drive_transit_intercept': 7.767289068994883, 'ride_hail_intercept': 2.464303997119303, 'ride_hail_pooled_intercept': 4.96450220351497, 'ride_hail_transit_intercept': 6.1574182712863035, 'walk_intercept': 4.739648998773497, 'walk_transit_intercept': -1.016206340578964}, 'budget': 1.6666666666666665, 'working_directory': '.'}\n",
      "result: None\n",
      "exception: Traceback (most recent call last):\n",
      "  File \"/home/berkeleylab/Misc_code/HpBandSter/hpbandster/core/worker.py\", line 213, in start_computation\n",
      "    result = {'result': self.compute(*args, config_id=id, **kwargs),\n",
      "  File \"/home/berkeleylab/Calib_documentation/TUNE_integrate/TUNE_test/worker_n_optimizer/BeamWorker.py\", line 60, in compute\n",
      "    picked_conf_file = configselector()\n",
      "  File \"/home/berkeleylab/Misc_code/HpBandSter/hpbandster/core/configselector.py\", line 26, in configselector\n",
      "    address = returnConfFile(count)\n",
      "  File \"/home/berkeleylab/Misc_code/HpBandSter/hpbandster/core/configselector.py\", line 22, in returnConfFile\n",
      "    current_conf_file = name_dir[count]\n",
      "IndexError: list index out of range\n",
      "\n",
      "\n",
      "22:16:38 job_callback for (0, 0, 1) started\n",
      "22:16:38 DISPATCHER: trying to notify the job_runner thread.\n",
      "22:16:38 HBMASTER: job (1, 0, 0) submitted to dispatcher\n",
      "22:16:38 DISPATCHER: Trying to submit another job.\n",
      "22:16:38 HBMASTER: running jobs: 4, queue sizes: (3, 4) -> wait\n",
      "22:16:38 DISPATCHER: starting job (1, 0, 0) on hpbandster.run_Beamville.worker.KiranCHHATRE.20278.0140179395577664\n",
      "22:16:38 job_callback for (0, 0, 1) got condition\n",
      "22:16:38 DISPATCHER: job (1, 0, 0) dispatched on hpbandster.run_Beamville.worker.KiranCHHATRE.20278.0140179395577664\n",
      "22:16:38 WORKER: start processing job (1, 0, 0)\n",
      "22:16:38 DISPATCHER: jobs to submit = 0, number of idle workers = 1 -> waiting!\n",
      "22:16:38 job (0, 0, 1) failed with exception\n",
      "Traceback (most recent call last):\n",
      "  File \"/home/berkeleylab/Misc_code/HpBandSter/hpbandster/core/worker.py\", line 213, in start_computation\n",
      "    result = {'result': self.compute(*args, config_id=id, **kwargs),\n",
      "  File \"/home/berkeleylab/Calib_documentation/TUNE_integrate/TUNE_test/worker_n_optimizer/BeamWorker.py\", line 60, in compute\n",
      "    picked_conf_file = configselector()\n",
      "  File \"/home/berkeleylab/Misc_code/HpBandSter/hpbandster/core/configselector.py\", line 26, in configselector\n",
      "    address = returnConfFile(count)\n",
      "  File \"/home/berkeleylab/Misc_code/HpBandSter/hpbandster/core/configselector.py\", line 22, in returnConfFile\n",
      "    current_conf_file = name_dir[count]\n",
      "IndexError: list index out of range\n",
      "\n"
     ]
    },
    {
     "name": "stderr",
     "output_type": "stream",
     "text": [
      "22:16:38 WORKER: args: ()\n",
      "22:16:38 WORKER: kwargs: {'config': {'bike_intercept': 0.8179370810141453, 'car_intercept': -0.9420411799164938, 'drive_transit_intercept': 3.589517872779467, 'ride_hail_intercept': -0.9292883731253205, 'ride_hail_pooled_intercept': 8.966095038879383, 'ride_hail_transit_intercept': 6.251837843367545, 'walk_intercept': -4.3165857153950755, 'walk_transit_intercept': 7.587772413002199}, 'budget': 5.0, 'working_directory': '.'}\n",
      "22:16:38 Only 1 run(s) for budget 1.666667 available, need more than 10 -> can't build model!\n",
      "22:16:38 HBMASTER: Trying to run another job!\n",
      "22:16:38 job_callback for (0, 0, 1) finished\n",
      "22:16:38 start sampling a new configuration.\n",
      "22:16:38 done sampling a new configuration.\n",
      "22:16:38 HBMASTER: schedule new run for iteration 1\n",
      "22:16:38 HBMASTER: trying submitting job (1, 0, 1) to dispatcher\n",
      "22:16:38 HBMASTER: submitting job (1, 0, 1) to dispatcher\n",
      "22:16:38 DISPATCHER: trying to submit job (1, 0, 1)\n",
      "22:16:38 DISPATCHER: trying to notify the job_runner thread.\n",
      "22:16:38 HBMASTER: job (1, 0, 1) submitted to dispatcher\n"
     ]
    },
    {
     "name": "stdout",
     "output_type": "stream",
     "text": [
      "{'self': <BeamWorker.BeamWorker object at 0x7f7dd4620cd0>, 'callback': <Pyro4.core.Proxy at 0x7f7dd4662ad0; not connected; for PYRO:hpbandster.run_Beamville.dispatcher@localhost:61514>, 'id': (0, 0, 0), 'args': (), 'kwargs': {'config': {'bike_intercept': 0.4804798548112936, 'car_intercept': -0.03697231631734432, 'drive_transit_intercept': -0.5719708913783563, 'ride_hail_intercept': -4.441820327490673, 'ride_hail_pooled_intercept': -0.904448285352216, 'ride_hail_transit_intercept': 6.6994391908391435, 'walk_intercept': 8.887942781466528, 'walk_transit_intercept': 2.55946988611245}, 'budget': 1.6666666666666665, 'working_directory': '.'}}\n",
      "{'self': <BeamWorker.BeamWorker object at 0x7f7dd4620410>, 'callback': <Pyro4.core.Proxy at 0x7f7dd051a890; not connected; for PYRO:hpbandster.run_Beamville.dispatcher@localhost:61514>, 'id': (0, 0, 1), 'args': (), 'kwargs': {'config': {'bike_intercept': 1.302381003063461, 'car_intercept': -3.82988140263363, 'drive_transit_intercept': 7.767289068994883, 'ride_hail_intercept': 2.464303997119303, 'ride_hail_pooled_intercept': 4.96450220351497, 'ride_hail_transit_intercept': 6.1574182712863035, 'walk_intercept': 4.739648998773497, 'walk_transit_intercept': -1.016206340578964}, 'budget': 1.6666666666666665, 'working_directory': '.'}}\n",
      "{'self': <BeamWorker.BeamWorker object at 0x7f7dd4620750>, 'callback': <Pyro4.core.Proxy at 0x7f7dd0536e10; not connected; for PYRO:hpbandster.run_Beamville.dispatcher@localhost:61514>, 'id': (0, 0, 2), 'args': (), 'kwargs': {'config': {'bike_intercept': 4.348912222179468, 'car_intercept': 7.332029560332245, 'drive_transit_intercept': -2.0940237280644984, 'ride_hail_intercept': 1.4911844887849472, 'ride_hail_pooled_intercept': 1.6289806266867322, 'ride_hail_transit_intercept': 3.5306856596490412, 'walk_intercept': 0.9732518089947906, 'walk_transit_intercept': 3.391170871618712}, 'budget': 1.6666666666666665, 'working_directory': '.'}}\n",
      "{'self': <BeamWorker.BeamWorker object at 0x7f7dd460e750>, 'callback': <Pyro4.core.Proxy at 0x7f7dd054a550; not connected; for PYRO:hpbandster.run_Beamville.dispatcher@localhost:61514>, 'id': (1, 0, 0), 'args': (), 'kwargs': {'config': {'bike_intercept': 0.8179370810141453, 'car_intercept': -0.9420411799164938, 'drive_transit_intercept': 3.589517872779467, 'ride_hail_intercept': -0.9292883731253205, 'ride_hail_pooled_intercept': 8.966095038879383, 'ride_hail_transit_intercept': 6.251837843367545, 'walk_intercept': -4.3165857153950755, 'walk_transit_intercept': 7.587772413002199}, 'budget': 5.0, 'working_directory': '.'}}\n"
     ]
    },
    {
     "name": "stderr",
     "output_type": "stream",
     "text": [
      "22:16:38 DISPATCHER: Trying to submit another job.\n",
      "22:16:38 HBMASTER: running jobs: 4, queue sizes: (3, 4) -> wait\n",
      "22:16:38 DISPATCHER: starting job (1, 0, 1) on hpbandster.run_Beamville.worker.KiranCHHATRE.20278.1140179395577664\n",
      "22:16:39 DISPATCHER: job (1, 0, 1) dispatched on hpbandster.run_Beamville.worker.KiranCHHATRE.20278.1140179395577664\n",
      "22:16:39 WORKER: start processing job (1, 0, 1)\n",
      "22:16:39 DISPATCHER: jobs to submit = 0, number of idle workers = 0 -> waiting!\n",
      "22:16:39 WORKER: args: ()\n",
      "22:16:39 WORKER: kwargs: {'config': {'bike_intercept': 0.10141538268792072, 'car_intercept': 1.0721846083806978, 'drive_transit_intercept': 7.623111239904301, 'ride_hail_intercept': -2.7530333516381504, 'ride_hail_pooled_intercept': -1.084135503571951, 'ride_hail_transit_intercept': 1.292431079841383, 'walk_intercept': -2.720038033101846, 'walk_transit_intercept': 3.9403196828260842}, 'budget': 5.0, 'working_directory': '.'}\n"
     ]
    },
    {
     "name": "stdout",
     "output_type": "stream",
     "text": [
      "{'self': <BeamWorker.BeamWorker object at 0x7f7dd4620410>, 'callback': <Pyro4.core.Proxy at 0x7f7dd054ae50; not connected; for PYRO:hpbandster.run_Beamville.dispatcher@localhost:61514>, 'id': (1, 0, 1), 'args': (), 'kwargs': {'config': {'bike_intercept': 0.10141538268792072, 'car_intercept': 1.0721846083806978, 'drive_transit_intercept': 7.623111239904301, 'ride_hail_intercept': -2.7530333516381504, 'ride_hail_pooled_intercept': -1.084135503571951, 'ride_hail_transit_intercept': 1.292431079841383, 'walk_intercept': -2.720038033101846, 'walk_transit_intercept': 3.9403196828260842}, 'budget': 5.0, 'working_directory': '.'}}\n"
     ]
    },
    {
     "name": "stderr",
     "output_type": "stream",
     "text": [
      "22:17:13 WORKER: done with job (1, 0, 1), trying to register it.\n",
      "22:17:13 WORKER: registered result for job (1, 0, 1) with dispatcher\n",
      "22:17:13 DISPATCHER: job (1, 0, 1) finished\n",
      "22:17:13 DISPATCHER: register_result: lock acquired\n",
      "22:17:13 DISPATCHER: job (1, 0, 1) on hpbandster.run_Beamville.worker.KiranCHHATRE.20278.1140179395577664 finished\n",
      "22:17:13 job_id: (1, 0, 1)\n",
      "kwargs: {'config': {'bike_intercept': 0.10141538268792072, 'car_intercept': 1.0721846083806978, 'drive_transit_intercept': 7.623111239904301, 'ride_hail_intercept': -2.7530333516381504, 'ride_hail_pooled_intercept': -1.084135503571951, 'ride_hail_transit_intercept': 1.292431079841383, 'walk_intercept': -2.720038033101846, 'walk_transit_intercept': 3.9403196828260842}, 'budget': 5.0, 'working_directory': '.'}\n",
      "result: None\n",
      "exception: Traceback (most recent call last):\n",
      "  File \"/home/berkeleylab/Misc_code/HpBandSter/hpbandster/core/worker.py\", line 213, in start_computation\n",
      "    result = {'result': self.compute(*args, config_id=id, **kwargs),\n",
      "  File \"/home/berkeleylab/Calib_documentation/TUNE_integrate/TUNE_test/worker_n_optimizer/BeamWorker.py\", line 139, in compute\n",
      "    df = pd.read_csv(latest_subdir+\"/referenceRealizedModeChoice.csv\").iloc[[0, -1]].drop(['iterations'], axis=1)\n",
      "  File \"/home/berkeleylab/anaconda3/envs/tune/lib/python3.7/site-packages/pandas/io/parsers.py\", line 685, in parser_f\n",
      "    return _read(filepath_or_buffer, kwds)\n",
      "  File \"/home/berkeleylab/anaconda3/envs/tune/lib/python3.7/site-packages/pandas/io/parsers.py\", line 457, in _read\n",
      "    parser = TextFileReader(fp_or_buf, **kwds)\n",
      "  File \"/home/berkeleylab/anaconda3/envs/tune/lib/python3.7/site-packages/pandas/io/parsers.py\", line 895, in __init__\n",
      "    self._make_engine(self.engine)\n",
      "  File \"/home/berkeleylab/anaconda3/envs/tune/lib/python3.7/site-packages/pandas/io/parsers.py\", line 1135, in _make_engine\n",
      "    self._engine = CParserWrapper(self.f, **self.options)\n",
      "  File \"/home/berkeleylab/anaconda3/envs/tune/lib/python3.7/site-packages/pandas/io/parsers.py\", line 1917, in __init__\n",
      "    self._reader = parsers.TextReader(src, **kwds)\n",
      "  File \"pandas/_libs/parsers.pyx\", line 382, in pandas._libs.parsers.TextReader.__cinit__\n",
      "  File \"pandas/_libs/parsers.pyx\", line 689, in pandas._libs.parsers.TextReader._setup_parser_source\n",
      "FileNotFoundError: [Errno 2] File b'/home/berkeleylab/Repository/beam/output/beamville/beamville__2020-01-28_06-16-55_xlq/referenceRealizedModeChoice.csv' does not exist: b'/home/berkeleylab/Repository/beam/output/beamville/beamville__2020-01-28_06-16-55_xlq/referenceRealizedModeChoice.csv'\n",
      "\n",
      "\n",
      "22:17:13 job_callback for (1, 0, 1) started\n",
      "22:17:13 job_callback for (1, 0, 1) got condition\n",
      "22:17:13 DISPATCHER: Trying to submit another job.\n",
      "22:17:13 DISPATCHER: jobs to submit = 0, number of idle workers = 1 -> waiting!\n",
      "22:17:13 WORKER: done with job (0, 0, 0), trying to register it.\n",
      "22:17:13 job (1, 0, 1) failed with exception\n",
      "Traceback (most recent call last):\n",
      "  File \"/home/berkeleylab/Misc_code/HpBandSter/hpbandster/core/worker.py\", line 213, in start_computation\n",
      "    result = {'result': self.compute(*args, config_id=id, **kwargs),\n",
      "  File \"/home/berkeleylab/Calib_documentation/TUNE_integrate/TUNE_test/worker_n_optimizer/BeamWorker.py\", line 139, in compute\n",
      "    df = pd.read_csv(latest_subdir+\"/referenceRealizedModeChoice.csv\").iloc[[0, -1]].drop(['iterations'], axis=1)\n",
      "  File \"/home/berkeleylab/anaconda3/envs/tune/lib/python3.7/site-packages/pandas/io/parsers.py\", line 685, in parser_f\n",
      "    return _read(filepath_or_buffer, kwds)\n",
      "  File \"/home/berkeleylab/anaconda3/envs/tune/lib/python3.7/site-packages/pandas/io/parsers.py\", line 457, in _read\n",
      "    parser = TextFileReader(fp_or_buf, **kwds)\n",
      "  File \"/home/berkeleylab/anaconda3/envs/tune/lib/python3.7/site-packages/pandas/io/parsers.py\", line 895, in __init__\n",
      "    self._make_engine(self.engine)\n",
      "  File \"/home/berkeleylab/anaconda3/envs/tune/lib/python3.7/site-packages/pandas/io/parsers.py\", line 1135, in _make_engine\n",
      "    self._engine = CParserWrapper(self.f, **self.options)\n",
      "  File \"/home/berkeleylab/anaconda3/envs/tune/lib/python3.7/site-packages/pandas/io/parsers.py\", line 1917, in __init__\n",
      "    self._reader = parsers.TextReader(src, **kwds)\n",
      "  File \"pandas/_libs/parsers.pyx\", line 382, in pandas._libs.parsers.TextReader.__cinit__\n",
      "  File \"pandas/_libs/parsers.pyx\", line 689, in pandas._libs.parsers.TextReader._setup_parser_source\n",
      "FileNotFoundError: [Errno 2] File b'/home/berkeleylab/Repository/beam/output/beamville/beamville__2020-01-28_06-16-55_xlq/referenceRealizedModeChoice.csv' does not exist: b'/home/berkeleylab/Repository/beam/output/beamville/beamville__2020-01-28_06-16-55_xlq/referenceRealizedModeChoice.csv'\n",
      "\n",
      "22:17:13 Only 1 run(s) for budget 5.000000 available, need more than 10 -> can't build model!\n",
      "22:17:13 HBMASTER: Trying to run another job!\n",
      "22:17:13 job_callback for (1, 0, 1) finished\n",
      "22:17:13 start sampling a new configuration.\n",
      "22:17:13 DISPATCHER: job (0, 0, 0) finished\n",
      "22:17:13 DISPATCHER: register_result: lock acquired\n",
      "22:17:13 DISPATCHER: job (0, 0, 0) on hpbandster.run_Beamville.worker.KiranCHHATRE.20278.3140179395577664 finished\n",
      "22:17:13 job_id: (0, 0, 0)\n",
      "kwargs: {'config': {'bike_intercept': 0.4804798548112936, 'car_intercept': -0.03697231631734432, 'drive_transit_intercept': -0.5719708913783563, 'ride_hail_intercept': -4.441820327490673, 'ride_hail_pooled_intercept': -0.904448285352216, 'ride_hail_transit_intercept': 6.6994391908391435, 'walk_intercept': 8.887942781466528, 'walk_transit_intercept': 2.55946988611245}, 'budget': 1.6666666666666665, 'working_directory': '.'}\n",
      "result: None\n",
      "exception: Traceback (most recent call last):\n",
      "  File \"/home/berkeleylab/Misc_code/HpBandSter/hpbandster/core/worker.py\", line 213, in start_computation\n",
      "    result = {'result': self.compute(*args, config_id=id, **kwargs),\n",
      "  File \"/home/berkeleylab/Calib_documentation/TUNE_integrate/TUNE_test/worker_n_optimizer/BeamWorker.py\", line 139, in compute\n",
      "    df = pd.read_csv(latest_subdir+\"/referenceRealizedModeChoice.csv\").iloc[[0, -1]].drop(['iterations'], axis=1)\n",
      "  File \"/home/berkeleylab/anaconda3/envs/tune/lib/python3.7/site-packages/pandas/io/parsers.py\", line 685, in parser_f\n",
      "    return _read(filepath_or_buffer, kwds)\n",
      "  File \"/home/berkeleylab/anaconda3/envs/tune/lib/python3.7/site-packages/pandas/io/parsers.py\", line 457, in _read\n",
      "    parser = TextFileReader(fp_or_buf, **kwds)\n",
      "  File \"/home/berkeleylab/anaconda3/envs/tune/lib/python3.7/site-packages/pandas/io/parsers.py\", line 895, in __init__\n",
      "    self._make_engine(self.engine)\n",
      "  File \"/home/berkeleylab/anaconda3/envs/tune/lib/python3.7/site-packages/pandas/io/parsers.py\", line 1135, in _make_engine\n",
      "    self._engine = CParserWrapper(self.f, **self.options)\n",
      "  File \"/home/berkeleylab/anaconda3/envs/tune/lib/python3.7/site-packages/pandas/io/parsers.py\", line 1917, in __init__\n",
      "    self._reader = parsers.TextReader(src, **kwds)\n",
      "  File \"pandas/_libs/parsers.pyx\", line 382, in pandas._libs.parsers.TextReader.__cinit__\n",
      "  File \"pandas/_libs/parsers.pyx\", line 689, in pandas._libs.parsers.TextReader._setup_parser_source\n",
      "FileNotFoundError: [Errno 2] File b'/home/berkeleylab/Repository/beam/output/beamville/beamville__2020-01-28_06-16-55_xlq/referenceRealizedModeChoice.csv' does not exist: b'/home/berkeleylab/Repository/beam/output/beamville/beamville__2020-01-28_06-16-55_xlq/referenceRealizedModeChoice.csv'\n",
      "\n",
      "\n",
      "22:17:13 job_callback for (0, 0, 0) started\n",
      "22:17:13 WORKER: registered result for job (0, 0, 0) with dispatcher\n",
      "22:17:13 DISPATCHER: Trying to submit another job.\n",
      "22:17:13 DISPATCHER: jobs to submit = 0, number of idle workers = 2 -> waiting!\n",
      "22:17:13 done sampling a new configuration.\n",
      "22:17:13 HBMASTER: schedule new run for iteration 2\n",
      "22:17:13 HBMASTER: trying submitting job (2, 0, 0) to dispatcher\n",
      "22:17:13 HBMASTER: submitting job (2, 0, 0) to dispatcher\n",
      "22:17:13 DISPATCHER: trying to submit job (2, 0, 0)\n",
      "22:17:13 DISPATCHER: trying to notify the job_runner thread.\n",
      "22:17:13 HBMASTER: job (2, 0, 0) submitted to dispatcher\n",
      "22:17:13 HBMASTER: running jobs: 4, queue sizes: (3, 4) -> wait\n",
      "22:17:13 DISPATCHER: Trying to submit another job.\n",
      "22:17:13 DISPATCHER: starting job (2, 0, 0) on hpbandster.run_Beamville.worker.KiranCHHATRE.20278.3140179395577664\n"
     ]
    },
    {
     "name": "stderr",
     "output_type": "stream",
     "text": [
      "22:17:13 job_callback for (0, 0, 0) got condition\n",
      "22:17:13 WORKER: start processing job (2, 0, 0)\n",
      "22:17:13 WORKER: args: ()\n",
      "22:17:13 job (0, 0, 0) failed with exception\n",
      "Traceback (most recent call last):\n",
      "  File \"/home/berkeleylab/Misc_code/HpBandSter/hpbandster/core/worker.py\", line 213, in start_computation\n",
      "    result = {'result': self.compute(*args, config_id=id, **kwargs),\n",
      "  File \"/home/berkeleylab/Calib_documentation/TUNE_integrate/TUNE_test/worker_n_optimizer/BeamWorker.py\", line 139, in compute\n",
      "    df = pd.read_csv(latest_subdir+\"/referenceRealizedModeChoice.csv\").iloc[[0, -1]].drop(['iterations'], axis=1)\n",
      "  File \"/home/berkeleylab/anaconda3/envs/tune/lib/python3.7/site-packages/pandas/io/parsers.py\", line 685, in parser_f\n",
      "    return _read(filepath_or_buffer, kwds)\n",
      "  File \"/home/berkeleylab/anaconda3/envs/tune/lib/python3.7/site-packages/pandas/io/parsers.py\", line 457, in _read\n",
      "    parser = TextFileReader(fp_or_buf, **kwds)\n",
      "  File \"/home/berkeleylab/anaconda3/envs/tune/lib/python3.7/site-packages/pandas/io/parsers.py\", line 895, in __init__\n",
      "    self._make_engine(self.engine)\n",
      "  File \"/home/berkeleylab/anaconda3/envs/tune/lib/python3.7/site-packages/pandas/io/parsers.py\", line 1135, in _make_engine\n",
      "    self._engine = CParserWrapper(self.f, **self.options)\n",
      "  File \"/home/berkeleylab/anaconda3/envs/tune/lib/python3.7/site-packages/pandas/io/parsers.py\", line 1917, in __init__\n",
      "    self._reader = parsers.TextReader(src, **kwds)\n",
      "  File \"pandas/_libs/parsers.pyx\", line 382, in pandas._libs.parsers.TextReader.__cinit__\n",
      "  File \"pandas/_libs/parsers.pyx\", line 689, in pandas._libs.parsers.TextReader._setup_parser_source\n",
      "FileNotFoundError: [Errno 2] File b'/home/berkeleylab/Repository/beam/output/beamville/beamville__2020-01-28_06-16-55_xlq/referenceRealizedModeChoice.csv' does not exist: b'/home/berkeleylab/Repository/beam/output/beamville/beamville__2020-01-28_06-16-55_xlq/referenceRealizedModeChoice.csv'\n",
      "\n",
      "22:17:13 Only 2 run(s) for budget 1.666667 available, need more than 10 -> can't build model!\n",
      "22:17:13 HBMASTER: Trying to run another job!\n",
      "22:17:13 job_callback for (0, 0, 0) finished\n",
      "22:17:13 WORKER: kwargs: {'config': {'bike_intercept': 1.6025495477793967, 'car_intercept': 4.42156739709238, 'drive_transit_intercept': 6.661654132381646, 'ride_hail_intercept': -4.556283983683621, 'ride_hail_pooled_intercept': 4.520956971337663, 'ride_hail_transit_intercept': -4.7795640748986825, 'walk_intercept': -3.849532970637087, 'walk_transit_intercept': -4.590150630523263}, 'budget': 1.6666666666666665, 'working_directory': '.'}\n",
      "22:17:13 DISPATCHER: job (2, 0, 0) dispatched on hpbandster.run_Beamville.worker.KiranCHHATRE.20278.3140179395577664\n",
      "22:17:13 DISPATCHER: jobs to submit = 0, number of idle workers = 1 -> waiting!\n",
      "22:17:13 start sampling a new configuration.\n",
      "22:17:13 done sampling a new configuration.\n",
      "22:17:13 HBMASTER: schedule new run for iteration 2\n",
      "22:17:13 HBMASTER: trying submitting job (2, 0, 1) to dispatcher\n",
      "22:17:13 HBMASTER: submitting job (2, 0, 1) to dispatcher\n",
      "22:17:13 DISPATCHER: trying to submit job (2, 0, 1)\n",
      "22:17:13 DISPATCHER: trying to notify the job_runner thread.\n",
      "22:17:13 HBMASTER: job (2, 0, 1) submitted to dispatcher\n",
      "22:17:13 HBMASTER: running jobs: 4, queue sizes: (3, 4) -> wait\n"
     ]
    },
    {
     "name": "stdout",
     "output_type": "stream",
     "text": [
      "{'self': <BeamWorker.BeamWorker object at 0x7f7dd4620cd0>, 'callback': <Pyro4.core.Proxy at 0x7f7dd0491ad0; not connected; for PYRO:hpbandster.run_Beamville.dispatcher@localhost:61514>, 'id': (2, 0, 0), 'args': (), 'kwargs': {'config': {'bike_intercept': 1.6025495477793967, 'car_intercept': 4.42156739709238, 'drive_transit_intercept': 6.661654132381646, 'ride_hail_intercept': -4.556283983683621, 'ride_hail_pooled_intercept': 4.520956971337663, 'ride_hail_transit_intercept': -4.7795640748986825, 'walk_intercept': -3.849532970637087, 'walk_transit_intercept': -4.590150630523263}, 'budget': 1.6666666666666665, 'working_directory': '.'}}\n"
     ]
    },
    {
     "name": "stderr",
     "output_type": "stream",
     "text": [
      "22:17:13 DISPATCHER: Trying to submit another job.\n",
      "22:17:13 DISPATCHER: starting job (2, 0, 1) on hpbandster.run_Beamville.worker.KiranCHHATRE.20278.1140179395577664\n",
      "22:17:13 DISPATCHER: job (2, 0, 1) dispatched on hpbandster.run_Beamville.worker.KiranCHHATRE.20278.1140179395577664\n",
      "22:17:13 DISPATCHER: jobs to submit = 0, number of idle workers = 0 -> waiting!\n",
      "22:17:13 WORKER: start processing job (2, 0, 1)\n",
      "22:17:13 WORKER: args: ()\n",
      "22:17:13 WORKER: kwargs: {'config': {'bike_intercept': 0.6840249808505598, 'car_intercept': 7.241628945310172, 'drive_transit_intercept': -0.6861032123114779, 'ride_hail_intercept': 1.6639627307195841, 'ride_hail_pooled_intercept': 7.82849525547811, 'ride_hail_transit_intercept': 8.502164497690098, 'walk_intercept': 4.980280785377246, 'walk_transit_intercept': 8.617274986468995}, 'budget': 1.6666666666666665, 'working_directory': '.'}\n"
     ]
    },
    {
     "name": "stdout",
     "output_type": "stream",
     "text": [
      "{'self': <BeamWorker.BeamWorker object at 0x7f7dd4620410>, 'callback': <Pyro4.core.Proxy at 0x7f7dd049b710; not connected; for PYRO:hpbandster.run_Beamville.dispatcher@localhost:61514>, 'id': (2, 0, 1), 'args': (), 'kwargs': {'config': {'bike_intercept': 0.6840249808505598, 'car_intercept': 7.241628945310172, 'drive_transit_intercept': -0.6861032123114779, 'ride_hail_intercept': 1.6639627307195841, 'ride_hail_pooled_intercept': 7.82849525547811, 'ride_hail_transit_intercept': 8.502164497690098, 'walk_intercept': 4.980280785377246, 'walk_transit_intercept': 8.617274986468995}, 'budget': 1.6666666666666665, 'working_directory': '.'}}\n"
     ]
    },
    {
     "name": "stderr",
     "output_type": "stream",
     "text": [
      "22:17:38 DISPATCHER: Starting worker discovery\n",
      "22:17:38 DISPATCHER: Found 4 potential workers, 4 currently in the pool.\n",
      "22:17:38 DISPATCHER: Finished worker discovery\n",
      "22:18:38 DISPATCHER: Starting worker discovery\n",
      "22:18:38 DISPATCHER: Found 4 potential workers, 4 currently in the pool.\n",
      "22:18:38 DISPATCHER: Finished worker discovery\n",
      "22:19:38 DISPATCHER: Starting worker discovery\n",
      "22:19:38 DISPATCHER: Found 4 potential workers, 4 currently in the pool.\n",
      "22:19:38 DISPATCHER: Finished worker discovery\n",
      "22:20:38 DISPATCHER: Starting worker discovery\n",
      "22:20:38 DISPATCHER: Found 4 potential workers, 4 currently in the pool.\n",
      "22:20:38 DISPATCHER: Finished worker discovery\n",
      "22:21:38 DISPATCHER: Starting worker discovery\n",
      "22:21:38 DISPATCHER: Found 4 potential workers, 4 currently in the pool.\n",
      "22:21:39 DISPATCHER: Finished worker discovery\n",
      "22:22:28 WORKER: done with job (1, 0, 0), trying to register it.\n",
      "22:22:28 WORKER: registered result for job (1, 0, 0) with dispatcher\n",
      "22:22:28 DISPATCHER: job (1, 0, 0) finished\n",
      "22:22:28 DISPATCHER: register_result: lock acquired\n",
      "22:22:28 DISPATCHER: job (1, 0, 0) on hpbandster.run_Beamville.worker.KiranCHHATRE.20278.0140179395577664 finished\n",
      "22:22:28 job_id: (1, 0, 0)\n",
      "kwargs: {'config': {'bike_intercept': 0.8179370810141453, 'car_intercept': -0.9420411799164938, 'drive_transit_intercept': 3.589517872779467, 'ride_hail_intercept': -0.9292883731253205, 'ride_hail_pooled_intercept': 8.966095038879383, 'ride_hail_transit_intercept': 6.251837843367545, 'walk_intercept': -4.3165857153950755, 'walk_transit_intercept': 7.587772413002199}, 'budget': 5.0, 'working_directory': '.'}\n",
      "result: {'loss': 89.1548973901915, 'info': 89.1548973901915}\n",
      "exception: None\n",
      "\n",
      "22:22:28 job_callback for (1, 0, 0) started\n",
      "22:22:28 job_callback for (1, 0, 0) got condition\n",
      "22:22:28 DISPATCHER: Trying to submit another job.\n",
      "22:22:28 Only 2 run(s) for budget 5.000000 available, need more than 10 -> can't build model!\n",
      "22:22:28 DISPATCHER: jobs to submit = 0, number of idle workers = 1 -> waiting!\n",
      "22:22:28 HBMASTER: Trying to run another job!\n",
      "22:22:28 job_callback for (1, 0, 0) finished\n",
      "22:22:28 start sampling a new configuration.\n",
      "22:22:28 done sampling a new configuration.\n",
      "22:22:28 HBMASTER: schedule new run for iteration 2\n",
      "22:22:28 HBMASTER: trying submitting job (2, 0, 2) to dispatcher\n",
      "22:22:28 HBMASTER: submitting job (2, 0, 2) to dispatcher\n",
      "22:22:28 DISPATCHER: trying to submit job (2, 0, 2)\n",
      "22:22:28 DISPATCHER: trying to notify the job_runner thread.\n",
      "22:22:28 HBMASTER: job (2, 0, 2) submitted to dispatcher\n",
      "22:22:28 HBMASTER: running jobs: 4, queue sizes: (3, 4) -> wait\n",
      "22:22:28 DISPATCHER: Trying to submit another job.\n",
      "22:22:28 DISPATCHER: starting job (2, 0, 2) on hpbandster.run_Beamville.worker.KiranCHHATRE.20278.0140179395577664\n",
      "22:22:28 DISPATCHER: job (2, 0, 2) dispatched on hpbandster.run_Beamville.worker.KiranCHHATRE.20278.0140179395577664\n",
      "22:22:28 WORKER: start processing job (2, 0, 2)\n",
      "22:22:28 WORKER: args: ()\n",
      "22:22:28 WORKER: kwargs: {'config': {'bike_intercept': 5.514242264572166, 'car_intercept': 6.892386565539608, 'drive_transit_intercept': 8.604539579812188, 'ride_hail_intercept': 8.872247995620324, 'ride_hail_pooled_intercept': -1.968565697801325, 'ride_hail_transit_intercept': 7.219785101959488, 'walk_intercept': 2.3493061849351013, 'walk_transit_intercept': -2.2171723139541304}, 'budget': 1.6666666666666665, 'working_directory': '.'}\n",
      "22:22:28 DISPATCHER: jobs to submit = 0, number of idle workers = 0 -> waiting!\n"
     ]
    },
    {
     "name": "stdout",
     "output_type": "stream",
     "text": [
      "Error is below threshold with  99.51853375382785  at jobid  (1, 0, 1)\n",
      "{'self': <BeamWorker.BeamWorker object at 0x7f7dd460e750>, 'callback': <Pyro4.core.Proxy at 0x7f7dd0515990; not connected; for PYRO:hpbandster.run_Beamville.dispatcher@localhost:61514>, 'id': (2, 0, 2), 'args': (), 'kwargs': {'config': {'bike_intercept': 5.514242264572166, 'car_intercept': 6.892386565539608, 'drive_transit_intercept': 8.604539579812188, 'ride_hail_intercept': 8.872247995620324, 'ride_hail_pooled_intercept': -1.968565697801325, 'ride_hail_transit_intercept': 7.219785101959488, 'walk_intercept': 2.3493061849351013, 'walk_transit_intercept': -2.2171723139541304}, 'budget': 1.6666666666666665, 'working_directory': '.'}}\n"
     ]
    },
    {
     "name": "stderr",
     "output_type": "stream",
     "text": [
      "22:22:32 WORKER: done with job (0, 0, 2), trying to register it.\n",
      "22:22:32 DISPATCHER: job (0, 0, 2) finished\n",
      "22:22:32 WORKER: registered result for job (0, 0, 2) with dispatcher\n",
      "22:22:32 DISPATCHER: register_result: lock acquired\n",
      "22:22:32 DISPATCHER: job (0, 0, 2) on hpbandster.run_Beamville.worker.KiranCHHATRE.20278.2140179395577664 finished\n",
      "22:22:32 job_id: (0, 0, 2)\n",
      "kwargs: {'config': {'bike_intercept': 4.348912222179468, 'car_intercept': 7.332029560332245, 'drive_transit_intercept': -2.0940237280644984, 'ride_hail_intercept': 1.4911844887849472, 'ride_hail_pooled_intercept': 1.6289806266867322, 'ride_hail_transit_intercept': 3.5306856596490412, 'walk_intercept': 0.9732518089947906, 'walk_transit_intercept': 3.391170871618712}, 'budget': 1.6666666666666665, 'working_directory': '.'}\n",
      "result: {'loss': 156.42762466291876, 'info': 156.42762466291876}\n",
      "exception: None\n",
      "\n",
      "22:22:32 job_callback for (0, 0, 2) started\n",
      "22:22:32 DISPATCHER: Trying to submit another job.\n",
      "22:22:32 DISPATCHER: jobs to submit = 0, number of idle workers = 1 -> waiting!\n",
      "22:22:32 job_callback for (0, 0, 2) got condition\n",
      "22:22:32 Only 3 run(s) for budget 1.666667 available, need more than 10 -> can't build model!\n",
      "22:22:32 HBMASTER: Trying to run another job!\n",
      "22:22:32 job_callback for (0, 0, 2) finished\n",
      "22:22:32 ITERATION: Advancing config (0, 0, 2) to next budget 5.000000\n",
      "22:22:32 HBMASTER: schedule new run for iteration 0\n",
      "22:22:32 HBMASTER: trying submitting job (0, 0, 2) to dispatcher\n",
      "22:22:32 HBMASTER: submitting job (0, 0, 2) to dispatcher\n",
      "22:22:32 DISPATCHER: trying to submit job (0, 0, 2)\n",
      "22:22:32 DISPATCHER: trying to notify the job_runner thread.\n",
      "22:22:32 HBMASTER: job (0, 0, 2) submitted to dispatcher\n",
      "22:22:32 HBMASTER: running jobs: 4, queue sizes: (3, 4) -> wait\n",
      "22:22:32 DISPATCHER: Trying to submit another job.\n",
      "22:22:32 DISPATCHER: starting job (0, 0, 2) on hpbandster.run_Beamville.worker.KiranCHHATRE.20278.2140179395577664\n",
      "22:22:32 DISPATCHER: job (0, 0, 2) dispatched on hpbandster.run_Beamville.worker.KiranCHHATRE.20278.2140179395577664\n",
      "22:22:32 DISPATCHER: jobs to submit = 0, number of idle workers = 0 -> waiting!\n",
      "22:22:32 WORKER: start processing job (0, 0, 2)\n",
      "22:22:32 WORKER: args: ()\n",
      "22:22:32 WORKER: kwargs: {'config': {'bike_intercept': 4.348912222179468, 'car_intercept': 7.332029560332245, 'drive_transit_intercept': -2.0940237280644984, 'ride_hail_intercept': 1.4911844887849472, 'ride_hail_pooled_intercept': 1.6289806266867322, 'ride_hail_transit_intercept': 3.5306856596490412, 'walk_intercept': 0.9732518089947906, 'walk_transit_intercept': 3.391170871618712}, 'budget': 5.0, 'working_directory': '.'}\n"
     ]
    },
    {
     "name": "stdout",
     "output_type": "stream",
     "text": [
      "Error is above threshold (115) and difference is  176.79126102655513  for jobid  (1, 0, 1)\n",
      "{'self': <BeamWorker.BeamWorker object at 0x7f7dd4620750>, 'callback': <Pyro4.core.Proxy at 0x7f7dd054a810; not connected; for PYRO:hpbandster.run_Beamville.dispatcher@localhost:61514>, 'id': (0, 0, 2), 'args': (), 'kwargs': {'config': {'bike_intercept': 4.348912222179468, 'car_intercept': 7.332029560332245, 'drive_transit_intercept': -2.0940237280644984, 'ride_hail_intercept': 1.4911844887849472, 'ride_hail_pooled_intercept': 1.6289806266867322, 'ride_hail_transit_intercept': 3.5306856596490412, 'walk_intercept': 0.9732518089947906, 'walk_transit_intercept': 3.391170871618712}, 'budget': 5.0, 'working_directory': '.'}}\n"
     ]
    },
    {
     "name": "stderr",
     "output_type": "stream",
     "text": [
      "22:22:39 DISPATCHER: Starting worker discovery\n",
      "22:22:39 DISPATCHER: Found 4 potential workers, 4 currently in the pool.\n",
      "22:22:39 DISPATCHER: Finished worker discovery\n",
      "22:23:05 WORKER: done with job (2, 0, 1), trying to register it.\n",
      "22:23:05 WORKER: registered result for job (2, 0, 1) with dispatcher\n",
      "22:23:05 DISPATCHER: job (2, 0, 1) finished\n",
      "22:23:05 DISPATCHER: register_result: lock acquired\n",
      "22:23:05 DISPATCHER: job (2, 0, 1) on hpbandster.run_Beamville.worker.KiranCHHATRE.20278.1140179395577664 finished\n",
      "22:23:05 job_id: (2, 0, 1)\n",
      "kwargs: {'config': {'bike_intercept': 0.6840249808505598, 'car_intercept': 7.241628945310172, 'drive_transit_intercept': -0.6861032123114779, 'ride_hail_intercept': 1.6639627307195841, 'ride_hail_pooled_intercept': 7.82849525547811, 'ride_hail_transit_intercept': 8.502164497690098, 'walk_intercept': 4.980280785377246, 'walk_transit_intercept': 8.617274986468995}, 'budget': 1.6666666666666665, 'working_directory': '.'}\n",
      "result: {'loss': 89.1548973901915, 'info': 89.1548973901915}\n",
      "exception: None\n",
      "\n",
      "22:23:05 job_callback for (2, 0, 1) started\n",
      "22:23:05 job_callback for (2, 0, 1) got condition\n",
      "22:23:05 DISPATCHER: Trying to submit another job.\n",
      "22:23:05 DISPATCHER: jobs to submit = 0, number of idle workers = 1 -> waiting!\n",
      "22:23:05 Only 4 run(s) for budget 1.666667 available, need more than 10 -> can't build model!\n",
      "22:23:05 HBMASTER: Trying to run another job!\n"
     ]
    },
    {
     "name": "stdout",
     "output_type": "stream",
     "text": [
      "Error is below threshold with  97.70035193564604  at jobid  (1, 0, 1)\n"
     ]
    },
    {
     "name": "stderr",
     "output_type": "stream",
     "text": [
      "22:23:05 job_callback for (2, 0, 1) finished\n",
      "22:23:05 start sampling a new configuration.\n",
      "22:23:05 done sampling a new configuration.\n",
      "22:23:05 HBMASTER: schedule new run for iteration 3\n",
      "22:23:05 HBMASTER: trying submitting job (3, 0, 0) to dispatcher\n",
      "22:23:05 HBMASTER: submitting job (3, 0, 0) to dispatcher\n",
      "22:23:05 DISPATCHER: trying to submit job (3, 0, 0)\n",
      "22:23:05 DISPATCHER: trying to notify the job_runner thread.\n",
      "22:23:05 HBMASTER: job (3, 0, 0) submitted to dispatcher\n",
      "22:23:05 HBMASTER: running jobs: 4, queue sizes: (3, 4) -> wait\n",
      "22:23:05 DISPATCHER: Trying to submit another job.\n",
      "22:23:05 DISPATCHER: starting job (3, 0, 0) on hpbandster.run_Beamville.worker.KiranCHHATRE.20278.1140179395577664\n",
      "22:23:05 DISPATCHER: job (3, 0, 0) dispatched on hpbandster.run_Beamville.worker.KiranCHHATRE.20278.1140179395577664\n",
      "22:23:05 DISPATCHER: jobs to submit = 0, number of idle workers = 0 -> waiting!\n",
      "22:23:05 WORKER: start processing job (3, 0, 0)\n",
      "22:23:05 WORKER: args: ()\n",
      "22:23:05 WORKER: kwargs: {'config': {'bike_intercept': 1.4656558612939303, 'car_intercept': -3.3645088127473755, 'drive_transit_intercept': 2.4255952152750924, 'ride_hail_intercept': 4.55269990011789, 'ride_hail_pooled_intercept': -3.1657374675701835, 'ride_hail_transit_intercept': 7.005366148400972, 'walk_intercept': 4.944674006410542, 'walk_transit_intercept': 3.8940263630359606}, 'budget': 5.0, 'working_directory': '.'}\n"
     ]
    },
    {
     "name": "stdout",
     "output_type": "stream",
     "text": [
      "{'self': <BeamWorker.BeamWorker object at 0x7f7dd4620410>, 'callback': <Pyro4.core.Proxy at 0x7f7dd054af90; not connected; for PYRO:hpbandster.run_Beamville.dispatcher@localhost:61514>, 'id': (3, 0, 0), 'args': (), 'kwargs': {'config': {'bike_intercept': 1.4656558612939303, 'car_intercept': -3.3645088127473755, 'drive_transit_intercept': 2.4255952152750924, 'ride_hail_intercept': 4.55269990011789, 'ride_hail_pooled_intercept': -3.1657374675701835, 'ride_hail_transit_intercept': 7.005366148400972, 'walk_intercept': 4.944674006410542, 'walk_transit_intercept': 3.8940263630359606}, 'budget': 5.0, 'working_directory': '.'}}\n"
     ]
    },
    {
     "name": "stderr",
     "output_type": "stream",
     "text": [
      "22:23:14 WORKER: done with job (2, 0, 0), trying to register it.\n",
      "22:23:14 WORKER: registered result for job (2, 0, 0) with dispatcher\n",
      "22:23:14 DISPATCHER: job (2, 0, 0) finished\n",
      "22:23:14 DISPATCHER: register_result: lock acquired\n",
      "22:23:14 DISPATCHER: job (2, 0, 0) on hpbandster.run_Beamville.worker.KiranCHHATRE.20278.3140179395577664 finished\n",
      "22:23:14 job_id: (2, 0, 0)\n",
      "kwargs: {'config': {'bike_intercept': 1.6025495477793967, 'car_intercept': 4.42156739709238, 'drive_transit_intercept': 6.661654132381646, 'ride_hail_intercept': -4.556283983683621, 'ride_hail_pooled_intercept': 4.520956971337663, 'ride_hail_transit_intercept': -4.7795640748986825, 'walk_intercept': -3.849532970637087, 'walk_transit_intercept': -4.590150630523263}, 'budget': 1.6666666666666665, 'working_directory': '.'}\n",
      "result: {'loss': 92.93889117418527, 'info': 92.93889117418527}\n",
      "exception: None\n",
      "\n",
      "22:23:14 job_callback for (2, 0, 0) started\n",
      "22:23:14 DISPATCHER: Trying to submit another job.\n",
      "22:23:14 DISPATCHER: jobs to submit = 0, number of idle workers = 1 -> waiting!\n",
      "22:23:14 job_callback for (2, 0, 0) got condition\n",
      "22:23:14 Only 5 run(s) for budget 1.666667 available, need more than 10 -> can't build model!\n",
      "22:23:14 HBMASTER: Trying to run another job!\n",
      "22:23:14 job_callback for (2, 0, 0) finished\n",
      "22:23:14 start sampling a new configuration.\n",
      "22:23:14 done sampling a new configuration.\n",
      "22:23:14 HBMASTER: schedule new run for iteration 3\n",
      "22:23:14 HBMASTER: trying submitting job (3, 0, 1) to dispatcher\n",
      "22:23:14 HBMASTER: submitting job (3, 0, 1) to dispatcher\n",
      "22:23:14 DISPATCHER: trying to submit job (3, 0, 1)\n",
      "22:23:14 DISPATCHER: trying to notify the job_runner thread.\n",
      "22:23:14 HBMASTER: job (3, 0, 1) submitted to dispatcher\n",
      "22:23:14 DISPATCHER: Trying to submit another job.\n",
      "22:23:14 HBMASTER: running jobs: 4, queue sizes: (3, 4) -> wait\n",
      "22:23:14 DISPATCHER: starting job (3, 0, 1) on hpbandster.run_Beamville.worker.KiranCHHATRE.20278.3140179395577664\n",
      "22:23:14 DISPATCHER: job (3, 0, 1) dispatched on hpbandster.run_Beamville.worker.KiranCHHATRE.20278.3140179395577664\n",
      "22:23:14 DISPATCHER: jobs to submit = 0, number of idle workers = 0 -> waiting!\n",
      "22:23:14 WORKER: start processing job (3, 0, 1)\n",
      "22:23:14 WORKER: args: ()\n",
      "22:23:14 WORKER: kwargs: {'config': {'bike_intercept': 1.3595693464410967, 'car_intercept': 8.934932144510922, 'drive_transit_intercept': 8.092778486825502, 'ride_hail_intercept': 5.452650831255951, 'ride_hail_pooled_intercept': 7.638433035934835, 'ride_hail_transit_intercept': 6.077007887504134, 'walk_intercept': -0.14562966193832327, 'walk_transit_intercept': 4.704113393350253}, 'budget': 5.0, 'working_directory': '.'}\n"
     ]
    },
    {
     "name": "stdout",
     "output_type": "stream",
     "text": [
      "Error is below threshold with  100.30252753782165  at jobid  (2, 0, 1)\n",
      "{'self': <BeamWorker.BeamWorker object at 0x7f7dd4620cd0>, 'callback': <Pyro4.core.Proxy at 0x7f7dd049b090; not connected; for PYRO:hpbandster.run_Beamville.dispatcher@localhost:61514>, 'id': (3, 0, 1), 'args': (), 'kwargs': {'config': {'bike_intercept': 1.3595693464410967, 'car_intercept': 8.934932144510922, 'drive_transit_intercept': 8.092778486825502, 'ride_hail_intercept': 5.452650831255951, 'ride_hail_pooled_intercept': 7.638433035934835, 'ride_hail_transit_intercept': 6.077007887504134, 'walk_intercept': -0.14562966193832327, 'walk_transit_intercept': 4.704113393350253}, 'budget': 5.0, 'working_directory': '.'}}\n"
     ]
    },
    {
     "name": "stderr",
     "output_type": "stream",
     "text": [
      "22:23:39 DISPATCHER: Starting worker discovery\n",
      "22:23:39 DISPATCHER: Found 4 potential workers, 4 currently in the pool.\n",
      "22:23:39 DISPATCHER: Finished worker discovery\n",
      "22:24:39 DISPATCHER: Starting worker discovery\n",
      "22:24:39 DISPATCHER: Found 4 potential workers, 4 currently in the pool.\n",
      "22:24:39 DISPATCHER: Finished worker discovery\n",
      "22:25:39 DISPATCHER: Starting worker discovery\n",
      "22:25:39 DISPATCHER: Found 4 potential workers, 4 currently in the pool.\n",
      "22:25:39 DISPATCHER: Finished worker discovery\n",
      "22:26:27 WORKER: done with job (3, 0, 1), trying to register it.\n",
      "22:26:27 WORKER: registered result for job (3, 0, 1) with dispatcher\n",
      "22:26:27 DISPATCHER: job (3, 0, 1) finished\n",
      "22:26:27 DISPATCHER: register_result: lock acquired\n",
      "22:26:27 DISPATCHER: job (3, 0, 1) on hpbandster.run_Beamville.worker.KiranCHHATRE.20278.3140179395577664 finished\n",
      "22:26:27 job_id: (3, 0, 1)\n",
      "kwargs: {'config': {'bike_intercept': 1.3595693464410967, 'car_intercept': 8.934932144510922, 'drive_transit_intercept': 8.092778486825502, 'ride_hail_intercept': 5.452650831255951, 'ride_hail_pooled_intercept': 7.638433035934835, 'ride_hail_transit_intercept': 6.077007887504134, 'walk_intercept': -0.14562966193832327, 'walk_transit_intercept': 4.704113393350253}, 'budget': 5.0, 'working_directory': '.'}\n",
      "result: {'loss': 88.39343662873073, 'info': 88.39343662873073}\n",
      "exception: None\n",
      "\n",
      "22:26:27 job_callback for (3, 0, 1) started\n",
      "22:26:27 DISPATCHER: Trying to submit another job.\n",
      "22:26:27 job_callback for (3, 0, 1) got condition\n",
      "22:26:27 DISPATCHER: jobs to submit = 0, number of idle workers = 1 -> waiting!\n",
      "22:26:27 Only 3 run(s) for budget 5.000000 available, need more than 10 -> can't build model!\n",
      "22:26:27 HBMASTER: Trying to run another job!\n",
      "22:26:27 job_callback for (3, 0, 1) finished\n"
     ]
    },
    {
     "name": "stdout",
     "output_type": "stream",
     "text": [
      "Error is below threshold with  100.30252753782165  at jobid  (2, 0, 1)\n"
     ]
    },
    {
     "name": "stderr",
     "output_type": "stream",
     "text": [
      "22:26:39 DISPATCHER: Starting worker discovery\n",
      "22:26:39 DISPATCHER: Found 4 potential workers, 4 currently in the pool.\n",
      "22:26:39 DISPATCHER: Finished worker discovery\n",
      "22:27:39 DISPATCHER: Starting worker discovery\n",
      "22:27:39 DISPATCHER: Found 4 potential workers, 4 currently in the pool.\n",
      "22:27:39 DISPATCHER: Finished worker discovery\n",
      "22:27:53 WORKER: done with job (2, 0, 2), trying to register it.\n",
      "22:27:53 WORKER: registered result for job (2, 0, 2) with dispatcher\n",
      "22:27:53 DISPATCHER: job (2, 0, 2) finished\n",
      "22:27:53 DISPATCHER: register_result: lock acquired\n",
      "22:27:53 DISPATCHER: job (2, 0, 2) on hpbandster.run_Beamville.worker.KiranCHHATRE.20278.0140179395577664 finished\n",
      "22:27:53 job_id: (2, 0, 2)\n",
      "kwargs: {'config': {'bike_intercept': 5.514242264572166, 'car_intercept': 6.892386565539608, 'drive_transit_intercept': 8.604539579812188, 'ride_hail_intercept': 8.872247995620324, 'ride_hail_pooled_intercept': -1.968565697801325, 'ride_hail_transit_intercept': 7.219785101959488, 'walk_intercept': 2.3493061849351013, 'walk_transit_intercept': -2.2171723139541304}, 'budget': 1.6666666666666665, 'working_directory': '.'}\n",
      "result: {'loss': 101.52292152292151, 'info': 101.52292152292151}\n",
      "exception: None\n",
      "\n",
      "22:27:53 job_callback for (2, 0, 2) started\n",
      "22:27:53 DISPATCHER: Trying to submit another job.\n",
      "22:27:53 job_callback for (2, 0, 2) got condition\n",
      "22:27:53 DISPATCHER: jobs to submit = 0, number of idle workers = 2 -> waiting!\n",
      "22:27:53 Only 6 run(s) for budget 1.666667 available, need more than 10 -> can't build model!\n",
      "22:27:53 HBMASTER: Trying to run another job!\n",
      "22:27:53 job_callback for (2, 0, 2) finished\n",
      "22:27:53 ITERATION: Advancing config (2, 0, 1) to next budget 5.000000\n",
      "22:27:53 HBMASTER: schedule new run for iteration 2\n",
      "22:27:53 HBMASTER: trying submitting job (2, 0, 1) to dispatcher\n",
      "22:27:53 HBMASTER: submitting job (2, 0, 1) to dispatcher\n",
      "22:27:53 DISPATCHER: trying to submit job (2, 0, 1)\n",
      "22:27:53 DISPATCHER: trying to notify the job_runner thread.\n",
      "22:27:53 HBMASTER: job (2, 0, 1) submitted to dispatcher\n",
      "22:27:53 DISPATCHER: Trying to submit another job.\n",
      "22:27:53 DISPATCHER: starting job (2, 0, 1) on hpbandster.run_Beamville.worker.KiranCHHATRE.20278.0140179395577664\n",
      "22:27:53 DISPATCHER: job (2, 0, 1) dispatched on hpbandster.run_Beamville.worker.KiranCHHATRE.20278.0140179395577664\n",
      "22:27:53 DISPATCHER: jobs to submit = 0, number of idle workers = 1 -> waiting!\n",
      "22:27:53 WORKER: start processing job (2, 0, 1)\n",
      "22:27:53 WORKER: args: ()\n",
      "22:27:53 WORKER: kwargs: {'config': {'bike_intercept': 0.6840249808505598, 'car_intercept': 7.241628945310172, 'drive_transit_intercept': -0.6861032123114779, 'ride_hail_intercept': 1.6639627307195841, 'ride_hail_pooled_intercept': 7.82849525547811, 'ride_hail_transit_intercept': 8.502164497690098, 'walk_intercept': 4.980280785377246, 'walk_transit_intercept': 8.617274986468995}, 'budget': 5.0, 'working_directory': '.'}\n"
     ]
    },
    {
     "name": "stdout",
     "output_type": "stream",
     "text": [
      "Error is below threshold with  100.79564879564877  at jobid  (3, 0, 1)\n",
      "{'self': <BeamWorker.BeamWorker object at 0x7f7dd460e750>, 'callback': <Pyro4.core.Proxy at 0x7f7dd0491bd0; not connected; for PYRO:hpbandster.run_Beamville.dispatcher@localhost:61514>, 'id': (2, 0, 1), 'args': (), 'kwargs': {'config': {'bike_intercept': 0.6840249808505598, 'car_intercept': 7.241628945310172, 'drive_transit_intercept': -0.6861032123114779, 'ride_hail_intercept': 1.6639627307195841, 'ride_hail_pooled_intercept': 7.82849525547811, 'ride_hail_transit_intercept': 8.502164497690098, 'walk_intercept': 4.980280785377246, 'walk_transit_intercept': 8.617274986468995}, 'budget': 5.0, 'working_directory': '.'}}\n"
     ]
    },
    {
     "name": "stderr",
     "output_type": "stream",
     "text": [
      "22:27:55 WORKER: done with job (3, 0, 0), trying to register it.\n",
      "22:27:55 WORKER: registered result for job (3, 0, 0) with dispatcher\n",
      "22:27:55 DISPATCHER: job (3, 0, 0) finished\n",
      "22:27:55 DISPATCHER: register_result: lock acquired\n",
      "22:27:55 DISPATCHER: job (3, 0, 0) on hpbandster.run_Beamville.worker.KiranCHHATRE.20278.1140179395577664 finished\n",
      "22:27:55 job_id: (3, 0, 0)\n",
      "kwargs: {'config': {'bike_intercept': 1.4656558612939303, 'car_intercept': -3.3645088127473755, 'drive_transit_intercept': 2.4255952152750924, 'ride_hail_intercept': 4.55269990011789, 'ride_hail_pooled_intercept': -3.1657374675701835, 'ride_hail_transit_intercept': 7.005366148400972, 'walk_intercept': 4.944674006410542, 'walk_transit_intercept': 3.8940263630359606}, 'budget': 5.0, 'working_directory': '.'}\n",
      "result: {'loss': 166.97746697746697, 'info': 166.97746697746697}\n",
      "exception: None\n",
      "\n",
      "22:27:55 job_callback for (3, 0, 0) started\n",
      "22:27:55 DISPATCHER: Trying to submit another job.\n",
      "22:27:55 job_callback for (3, 0, 0) got condition\n",
      "22:27:55 DISPATCHER: jobs to submit = 0, number of idle workers = 2 -> waiting!\n",
      "22:27:55 Only 4 run(s) for budget 5.000000 available, need more than 10 -> can't build model!\n",
      "22:27:55 HBMASTER: Trying to run another job!\n",
      "22:27:55 job_callback for (3, 0, 0) finished\n"
     ]
    },
    {
     "name": "stdout",
     "output_type": "stream",
     "text": [
      "Error is above threshold (115) and difference is  168.06837606837607  for jobid  (3, 0, 1)\n"
     ]
    },
    {
     "name": "stderr",
     "output_type": "stream",
     "text": [
      "22:27:58 WORKER: done with job (0, 0, 2), trying to register it.\n",
      "22:27:58 WORKER: registered result for job (0, 0, 2) with dispatcher\n",
      "22:27:58 DISPATCHER: job (0, 0, 2) finished\n",
      "22:27:58 DISPATCHER: register_result: lock acquired\n",
      "22:27:58 DISPATCHER: job (0, 0, 2) on hpbandster.run_Beamville.worker.KiranCHHATRE.20278.2140179395577664 finished\n",
      "22:27:58 job_id: (0, 0, 2)\n",
      "kwargs: {'config': {'bike_intercept': 4.348912222179468, 'car_intercept': 7.332029560332245, 'drive_transit_intercept': -2.0940237280644984, 'ride_hail_intercept': 1.4911844887849472, 'ride_hail_pooled_intercept': 1.6289806266867322, 'ride_hail_transit_intercept': 3.5306856596490412, 'walk_intercept': 0.9732518089947906, 'walk_transit_intercept': 3.391170871618712}, 'budget': 5.0, 'working_directory': '.'}\n",
      "result: {'loss': 92.02980026509438, 'info': 92.02980026509438}\n",
      "exception: None\n",
      "\n",
      "22:27:58 job_callback for (0, 0, 2) started\n",
      "22:27:58 DISPATCHER: Trying to submit another job.\n",
      "22:27:58 job_callback for (0, 0, 2) got condition\n",
      "22:27:58 Only 5 run(s) for budget 5.000000 available, need more than 10 -> can't build model!\n",
      "22:27:58 HBMASTER: Trying to run another job!\n",
      "22:27:58 job_callback for (0, 0, 2) finished\n",
      "22:27:58 DISPATCHER: jobs to submit = 0, number of idle workers = 3 -> waiting!\n"
     ]
    },
    {
     "name": "stdout",
     "output_type": "stream",
     "text": [
      "Error is below threshold with  103.02980026509437  at jobid  (3, 0, 1)\n"
     ]
    },
    {
     "name": "stderr",
     "output_type": "stream",
     "text": [
      "22:28:39 DISPATCHER: Starting worker discovery\n",
      "22:28:39 DISPATCHER: Found 4 potential workers, 4 currently in the pool.\n",
      "22:28:39 DISPATCHER: Finished worker discovery\n",
      "22:29:39 DISPATCHER: Starting worker discovery\n",
      "22:29:39 DISPATCHER: Found 4 potential workers, 4 currently in the pool.\n",
      "22:29:39 DISPATCHER: Finished worker discovery\n",
      "22:30:07 WORKER: done with job (2, 0, 1), trying to register it.\n",
      "22:30:07 WORKER: registered result for job (2, 0, 1) with dispatcher\n",
      "22:30:07 DISPATCHER: job (2, 0, 1) finished\n",
      "22:30:07 DISPATCHER: register_result: lock acquired\n",
      "22:30:07 DISPATCHER: job (2, 0, 1) on hpbandster.run_Beamville.worker.KiranCHHATRE.20278.0140179395577664 finished\n",
      "22:30:07 job_id: (2, 0, 1)\n",
      "kwargs: {'config': {'bike_intercept': 0.6840249808505598, 'car_intercept': 7.241628945310172, 'drive_transit_intercept': -0.6861032123114779, 'ride_hail_intercept': 1.6639627307195841, 'ride_hail_pooled_intercept': 7.82849525547811, 'ride_hail_transit_intercept': 8.502164497690098, 'walk_intercept': 4.980280785377246, 'walk_transit_intercept': 8.617274986468995}, 'budget': 5.0, 'working_directory': '.'}\n",
      "result: {'loss': 83.84798208327618, 'info': 83.84798208327618}\n",
      "exception: None\n",
      "\n",
      "22:30:07 job_callback for (2, 0, 1) started\n",
      "22:30:07 DISPATCHER: Trying to submit another job.\n",
      "22:30:07 job_callback for (2, 0, 1) got condition\n",
      "22:30:07 DISPATCHER: jobs to submit = 0, number of idle workers = 4 -> waiting!\n",
      "22:30:07 Only 6 run(s) for budget 5.000000 available, need more than 10 -> can't build model!\n",
      "22:30:07 HBMASTER: Trying to run another job!\n",
      "22:30:07 job_callback for (2, 0, 1) finished\n"
     ]
    },
    {
     "name": "stdout",
     "output_type": "stream",
     "text": [
      "Error is below threshold with  95.88217011746421  at jobid  (3, 0, 1)\n"
     ]
    },
    {
     "name": "stderr",
     "output_type": "stream",
     "text": [
      "22:30:39 DISPATCHER: Starting worker discovery\n",
      "22:30:39 DISPATCHER: Found 4 potential workers, 4 currently in the pool.\n",
      "22:30:39 DISPATCHER: Finished worker discovery\n",
      "22:31:39 DISPATCHER: Starting worker discovery\n",
      "22:31:39 DISPATCHER: Found 4 potential workers, 4 currently in the pool.\n",
      "22:31:39 DISPATCHER: Finished worker discovery\n",
      "22:32:39 DISPATCHER: Starting worker discovery\n",
      "22:32:39 DISPATCHER: Found 4 potential workers, 4 currently in the pool.\n",
      "22:32:39 DISPATCHER: Finished worker discovery\n",
      "22:33:39 DISPATCHER: Starting worker discovery\n",
      "22:33:39 DISPATCHER: Found 4 potential workers, 4 currently in the pool.\n",
      "22:33:39 DISPATCHER: Finished worker discovery\n"
     ]
    }
   ],
   "source": [
    "\n",
    "result_logger = hpres.json_result_logger(directory='/home/berkeleylab/Calib_documentation/TUNE_integrate/TUNE_test/worker_n_optimizer', overwrite=True)\n",
    "bohb = BOHB(configspace=w.get_configspace(),run_id='Beamville',min_budget=1, max_budget=5, result_logger=result_logger)\n",
    "res = bohb.run(n_iterations=4,min_n_workers=4)\n",
    "\n"
   ]
  },
  {
   "cell_type": "code",
   "execution_count": 7,
   "metadata": {},
   "outputs": [
    {
     "name": "stdout",
     "output_type": "stream",
     "text": [
      "best config: {'bike_intercept': 0.6840249808505598, 'car_intercept': 7.241628945310172, 'drive_transit_intercept': -0.6861032123114779, 'ride_hail_intercept': 1.6639627307195841, 'ride_hail_pooled_intercept': 7.82849525547811, 'ride_hail_transit_intercept': 8.502164497690098, 'walk_intercept': 4.980280785377246, 'walk_transit_intercept': 8.617274986468995}\n",
      "total unique configs: 10\n",
      "total executed runs: 12\n",
      "total budget corresponds to these function evaluations: 0.1646090534979424\n",
      "total elapsed time 589.0752835273743\n"
     ]
    },
    {
     "name": "stderr",
     "output_type": "stream",
     "text": [
      "22:34:39 DISPATCHER: Starting worker discovery\n",
      "22:34:39 DISPATCHER: Found 4 potential workers, 4 currently in the pool.\n",
      "22:34:39 DISPATCHER: Finished worker discovery\n"
     ]
    }
   ],
   "source": [
    "\n",
    "id2config = res.get_id2config_mapping()\n",
    "incumbent = res.get_incumbent_id()\n",
    "all_runs = res.get_all_runs()\n",
    "\n",
    "print('best config:', id2config[incumbent]['config'] )\n",
    "print('total unique configs:', len(id2config.keys()) )\n",
    "print('total executed runs:', len(all_runs) )\n",
    "print('total budget corresponds to these function evaluations:', (sum([r.budget for r in all_runs])/243))\n",
    "print('total elapsed time', (all_runs[-1].time_stamps['finished']-all_runs[0].time_stamps['started']))\n",
    "\n"
   ]
  },
  {
   "cell_type": "code",
   "execution_count": 8,
   "metadata": {},
   "outputs": [
    {
     "name": "stderr",
     "output_type": "stream",
     "text": [
      "22:34:57 HBMASTER: shutdown initiated, shutdown_workers = True\n",
      "22:34:57 WORKER: shutting down now!\n",
      "22:34:57 WORKER: shutting down now!\n",
      "22:34:57 WORKER: shutting down now!\n",
      "22:34:57 WORKER: shutting down now!\n",
      "22:34:57 DISPATCHER: Dispatcher shutting down\n",
      "22:34:57 DISPATCHER: Trying to submit another job.\n",
      "22:34:57 DISPATCHER: job_runner shutting down\n",
      "22:34:57 DISPATCHER: discover_workers shutting down\n",
      "22:34:57 DISPATCHER: 'discover_worker' thread exited\n",
      "22:34:57 DISPATCHER: 'job_runner' thread exited\n",
      "22:34:57 DISPATCHER: shut down complete\n"
     ]
    }
   ],
   "source": [
    "bohb.shutdown(shutdown_workers=True)\n",
    "NS.shutdown()\n",
    "\n",
    "# Delete conf copies\n",
    "for filename in glob.glob(\"/home/berkeleylab/Repository/beam/test/input/beamville/beam_*\"):\n",
    "    os.remove(filename) \n"
   ]
  },
  {
   "cell_type": "markdown",
   "metadata": {},
   "source": [
    "### Ongoing:"
   ]
  },
  {
   "cell_type": "code",
   "execution_count": 9,
   "metadata": {},
   "outputs": [],
   "source": [
    "\n",
    "result = hpres.logged_results_to_HBS_result('/home/berkeleylab/Calib_documentation/TUNE_integrate/TUNE_test/worker_n_optimizer/')\n"
   ]
  },
  {
   "cell_type": "code",
   "execution_count": 10,
   "metadata": {},
   "outputs": [
    {
     "name": "stdout",
     "output_type": "stream",
     "text": [
      "Best config: 83.84798208327618\n"
     ]
    }
   ],
   "source": [
    "\n",
    "all_runs = result.get_all_runs()\n",
    "id2conf = result.get_id2config_mapping()\n",
    "inc_id = result.get_incumbent_id()\n",
    "inc_runs = result.get_runs_by_id(inc_id)\n",
    "inc_run = inc_runs[-1]\n",
    "inc_loss = inc_run.loss\n",
    "inc_config = id2conf[inc_id]['config']\n",
    "lcs = result.get_learning_curves()\n",
    "\n",
    "print('Best config:', inc_loss)"
   ]
  },
  {
   "cell_type": "code",
   "execution_count": 11,
   "metadata": {},
   "outputs": [
    {
     "data": {
      "text/plain": [
       "[config_id: (2, 0, 1)\tbudget: 1.666667\tloss: 89.1548973901915\n",
       " time_stamps: 34.84233570098877 (submitted), 34.95895075798035 (started), 386.7609705924988 (finished)\n",
       " info: 89.1548973901915,\n",
       " config_id: (2, 0, 1)\tbudget: 5.000000\tloss: 83.84798208327618\n",
       " time_stamps: 674.8939437866211 (submitted), 674.8990097045898 (started), 808.8340990543365 (finished)\n",
       " info: 83.84798208327618]"
      ]
     },
     "execution_count": 11,
     "metadata": {},
     "output_type": "execute_result"
    }
   ],
   "source": [
    "inc_runs"
   ]
  },
  {
   "cell_type": "code",
   "execution_count": 12,
   "metadata": {},
   "outputs": [],
   "source": [
    "import warnings\n",
    "warnings.filterwarnings(\"ignore\")"
   ]
  },
  {
   "cell_type": "markdown",
   "metadata": {},
   "source": [
    "##### Disregard"
   ]
  },
  {
   "cell_type": "code",
   "execution_count": 13,
   "metadata": {},
   "outputs": [
    {
     "data": {
      "text/plain": [
       "(<Figure size 432x288 with 1 Axes>,\n",
       " <matplotlib.axes._subplots.AxesSubplot at 0x7f7dd4650910>)"
      ]
     },
     "execution_count": 13,
     "metadata": {},
     "output_type": "execute_result"
    },
    {
     "name": "stderr",
     "output_type": "stream",
     "text": [
      "22:35:44 findfont: Matching :family=sans-serif:style=normal:variant=normal:weight=normal:stretch=normal:size=12.0.\n",
      "22:35:44 findfont: score(<Font 'cmmi10' (cmmi10.ttf) normal normal 400 normal>) = 10.05\n",
      "22:35:44 findfont: score(<Font 'STIXGeneral' (STIXGeneral.ttf) normal normal regular normal>) = 10.05\n",
      "22:35:44 findfont: score(<Font 'STIXSizeTwoSym' (STIXSizTwoSymBol.ttf) normal normal bold normal>) = 10.335\n",
      "22:35:44 findfont: score(<Font 'DejaVu Sans Mono' (DejaVuSansMono-Oblique.ttf) oblique normal 400 normal>) = 11.05\n",
      "22:35:44 findfont: score(<Font 'STIXNonUnicode' (STIXNonUniBol.ttf) normal normal bold normal>) = 10.335\n",
      "22:35:44 findfont: score(<Font 'cmtt10' (cmtt10.ttf) normal normal 400 normal>) = 10.05\n",
      "22:35:44 findfont: score(<Font 'DejaVu Serif' (DejaVuSerif-Italic.ttf) italic normal 400 normal>) = 11.05\n",
      "22:35:44 findfont: score(<Font 'cmsy10' (cmsy10.ttf) normal normal 400 normal>) = 10.05\n",
      "22:35:44 findfont: score(<Font 'DejaVu Sans' (DejaVuSans-Bold.ttf) normal normal bold normal>) = 0.33499999999999996\n",
      "22:35:44 findfont: score(<Font 'DejaVu Sans Mono' (DejaVuSansMono.ttf) normal normal 400 normal>) = 10.05\n",
      "22:35:44 findfont: score(<Font 'DejaVu Sans' (DejaVuSans.ttf) normal normal 400 normal>) = 0.05\n",
      "22:35:44 findfont: score(<Font 'STIXSizeOneSym' (STIXSizOneSymReg.ttf) normal normal regular normal>) = 10.05\n",
      "22:35:44 findfont: score(<Font 'DejaVu Sans Mono' (DejaVuSansMono-BoldOblique.ttf) oblique normal bold normal>) = 11.335\n",
      "22:35:44 findfont: score(<Font 'DejaVu Serif' (DejaVuSerif-Bold.ttf) normal normal bold normal>) = 10.335\n",
      "22:35:44 findfont: score(<Font 'STIXSizeFourSym' (STIXSizFourSymReg.ttf) normal normal regular normal>) = 10.05\n",
      "22:35:44 findfont: score(<Font 'DejaVu Sans Display' (DejaVuSansDisplay.ttf) normal normal 400 normal>) = 10.05\n",
      "22:35:44 findfont: score(<Font 'DejaVu Serif Display' (DejaVuSerifDisplay.ttf) normal normal 400 normal>) = 10.05\n",
      "22:35:44 findfont: score(<Font 'DejaVu Serif' (DejaVuSerif-BoldItalic.ttf) italic normal bold normal>) = 11.335\n",
      "22:35:44 findfont: score(<Font 'STIXGeneral' (STIXGeneralBolIta.ttf) italic normal bold normal>) = 11.335\n",
      "22:35:44 findfont: score(<Font 'cmb10' (cmb10.ttf) normal normal 400 normal>) = 10.05\n",
      "22:35:44 findfont: score(<Font 'STIXNonUnicode' (STIXNonUni.ttf) normal normal regular normal>) = 10.05\n",
      "22:35:44 findfont: score(<Font 'cmss10' (cmss10.ttf) normal normal 400 normal>) = 10.05\n",
      "22:35:44 findfont: score(<Font 'STIXSizeFourSym' (STIXSizFourSymBol.ttf) normal normal bold normal>) = 10.335\n",
      "22:35:44 findfont: score(<Font 'DejaVu Serif' (DejaVuSerif.ttf) normal normal 400 normal>) = 10.05\n",
      "22:35:44 findfont: score(<Font 'DejaVu Sans' (DejaVuSans-Oblique.ttf) oblique normal 400 normal>) = 1.05\n",
      "22:35:44 findfont: score(<Font 'STIXGeneral' (STIXGeneralBol.ttf) normal normal bold normal>) = 10.335\n",
      "22:35:44 findfont: score(<Font 'DejaVu Sans' (DejaVuSans-BoldOblique.ttf) oblique normal bold normal>) = 1.335\n",
      "22:35:44 findfont: score(<Font 'STIXSizeThreeSym' (STIXSizThreeSymReg.ttf) normal normal regular normal>) = 10.05\n",
      "22:35:44 findfont: score(<Font 'STIXSizeFiveSym' (STIXSizFiveSymReg.ttf) normal normal regular normal>) = 10.05\n",
      "22:35:44 findfont: score(<Font 'cmr10' (cmr10.ttf) normal normal 400 normal>) = 10.05\n",
      "22:35:44 findfont: score(<Font 'STIXSizeOneSym' (STIXSizOneSymBol.ttf) normal normal bold normal>) = 10.335\n",
      "22:35:44 findfont: score(<Font 'cmex10' (cmex10.ttf) normal normal 400 normal>) = 10.05\n",
      "22:35:44 findfont: score(<Font 'STIXNonUnicode' (STIXNonUniBolIta.ttf) italic normal bold normal>) = 11.335\n",
      "22:35:44 findfont: score(<Font 'STIXNonUnicode' (STIXNonUniIta.ttf) italic normal 400 normal>) = 11.05\n",
      "22:35:44 findfont: score(<Font 'STIXSizeThreeSym' (STIXSizThreeSymBol.ttf) normal normal bold normal>) = 10.335\n",
      "22:35:44 findfont: score(<Font 'STIXGeneral' (STIXGeneralItalic.ttf) italic normal 400 normal>) = 11.05\n",
      "22:35:44 findfont: score(<Font 'DejaVu Sans Mono' (DejaVuSansMono-Bold.ttf) normal normal bold normal>) = 10.335\n",
      "22:35:44 findfont: score(<Font 'STIXSizeTwoSym' (STIXSizTwoSymReg.ttf) normal normal regular normal>) = 10.05\n",
      "22:35:44 findfont: score(<Font 'DejaVu Serif' (DejaVuSerifCondensed.ttf) normal normal 400 condensed>) = 10.25\n",
      "22:35:44 findfont: score(<Font 'DejaVu Sans' (DejaVuSansCondensed-BoldOblique.ttf) oblique normal bold condensed>) = 1.535\n",
      "22:35:44 findfont: score(<Font 'DejaVu Sans' (DejaVuSansCondensed-Bold.ttf) normal normal bold condensed>) = 0.5349999999999999\n",
      "22:35:44 findfont: score(<Font 'DejaVu Math TeX Gyre' (DejaVuMathTeXGyre.ttf) normal normal regular normal>) = 10.05\n",
      "22:35:44 findfont: score(<Font 'DejaVu Sans' (DejaVuSans-ExtraLight.ttf) normal normal light normal>) = 0.24\n",
      "22:35:44 findfont: score(<Font 'DejaVu Sans' (DejaVuSansCondensed.ttf) normal normal 400 condensed>) = 0.25\n",
      "22:35:44 findfont: score(<Font 'DejaVu Serif' (DejaVuSerifCondensed-Bold.ttf) normal normal bold condensed>) = 10.535\n",
      "22:35:44 findfont: score(<Font 'DejaVu Serif' (DejaVuSerifCondensed-Italic.ttf) italic normal 400 condensed>) = 11.25\n",
      "22:35:44 findfont: score(<Font 'DejaVu Serif' (DejaVuSerifCondensed-BoldItalic.ttf) italic normal bold condensed>) = 11.535\n",
      "22:35:44 findfont: score(<Font 'DejaVu Sans' (DejaVuSansCondensed-Oblique.ttf) oblique normal 400 condensed>) = 1.25\n",
      "22:35:44 findfont: Matching :family=sans-serif:style=normal:variant=normal:weight=normal:stretch=normal:size=12.0 to DejaVu Sans ('/home/berkeleylab/anaconda3/envs/tune/lib/python3.7/site-packages/matplotlib/mpl-data/fonts/ttf/DejaVuSans.ttf') with score of 0.050000.\n",
      "22:35:44 findfont: Matching :family=sans-serif:style=normal:variant=normal:weight=normal:stretch=normal:size=10.0.\n",
      "22:35:44 findfont: score(<Font 'cmmi10' (cmmi10.ttf) normal normal 400 normal>) = 10.05\n",
      "22:35:44 findfont: score(<Font 'STIXGeneral' (STIXGeneral.ttf) normal normal regular normal>) = 10.05\n",
      "22:35:44 findfont: score(<Font 'STIXSizeTwoSym' (STIXSizTwoSymBol.ttf) normal normal bold normal>) = 10.335\n",
      "22:35:44 findfont: score(<Font 'DejaVu Sans Mono' (DejaVuSansMono-Oblique.ttf) oblique normal 400 normal>) = 11.05\n",
      "22:35:44 findfont: score(<Font 'STIXNonUnicode' (STIXNonUniBol.ttf) normal normal bold normal>) = 10.335\n",
      "22:35:44 findfont: score(<Font 'cmtt10' (cmtt10.ttf) normal normal 400 normal>) = 10.05\n",
      "22:35:44 findfont: score(<Font 'DejaVu Serif' (DejaVuSerif-Italic.ttf) italic normal 400 normal>) = 11.05\n",
      "22:35:44 findfont: score(<Font 'cmsy10' (cmsy10.ttf) normal normal 400 normal>) = 10.05\n",
      "22:35:44 findfont: score(<Font 'DejaVu Sans' (DejaVuSans-Bold.ttf) normal normal bold normal>) = 0.33499999999999996\n",
      "22:35:44 findfont: score(<Font 'DejaVu Sans Mono' (DejaVuSansMono.ttf) normal normal 400 normal>) = 10.05\n",
      "22:35:44 findfont: score(<Font 'DejaVu Sans' (DejaVuSans.ttf) normal normal 400 normal>) = 0.05\n",
      "22:35:44 findfont: score(<Font 'STIXSizeOneSym' (STIXSizOneSymReg.ttf) normal normal regular normal>) = 10.05\n",
      "22:35:44 findfont: score(<Font 'DejaVu Sans Mono' (DejaVuSansMono-BoldOblique.ttf) oblique normal bold normal>) = 11.335\n",
      "22:35:44 findfont: score(<Font 'DejaVu Serif' (DejaVuSerif-Bold.ttf) normal normal bold normal>) = 10.335\n",
      "22:35:44 findfont: score(<Font 'STIXSizeFourSym' (STIXSizFourSymReg.ttf) normal normal regular normal>) = 10.05\n",
      "22:35:44 findfont: score(<Font 'DejaVu Sans Display' (DejaVuSansDisplay.ttf) normal normal 400 normal>) = 10.05\n",
      "22:35:44 findfont: score(<Font 'DejaVu Serif Display' (DejaVuSerifDisplay.ttf) normal normal 400 normal>) = 10.05\n",
      "22:35:44 findfont: score(<Font 'DejaVu Serif' (DejaVuSerif-BoldItalic.ttf) italic normal bold normal>) = 11.335\n",
      "22:35:44 findfont: score(<Font 'STIXGeneral' (STIXGeneralBolIta.ttf) italic normal bold normal>) = 11.335\n",
      "22:35:44 findfont: score(<Font 'cmb10' (cmb10.ttf) normal normal 400 normal>) = 10.05\n",
      "22:35:44 findfont: score(<Font 'STIXNonUnicode' (STIXNonUni.ttf) normal normal regular normal>) = 10.05\n",
      "22:35:44 findfont: score(<Font 'cmss10' (cmss10.ttf) normal normal 400 normal>) = 10.05\n",
      "22:35:44 findfont: score(<Font 'STIXSizeFourSym' (STIXSizFourSymBol.ttf) normal normal bold normal>) = 10.335\n",
      "22:35:44 findfont: score(<Font 'DejaVu Serif' (DejaVuSerif.ttf) normal normal 400 normal>) = 10.05\n",
      "22:35:44 findfont: score(<Font 'DejaVu Sans' (DejaVuSans-Oblique.ttf) oblique normal 400 normal>) = 1.05\n"
     ]
    },
    {
     "name": "stderr",
     "output_type": "stream",
     "text": [
      "22:35:44 findfont: score(<Font 'STIXGeneral' (STIXGeneralBol.ttf) normal normal bold normal>) = 10.335\n",
      "22:35:44 findfont: score(<Font 'DejaVu Sans' (DejaVuSans-BoldOblique.ttf) oblique normal bold normal>) = 1.335\n",
      "22:35:44 findfont: score(<Font 'STIXSizeThreeSym' (STIXSizThreeSymReg.ttf) normal normal regular normal>) = 10.05\n",
      "22:35:44 findfont: score(<Font 'STIXSizeFiveSym' (STIXSizFiveSymReg.ttf) normal normal regular normal>) = 10.05\n",
      "22:35:44 findfont: score(<Font 'cmr10' (cmr10.ttf) normal normal 400 normal>) = 10.05\n",
      "22:35:44 findfont: score(<Font 'STIXSizeOneSym' (STIXSizOneSymBol.ttf) normal normal bold normal>) = 10.335\n",
      "22:35:44 findfont: score(<Font 'cmex10' (cmex10.ttf) normal normal 400 normal>) = 10.05\n",
      "22:35:44 findfont: score(<Font 'STIXNonUnicode' (STIXNonUniBolIta.ttf) italic normal bold normal>) = 11.335\n",
      "22:35:44 findfont: score(<Font 'STIXNonUnicode' (STIXNonUniIta.ttf) italic normal 400 normal>) = 11.05\n",
      "22:35:44 findfont: score(<Font 'STIXSizeThreeSym' (STIXSizThreeSymBol.ttf) normal normal bold normal>) = 10.335\n",
      "22:35:44 findfont: score(<Font 'STIXGeneral' (STIXGeneralItalic.ttf) italic normal 400 normal>) = 11.05\n",
      "22:35:44 findfont: score(<Font 'DejaVu Sans Mono' (DejaVuSansMono-Bold.ttf) normal normal bold normal>) = 10.335\n",
      "22:35:44 findfont: score(<Font 'STIXSizeTwoSym' (STIXSizTwoSymReg.ttf) normal normal regular normal>) = 10.05\n",
      "22:35:44 findfont: score(<Font 'DejaVu Serif' (DejaVuSerifCondensed.ttf) normal normal 400 condensed>) = 10.25\n",
      "22:35:44 findfont: score(<Font 'DejaVu Sans' (DejaVuSansCondensed-BoldOblique.ttf) oblique normal bold condensed>) = 1.535\n",
      "22:35:44 findfont: score(<Font 'DejaVu Sans' (DejaVuSansCondensed-Bold.ttf) normal normal bold condensed>) = 0.5349999999999999\n",
      "22:35:44 findfont: score(<Font 'DejaVu Math TeX Gyre' (DejaVuMathTeXGyre.ttf) normal normal regular normal>) = 10.05\n",
      "22:35:44 findfont: score(<Font 'DejaVu Sans' (DejaVuSans-ExtraLight.ttf) normal normal light normal>) = 0.24\n",
      "22:35:44 findfont: score(<Font 'DejaVu Sans' (DejaVuSansCondensed.ttf) normal normal 400 condensed>) = 0.25\n",
      "22:35:44 findfont: score(<Font 'DejaVu Serif' (DejaVuSerifCondensed-Bold.ttf) normal normal bold condensed>) = 10.535\n",
      "22:35:44 findfont: score(<Font 'DejaVu Serif' (DejaVuSerifCondensed-Italic.ttf) italic normal 400 condensed>) = 11.25\n",
      "22:35:44 findfont: score(<Font 'DejaVu Serif' (DejaVuSerifCondensed-BoldItalic.ttf) italic normal bold condensed>) = 11.535\n",
      "22:35:44 findfont: score(<Font 'DejaVu Sans' (DejaVuSansCondensed-Oblique.ttf) oblique normal 400 condensed>) = 1.25\n",
      "22:35:44 findfont: Matching :family=sans-serif:style=normal:variant=normal:weight=normal:stretch=normal:size=10.0 to DejaVu Sans ('/home/berkeleylab/anaconda3/envs/tune/lib/python3.7/site-packages/matplotlib/mpl-data/fonts/ttf/DejaVuSans.ttf') with score of 0.050000.\n"
     ]
    },
    {
     "data": {
      "image/png": "[encoded data removed]",
      "text/plain": [
       "<Figure size 432x288 with 1 Axes>"
      ]
     },
     "metadata": {
      "needs_background": "light"
     },
     "output_type": "display_data"
    }
   ],
   "source": [
    "hpvis.losses_over_time(all_runs)"
   ]
  },
  {
   "cell_type": "code",
   "execution_count": 14,
   "metadata": {},
   "outputs": [
    {
     "data": {
      "text/plain": [
       "(<Figure size 432x288 with 1 Axes>,\n",
       " <matplotlib.axes._subplots.AxesSubplot at 0x7f7dd433c250>)"
      ]
     },
     "execution_count": 14,
     "metadata": {},
     "output_type": "execute_result"
    },
    {
     "data": {
      "image/png": "[encoded data removed]",
      "text/plain": [
       "<Figure size 432x288 with 1 Axes>"
      ]
     },
     "metadata": {
      "needs_background": "light"
     },
     "output_type": "display_data"
    }
   ],
   "source": [
    "hpvis.concurrent_runs_over_time(all_runs)"
   ]
  },
  {
   "cell_type": "code",
   "execution_count": 15,
   "metadata": {},
   "outputs": [
    {
     "data": {
      "text/plain": [
       "(<Figure size 432x288 with 1 Axes>,\n",
       " <matplotlib.axes._subplots.AxesSubplot at 0x7f7dd42d4f10>)"
      ]
     },
     "execution_count": 15,
     "metadata": {},
     "output_type": "execute_result"
    },
    {
     "data": {
      "image/png": "[encoded data removed]",
      "text/plain": [
       "<Figure size 432x288 with 1 Axes>"
      ]
     },
     "metadata": {
      "needs_background": "light"
     },
     "output_type": "display_data"
    }
   ],
   "source": [
    "hpvis.finished_runs_over_time(all_runs)"
   ]
  },
  {
   "cell_type": "code",
   "execution_count": null,
   "metadata": {},
   "outputs": [],
   "source": [
    "hpvis.correlation_across_budgets(result)"
   ]
  },
  {
   "cell_type": "markdown",
   "metadata": {},
   "source": [
    "##### Disregard"
   ]
  },
  {
   "cell_type": "code",
   "execution_count": 17,
   "metadata": {},
   "outputs": [
    {
     "data": {
      "text/plain": [
       "(<Figure size 432x288 with 4 Axes>,\n",
       " array([[<matplotlib.axes._subplots.AxesSubplot object at 0x7f7dd3cdfa90>,\n",
       "         <matplotlib.axes._subplots.AxesSubplot object at 0x7f7dd3c6f310>],\n",
       "        [<matplotlib.axes._subplots.AxesSubplot object at 0x7f7dd3c32250>,\n",
       "         <matplotlib.axes._subplots.AxesSubplot object at 0x7f7dd3bd8510>]],\n",
       "       dtype=object))"
      ]
     },
     "execution_count": 17,
     "metadata": {},
     "output_type": "execute_result"
    },
    {
     "data": {
      "image/png": "[encoded data removed]",
      "text/plain": [
       "<Figure size 432x288 with 4 Axes>"
      ]
     },
     "metadata": {
      "needs_background": "light"
     },
     "output_type": "display_data"
    }
   ],
   "source": [
    "hpvis.performance_histogram_model_vs_random(all_runs,id2conf)"
   ]
  },
  {
   "cell_type": "code",
   "execution_count": 18,
   "metadata": {},
   "outputs": [],
   "source": [
    "def realtime_learning_curves(runs):\n",
    "    sr = sorted(runs,key=lambda r: r.budget)\n",
    "    lc = list(filter(lambda t: not t[1] is None, [(r.time_stamps['finished'], r.info) for r in sr]))\n",
    "    \n",
    "    return ([lc,])   \n",
    "    \n",
    "    "
   ]
  },
  {
   "cell_type": "code",
   "execution_count": 19,
   "metadata": {},
   "outputs": [],
   "source": [
    "\n",
    "lcs = result.get_learning_curves(lc_extractor=realtime_learning_curves)\n",
    "\n"
   ]
  },
  {
   "cell_type": "code",
   "execution_count": 20,
   "metadata": {},
   "outputs": [],
   "source": [
    "config_ids = [] \n",
    "times = []\n",
    "\n",
    "for k in lcs.keys():\n",
    "    config_ids.append(k)\n",
    "    \n",
    "for k,v in lcs.items():\n",
    "    for l in v:\n",
    "        if len(l) == 0: continue\n",
    "        tmp = list(zip(*l))\n",
    "        times.append(tmp[0])\n"
   ]
  },
  {
   "cell_type": "code",
   "execution_count": 21,
   "metadata": {},
   "outputs": [
    {
     "data": {
      "text/plain": [
       "[0, 0, 0, 1, 1, 2, 2, 2, 3, 3]"
      ]
     },
     "execution_count": 21,
     "metadata": {},
     "output_type": "execute_result"
    }
   ],
   "source": [
    "\n",
    "HB_iterations = [id[0] for id in config_ids]\n",
    "num_iterations = len(set(HB_iterations))\n",
    "\n",
    "HB_iterations"
   ]
  },
  {
   "cell_type": "code",
   "execution_count": 22,
   "metadata": {},
   "outputs": [
    {
     "data": {
      "text/plain": [
       "4"
      ]
     },
     "execution_count": 22,
     "metadata": {},
     "output_type": "execute_result"
    }
   ],
   "source": [
    "num_iterations"
   ]
  },
  {
   "cell_type": "code",
   "execution_count": null,
   "metadata": {},
   "outputs": [],
   "source": []
  }
 ],
 "metadata": {
  "kernelspec": {
   "display_name": "Python 3",
   "language": "python",
   "name": "python3"
  },
  "language_info": {
   "codemirror_mode": {
    "name": "ipython",
    "version": 3
   },
   "file_extension": ".py",
   "mimetype": "text/x-python",
   "name": "python",
   "nbconvert_exporter": "python",
   "pygments_lexer": "ipython3",
   "version": "3.7.6"
  }
 },
 "nbformat": 4,
 "nbformat_minor": 2
}
