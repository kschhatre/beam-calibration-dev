{
 "cells": [
  {
   "cell_type": "code",
   "execution_count": null,
   "metadata": {},
   "outputs": [],
   "source": [
    "\n",
    "%matplotlib inline\n"
   ]
  },
  {
   "cell_type": "code",
   "execution_count": null,
   "metadata": {},
   "outputs": [],
   "source": [
    "import sys\n",
    "sys.path.insert(1, '/home/berkeleylab/Misc_code/HpBandSter/hpbandster')"
   ]
  },
  {
   "cell_type": "code",
   "execution_count": null,
   "metadata": {},
   "outputs": [],
   "source": [
    "\n",
    "\n",
    "import core.nameserver as hpns\n",
    "import core.result as hpres\n",
    "from optimizers import BOHB as BOHB\n",
    "from BeamWorker import BeamWorker\n",
    "import visualization as hpvis\n",
    "import matplotlib.pyplot as plt\n",
    "\n"
   ]
  },
  {
   "cell_type": "code",
   "execution_count": null,
   "metadata": {},
   "outputs": [],
   "source": [
    "\n",
    "NS = hpns.NameServer(run_id='Beamville', host='127.0.0.1', port=None)\n",
    "NS.start()\n"
   ]
  },
  {
   "cell_type": "code",
   "execution_count": null,
   "metadata": {},
   "outputs": [],
   "source": [
    "\n",
    "workers=[]\n",
    "for i in range(3):\n",
    "   \n",
    "    w = BeamWorker(nameserver='127.0.0.1', run_id='Beamville', id=i)\n",
    "    w.run(background=True)\n",
    "    workers.append(w)\n",
    " \n",
    "    "
   ]
  },
  {
   "cell_type": "code",
   "execution_count": null,
   "metadata": {
    "scrolled": false
   },
   "outputs": [],
   "source": [
    "\n",
    "result_logger = hpres.json_result_logger(directory='/home/berkeleylab/Calib_documentation/TUNE_integrate/TUNE_test/worker_n_optimizer', overwrite=True)\n",
    "bohb = BOHB(configspace=w.get_configspace(),run_id='Beamville',min_budget=1, max_budget=3, result_logger=result_logger)\n",
    "res = bohb.run(n_iterations=3,min_n_workers=3)\n",
    "\n"
   ]
  },
  {
   "cell_type": "code",
   "execution_count": null,
   "metadata": {},
   "outputs": [],
   "source": [
    "\n",
    "id2config = res.get_id2config_mapping()\n",
    "incumbent = res.get_incumbent_id()\n",
    "all_runs = res.get_all_runs()\n",
    "\n",
    "print('best config:', id2config[incumbent]['config'] )\n",
    "print('total unique configs:', len(id2config.keys()) )\n",
    "print('total executed runs:', len(all_runs) )\n",
    "print('total budget corresponds to these function evaluations:', (sum([r.budget for r in all_runs])/243))\n",
    "print('total elapsed time', (all_runs[-1].time_stamps['finished']-all_runs[0].time_stamps['started']))\n",
    "\n"
   ]
  },
  {
   "cell_type": "code",
   "execution_count": null,
   "metadata": {},
   "outputs": [],
   "source": [
    "bohb.shutdown(shutdown_workers=True)\n",
    "NS.shutdown()\n"
   ]
  },
  {
   "cell_type": "code",
   "execution_count": null,
   "metadata": {},
   "outputs": [],
   "source": [
    "\n",
    "result = hpres.logged_results_to_HBS_result('/home/berkeleylab/Calib_documentation/TUNE_integrate/TUNE_test/worker_n_optimizer/')\n"
   ]
  },
  {
   "cell_type": "code",
   "execution_count": null,
   "metadata": {},
   "outputs": [],
   "source": [
    "\n",
    "all_runs = result.get_all_runs()\n",
    "id2conf = result.get_id2config_mapping()\n",
    "inc_id = result.get_incumbent_id()\n",
    "inc_runs = result.get_runs_by_id(inc_id)\n",
    "inc_run = inc_runs[-1]\n",
    "inc_loss = inc_run.loss\n",
    "inc_config = id2conf[inc_id]['config']\n",
    "lcs = result.get_learning_curves()\n",
    "\n",
    "print('Best config:', inc_loss)"
   ]
  },
  {
   "cell_type": "code",
   "execution_count": null,
   "metadata": {},
   "outputs": [],
   "source": [
    "inc_runs"
   ]
  },
  {
   "cell_type": "code",
   "execution_count": null,
   "metadata": {},
   "outputs": [],
   "source": [
    "import warnings\n",
    "warnings.filterwarnings(\"ignore\")"
   ]
  },
  {
   "cell_type": "code",
   "execution_count": null,
   "metadata": {},
   "outputs": [],
   "source": [
    "hpvis.losses_over_time(all_runs)"
   ]
  },
  {
   "cell_type": "code",
   "execution_count": null,
   "metadata": {},
   "outputs": [],
   "source": [
    "hpvis.concurrent_runs_over_time(all_runs)"
   ]
  },
  {
   "cell_type": "code",
   "execution_count": null,
   "metadata": {},
   "outputs": [],
   "source": [
    "hpvis.finished_runs_over_time(all_runs)"
   ]
  },
  {
   "cell_type": "code",
   "execution_count": null,
   "metadata": {},
   "outputs": [],
   "source": [
    "hpvis.correlation_across_budgets(result)"
   ]
  },
  {
   "cell_type": "code",
   "execution_count": null,
   "metadata": {},
   "outputs": [],
   "source": [
    "hpvis.performance_histogram_model_vs_random(all_runs,id2conf)"
   ]
  },
  {
   "cell_type": "code",
   "execution_count": null,
   "metadata": {},
   "outputs": [],
   "source": [
    "def realtime_learning_curves(runs):\n",
    "    sr = sorted(runs,key=lambda r: r.budget)\n",
    "    lc = list(filter(lambda t: not t[1] is None, [(r.time_stamps['finished'], r.info) for r in sr]))\n",
    "    \n",
    "    return ([lc,])   \n",
    "    \n",
    "    "
   ]
  },
  {
   "cell_type": "code",
   "execution_count": null,
   "metadata": {},
   "outputs": [],
   "source": [
    "\n",
    "lcs = result.get_learning_curves(lc_extractor=realtime_learning_curves)\n",
    "\n"
   ]
  },
  {
   "cell_type": "code",
   "execution_count": null,
   "metadata": {},
   "outputs": [],
   "source": [
    "config_ids = [] \n",
    "times = []\n",
    "\n",
    "for k in lcs.keys():\n",
    "    config_ids.append(k)\n",
    "    \n",
    "for k,v in lcs.items():\n",
    "    for l in v:\n",
    "        if len(l) == 0: continue\n",
    "        tmp = list(zip(*l))\n",
    "        times.append(tmp[0])\n"
   ]
  },
  {
   "cell_type": "code",
   "execution_count": null,
   "metadata": {},
   "outputs": [],
   "source": [
    "\n",
    "HB_iterations = [id[0] for id in config_ids]\n",
    "num_iterations = len(set(HB_iterations))\n",
    "\n",
    "HB_iterations"
   ]
  },
  {
   "cell_type": "code",
   "execution_count": null,
   "metadata": {},
   "outputs": [],
   "source": [
    "num_iterations"
   ]
  }
 ],
 "metadata": {
  "kernelspec": {
   "display_name": "Python 3",
   "language": "python",
   "name": "python3"
  },
  "language_info": {
   "codemirror_mode": {
    "name": "ipython",
    "version": 3
   },
   "file_extension": ".py",
   "mimetype": "text/x-python",
   "name": "python",
   "nbconvert_exporter": "python",
   "pygments_lexer": "ipython3",
   "version": "3.7.6"
  }
 },
 "nbformat": 4,
 "nbformat_minor": 2
}
