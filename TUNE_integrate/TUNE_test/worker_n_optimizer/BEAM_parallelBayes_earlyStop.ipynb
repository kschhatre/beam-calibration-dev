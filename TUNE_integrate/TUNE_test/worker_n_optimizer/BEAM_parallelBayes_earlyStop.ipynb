{
 "cells": [
  {
   "cell_type": "code",
   "execution_count": 1,
   "metadata": {},
   "outputs": [],
   "source": [
    "%matplotlib inline\n",
    "\n",
    "import shutil, os, glob, sys\n",
    "sys.path.insert(1, '/home/berkeleylab/Misc_code/HpBandSter/hpbandster')\n",
    "import core.nameserver as hpns\n",
    "import core.result as hpres\n",
    "from optimizers import BOHB as BOHB\n",
    "from BeamWorker import BeamWorker\n",
    "import visualization as hpvis\n",
    "import matplotlib.pyplot as plt\n"
   ]
  },
  {
   "cell_type": "code",
   "execution_count": 2,
   "metadata": {},
   "outputs": [
    {
     "data": {
      "text/plain": [
       "('127.0.0.1', 9090)"
      ]
     },
     "execution_count": 2,
     "metadata": {},
     "output_type": "execute_result"
    }
   ],
   "source": [
    "\n",
    "NS = hpns.NameServer(run_id='BEAM', host='127.0.0.1', port=None)\n",
    "NS.start()\n"
   ]
  },
  {
   "cell_type": "code",
   "execution_count": 3,
   "metadata": {},
   "outputs": [],
   "source": [
    "\n",
    "# User defined variables\n",
    "Repo='/home/berkeleylab/Repository/beam/test/input/'\n",
    "no_of_workers = 4\n",
    "selection = 'beamville' \n",
    "#selection is 'beamville' or 'urbansim-1k' or 'urbansim-10k' -> to be update in configselector.py too\n"
   ]
  },
  {
   "cell_type": "code",
   "execution_count": 4,
   "metadata": {},
   "outputs": [
    {
     "name": "stderr",
     "output_type": "stream",
     "text": [
      "19:22:55 WORKER: Connected to nameserver <Pyro4.core.Proxy at 0x7f58901b9e10; connected IPv4; for PYRO:Pyro.NameServer@127.0.0.1:9090>\n",
      "19:22:55 WORKER: Connected to nameserver <Pyro4.core.Proxy at 0x7f58901b9a50; connected IPv4; for PYRO:Pyro.NameServer@127.0.0.1:9090>\n",
      "19:22:55 WORKER: Connected to nameserver <Pyro4.core.Proxy at 0x7f58c4645150; connected IPv4; for PYRO:Pyro.NameServer@127.0.0.1:9090>\n",
      "19:22:55 WORKER: Connected to nameserver <Pyro4.core.Proxy at 0x7f58901bc350; connected IPv4; for PYRO:Pyro.NameServer@127.0.0.1:9090>\n",
      "19:22:55 WORKER: No dispatcher found. Waiting for one to initiate contact.\n",
      "19:22:55 WORKER: No dispatcher found. Waiting for one to initiate contact.\n",
      "19:22:55 WORKER: No dispatcher found. Waiting for one to initiate contact.\n",
      "19:22:55 WORKER: No dispatcher found. Waiting for one to initiate contact.\n",
      "19:22:55 WORKER: start listening for jobs\n",
      "19:22:55 WORKER: start listening for jobs\n",
      "19:22:55 WORKER: start listening for jobs\n",
      "19:22:55 WORKER: start listening for jobs\n"
     ]
    }
   ],
   "source": [
    "\n",
    "if selection == 'beamville':\n",
    "    Repo = Repo+'beamville/'\n",
    "    conf = 'beam'\n",
    "else:\n",
    "    Repo = Repo+'sf-light/'\n",
    "    conf = selection\n",
    "    \n",
    "def create_conf_copies(no_of_workers):\n",
    "    for num in range(no_of_workers):\n",
    "        shutil.copy(Repo+conf+'.conf',Repo+conf+'_'+str(num+1)+'.conf')\n",
    "        \n",
    "create_conf_copies(no_of_workers)\n",
    "\n",
    "workers=[]\n",
    "for i in range(no_of_workers):   \n",
    "    w = BeamWorker(nameserver='127.0.0.1', run_id='BEAM', id=i)\n",
    "    w.run(background=True)\n",
    "    workers.append(w)\n",
    "    "
   ]
  },
  {
   "cell_type": "code",
   "execution_count": 5,
   "metadata": {
    "scrolled": false
   },
   "outputs": [
    {
     "name": "stderr",
     "output_type": "stream",
     "text": [
      "19:23:22 wait_for_workers trying to get the condition\n",
      "19:23:22 DISPATCHER: started the 'discover_worker' thread\n",
      "19:23:22 DISPATCHER: started the 'job_runner' thread\n",
      "19:23:22 DISPATCHER: Pyro daemon running on localhost:51487\n",
      "19:23:22 DISPATCHER: Starting worker discovery\n",
      "19:23:22 DISPATCHER: Found 4 potential workers, 0 currently in the pool.\n",
      "19:23:22 DISPATCHER: discovered new worker, hpbandster.run_BEAM.worker.KiranCHHATRE.2540.0140019336152896\n",
      "19:23:22 DISPATCHER: discovered new worker, hpbandster.run_BEAM.worker.KiranCHHATRE.2540.1140019336152896\n",
      "19:23:22 DISPATCHER: discovered new worker, hpbandster.run_BEAM.worker.KiranCHHATRE.2540.2140019336152896\n",
      "19:23:22 DISPATCHER: discovered new worker, hpbandster.run_BEAM.worker.KiranCHHATRE.2540.3140019336152896\n",
      "19:23:22 HBMASTER: number of workers changed to 4\n",
      "19:23:22 Enough workers to start this run!\n",
      "19:23:22 adjust_queue_size: lock accquired\n",
      "19:23:22 DISPATCHER: jobs to submit = 0, number of idle workers = 4 -> waiting!\n",
      "19:23:22 HBMASTER: starting run at 1580441002.9771857\n",
      "19:23:22 HBMASTER: adjusted queue size to (3, 4)\n",
      "19:23:22 DISPATCHER: Finished worker discovery\n",
      "19:23:22 start sampling a new configuration.\n",
      "19:23:22 DISPATCHER: Trying to submit another job.\n",
      "19:23:22 done sampling a new configuration.\n",
      "19:23:22 DISPATCHER: jobs to submit = 0, number of idle workers = 4 -> waiting!\n",
      "19:23:22 HBMASTER: schedule new run for iteration 0\n",
      "19:23:22 HBMASTER: trying submitting job (0, 0, 0) to dispatcher\n",
      "19:23:22 HBMASTER: submitting job (0, 0, 0) to dispatcher\n",
      "19:23:22 DISPATCHER: trying to submit job (0, 0, 0)\n",
      "19:23:22 DISPATCHER: trying to notify the job_runner thread.\n",
      "19:23:22 HBMASTER: job (0, 0, 0) submitted to dispatcher\n",
      "19:23:22 DISPATCHER: Trying to submit another job.\n",
      "19:23:22 start sampling a new configuration.\n",
      "19:23:22 DISPATCHER: starting job (0, 0, 0) on hpbandster.run_BEAM.worker.KiranCHHATRE.2540.3140019336152896\n",
      "19:23:22 done sampling a new configuration.\n",
      "19:23:22 DISPATCHER: job (0, 0, 0) dispatched on hpbandster.run_BEAM.worker.KiranCHHATRE.2540.3140019336152896\n",
      "19:23:22 WORKER: start processing job (0, 0, 0)\n",
      "19:23:22 HBMASTER: schedule new run for iteration 0\n",
      "19:23:22 DISPATCHER: jobs to submit = 0, number of idle workers = 3 -> waiting!\n",
      "19:23:23 WORKER: args: ()\n",
      "19:23:23 HBMASTER: trying submitting job (0, 0, 1) to dispatcher\n",
      "19:23:23 WORKER: kwargs: {'config': {'bike_intercept': -3.1035883716489376, 'car_intercept': 5.617376828788537, 'drive_transit_intercept': -2.3377054130894632, 'ride_hail_intercept': 2.308308958118432, 'ride_hail_pooled_intercept': -0.09657720837503092, 'ride_hail_transit_intercept': -0.03793112057073866, 'walk_intercept': 3.652331787559511, 'walk_transit_intercept': -4.21352625356128}, 'budget': 1.6666666666666665, 'working_directory': '.'}\n",
      "19:23:23 HBMASTER: submitting job (0, 0, 1) to dispatcher\n",
      "19:23:23 DISPATCHER: trying to submit job (0, 0, 1)\n",
      "19:23:23 DISPATCHER: trying to notify the job_runner thread.\n",
      "19:23:23 HBMASTER: job (0, 0, 1) submitted to dispatcher\n",
      "19:23:23 DISPATCHER: Trying to submit another job.\n",
      "19:23:23 start sampling a new configuration.\n",
      "19:23:23 DISPATCHER: starting job (0, 0, 1) on hpbandster.run_BEAM.worker.KiranCHHATRE.2540.1140019336152896\n",
      "19:23:23 done sampling a new configuration.\n",
      "19:23:23 DISPATCHER: job (0, 0, 1) dispatched on hpbandster.run_BEAM.worker.KiranCHHATRE.2540.1140019336152896\n",
      "19:23:23 WORKER: start processing job (0, 0, 1)\n",
      "19:23:23 DISPATCHER: jobs to submit = 0, number of idle workers = 2 -> waiting!\n",
      "19:23:23 HBMASTER: schedule new run for iteration 0\n",
      "19:23:23 WORKER: args: ()\n",
      "19:23:23 HBMASTER: trying submitting job (0, 0, 2) to dispatcher\n",
      "19:23:23 WORKER: kwargs: {'config': {'bike_intercept': 6.024314846228304, 'car_intercept': 2.768228123783217, 'drive_transit_intercept': 9.932369008476023, 'ride_hail_intercept': 0.24171070199194666, 'ride_hail_pooled_intercept': -1.33425474077937, 'ride_hail_transit_intercept': -1.5395208603796702, 'walk_intercept': 1.665600832683145, 'walk_transit_intercept': -1.5987453903075455}, 'budget': 1.6666666666666665, 'working_directory': '.'}\n",
      "19:23:23 HBMASTER: submitting job (0, 0, 2) to dispatcher\n",
      "19:23:23 DISPATCHER: trying to submit job (0, 0, 2)\n",
      "19:23:23 DISPATCHER: trying to notify the job_runner thread.\n",
      "19:23:23 HBMASTER: job (0, 0, 2) submitted to dispatcher\n",
      "19:23:23 DISPATCHER: Trying to submit another job.\n",
      "19:23:23 start sampling a new configuration.\n",
      "19:23:23 DISPATCHER: starting job (0, 0, 2) on hpbandster.run_BEAM.worker.KiranCHHATRE.2540.0140019336152896\n",
      "19:23:23 done sampling a new configuration.\n",
      "19:23:23 DISPATCHER: job (0, 0, 2) dispatched on hpbandster.run_BEAM.worker.KiranCHHATRE.2540.0140019336152896\n",
      "19:23:23 WORKER: start processing job (0, 0, 2)\n",
      "19:23:23 HBMASTER: schedule new run for iteration 1\n",
      "19:23:23 DISPATCHER: jobs to submit = 0, number of idle workers = 1 -> waiting!\n",
      "19:23:23 WORKER: args: ()\n",
      "19:23:23 WORKER: kwargs: {'config': {'bike_intercept': -3.786889229694083, 'car_intercept': 4.085849399070911, 'drive_transit_intercept': -3.8757216651701434, 'ride_hail_intercept': 5.331580581626104, 'ride_hail_pooled_intercept': 3.378245711831733, 'ride_hail_transit_intercept': 5.408784410247165, 'walk_intercept': 7.336470348292329, 'walk_transit_intercept': 5.535673112766018}, 'budget': 1.6666666666666665, 'working_directory': '.'}\n",
      "19:23:23 HBMASTER: trying submitting job (1, 0, 0) to dispatcher\n",
      "19:23:23 HBMASTER: submitting job (1, 0, 0) to dispatcher\n",
      "19:23:23 DISPATCHER: trying to submit job (1, 0, 0)\n",
      "19:23:23 DISPATCHER: trying to notify the job_runner thread.\n",
      "19:23:23 HBMASTER: job (1, 0, 0) submitted to dispatcher\n",
      "19:23:23 DISPATCHER: Trying to submit another job.\n",
      "19:23:23 HBMASTER: running jobs: 4, queue sizes: (3, 4) -> wait\n",
      "19:23:23 DISPATCHER: starting job (1, 0, 0) on hpbandster.run_BEAM.worker.KiranCHHATRE.2540.2140019336152896\n",
      "19:23:23 DISPATCHER: job (1, 0, 0) dispatched on hpbandster.run_BEAM.worker.KiranCHHATRE.2540.2140019336152896\n",
      "19:23:23 DISPATCHER: jobs to submit = 0, number of idle workers = 0 -> waiting!\n",
      "19:23:23 WORKER: start processing job (1, 0, 0)\n",
      "19:23:23 WORKER: args: ()\n",
      "19:23:23 WORKER: kwargs: {'config': {'bike_intercept': -1.4714298637420726, 'car_intercept': -2.478606024258319, 'drive_transit_intercept': 7.502516914367828, 'ride_hail_intercept': -1.7960980203744188, 'ride_hail_pooled_intercept': 6.244964060772373, 'ride_hail_transit_intercept': 6.613730209302899, 'walk_intercept': 8.252329049415406, 'walk_transit_intercept': -2.077743147975248}, 'budget': 5.0, 'working_directory': '.'}\n"
     ]
    },
    {
     "name": "stdout",
     "output_type": "stream",
     "text": [
      "{'self': <BeamWorker.BeamWorker object at 0x7f58901bc510>, 'callback': <Pyro4.core.Proxy at 0x7f588c0a0850; not connected; for PYRO:hpbandster.run_BEAM.dispatcher@localhost:51487>, 'id': (0, 0, 0), 'args': (), 'kwargs': {'config': {'bike_intercept': -3.1035883716489376, 'car_intercept': 5.617376828788537, 'drive_transit_intercept': -2.3377054130894632, 'ride_hail_intercept': 2.308308958118432, 'ride_hail_pooled_intercept': -0.09657720837503092, 'ride_hail_transit_intercept': -0.03793112057073866, 'walk_intercept': 3.652331787559511, 'walk_transit_intercept': -4.21352625356128}, 'budget': 1.6666666666666665, 'working_directory': '.'}}\n",
      "{'self': <BeamWorker.BeamWorker object at 0x7f58901b9c50>, 'callback': <Pyro4.core.Proxy at 0x7f588c0ad050; not connected; for PYRO:hpbandster.run_BEAM.dispatcher@localhost:51487>, 'id': (0, 0, 1), 'args': (), 'kwargs': {'config': {'bike_intercept': 6.024314846228304, 'car_intercept': 2.768228123783217, 'drive_transit_intercept': 9.932369008476023, 'ride_hail_intercept': 0.24171070199194666, 'ride_hail_pooled_intercept': -1.33425474077937, 'ride_hail_transit_intercept': -1.5395208603796702, 'walk_intercept': 1.665600832683145, 'walk_transit_intercept': -1.5987453903075455}, 'budget': 1.6666666666666665, 'working_directory': '.'}}\n",
      "{'self': <BeamWorker.BeamWorker object at 0x7f58c4645390>, 'callback': <Pyro4.core.Proxy at 0x7f588c0ad110; not connected; for PYRO:hpbandster.run_BEAM.dispatcher@localhost:51487>, 'id': (0, 0, 2), 'args': (), 'kwargs': {'config': {'bike_intercept': -3.786889229694083, 'car_intercept': 4.085849399070911, 'drive_transit_intercept': -3.8757216651701434, 'ride_hail_intercept': 5.331580581626104, 'ride_hail_pooled_intercept': 3.378245711831733, 'ride_hail_transit_intercept': 5.408784410247165, 'walk_intercept': 7.336470348292329, 'walk_transit_intercept': 5.535673112766018}, 'budget': 1.6666666666666665, 'working_directory': '.'}}\n",
      "{'self': <BeamWorker.BeamWorker object at 0x7f5893916590>, 'callback': <Pyro4.core.Proxy at 0x7f588c0addd0; not connected; for PYRO:hpbandster.run_BEAM.dispatcher@localhost:51487>, 'id': (1, 0, 0), 'args': (), 'kwargs': {'config': {'bike_intercept': -1.4714298637420726, 'car_intercept': -2.478606024258319, 'drive_transit_intercept': 7.502516914367828, 'ride_hail_intercept': -1.7960980203744188, 'ride_hail_pooled_intercept': 6.244964060772373, 'ride_hail_transit_intercept': 6.613730209302899, 'walk_intercept': 8.252329049415406, 'walk_transit_intercept': -2.077743147975248}, 'budget': 5.0, 'working_directory': '.'}}\n"
     ]
    },
    {
     "name": "stderr",
     "output_type": "stream",
     "text": [
      "19:23:57 WORKER: done with job (0, 0, 0), trying to register it.\n",
      "19:23:57 WORKER: registered result for job (0, 0, 0) with dispatcher\n",
      "19:23:57 DISPATCHER: job (0, 0, 0) finished\n",
      "19:23:57 DISPATCHER: register_result: lock acquired\n",
      "19:23:57 DISPATCHER: job (0, 0, 0) on hpbandster.run_BEAM.worker.KiranCHHATRE.2540.3140019336152896 finished\n",
      "19:23:57 job_id: (0, 0, 0)\n",
      "kwargs: {'config': {'bike_intercept': -3.1035883716489376, 'car_intercept': 5.617376828788537, 'drive_transit_intercept': -2.3377054130894632, 'ride_hail_intercept': 2.308308958118432, 'ride_hail_pooled_intercept': -0.09657720837503092, 'ride_hail_transit_intercept': -0.03793112057073866, 'walk_intercept': 3.652331787559511, 'walk_transit_intercept': -4.21352625356128}, 'budget': 1.6666666666666665, 'working_directory': '.'}\n",
      "result: None\n",
      "exception: Traceback (most recent call last):\n",
      "  File \"/home/berkeleylab/Misc_code/HpBandSter/hpbandster/core/worker.py\", line 213, in start_computation\n",
      "    result = {'result': self.compute(*args, config_id=id, **kwargs),\n",
      "  File \"/home/berkeleylab/Calib_documentation/TUNE_integrate/TUNE_test/worker_n_optimizer/BeamWorker.py\", line 125, in compute\n",
      "    df = pd.read_csv(latest_subdir+\"/referenceRealizedModeChoice.csv\").iloc[[0, -1]].drop(['iterations'], axis=1)\n",
      "  File \"/home/berkeleylab/anaconda3/envs/tune/lib/python3.7/site-packages/pandas/io/parsers.py\", line 685, in parser_f\n",
      "    return _read(filepath_or_buffer, kwds)\n",
      "  File \"/home/berkeleylab/anaconda3/envs/tune/lib/python3.7/site-packages/pandas/io/parsers.py\", line 457, in _read\n",
      "    parser = TextFileReader(fp_or_buf, **kwds)\n",
      "  File \"/home/berkeleylab/anaconda3/envs/tune/lib/python3.7/site-packages/pandas/io/parsers.py\", line 895, in __init__\n",
      "    self._make_engine(self.engine)\n",
      "  File \"/home/berkeleylab/anaconda3/envs/tune/lib/python3.7/site-packages/pandas/io/parsers.py\", line 1135, in _make_engine\n",
      "    self._engine = CParserWrapper(self.f, **self.options)\n",
      "  File \"/home/berkeleylab/anaconda3/envs/tune/lib/python3.7/site-packages/pandas/io/parsers.py\", line 1917, in __init__\n",
      "    self._reader = parsers.TextReader(src, **kwds)\n",
      "  File \"pandas/_libs/parsers.pyx\", line 382, in pandas._libs.parsers.TextReader.__cinit__\n",
      "  File \"pandas/_libs/parsers.pyx\", line 689, in pandas._libs.parsers.TextReader._setup_parser_source\n",
      "FileNotFoundError: [Errno 2] File b'/home/berkeleylab/Repository/beam/output/beamville/beamville__2020-01-31_03-23-40_xhd/referenceRealizedModeChoice.csv' does not exist: b'/home/berkeleylab/Repository/beam/output/beamville/beamville__2020-01-31_03-23-40_xhd/referenceRealizedModeChoice.csv'\n",
      "\n",
      "\n",
      "19:23:57 job_callback for (0, 0, 0) started\n",
      "19:23:57 job_callback for (0, 0, 0) got condition\n",
      "19:23:57 job (0, 0, 0) failed with exception\n",
      "Traceback (most recent call last):\n",
      "  File \"/home/berkeleylab/Misc_code/HpBandSter/hpbandster/core/worker.py\", line 213, in start_computation\n",
      "    result = {'result': self.compute(*args, config_id=id, **kwargs),\n",
      "  File \"/home/berkeleylab/Calib_documentation/TUNE_integrate/TUNE_test/worker_n_optimizer/BeamWorker.py\", line 125, in compute\n",
      "    df = pd.read_csv(latest_subdir+\"/referenceRealizedModeChoice.csv\").iloc[[0, -1]].drop(['iterations'], axis=1)\n",
      "  File \"/home/berkeleylab/anaconda3/envs/tune/lib/python3.7/site-packages/pandas/io/parsers.py\", line 685, in parser_f\n",
      "    return _read(filepath_or_buffer, kwds)\n",
      "  File \"/home/berkeleylab/anaconda3/envs/tune/lib/python3.7/site-packages/pandas/io/parsers.py\", line 457, in _read\n",
      "    parser = TextFileReader(fp_or_buf, **kwds)\n",
      "  File \"/home/berkeleylab/anaconda3/envs/tune/lib/python3.7/site-packages/pandas/io/parsers.py\", line 895, in __init__\n",
      "    self._make_engine(self.engine)\n",
      "  File \"/home/berkeleylab/anaconda3/envs/tune/lib/python3.7/site-packages/pandas/io/parsers.py\", line 1135, in _make_engine\n",
      "    self._engine = CParserWrapper(self.f, **self.options)\n",
      "  File \"/home/berkeleylab/anaconda3/envs/tune/lib/python3.7/site-packages/pandas/io/parsers.py\", line 1917, in __init__\n",
      "    self._reader = parsers.TextReader(src, **kwds)\n",
      "  File \"pandas/_libs/parsers.pyx\", line 382, in pandas._libs.parsers.TextReader.__cinit__\n",
      "  File \"pandas/_libs/parsers.pyx\", line 689, in pandas._libs.parsers.TextReader._setup_parser_source\n",
      "FileNotFoundError: [Errno 2] File b'/home/berkeleylab/Repository/beam/output/beamville/beamville__2020-01-31_03-23-40_xhd/referenceRealizedModeChoice.csv' does not exist: b'/home/berkeleylab/Repository/beam/output/beamville/beamville__2020-01-31_03-23-40_xhd/referenceRealizedModeChoice.csv'\n",
      "\n",
      "19:23:57 DISPATCHER: Trying to submit another job.\n",
      "19:23:57 DISPATCHER: jobs to submit = 0, number of idle workers = 1 -> waiting!\n",
      "19:23:57 Only 1 run(s) for budget 1.666667 available, need more than 10 -> can't build model!\n",
      "19:23:57 HBMASTER: Trying to run another job!\n",
      "19:23:57 job_callback for (0, 0, 0) finished\n",
      "19:23:57 start sampling a new configuration.\n",
      "19:23:57 done sampling a new configuration.\n",
      "19:23:57 HBMASTER: schedule new run for iteration 1\n",
      "19:23:57 HBMASTER: trying submitting job (1, 0, 1) to dispatcher\n",
      "19:23:57 HBMASTER: submitting job (1, 0, 1) to dispatcher\n",
      "19:23:57 DISPATCHER: trying to submit job (1, 0, 1)\n",
      "19:23:57 DISPATCHER: trying to notify the job_runner thread.\n",
      "19:23:57 HBMASTER: job (1, 0, 1) submitted to dispatcher\n",
      "19:23:57 HBMASTER: running jobs: 4, queue sizes: (3, 4) -> wait\n",
      "19:23:57 DISPATCHER: Trying to submit another job.\n",
      "19:23:57 DISPATCHER: starting job (1, 0, 1) on hpbandster.run_BEAM.worker.KiranCHHATRE.2540.3140019336152896\n",
      "19:23:57 DISPATCHER: job (1, 0, 1) dispatched on hpbandster.run_BEAM.worker.KiranCHHATRE.2540.3140019336152896\n",
      "19:23:57 DISPATCHER: jobs to submit = 0, number of idle workers = 0 -> waiting!\n",
      "19:23:57 WORKER: start processing job (1, 0, 1)\n",
      "19:23:57 WORKER: args: ()\n",
      "19:23:57 WORKER: kwargs: {'config': {'bike_intercept': 7.25378515947121, 'car_intercept': -2.907162435258841, 'drive_transit_intercept': 5.833771669220235, 'ride_hail_intercept': 0.7358708892196155, 'ride_hail_pooled_intercept': 4.212464585900131, 'ride_hail_transit_intercept': 4.742283478538848, 'walk_intercept': 9.745519614899987, 'walk_transit_intercept': 3.1645967842021943}, 'budget': 5.0, 'working_directory': '.'}\n"
     ]
    },
    {
     "name": "stdout",
     "output_type": "stream",
     "text": [
      "{'self': <BeamWorker.BeamWorker object at 0x7f58901bc510>, 'callback': <Pyro4.core.Proxy at 0x7f588c0a0550; not connected; for PYRO:hpbandster.run_BEAM.dispatcher@localhost:51487>, 'id': (1, 0, 1), 'args': (), 'kwargs': {'config': {'bike_intercept': 7.25378515947121, 'car_intercept': -2.907162435258841, 'drive_transit_intercept': 5.833771669220235, 'ride_hail_intercept': 0.7358708892196155, 'ride_hail_pooled_intercept': 4.212464585900131, 'ride_hail_transit_intercept': 4.742283478538848, 'walk_intercept': 9.745519614899987, 'walk_transit_intercept': 3.1645967842021943}, 'budget': 5.0, 'working_directory': '.'}}\n"
     ]
    },
    {
     "name": "stderr",
     "output_type": "stream",
     "text": [
      "19:24:22 DISPATCHER: Starting worker discovery\n",
      "19:24:22 DISPATCHER: Found 4 potential workers, 4 currently in the pool.\n",
      "19:24:23 DISPATCHER: Finished worker discovery\n",
      "19:25:23 DISPATCHER: Starting worker discovery\n",
      "19:25:23 DISPATCHER: Found 4 potential workers, 4 currently in the pool.\n",
      "19:25:23 DISPATCHER: Finished worker discovery\n",
      "19:26:23 DISPATCHER: Starting worker discovery\n",
      "19:26:23 DISPATCHER: Found 4 potential workers, 4 currently in the pool.\n",
      "19:26:23 DISPATCHER: Finished worker discovery\n",
      "19:27:23 DISPATCHER: Starting worker discovery\n",
      "19:27:23 DISPATCHER: Found 4 potential workers, 4 currently in the pool.\n",
      "19:27:23 DISPATCHER: Finished worker discovery\n",
      "19:28:23 DISPATCHER: Starting worker discovery\n",
      "19:28:23 DISPATCHER: Found 4 potential workers, 4 currently in the pool.\n",
      "19:28:23 DISPATCHER: Finished worker discovery\n",
      "19:29:23 DISPATCHER: Starting worker discovery\n",
      "19:29:23 DISPATCHER: Found 4 potential workers, 4 currently in the pool.\n",
      "19:29:23 DISPATCHER: Finished worker discovery\n",
      "19:30:17 WORKER: done with job (0, 0, 1), trying to register it.\n",
      "19:30:17 WORKER: registered result for job (0, 0, 1) with dispatcher\n",
      "19:30:17 DISPATCHER: job (0, 0, 1) finished\n",
      "19:30:17 DISPATCHER: register_result: lock acquired\n",
      "19:30:17 DISPATCHER: job (0, 0, 1) on hpbandster.run_BEAM.worker.KiranCHHATRE.2540.1140019336152896 finished\n",
      "19:30:17 job_id: (0, 0, 1)\n",
      "kwargs: {'config': {'bike_intercept': 6.024314846228304, 'car_intercept': 2.768228123783217, 'drive_transit_intercept': 9.932369008476023, 'ride_hail_intercept': 0.24171070199194666, 'ride_hail_pooled_intercept': -1.33425474077937, 'ride_hail_transit_intercept': -1.5395208603796702, 'walk_intercept': 1.665600832683145, 'walk_transit_intercept': -1.5987453903075455}, 'budget': 1.6666666666666665, 'working_directory': '.'}\n",
      "result: {'loss': 172.02980026509434, 'info': 172.02980026509434}\n",
      "exception: None\n",
      "\n",
      "19:30:17 job_callback for (0, 0, 1) started\n",
      "19:30:17 job_callback for (0, 0, 1) got condition\n",
      "19:30:17 Only 2 run(s) for budget 1.666667 available, need more than 10 -> can't build model!\n",
      "19:30:17 HBMASTER: Trying to run another job!\n",
      "19:30:17 job_callback for (0, 0, 1) finished\n",
      "19:30:17 DISPATCHER: Trying to submit another job.\n",
      "19:30:17 DISPATCHER: jobs to submit = 0, number of idle workers = 1 -> waiting!\n",
      "19:30:17 start sampling a new configuration.\n",
      "19:30:17 done sampling a new configuration.\n",
      "19:30:17 HBMASTER: schedule new run for iteration 2\n",
      "19:30:17 HBMASTER: trying submitting job (2, 0, 0) to dispatcher\n",
      "19:30:17 HBMASTER: submitting job (2, 0, 0) to dispatcher\n",
      "19:30:17 DISPATCHER: trying to submit job (2, 0, 0)\n",
      "19:30:17 DISPATCHER: trying to notify the job_runner thread.\n",
      "19:30:17 HBMASTER: job (2, 0, 0) submitted to dispatcher\n",
      "19:30:17 HBMASTER: running jobs: 4, queue sizes: (3, 4) -> wait\n",
      "19:30:17 DISPATCHER: Trying to submit another job.\n",
      "19:30:17 DISPATCHER: starting job (2, 0, 0) on hpbandster.run_BEAM.worker.KiranCHHATRE.2540.1140019336152896\n",
      "19:30:17 WORKER: start processing job (2, 0, 0)\n",
      "19:30:17 WORKER: args: ()\n",
      "19:30:17 WORKER: kwargs: {'config': {'bike_intercept': -2.1432804837616914, 'car_intercept': -1.867859928011692, 'drive_transit_intercept': 4.988008045524666, 'ride_hail_intercept': -1.668349604965338, 'ride_hail_pooled_intercept': 9.89430672101892, 'ride_hail_transit_intercept': 0.19981166519183002, 'walk_intercept': 4.152081957125819, 'walk_transit_intercept': -3.6526991010555876}, 'budget': 1.6666666666666665, 'working_directory': '.'}\n",
      "19:30:17 DISPATCHER: job (2, 0, 0) dispatched on hpbandster.run_BEAM.worker.KiranCHHATRE.2540.1140019336152896\n"
     ]
    },
    {
     "name": "stdout",
     "output_type": "stream",
     "text": [
      "Error is above threshold ( 115 ) and difference is  183.02980026509437  for jobid  (0, 0, 0)\n",
      "{'self': <BeamWorker.BeamWorker object at 0x7f58901b9c50>, 'callback': <Pyro4.core.Proxy at 0x7f588c023b10; not connected; for PYRO:hpbandster.run_BEAM.dispatcher@localhost:51487>, 'id': (2, 0, 0), 'args': (), 'kwargs': {'config': {'bike_intercept': -2.1432804837616914, 'car_intercept': -1.867859928011692, 'drive_transit_intercept': 4.988008045524666, 'ride_hail_intercept': -1.668349604965338, 'ride_hail_pooled_intercept': 9.89430672101892, 'ride_hail_transit_intercept': 0.19981166519183002, 'walk_intercept': 4.152081957125819, 'walk_transit_intercept': -3.6526991010555876}, 'budget': 1.6666666666666665, 'working_directory': '.'}}\n"
     ]
    },
    {
     "name": "stderr",
     "output_type": "stream",
     "text": [
      "19:30:17 DISPATCHER: jobs to submit = 0, number of idle workers = 0 -> waiting!\n",
      "19:30:23 DISPATCHER: Starting worker discovery\n",
      "19:30:23 DISPATCHER: Found 4 potential workers, 4 currently in the pool.\n",
      "19:30:23 DISPATCHER: Finished worker discovery\n",
      "19:30:33 WORKER: done with job (1, 0, 0), trying to register it.\n",
      "19:30:33 WORKER: registered result for job (1, 0, 0) with dispatcher\n",
      "19:30:33 DISPATCHER: job (1, 0, 0) finished\n",
      "19:30:33 DISPATCHER: register_result: lock acquired\n",
      "19:30:33 DISPATCHER: job (1, 0, 0) on hpbandster.run_BEAM.worker.KiranCHHATRE.2540.2140019336152896 finished\n",
      "19:30:33 job_id: (1, 0, 0)\n",
      "kwargs: {'config': {'bike_intercept': -1.4714298637420726, 'car_intercept': -2.478606024258319, 'drive_transit_intercept': 7.502516914367828, 'ride_hail_intercept': -1.7960980203744188, 'ride_hail_pooled_intercept': 6.244964060772373, 'ride_hail_transit_intercept': 6.613730209302899, 'walk_intercept': 8.252329049415406, 'walk_transit_intercept': -2.077743147975248}, 'budget': 5.0, 'working_directory': '.'}\n",
      "result: {'loss': 172.02980026509437, 'info': 172.02980026509437}\n",
      "exception: None\n",
      "\n",
      "19:30:33 job_callback for (1, 0, 0) started\n"
     ]
    },
    {
     "name": "stdout",
     "output_type": "stream",
     "text": [
      "Error is above threshold ( 115 ) and difference is  183.02980026509437  for jobid  (0, 0, 1)\n"
     ]
    },
    {
     "name": "stderr",
     "output_type": "stream",
     "text": [
      "19:30:33 job_callback for (1, 0, 0) got condition\n",
      "19:30:33 DISPATCHER: Trying to submit another job.\n",
      "19:30:33 DISPATCHER: jobs to submit = 0, number of idle workers = 1 -> waiting!\n",
      "19:30:33 Only 1 run(s) for budget 5.000000 available, need more than 10 -> can't build model!\n",
      "19:30:33 HBMASTER: Trying to run another job!\n",
      "19:30:33 job_callback for (1, 0, 0) finished\n",
      "19:30:33 start sampling a new configuration.\n",
      "19:30:33 done sampling a new configuration.\n",
      "19:30:33 HBMASTER: schedule new run for iteration 2\n",
      "19:30:33 HBMASTER: trying submitting job (2, 0, 1) to dispatcher\n",
      "19:30:33 HBMASTER: submitting job (2, 0, 1) to dispatcher\n",
      "19:30:33 DISPATCHER: trying to submit job (2, 0, 1)\n",
      "19:30:34 DISPATCHER: trying to notify the job_runner thread.\n",
      "19:30:34 HBMASTER: job (2, 0, 1) submitted to dispatcher\n",
      "19:30:34 DISPATCHER: Trying to submit another job.\n",
      "19:30:34 DISPATCHER: starting job (2, 0, 1) on hpbandster.run_BEAM.worker.KiranCHHATRE.2540.2140019336152896\n",
      "19:30:34 HBMASTER: running jobs: 4, queue sizes: (3, 4) -> wait\n",
      "19:30:34 DISPATCHER: job (2, 0, 1) dispatched on hpbandster.run_BEAM.worker.KiranCHHATRE.2540.2140019336152896\n",
      "19:30:34 DISPATCHER: jobs to submit = 0, number of idle workers = 0 -> waiting!\n",
      "19:30:34 WORKER: start processing job (2, 0, 1)\n",
      "19:30:34 WORKER: args: ()\n",
      "19:30:34 WORKER: kwargs: {'config': {'bike_intercept': 7.038917659521028, 'car_intercept': 7.8275915043949915, 'drive_transit_intercept': -0.7969309685354284, 'ride_hail_intercept': 1.5879524670800356, 'ride_hail_pooled_intercept': 7.799364996796953, 'ride_hail_transit_intercept': 3.1395841205111363, 'walk_intercept': -2.5688899835587526, 'walk_transit_intercept': -1.7592195457933757}, 'budget': 1.6666666666666665, 'working_directory': '.'}\n"
     ]
    },
    {
     "name": "stdout",
     "output_type": "stream",
     "text": [
      "{'self': <BeamWorker.BeamWorker object at 0x7f5893916590>, 'callback': <Pyro4.core.Proxy at 0x7f58901f9e90; not connected; for PYRO:hpbandster.run_BEAM.dispatcher@localhost:51487>, 'id': (2, 0, 1), 'args': (), 'kwargs': {'config': {'bike_intercept': 7.038917659521028, 'car_intercept': 7.8275915043949915, 'drive_transit_intercept': -0.7969309685354284, 'ride_hail_intercept': 1.5879524670800356, 'ride_hail_pooled_intercept': 7.799364996796953, 'ride_hail_transit_intercept': 3.1395841205111363, 'walk_intercept': -2.5688899835587526, 'walk_transit_intercept': -1.7592195457933757}, 'budget': 1.6666666666666665, 'working_directory': '.'}}\n"
     ]
    },
    {
     "name": "stderr",
     "output_type": "stream",
     "text": [
      "19:31:00 WORKER: done with job (0, 0, 2), trying to register it.\n",
      "19:31:00 WORKER: registered result for job (0, 0, 2) with dispatcher\n",
      "19:31:01 DISPATCHER: job (0, 0, 2) finished\n",
      "19:31:01 DISPATCHER: register_result: lock acquired\n",
      "19:31:01 DISPATCHER: job (0, 0, 2) on hpbandster.run_BEAM.worker.KiranCHHATRE.2540.0140019336152896 finished\n",
      "19:31:01 job_id: (0, 0, 2)\n",
      "kwargs: {'config': {'bike_intercept': -3.786889229694083, 'car_intercept': 4.085849399070911, 'drive_transit_intercept': -3.8757216651701434, 'ride_hail_intercept': 5.331580581626104, 'ride_hail_pooled_intercept': 3.378245711831733, 'ride_hail_transit_intercept': 5.408784410247165, 'walk_intercept': 7.336470348292329, 'walk_transit_intercept': 5.535673112766018}, 'budget': 1.6666666666666665, 'working_directory': '.'}\n",
      "result: {'loss': 172.02980026509437, 'info': 172.02980026509437}\n",
      "exception: None\n",
      "\n",
      "19:31:01 job_callback for (0, 0, 2) started\n",
      "19:31:01 job_callback for (0, 0, 2) got condition\n",
      "19:31:01 DISPATCHER: Trying to submit another job.\n",
      "19:31:01 DISPATCHER: jobs to submit = 0, number of idle workers = 1 -> waiting!\n",
      "19:31:01 Only 3 run(s) for budget 1.666667 available, need more than 10 -> can't build model!\n",
      "19:31:01 HBMASTER: Trying to run another job!\n"
     ]
    },
    {
     "name": "stdout",
     "output_type": "stream",
     "text": [
      "Error is above threshold ( 115 ) and difference is  183.02980026509437  for jobid  (1, 0, 0)\n"
     ]
    },
    {
     "name": "stderr",
     "output_type": "stream",
     "text": [
      "19:31:01 job_callback for (0, 0, 2) finished\n",
      "19:31:01 ITERATION: Advancing config (0, 0, 1) to next budget 5.000000\n",
      "19:31:01 HBMASTER: schedule new run for iteration 0\n",
      "19:31:01 HBMASTER: trying submitting job (0, 0, 1) to dispatcher\n",
      "19:31:01 HBMASTER: submitting job (0, 0, 1) to dispatcher\n",
      "19:31:01 DISPATCHER: trying to submit job (0, 0, 1)\n",
      "19:31:01 DISPATCHER: trying to notify the job_runner thread.\n",
      "19:31:01 HBMASTER: job (0, 0, 1) submitted to dispatcher\n",
      "19:31:01 HBMASTER: running jobs: 4, queue sizes: (3, 4) -> wait\n",
      "19:31:01 DISPATCHER: Trying to submit another job.\n",
      "19:31:01 DISPATCHER: starting job (0, 0, 1) on hpbandster.run_BEAM.worker.KiranCHHATRE.2540.0140019336152896\n",
      "19:31:01 DISPATCHER: job (0, 0, 1) dispatched on hpbandster.run_BEAM.worker.KiranCHHATRE.2540.0140019336152896\n",
      "19:31:01 DISPATCHER: jobs to submit = 0, number of idle workers = 0 -> waiting!\n",
      "19:31:01 WORKER: start processing job (0, 0, 1)\n",
      "19:31:01 WORKER: args: ()\n",
      "19:31:01 WORKER: kwargs: {'config': {'bike_intercept': 6.024314846228304, 'car_intercept': 2.768228123783217, 'drive_transit_intercept': 9.932369008476023, 'ride_hail_intercept': 0.24171070199194666, 'ride_hail_pooled_intercept': -1.33425474077937, 'ride_hail_transit_intercept': -1.5395208603796702, 'walk_intercept': 1.665600832683145, 'walk_transit_intercept': -1.5987453903075455}, 'budget': 5.0, 'working_directory': '.'}\n"
     ]
    },
    {
     "name": "stdout",
     "output_type": "stream",
     "text": [
      "{'self': <BeamWorker.BeamWorker object at 0x7f58c4645390>, 'callback': <Pyro4.core.Proxy at 0x7f588c0ad290; not connected; for PYRO:hpbandster.run_BEAM.dispatcher@localhost:51487>, 'id': (0, 0, 1), 'args': (), 'kwargs': {'config': {'bike_intercept': 6.024314846228304, 'car_intercept': 2.768228123783217, 'drive_transit_intercept': 9.932369008476023, 'ride_hail_intercept': 0.24171070199194666, 'ride_hail_pooled_intercept': -1.33425474077937, 'ride_hail_transit_intercept': -1.5395208603796702, 'walk_intercept': 1.665600832683145, 'walk_transit_intercept': -1.5987453903075455}, 'budget': 5.0, 'working_directory': '.'}}\n"
     ]
    },
    {
     "name": "stderr",
     "output_type": "stream",
     "text": [
      "19:31:21 WORKER: done with job (1, 0, 1), trying to register it.\n",
      "19:31:21 WORKER: registered result for job (1, 0, 1) with dispatcher\n",
      "19:31:21 DISPATCHER: job (1, 0, 1) finished\n",
      "19:31:21 DISPATCHER: register_result: lock acquired\n",
      "19:31:21 DISPATCHER: job (1, 0, 1) on hpbandster.run_BEAM.worker.KiranCHHATRE.2540.3140019336152896 finished\n",
      "19:31:21 job_id: (1, 0, 1)\n",
      "kwargs: {'config': {'bike_intercept': 7.25378515947121, 'car_intercept': -2.907162435258841, 'drive_transit_intercept': 5.833771669220235, 'ride_hail_intercept': 0.7358708892196155, 'ride_hail_pooled_intercept': 4.212464585900131, 'ride_hail_transit_intercept': 4.742283478538848, 'walk_intercept': 9.745519614899987, 'walk_transit_intercept': 3.1645967842021943}, 'budget': 5.0, 'working_directory': '.'}\n",
      "result: None\n",
      "exception: Traceback (most recent call last):\n",
      "  File \"/home/berkeleylab/Misc_code/HpBandSter/hpbandster/core/worker.py\", line 213, in start_computation\n",
      "    result = {'result': self.compute(*args, config_id=id, **kwargs),\n",
      "  File \"/home/berkeleylab/Calib_documentation/TUNE_integrate/TUNE_test/worker_n_optimizer/BeamWorker.py\", line 125, in compute\n",
      "    df = pd.read_csv(latest_subdir+\"/referenceRealizedModeChoice.csv\").iloc[[0, -1]].drop(['iterations'], axis=1)\n",
      "  File \"/home/berkeleylab/anaconda3/envs/tune/lib/python3.7/site-packages/pandas/io/parsers.py\", line 685, in parser_f\n",
      "    return _read(filepath_or_buffer, kwds)\n",
      "  File \"/home/berkeleylab/anaconda3/envs/tune/lib/python3.7/site-packages/pandas/io/parsers.py\", line 457, in _read\n",
      "    parser = TextFileReader(fp_or_buf, **kwds)\n",
      "  File \"/home/berkeleylab/anaconda3/envs/tune/lib/python3.7/site-packages/pandas/io/parsers.py\", line 895, in __init__\n",
      "    self._make_engine(self.engine)\n",
      "  File \"/home/berkeleylab/anaconda3/envs/tune/lib/python3.7/site-packages/pandas/io/parsers.py\", line 1135, in _make_engine\n",
      "    self._engine = CParserWrapper(self.f, **self.options)\n",
      "  File \"/home/berkeleylab/anaconda3/envs/tune/lib/python3.7/site-packages/pandas/io/parsers.py\", line 1917, in __init__\n",
      "    self._reader = parsers.TextReader(src, **kwds)\n",
      "  File \"pandas/_libs/parsers.pyx\", line 382, in pandas._libs.parsers.TextReader.__cinit__\n",
      "  File \"pandas/_libs/parsers.pyx\", line 689, in pandas._libs.parsers.TextReader._setup_parser_source\n",
      "FileNotFoundError: [Errno 2] File b'/home/berkeleylab/Repository/beam/output/beamville/beamville__2020-01-31_03-31-01_vem/referenceRealizedModeChoice.csv' does not exist: b'/home/berkeleylab/Repository/beam/output/beamville/beamville__2020-01-31_03-31-01_vem/referenceRealizedModeChoice.csv'\n",
      "\n",
      "\n",
      "19:31:21 job_callback for (1, 0, 1) started\n",
      "19:31:21 job_callback for (1, 0, 1) got condition\n",
      "19:31:21 DISPATCHER: Trying to submit another job.\n",
      "19:31:21 DISPATCHER: jobs to submit = 0, number of idle workers = 1 -> waiting!\n",
      "19:31:21 job (1, 0, 1) failed with exception\n",
      "Traceback (most recent call last):\n",
      "  File \"/home/berkeleylab/Misc_code/HpBandSter/hpbandster/core/worker.py\", line 213, in start_computation\n",
      "    result = {'result': self.compute(*args, config_id=id, **kwargs),\n",
      "  File \"/home/berkeleylab/Calib_documentation/TUNE_integrate/TUNE_test/worker_n_optimizer/BeamWorker.py\", line 125, in compute\n",
      "    df = pd.read_csv(latest_subdir+\"/referenceRealizedModeChoice.csv\").iloc[[0, -1]].drop(['iterations'], axis=1)\n",
      "  File \"/home/berkeleylab/anaconda3/envs/tune/lib/python3.7/site-packages/pandas/io/parsers.py\", line 685, in parser_f\n",
      "    return _read(filepath_or_buffer, kwds)\n",
      "  File \"/home/berkeleylab/anaconda3/envs/tune/lib/python3.7/site-packages/pandas/io/parsers.py\", line 457, in _read\n",
      "    parser = TextFileReader(fp_or_buf, **kwds)\n",
      "  File \"/home/berkeleylab/anaconda3/envs/tune/lib/python3.7/site-packages/pandas/io/parsers.py\", line 895, in __init__\n",
      "    self._make_engine(self.engine)\n",
      "  File \"/home/berkeleylab/anaconda3/envs/tune/lib/python3.7/site-packages/pandas/io/parsers.py\", line 1135, in _make_engine\n",
      "    self._engine = CParserWrapper(self.f, **self.options)\n",
      "  File \"/home/berkeleylab/anaconda3/envs/tune/lib/python3.7/site-packages/pandas/io/parsers.py\", line 1917, in __init__\n",
      "    self._reader = parsers.TextReader(src, **kwds)\n",
      "  File \"pandas/_libs/parsers.pyx\", line 382, in pandas._libs.parsers.TextReader.__cinit__\n",
      "  File \"pandas/_libs/parsers.pyx\", line 689, in pandas._libs.parsers.TextReader._setup_parser_source\n",
      "FileNotFoundError: [Errno 2] File b'/home/berkeleylab/Repository/beam/output/beamville/beamville__2020-01-31_03-31-01_vem/referenceRealizedModeChoice.csv' does not exist: b'/home/berkeleylab/Repository/beam/output/beamville/beamville__2020-01-31_03-31-01_vem/referenceRealizedModeChoice.csv'\n",
      "\n",
      "19:31:21 Only 2 run(s) for budget 5.000000 available, need more than 10 -> can't build model!\n",
      "19:31:21 HBMASTER: Trying to run another job!\n",
      "19:31:21 job_callback for (1, 0, 1) finished\n",
      "19:31:21 start sampling a new configuration.\n",
      "19:31:21 done sampling a new configuration.\n",
      "19:31:21 HBMASTER: schedule new run for iteration 2\n",
      "19:31:21 HBMASTER: trying submitting job (2, 0, 2) to dispatcher\n",
      "19:31:21 HBMASTER: submitting job (2, 0, 2) to dispatcher\n",
      "19:31:21 DISPATCHER: trying to submit job (2, 0, 2)\n",
      "19:31:21 DISPATCHER: trying to notify the job_runner thread.\n",
      "19:31:21 HBMASTER: job (2, 0, 2) submitted to dispatcher\n",
      "19:31:21 HBMASTER: running jobs: 4, queue sizes: (3, 4) -> wait\n",
      "19:31:21 DISPATCHER: Trying to submit another job.\n",
      "19:31:21 DISPATCHER: starting job (2, 0, 2) on hpbandster.run_BEAM.worker.KiranCHHATRE.2540.3140019336152896\n",
      "19:31:21 DISPATCHER: job (2, 0, 2) dispatched on hpbandster.run_BEAM.worker.KiranCHHATRE.2540.3140019336152896\n",
      "19:31:21 DISPATCHER: jobs to submit = 0, number of idle workers = 0 -> waiting!\n",
      "19:31:21 WORKER: start processing job (2, 0, 2)\n",
      "19:31:21 WORKER: args: ()\n",
      "19:31:21 WORKER: kwargs: {'config': {'bike_intercept': -3.301259429107006, 'car_intercept': 9.960006167098069, 'drive_transit_intercept': -0.3197225490726643, 'ride_hail_intercept': -1.740411807676142, 'ride_hail_pooled_intercept': 7.2621187079954215, 'ride_hail_transit_intercept': 6.723365048412205, 'walk_intercept': -3.4537082765668634, 'walk_transit_intercept': 4.500814354354697}, 'budget': 1.6666666666666665, 'working_directory': '.'}\n"
     ]
    },
    {
     "name": "stdout",
     "output_type": "stream",
     "text": [
      "{'self': <BeamWorker.BeamWorker object at 0x7f58901bc510>, 'callback': <Pyro4.core.Proxy at 0x7f588c0a0510; not connected; for PYRO:hpbandster.run_BEAM.dispatcher@localhost:51487>, 'id': (2, 0, 2), 'args': (), 'kwargs': {'config': {'bike_intercept': -3.301259429107006, 'car_intercept': 9.960006167098069, 'drive_transit_intercept': -0.3197225490726643, 'ride_hail_intercept': -1.740411807676142, 'ride_hail_pooled_intercept': 7.2621187079954215, 'ride_hail_transit_intercept': 6.723365048412205, 'walk_intercept': -3.4537082765668634, 'walk_transit_intercept': 4.500814354354697}, 'budget': 1.6666666666666665, 'working_directory': '.'}}\n"
     ]
    },
    {
     "name": "stderr",
     "output_type": "stream",
     "text": [
      "19:31:23 DISPATCHER: Starting worker discovery\n",
      "19:31:23 DISPATCHER: Found 4 potential workers, 4 currently in the pool.\n",
      "19:31:23 DISPATCHER: Finished worker discovery\n",
      "19:32:23 DISPATCHER: Starting worker discovery\n",
      "19:32:23 DISPATCHER: Found 4 potential workers, 4 currently in the pool.\n",
      "19:32:23 DISPATCHER: Finished worker discovery\n",
      "19:33:23 DISPATCHER: Starting worker discovery\n",
      "19:33:23 DISPATCHER: Found 4 potential workers, 4 currently in the pool.\n",
      "19:33:23 DISPATCHER: Finished worker discovery\n",
      "19:34:23 DISPATCHER: Starting worker discovery\n",
      "19:34:23 DISPATCHER: Found 4 potential workers, 4 currently in the pool.\n",
      "19:34:24 DISPATCHER: Finished worker discovery\n",
      "19:35:17 WORKER: done with job (2, 0, 1), trying to register it.\n",
      "19:35:17 WORKER: registered result for job (2, 0, 1) with dispatcher\n",
      "19:35:17 DISPATCHER: job (2, 0, 1) finished\n",
      "19:35:17 DISPATCHER: register_result: lock acquired\n",
      "19:35:17 DISPATCHER: job (2, 0, 1) on hpbandster.run_BEAM.worker.KiranCHHATRE.2540.2140019336152896 finished\n",
      "19:35:17 job_id: (2, 0, 1)\n",
      "kwargs: {'config': {'bike_intercept': 7.038917659521028, 'car_intercept': 7.8275915043949915, 'drive_transit_intercept': -0.7969309685354284, 'ride_hail_intercept': 1.5879524670800356, 'ride_hail_pooled_intercept': 7.799364996796953, 'ride_hail_transit_intercept': 3.1395841205111363, 'walk_intercept': -2.5688899835587526, 'walk_transit_intercept': -1.7592195457933757}, 'budget': 1.6666666666666665, 'working_directory': '.'}\n",
      "result: {'loss': 92.02980026509435, 'info': 92.02980026509435}\n",
      "exception: None\n",
      "\n",
      "19:35:17 job_callback for (2, 0, 1) started\n",
      "19:35:17 job_callback for (2, 0, 1) got condition\n",
      "19:35:17 Only 4 run(s) for budget 1.666667 available, need more than 10 -> can't build model!\n",
      "19:35:17 HBMASTER: Trying to run another job!\n",
      "19:35:17 job_callback for (2, 0, 1) finished\n",
      "19:35:17 DISPATCHER: Trying to submit another job.\n",
      "19:35:17 start sampling a new configuration.\n",
      "19:35:17 DISPATCHER: jobs to submit = 0, number of idle workers = 1 -> waiting!\n",
      "19:35:17 done sampling a new configuration.\n",
      "19:35:17 HBMASTER: schedule new run for iteration 3\n",
      "19:35:17 HBMASTER: trying submitting job (3, 0, 0) to dispatcher\n",
      "19:35:17 HBMASTER: submitting job (3, 0, 0) to dispatcher\n",
      "19:35:17 DISPATCHER: trying to submit job (3, 0, 0)\n",
      "19:35:17 DISPATCHER: trying to notify the job_runner thread.\n",
      "19:35:17 HBMASTER: job (3, 0, 0) submitted to dispatcher\n",
      "19:35:17 DISPATCHER: Trying to submit another job.\n",
      "19:35:17 HBMASTER: running jobs: 4, queue sizes: (3, 4) -> wait\n",
      "19:35:17 DISPATCHER: starting job (3, 0, 0) on hpbandster.run_BEAM.worker.KiranCHHATRE.2540.2140019336152896\n",
      "19:35:17 DISPATCHER: job (3, 0, 0) dispatched on hpbandster.run_BEAM.worker.KiranCHHATRE.2540.2140019336152896\n",
      "19:35:17 WORKER: start processing job (3, 0, 0)\n",
      "19:35:17 DISPATCHER: jobs to submit = 0, number of idle workers = 0 -> waiting!\n",
      "19:35:17 WORKER: args: ()\n",
      "19:35:17 WORKER: kwargs: {'config': {'bike_intercept': 5.265633887859556, 'car_intercept': -2.905412593142662, 'drive_transit_intercept': 9.880114803736102, 'ride_hail_intercept': -4.461483380547244, 'ride_hail_pooled_intercept': 3.6999966734732155, 'ride_hail_transit_intercept': -4.036740658791481, 'walk_intercept': -2.881511893112262, 'walk_transit_intercept': 7.798170103072879}, 'budget': 5.0, 'working_directory': '.'}\n"
     ]
    },
    {
     "name": "stdout",
     "output_type": "stream",
     "text": [
      "Error is below threshold ( 115 ) with  106.66616390145799  at jobid  (1, 0, 1)\n",
      "{'self': <BeamWorker.BeamWorker object at 0x7f5893916590>, 'callback': <Pyro4.core.Proxy at 0x7f588c05e350; not connected; for PYRO:hpbandster.run_BEAM.dispatcher@localhost:51487>, 'id': (3, 0, 0), 'args': (), 'kwargs': {'config': {'bike_intercept': 5.265633887859556, 'car_intercept': -2.905412593142662, 'drive_transit_intercept': 9.880114803736102, 'ride_hail_intercept': -4.461483380547244, 'ride_hail_pooled_intercept': 3.6999966734732155, 'ride_hail_transit_intercept': -4.036740658791481, 'walk_intercept': -2.881511893112262, 'walk_transit_intercept': 7.798170103072879}, 'budget': 5.0, 'working_directory': '.'}}\n"
     ]
    },
    {
     "name": "stderr",
     "output_type": "stream",
     "text": [
      "19:35:24 DISPATCHER: Starting worker discovery\n",
      "19:35:24 DISPATCHER: Found 4 potential workers, 4 currently in the pool.\n",
      "19:35:24 DISPATCHER: Finished worker discovery\n",
      "19:36:24 DISPATCHER: Starting worker discovery\n",
      "19:36:24 DISPATCHER: Found 4 potential workers, 4 currently in the pool.\n",
      "19:36:24 DISPATCHER: Finished worker discovery\n",
      "19:37:24 DISPATCHER: Starting worker discovery\n",
      "19:37:24 DISPATCHER: Found 4 potential workers, 4 currently in the pool.\n",
      "19:37:24 DISPATCHER: Finished worker discovery\n",
      "19:38:24 DISPATCHER: Starting worker discovery\n",
      "19:38:24 DISPATCHER: Found 4 potential workers, 4 currently in the pool.\n",
      "19:38:24 DISPATCHER: Finished worker discovery\n",
      "19:39:24 DISPATCHER: Starting worker discovery\n",
      "19:39:24 DISPATCHER: Found 4 potential workers, 4 currently in the pool.\n",
      "19:39:24 DISPATCHER: Finished worker discovery\n",
      "19:39:43 WORKER: done with job (2, 0, 0), trying to register it.\n",
      "19:39:43 WORKER: registered result for job (2, 0, 0) with dispatcher\n",
      "19:39:43 DISPATCHER: job (2, 0, 0) finished\n",
      "19:39:43 DISPATCHER: register_result: lock acquired\n",
      "19:39:43 DISPATCHER: job (2, 0, 0) on hpbandster.run_BEAM.worker.KiranCHHATRE.2540.1140019336152896 finished\n",
      "19:39:43 job_id: (2, 0, 0)\n",
      "kwargs: {'config': {'bike_intercept': -2.1432804837616914, 'car_intercept': -1.867859928011692, 'drive_transit_intercept': 4.988008045524666, 'ride_hail_intercept': -1.668349604965338, 'ride_hail_pooled_intercept': 9.89430672101892, 'ride_hail_transit_intercept': 0.19981166519183002, 'walk_intercept': 4.152081957125819, 'walk_transit_intercept': -3.6526991010555876}, 'budget': 1.6666666666666665, 'working_directory': '.'}\n",
      "result: {'loss': 157.33671557200967, 'info': 157.33671557200967}\n",
      "exception: None\n",
      "\n",
      "19:39:43 job_callback for (2, 0, 0) started\n",
      "19:39:43 job_callback for (2, 0, 0) got condition\n",
      "19:39:43 Only 5 run(s) for budget 1.666667 available, need more than 10 -> can't build model!\n",
      "19:39:43 HBMASTER: Trying to run another job!\n",
      "19:39:43 job_callback for (2, 0, 0) finished\n",
      "19:39:43 start sampling a new configuration.\n",
      "19:39:43 done sampling a new configuration.\n",
      "19:39:43 DISPATCHER: Trying to submit another job.\n",
      "19:39:43 DISPATCHER: jobs to submit = 0, number of idle workers = 1 -> waiting!\n",
      "19:39:43 HBMASTER: schedule new run for iteration 3\n",
      "19:39:43 HBMASTER: trying submitting job (3, 0, 1) to dispatcher\n",
      "19:39:43 HBMASTER: submitting job (3, 0, 1) to dispatcher\n",
      "19:39:43 DISPATCHER: trying to submit job (3, 0, 1)\n",
      "19:39:43 DISPATCHER: trying to notify the job_runner thread.\n",
      "19:39:43 HBMASTER: job (3, 0, 1) submitted to dispatcher\n",
      "19:39:43 HBMASTER: running jobs: 4, queue sizes: (3, 4) -> wait\n",
      "19:39:43 DISPATCHER: Trying to submit another job.\n",
      "19:39:43 DISPATCHER: starting job (3, 0, 1) on hpbandster.run_BEAM.worker.KiranCHHATRE.2540.1140019336152896\n",
      "19:39:43 DISPATCHER: job (3, 0, 1) dispatched on hpbandster.run_BEAM.worker.KiranCHHATRE.2540.1140019336152896\n",
      "19:39:43 WORKER: start processing job (3, 0, 1)\n",
      "19:39:43 DISPATCHER: jobs to submit = 0, number of idle workers = 0 -> waiting!\n",
      "19:39:43 WORKER: args: ()\n",
      "19:39:43 WORKER: kwargs: {'config': {'bike_intercept': -1.5177704618057235, 'car_intercept': 4.274657919346176, 'drive_transit_intercept': 4.267005535167952, 'ride_hail_intercept': 7.655696537039443, 'ride_hail_pooled_intercept': 8.025130422672499, 'ride_hail_transit_intercept': -4.133002769675115, 'walk_intercept': 2.4719384499377064, 'walk_transit_intercept': -1.215064229085284}, 'budget': 5.0, 'working_directory': '.'}\n"
     ]
    },
    {
     "name": "stdout",
     "output_type": "stream",
     "text": [
      "Error is above threshold ( 115 ) and difference is  147.5752548105489  for jobid  (2, 0, 1)\n",
      "{'self': <BeamWorker.BeamWorker object at 0x7f58901b9c50>, 'callback': <Pyro4.core.Proxy at 0x7f588c09be10; not connected; for PYRO:hpbandster.run_BEAM.dispatcher@localhost:51487>, 'id': (3, 0, 1), 'args': (), 'kwargs': {'config': {'bike_intercept': -1.5177704618057235, 'car_intercept': 4.274657919346176, 'drive_transit_intercept': 4.267005535167952, 'ride_hail_intercept': 7.655696537039443, 'ride_hail_pooled_intercept': 8.025130422672499, 'ride_hail_transit_intercept': -4.133002769675115, 'walk_intercept': 2.4719384499377064, 'walk_transit_intercept': -1.215064229085284}, 'budget': 5.0, 'working_directory': '.'}}\n"
     ]
    },
    {
     "name": "stderr",
     "output_type": "stream",
     "text": [
      "19:40:24 DISPATCHER: Starting worker discovery\n",
      "19:40:24 DISPATCHER: Found 4 potential workers, 4 currently in the pool.\n",
      "19:40:24 DISPATCHER: Finished worker discovery\n",
      "19:40:41 WORKER: done with job (2, 0, 2), trying to register it.\n",
      "19:40:41 WORKER: registered result for job (2, 0, 2) with dispatcher\n",
      "19:40:41 DISPATCHER: job (2, 0, 2) finished\n",
      "19:40:41 DISPATCHER: register_result: lock acquired\n",
      "19:40:41 DISPATCHER: job (2, 0, 2) on hpbandster.run_BEAM.worker.KiranCHHATRE.2540.3140019336152896 finished\n",
      "19:40:41 job_id: (2, 0, 2)\n",
      "kwargs: {'config': {'bike_intercept': -3.301259429107006, 'car_intercept': 9.960006167098069, 'drive_transit_intercept': -0.3197225490726643, 'ride_hail_intercept': -1.740411807676142, 'ride_hail_pooled_intercept': 7.2621187079954215, 'ride_hail_transit_intercept': 6.723365048412205, 'walk_intercept': -3.4537082765668634, 'walk_transit_intercept': 4.500814354354697}, 'budget': 1.6666666666666665, 'working_directory': '.'}\n",
      "result: {'loss': 158.7956487956488, 'info': 158.7956487956488}\n",
      "exception: None\n",
      "\n",
      "19:40:41 job_callback for (2, 0, 2) started\n",
      "19:40:41 job_callback for (2, 0, 2) got condition\n",
      "19:40:41 DISPATCHER: Trying to submit another job.\n",
      "19:40:41 DISPATCHER: jobs to submit = 0, number of idle workers = 1 -> waiting!\n",
      "19:40:41 Only 6 run(s) for budget 1.666667 available, need more than 10 -> can't build model!\n",
      "19:40:41 HBMASTER: Trying to run another job!\n",
      "19:40:41 job_callback for (2, 0, 2) finished\n",
      "19:40:41 ITERATION: Advancing config (2, 0, 1) to next budget 5.000000\n",
      "19:40:41 HBMASTER: schedule new run for iteration 2\n",
      "19:40:41 HBMASTER: trying submitting job (2, 0, 1) to dispatcher\n",
      "19:40:41 HBMASTER: submitting job (2, 0, 1) to dispatcher\n",
      "19:40:41 DISPATCHER: trying to submit job (2, 0, 1)\n",
      "19:40:41 DISPATCHER: trying to notify the job_runner thread.\n",
      "19:40:41 HBMASTER: job (2, 0, 1) submitted to dispatcher\n",
      "19:40:41 HBMASTER: running jobs: 4, queue sizes: (3, 4) -> wait\n",
      "19:40:41 DISPATCHER: Trying to submit another job.\n",
      "19:40:41 DISPATCHER: starting job (2, 0, 1) on hpbandster.run_BEAM.worker.KiranCHHATRE.2540.3140019336152896\n",
      "19:40:41 DISPATCHER: job (2, 0, 1) dispatched on hpbandster.run_BEAM.worker.KiranCHHATRE.2540.3140019336152896\n",
      "19:40:41 DISPATCHER: jobs to submit = 0, number of idle workers = 0 -> waiting!\n",
      "19:40:41 WORKER: start processing job (2, 0, 1)\n",
      "19:40:41 WORKER: args: ()\n",
      "19:40:41 WORKER: kwargs: {'config': {'bike_intercept': 7.038917659521028, 'car_intercept': 7.8275915043949915, 'drive_transit_intercept': -0.7969309685354284, 'ride_hail_intercept': 1.5879524670800356, 'ride_hail_pooled_intercept': 7.799364996796953, 'ride_hail_transit_intercept': 3.1395841205111363, 'walk_intercept': -2.5688899835587526, 'walk_transit_intercept': -1.7592195457933757}, 'budget': 5.0, 'working_directory': '.'}\n"
     ]
    },
    {
     "name": "stdout",
     "output_type": "stream",
     "text": [
      "Error is above threshold ( 115 ) and difference is  141.7047397047397  for jobid  (2, 0, 1)\n",
      "{'self': <BeamWorker.BeamWorker object at 0x7f58901bc510>, 'callback': <Pyro4.core.Proxy at 0x7f588c02ce50; not connected; for PYRO:hpbandster.run_BEAM.dispatcher@localhost:51487>, 'id': (2, 0, 1), 'args': (), 'kwargs': {'config': {'bike_intercept': 7.038917659521028, 'car_intercept': 7.8275915043949915, 'drive_transit_intercept': -0.7969309685354284, 'ride_hail_intercept': 1.5879524670800356, 'ride_hail_pooled_intercept': 7.799364996796953, 'ride_hail_transit_intercept': 3.1395841205111363, 'walk_intercept': -2.5688899835587526, 'walk_transit_intercept': -1.7592195457933757}, 'budget': 5.0, 'working_directory': '.'}}\n"
     ]
    },
    {
     "name": "stderr",
     "output_type": "stream",
     "text": [
      "19:40:43 WORKER: done with job (0, 0, 1), trying to register it.\n",
      "19:40:43 WORKER: registered result for job (0, 0, 1) with dispatcher\n",
      "19:40:43 DISPATCHER: job (0, 0, 1) finished\n",
      "19:40:43 DISPATCHER: register_result: lock acquired\n",
      "19:40:43 DISPATCHER: job (0, 0, 1) on hpbandster.run_BEAM.worker.KiranCHHATRE.2540.0140019336152896 finished\n",
      "19:40:43 job_id: (0, 0, 1)\n",
      "kwargs: {'config': {'bike_intercept': 6.024314846228304, 'car_intercept': 2.768228123783217, 'drive_transit_intercept': 9.932369008476023, 'ride_hail_intercept': 0.24171070199194666, 'ride_hail_pooled_intercept': -1.33425474077937, 'ride_hail_transit_intercept': -1.5395208603796702, 'walk_intercept': 1.665600832683145, 'walk_transit_intercept': -1.5987453903075455}, 'budget': 5.0, 'working_directory': '.'}\n",
      "result: None\n",
      "exception: Traceback (most recent call last):\n",
      "  File \"/home/berkeleylab/anaconda3/envs/tune/lib/python3.7/site-packages/pandas/core/indexing.py\", line 2130, in _get_list_axis\n",
      "    return self.obj.take(key, axis=axis)\n",
      "  File \"/home/berkeleylab/anaconda3/envs/tune/lib/python3.7/site-packages/pandas/core/generic.py\", line 3604, in take\n",
      "    indices, axis=self._get_block_manager_axis(axis), verify=True\n",
      "  File \"/home/berkeleylab/anaconda3/envs/tune/lib/python3.7/site-packages/pandas/core/internals/managers.py\", line 1389, in take\n",
      "    indexer = maybe_convert_indices(indexer, n)\n",
      "  File \"/home/berkeleylab/anaconda3/envs/tune/lib/python3.7/site-packages/pandas/core/indexers.py\", line 201, in maybe_convert_indices\n",
      "    raise IndexError(\"indices are out-of-bounds\")\n",
      "IndexError: indices are out-of-bounds\n",
      "\n",
      "During handling of the above exception, another exception occurred:\n",
      "\n",
      "Traceback (most recent call last):\n",
      "  File \"/home/berkeleylab/Misc_code/HpBandSter/hpbandster/core/worker.py\", line 213, in start_computation\n",
      "    result = {'result': self.compute(*args, config_id=id, **kwargs),\n",
      "  File \"/home/berkeleylab/Calib_documentation/TUNE_integrate/TUNE_test/worker_n_optimizer/BeamWorker.py\", line 131, in compute\n",
      "    df1 = pd.read_csv(latest_subdir+\"/referenceRealizedModeChoice.csv\").iloc[[0, 3]].drop(['iterations'], axis=1)\n",
      "  File \"/home/berkeleylab/anaconda3/envs/tune/lib/python3.7/site-packages/pandas/core/indexing.py\", line 1424, in __getitem__\n",
      "    return self._getitem_axis(maybe_callable, axis=axis)\n",
      "  File \"/home/berkeleylab/anaconda3/envs/tune/lib/python3.7/site-packages/pandas/core/indexing.py\", line 2148, in _getitem_axis\n",
      "    return self._get_list_axis(key, axis=axis)\n",
      "  File \"/home/berkeleylab/anaconda3/envs/tune/lib/python3.7/site-packages/pandas/core/indexing.py\", line 2133, in _get_list_axis\n",
      "    raise IndexError(\"positional indexers are out-of-bounds\")\n",
      "IndexError: positional indexers are out-of-bounds\n",
      "\n",
      "\n",
      "19:40:43 job_callback for (0, 0, 1) started\n",
      "19:40:43 DISPATCHER: Trying to submit another job.\n",
      "19:40:43 job_callback for (0, 0, 1) got condition\n",
      "19:40:43 DISPATCHER: jobs to submit = 0, number of idle workers = 1 -> waiting!\n",
      "19:40:43 job (0, 0, 1) failed with exception\n",
      "Traceback (most recent call last):\n",
      "  File \"/home/berkeleylab/anaconda3/envs/tune/lib/python3.7/site-packages/pandas/core/indexing.py\", line 2130, in _get_list_axis\n",
      "    return self.obj.take(key, axis=axis)\n",
      "  File \"/home/berkeleylab/anaconda3/envs/tune/lib/python3.7/site-packages/pandas/core/generic.py\", line 3604, in take\n",
      "    indices, axis=self._get_block_manager_axis(axis), verify=True\n",
      "  File \"/home/berkeleylab/anaconda3/envs/tune/lib/python3.7/site-packages/pandas/core/internals/managers.py\", line 1389, in take\n",
      "    indexer = maybe_convert_indices(indexer, n)\n",
      "  File \"/home/berkeleylab/anaconda3/envs/tune/lib/python3.7/site-packages/pandas/core/indexers.py\", line 201, in maybe_convert_indices\n",
      "    raise IndexError(\"indices are out-of-bounds\")\n",
      "IndexError: indices are out-of-bounds\n",
      "\n",
      "During handling of the above exception, another exception occurred:\n",
      "\n",
      "Traceback (most recent call last):\n",
      "  File \"/home/berkeleylab/Misc_code/HpBandSter/hpbandster/core/worker.py\", line 213, in start_computation\n",
      "    result = {'result': self.compute(*args, config_id=id, **kwargs),\n",
      "  File \"/home/berkeleylab/Calib_documentation/TUNE_integrate/TUNE_test/worker_n_optimizer/BeamWorker.py\", line 131, in compute\n",
      "    df1 = pd.read_csv(latest_subdir+\"/referenceRealizedModeChoice.csv\").iloc[[0, 3]].drop(['iterations'], axis=1)\n",
      "  File \"/home/berkeleylab/anaconda3/envs/tune/lib/python3.7/site-packages/pandas/core/indexing.py\", line 1424, in __getitem__\n",
      "    return self._getitem_axis(maybe_callable, axis=axis)\n",
      "  File \"/home/berkeleylab/anaconda3/envs/tune/lib/python3.7/site-packages/pandas/core/indexing.py\", line 2148, in _getitem_axis\n",
      "    return self._get_list_axis(key, axis=axis)\n",
      "  File \"/home/berkeleylab/anaconda3/envs/tune/lib/python3.7/site-packages/pandas/core/indexing.py\", line 2133, in _get_list_axis\n",
      "    raise IndexError(\"positional indexers are out-of-bounds\")\n",
      "IndexError: positional indexers are out-of-bounds\n",
      "\n",
      "19:40:43 Only 3 run(s) for budget 5.000000 available, need more than 10 -> can't build model!\n",
      "19:40:43 HBMASTER: Trying to run another job!\n",
      "19:40:43 job_callback for (0, 0, 1) finished\n",
      "19:40:50 WORKER: done with job (3, 0, 0), trying to register it.\n",
      "19:40:50 WORKER: registered result for job (3, 0, 0) with dispatcher\n",
      "19:40:50 DISPATCHER: job (3, 0, 0) finished\n",
      "19:40:50 DISPATCHER: register_result: lock acquired\n",
      "19:40:50 DISPATCHER: job (3, 0, 0) on hpbandster.run_BEAM.worker.KiranCHHATRE.2540.2140019336152896 finished\n",
      "19:40:50 job_id: (3, 0, 0)\n",
      "kwargs: {'config': {'bike_intercept': 5.265633887859556, 'car_intercept': -2.905412593142662, 'drive_transit_intercept': 9.880114803736102, 'ride_hail_intercept': -4.461483380547244, 'ride_hail_pooled_intercept': 3.6999966734732155, 'ride_hail_transit_intercept': -4.036740658791481, 'walk_intercept': -2.881511893112262, 'walk_transit_intercept': 7.798170103072879}, 'budget': 5.0, 'working_directory': '.'}\n",
      "result: {'loss': 170.5215046391517, 'info': 170.5215046391517}\n",
      "exception: None\n",
      "\n",
      "19:40:50 job_callback for (3, 0, 0) started\n",
      "19:40:50 DISPATCHER: Trying to submit another job.\n",
      "19:40:50 DISPATCHER: jobs to submit = 0, number of idle workers = 2 -> waiting!\n",
      "19:40:50 job_callback for (3, 0, 0) got condition\n",
      "19:40:50 Only 4 run(s) for budget 5.000000 available, need more than 10 -> can't build model!\n",
      "19:40:51 HBMASTER: Trying to run another job!\n",
      "19:40:51 job_callback for (3, 0, 0) finished\n"
     ]
    },
    {
     "name": "stdout",
     "output_type": "stream",
     "text": [
      "Error is above threshold ( 115 ) and difference is  184.52150463915166  for jobid  (2, 0, 2)\n"
     ]
    },
    {
     "name": "stderr",
     "output_type": "stream",
     "text": [
      "19:41:24 DISPATCHER: Starting worker discovery\n",
      "19:41:24 DISPATCHER: Found 4 potential workers, 4 currently in the pool.\n",
      "19:41:25 DISPATCHER: Finished worker discovery\n",
      "19:42:25 DISPATCHER: Starting worker discovery\n",
      "19:42:25 DISPATCHER: Found 4 potential workers, 4 currently in the pool.\n",
      "19:42:25 DISPATCHER: Finished worker discovery\n",
      "19:43:09 WORKER: done with job (3, 0, 1), trying to register it.\n",
      "19:43:09 WORKER: registered result for job (3, 0, 1) with dispatcher\n",
      "19:43:09 DISPATCHER: job (3, 0, 1) finished\n",
      "19:43:09 DISPATCHER: register_result: lock acquired\n",
      "19:43:09 DISPATCHER: job (3, 0, 1) on hpbandster.run_BEAM.worker.KiranCHHATRE.2540.1140019336152896 finished\n",
      "19:43:09 job_id: (3, 0, 1)\n",
      "kwargs: {'config': {'bike_intercept': -1.5177704618057235, 'car_intercept': 4.274657919346176, 'drive_transit_intercept': 4.267005535167952, 'ride_hail_intercept': 7.655696537039443, 'ride_hail_pooled_intercept': 8.025130422672499, 'ride_hail_transit_intercept': -4.133002769675115, 'walk_intercept': 2.4719384499377064, 'walk_transit_intercept': -1.215064229085284}, 'budget': 5.0, 'working_directory': '.'}\n",
      "result: {'loss': 116.21692033456738, 'info': 116.21692033456738}\n",
      "exception: None\n",
      "\n",
      "19:43:09 job_callback for (3, 0, 1) started\n",
      "19:43:09 DISPATCHER: Trying to submit another job.\n",
      "19:43:09 job_callback for (3, 0, 1) got condition\n",
      "19:43:09 DISPATCHER: jobs to submit = 0, number of idle workers = 3 -> waiting!\n",
      "19:43:09 Only 5 run(s) for budget 5.000000 available, need more than 10 -> can't build model!\n",
      "19:43:09 HBMASTER: Trying to run another job!\n",
      "19:43:09 job_callback for (3, 0, 1) finished\n"
     ]
    },
    {
     "name": "stdout",
     "output_type": "stream",
     "text": [
      "Error is above threshold ( 115 ) and difference is  123.02980026509438  for jobid  (3, 0, 0)\n"
     ]
    },
    {
     "name": "stderr",
     "output_type": "stream",
     "text": [
      "19:43:25 DISPATCHER: Starting worker discovery\n",
      "19:43:25 DISPATCHER: Found 4 potential workers, 4 currently in the pool.\n",
      "19:43:25 DISPATCHER: Finished worker discovery\n",
      "19:43:35 WORKER: done with job (2, 0, 1), trying to register it.\n",
      "19:43:35 WORKER: registered result for job (2, 0, 1) with dispatcher\n",
      "19:43:35 DISPATCHER: job (2, 0, 1) finished\n",
      "19:43:35 DISPATCHER: register_result: lock acquired\n",
      "19:43:35 DISPATCHER: job (2, 0, 1) on hpbandster.run_BEAM.worker.KiranCHHATRE.2540.3140019336152896 finished\n",
      "19:43:35 job_id: (2, 0, 1)\n",
      "kwargs: {'config': {'bike_intercept': 7.038917659521028, 'car_intercept': 7.8275915043949915, 'drive_transit_intercept': -0.7969309685354284, 'ride_hail_intercept': 1.5879524670800356, 'ride_hail_pooled_intercept': 7.799364996796953, 'ride_hail_transit_intercept': 3.1395841205111363, 'walk_intercept': -2.5688899835587526, 'walk_transit_intercept': -1.7592195457933757}, 'budget': 5.0, 'working_directory': '.'}\n",
      "result: {'loss': 98.99949723479132, 'info': 98.99949723479132}\n",
      "exception: None\n",
      "\n",
      "19:43:35 job_callback for (2, 0, 1) started\n",
      "19:43:35 DISPATCHER: Trying to submit another job.\n",
      "19:43:35 job_callback for (2, 0, 1) got condition\n",
      "19:43:35 DISPATCHER: jobs to submit = 0, number of idle workers = 4 -> waiting!\n",
      "19:43:35 Only 6 run(s) for budget 5.000000 available, need more than 10 -> can't build model!\n",
      "19:43:35 HBMASTER: Trying to run another job!\n",
      "19:43:35 job_callback for (2, 0, 1) finished\n"
     ]
    },
    {
     "name": "stdout",
     "output_type": "stream",
     "text": [
      "Error is below threshold ( 115 ) with  103.02980026509437  at jobid  (3, 0, 1)\n"
     ]
    }
   ],
   "source": [
    "\n",
    "result_logger = hpres.json_result_logger(directory='/home/berkeleylab/Calib_documentation/TUNE_integrate/TUNE_test/worker_n_optimizer', overwrite=True)\n",
    "bohb = BOHB(configspace=w.get_configspace(),run_id='BEAM',min_budget=1, max_budget=5, result_logger=result_logger)\n",
    "res = bohb.run(n_iterations=4,min_n_workers=no_of_workers)\n"
   ]
  },
  {
   "cell_type": "code",
   "execution_count": 6,
   "metadata": {},
   "outputs": [
    {
     "name": "stdout",
     "output_type": "stream",
     "text": [
      "best config: {'bike_intercept': 7.038917659521028, 'car_intercept': 7.8275915043949915, 'drive_transit_intercept': -0.7969309685354284, 'ride_hail_intercept': 1.5879524670800356, 'ride_hail_pooled_intercept': 7.799364996796953, 'ride_hail_transit_intercept': 3.1395841205111363, 'walk_intercept': -2.5688899835587526, 'walk_transit_intercept': -1.7592195457933757}\n",
      "total unique configs: 10\n",
      "total executed runs: 12\n",
      "total budget corresponds to these function evaluations: 0.1646090534979424\n",
      "total elapsed time 1186.699360370636\n"
     ]
    },
    {
     "name": "stderr",
     "output_type": "stream",
     "text": [
      "19:44:25 DISPATCHER: Starting worker discovery\n",
      "19:44:25 DISPATCHER: Found 4 potential workers, 4 currently in the pool.\n",
      "19:44:25 DISPATCHER: Finished worker discovery\n"
     ]
    }
   ],
   "source": [
    "\n",
    "id2config = res.get_id2config_mapping()\n",
    "incumbent = res.get_incumbent_id()\n",
    "all_runs = res.get_all_runs()\n",
    "\n",
    "print('best config:', id2config[incumbent]['config'] )\n",
    "print('total unique configs:', len(id2config.keys()) )\n",
    "print('total executed runs:', len(all_runs) )\n",
    "print('total budget corresponds to these function evaluations:', (sum([r.budget for r in all_runs])/243))\n",
    "print('total elapsed time', (all_runs[-1].time_stamps['finished']-all_runs[0].time_stamps['started']))\n"
   ]
  },
  {
   "cell_type": "code",
   "execution_count": 10,
   "metadata": {},
   "outputs": [
    {
     "name": "stderr",
     "output_type": "stream",
     "text": [
      "19:53:22 HBMASTER: shutdown initiated, shutdown_workers = True\n",
      "19:53:22 WORKER: shutting down now!\n",
      "19:53:22 WORKER: shutting down now!\n",
      "19:53:22 WORKER: shutting down now!\n",
      "19:53:22 WORKER: shutting down now!\n",
      "19:53:22 DISPATCHER: Dispatcher shutting down\n",
      "19:53:22 DISPATCHER: Trying to submit another job.\n",
      "19:53:22 DISPATCHER: job_runner shutting down\n",
      "19:53:22 DISPATCHER: discover_workers shutting down\n",
      "19:53:22 DISPATCHER: 'discover_worker' thread exited\n",
      "19:53:22 DISPATCHER: 'job_runner' thread exited\n",
      "19:53:22 DISPATCHER: shut down complete\n"
     ]
    }
   ],
   "source": [
    "bohb.shutdown(shutdown_workers=True)\n",
    "NS.shutdown()\n",
    "\n",
    "# Delete conf copies\n",
    "for filename in glob.glob(Repo+'/'+conf+'_*'): \n",
    "    os.remove(filename) \n"
   ]
  },
  {
   "cell_type": "markdown",
   "metadata": {},
   "source": [
    "### Ongoing:"
   ]
  },
  {
   "cell_type": "code",
   "execution_count": 7,
   "metadata": {},
   "outputs": [],
   "source": [
    "\n",
    "result = hpres.logged_results_to_HBS_result('/home/berkeleylab/Calib_documentation/TUNE_integrate/TUNE_test/worker_n_optimizer/')\n"
   ]
  },
  {
   "cell_type": "code",
   "execution_count": 8,
   "metadata": {},
   "outputs": [
    {
     "name": "stdout",
     "output_type": "stream",
     "text": [
      "Best config: 98.99949723479132\n"
     ]
    }
   ],
   "source": [
    "\n",
    "all_runs = result.get_all_runs()\n",
    "id2conf = result.get_id2config_mapping()\n",
    "inc_id = result.get_incumbent_id()\n",
    "inc_runs = result.get_runs_by_id(inc_id)\n",
    "inc_run = inc_runs[-1]\n",
    "inc_loss = inc_run.loss\n",
    "inc_config = id2conf[inc_id]['config']\n",
    "lcs = result.get_learning_curves()\n",
    "\n",
    "print('Best config:', inc_loss)"
   ]
  },
  {
   "cell_type": "code",
   "execution_count": 9,
   "metadata": {},
   "outputs": [
    {
     "data": {
      "text/plain": [
       "[config_id: (2, 0, 1)\tbudget: 1.666667\tloss: 92.02980026509435\n",
       " time_stamps: 431.0228374004364 (submitted), 431.10666513442993 (started), 714.7249791622162 (finished)\n",
       " info: 92.02980026509435,\n",
       " config_id: (2, 0, 1)\tbudget: 5.000000\tloss: 98.99949723479132\n",
       " time_stamps: 1038.763107061386 (submitted), 1038.7751784324646 (started), 1212.098913192749 (finished)\n",
       " info: 98.99949723479132]"
      ]
     },
     "execution_count": 9,
     "metadata": {},
     "output_type": "execute_result"
    },
    {
     "name": "stderr",
     "output_type": "stream",
     "text": [
      "19:45:25 DISPATCHER: Starting worker discovery\n",
      "19:45:25 DISPATCHER: Found 4 potential workers, 4 currently in the pool.\n",
      "19:45:25 DISPATCHER: Finished worker discovery\n",
      "19:46:25 DISPATCHER: Starting worker discovery\n",
      "19:46:25 DISPATCHER: Found 4 potential workers, 4 currently in the pool.\n",
      "19:46:25 DISPATCHER: Finished worker discovery\n",
      "19:47:25 DISPATCHER: Starting worker discovery\n",
      "19:47:25 DISPATCHER: Found 4 potential workers, 4 currently in the pool.\n",
      "19:47:25 DISPATCHER: Finished worker discovery\n",
      "19:48:25 DISPATCHER: Starting worker discovery\n",
      "19:48:25 DISPATCHER: Found 4 potential workers, 4 currently in the pool.\n",
      "19:48:25 DISPATCHER: Finished worker discovery\n",
      "19:49:25 DISPATCHER: Starting worker discovery\n",
      "19:49:25 DISPATCHER: Found 4 potential workers, 4 currently in the pool.\n",
      "19:49:25 DISPATCHER: Finished worker discovery\n",
      "19:50:25 DISPATCHER: Starting worker discovery\n",
      "19:50:25 DISPATCHER: Found 4 potential workers, 4 currently in the pool.\n",
      "19:50:25 DISPATCHER: Finished worker discovery\n",
      "19:51:25 DISPATCHER: Starting worker discovery\n",
      "19:51:25 DISPATCHER: Found 4 potential workers, 4 currently in the pool.\n",
      "19:51:25 DISPATCHER: Finished worker discovery\n",
      "19:52:25 DISPATCHER: Starting worker discovery\n",
      "19:52:25 DISPATCHER: Found 4 potential workers, 4 currently in the pool.\n",
      "19:52:25 DISPATCHER: Finished worker discovery\n"
     ]
    }
   ],
   "source": [
    "inc_runs"
   ]
  },
  {
   "cell_type": "code",
   "execution_count": 11,
   "metadata": {},
   "outputs": [],
   "source": [
    "import warnings\n",
    "warnings.filterwarnings(\"ignore\")"
   ]
  },
  {
   "cell_type": "markdown",
   "metadata": {},
   "source": [
    "##### Disregard"
   ]
  },
  {
   "cell_type": "code",
   "execution_count": 22,
   "metadata": {},
   "outputs": [],
   "source": [
    "#hpvis.losses_over_time(all_runs)"
   ]
  },
  {
   "cell_type": "code",
   "execution_count": 13,
   "metadata": {},
   "outputs": [
    {
     "data": {
      "text/plain": [
       "(<Figure size 432x288 with 1 Axes>,\n",
       " <matplotlib.axes._subplots.AxesSubplot at 0x7f588e6586d0>)"
      ]
     },
     "execution_count": 13,
     "metadata": {},
     "output_type": "execute_result"
    },
    {
     "data": {
      "image/png": "[encoded data removed]",
      "text/plain": [
       "<Figure size 432x288 with 1 Axes>"
      ]
     },
     "metadata": {
      "needs_background": "light"
     },
     "output_type": "display_data"
    }
   ],
   "source": [
    "hpvis.concurrent_runs_over_time(all_runs)"
   ]
  },
  {
   "cell_type": "code",
   "execution_count": 14,
   "metadata": {},
   "outputs": [
    {
     "data": {
      "text/plain": [
       "(<Figure size 432x288 with 1 Axes>,\n",
       " <matplotlib.axes._subplots.AxesSubplot at 0x7f588e63c650>)"
      ]
     },
     "execution_count": 14,
     "metadata": {},
     "output_type": "execute_result"
    },
    {
     "data": {
      "image/png": "[encoded data removed]",
      "text/plain": [
       "<Figure size 432x288 with 1 Axes>"
      ]
     },
     "metadata": {
      "needs_background": "light"
     },
     "output_type": "display_data"
    }
   ],
   "source": [
    "hpvis.finished_runs_over_time(all_runs)"
   ]
  },
  {
   "cell_type": "code",
   "execution_count": 21,
   "metadata": {},
   "outputs": [],
   "source": [
    "#hpvis.correlation_across_budgets(result)"
   ]
  },
  {
   "cell_type": "code",
   "execution_count": 16,
   "metadata": {},
   "outputs": [
    {
     "data": {
      "text/plain": [
       "(<Figure size 432x288 with 4 Axes>,\n",
       " array([[<matplotlib.axes._subplots.AxesSubplot object at 0x7f588e4d5ad0>,\n",
       "         <matplotlib.axes._subplots.AxesSubplot object at 0x7f588e456890>],\n",
       "        [<matplotlib.axes._subplots.AxesSubplot object at 0x7f588e3d0c90>,\n",
       "         <matplotlib.axes._subplots.AxesSubplot object at 0x7f588e3bba50>]],\n",
       "       dtype=object))"
      ]
     },
     "execution_count": 16,
     "metadata": {},
     "output_type": "execute_result"
    },
    {
     "data": {
      "image/png": "[encoded data removed]",
      "text/plain": [
       "<Figure size 432x288 with 4 Axes>"
      ]
     },
     "metadata": {
      "needs_background": "light"
     },
     "output_type": "display_data"
    }
   ],
   "source": [
    "hpvis.performance_histogram_model_vs_random(all_runs,id2conf)"
   ]
  },
  {
   "cell_type": "code",
   "execution_count": 17,
   "metadata": {},
   "outputs": [],
   "source": [
    "def realtime_learning_curves(runs):\n",
    "    sr = sorted(runs,key=lambda r: r.budget)\n",
    "    lc = list(filter(lambda t: not t[1] is None, [(r.time_stamps['finished'], r.info) for r in sr]))\n",
    "    \n",
    "    return ([lc,])   \n",
    "    \n",
    "    "
   ]
  },
  {
   "cell_type": "code",
   "execution_count": 18,
   "metadata": {},
   "outputs": [],
   "source": [
    "\n",
    "lcs = result.get_learning_curves(lc_extractor=realtime_learning_curves)\n",
    "\n"
   ]
  },
  {
   "cell_type": "code",
   "execution_count": 19,
   "metadata": {},
   "outputs": [],
   "source": [
    "config_ids = [] \n",
    "times = []\n",
    "\n",
    "for k in lcs.keys():\n",
    "    config_ids.append(k)\n",
    "    \n",
    "for k,v in lcs.items():\n",
    "    for l in v:\n",
    "        if len(l) == 0: continue\n",
    "        tmp = list(zip(*l))\n",
    "        times.append(tmp[0])\n"
   ]
  },
  {
   "cell_type": "code",
   "execution_count": 20,
   "metadata": {},
   "outputs": [
    {
     "data": {
      "text/plain": [
       "[0, 0, 0, 1, 1, 2, 2, 2, 3, 3]"
      ]
     },
     "execution_count": 20,
     "metadata": {},
     "output_type": "execute_result"
    }
   ],
   "source": [
    "\n",
    "HB_iterations = [id[0] for id in config_ids]\n",
    "num_iterations = len(set(HB_iterations))\n",
    "\n",
    "HB_iterations"
   ]
  }
 ],
 "metadata": {
  "kernelspec": {
   "display_name": "Python 3",
   "language": "python",
   "name": "python3"
  },
  "language_info": {
   "codemirror_mode": {
    "name": "ipython",
    "version": 3
   },
   "file_extension": ".py",
   "mimetype": "text/x-python",
   "name": "python",
   "nbconvert_exporter": "python",
   "pygments_lexer": "ipython3",
   "version": "3.7.6"
  }
 },
 "nbformat": 4,
 "nbformat_minor": 2
}
