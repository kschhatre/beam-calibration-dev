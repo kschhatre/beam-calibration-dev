{
 "cells": [
  {
   "cell_type": "code",
   "execution_count": 1,
   "metadata": {},
   "outputs": [],
   "source": [
    "\n",
    "%matplotlib inline"
   ]
  },
  {
   "cell_type": "code",
   "execution_count": 2,
   "metadata": {},
   "outputs": [],
   "source": [
    "\n",
    "\n",
    "import hpbandster.core.nameserver as hpns\n",
    "import hpbandster.core.result as hpres\n",
    "from hpbandster.optimizers import BOHB as BOHB\n",
    "from BeamWorker import BeamWorker\n",
    "import hpbandster.visualization as hpvis\n",
    "import matplotlib.pyplot as plt\n",
    "\n"
   ]
  },
  {
   "cell_type": "code",
   "execution_count": 2,
   "metadata": {},
   "outputs": [
    {
     "data": {
      "text/plain": [
       "('127.0.0.1', 9090)"
      ]
     },
     "execution_count": 2,
     "metadata": {},
     "output_type": "execute_result"
    }
   ],
   "source": [
    "\n",
    "NS = hpns.NameServer(run_id='Beamville', host='127.0.0.1', port=None)\n",
    "NS.start()\n"
   ]
  },
  {
   "cell_type": "code",
   "execution_count": 3,
   "metadata": {},
   "outputs": [
    {
     "name": "stderr",
     "output_type": "stream",
     "text": [
      "21:47:34 WORKER: Connected to nameserver <Pyro4.core.Proxy at 0x7f463b0d5310; connected IPv4; for PYRO:Pyro.NameServer@127.0.0.1:9090>\n",
      "21:47:34 WORKER: Connected to nameserver <Pyro4.core.Proxy at 0x7f463216a7d0; connected IPv4; for PYRO:Pyro.NameServer@127.0.0.1:9090>\n",
      "21:47:34 WORKER: Connected to nameserver <Pyro4.core.Proxy at 0x7f46300b76d0; connected IPv4; for PYRO:Pyro.NameServer@127.0.0.1:9090>\n",
      "21:47:34 WORKER: No dispatcher found. Waiting for one to initiate contact.\n",
      "21:47:34 WORKER: Connected to nameserver <Pyro4.core.Proxy at 0x7f463216af10; connected IPv4; for PYRO:Pyro.NameServer@127.0.0.1:9090>\n",
      "21:47:34 WORKER: No dispatcher found. Waiting for one to initiate contact.\n",
      "21:47:34 WORKER: start listening for jobs\n",
      "21:47:34 WORKER: No dispatcher found. Waiting for one to initiate contact.\n",
      "21:47:34 WORKER: No dispatcher found. Waiting for one to initiate contact.\n",
      "21:47:34 WORKER: start listening for jobs\n",
      "21:47:34 WORKER: start listening for jobs\n",
      "21:47:34 WORKER: start listening for jobs\n"
     ]
    }
   ],
   "source": [
    "\n",
    "workers=[]\n",
    "for i in range(4):\n",
    "   \n",
    "    w = BeamWorker(nameserver='127.0.0.1', run_id='Beamville', id=i)\n",
    "    w.run(background=True)\n",
    "    workers.append(w)\n",
    " \n",
    "    "
   ]
  },
  {
   "cell_type": "code",
   "execution_count": 4,
   "metadata": {
    "scrolled": true
   },
   "outputs": [
    {
     "name": "stderr",
     "output_type": "stream",
     "text": [
      "21:47:51 wait_for_workers trying to get the condition\n",
      "21:47:51 DISPATCHER: started the 'discover_worker' thread\n",
      "21:47:51 DISPATCHER: started the 'job_runner' thread\n",
      "21:47:51 DISPATCHER: Pyro daemon running on localhost:59368\n",
      "21:47:51 DISPATCHER: Starting worker discovery\n",
      "21:47:51 DISPATCHER: Found 4 potential workers, 0 currently in the pool.\n",
      "21:47:51 DISPATCHER: discovered new worker, hpbandster.run_Beamville.worker.KiranCHHATRE.9290.0139940538943296\n",
      "21:47:51 DISPATCHER: discovered new worker, hpbandster.run_Beamville.worker.KiranCHHATRE.9290.1139940538943296\n",
      "21:47:51 DISPATCHER: discovered new worker, hpbandster.run_Beamville.worker.KiranCHHATRE.9290.3139940538943296\n",
      "21:47:51 DISPATCHER: discovered new worker, hpbandster.run_Beamville.worker.KiranCHHATRE.9290.2139940538943296\n",
      "21:47:51 HBMASTER: number of workers changed to 4\n",
      "21:47:51 Enough workers to start this run!\n",
      "21:47:51 adjust_queue_size: lock accquired\n",
      "21:47:51 DISPATCHER: jobs to submit = 0, number of idle workers = 4 -> waiting!\n",
      "21:47:51 HBMASTER: starting run at 1576648071.3887584\n",
      "21:47:51 HBMASTER: adjusted queue size to (3, 4)\n",
      "21:47:51 DISPATCHER: Finished worker discovery\n",
      "21:47:51 start sampling a new configuration.\n",
      "21:47:51 DISPATCHER: Trying to submit another job.\n",
      "21:47:51 done sampling a new configuration.\n",
      "21:47:51 DISPATCHER: jobs to submit = 0, number of idle workers = 4 -> waiting!\n",
      "21:47:51 HBMASTER: schedule new run for iteration 0\n",
      "21:47:51 HBMASTER: trying submitting job (0, 0, 0) to dispatcher\n",
      "21:47:51 HBMASTER: submitting job (0, 0, 0) to dispatcher\n",
      "21:47:51 DISPATCHER: trying to submit job (0, 0, 0)\n",
      "21:47:51 DISPATCHER: trying to notify the job_runner thread.\n",
      "21:47:51 HBMASTER: job (0, 0, 0) submitted to dispatcher\n",
      "21:47:51 DISPATCHER: Trying to submit another job.\n",
      "21:47:51 start sampling a new configuration.\n",
      "21:47:51 DISPATCHER: starting job (0, 0, 0) on hpbandster.run_Beamville.worker.KiranCHHATRE.9290.1139940538943296\n",
      "21:47:51 done sampling a new configuration.\n",
      "21:47:51 DISPATCHER: job (0, 0, 0) dispatched on hpbandster.run_Beamville.worker.KiranCHHATRE.9290.1139940538943296\n",
      "21:47:51 WORKER: start processing job (0, 0, 0)\n",
      "21:47:51 DISPATCHER: jobs to submit = 0, number of idle workers = 3 -> waiting!\n",
      "21:47:51 HBMASTER: schedule new run for iteration 0\n",
      "21:47:51 WORKER: args: ()\n",
      "21:47:51 HBMASTER: trying submitting job (0, 0, 1) to dispatcher\n",
      "21:47:51 WORKER: kwargs: {'config': {'bike_intercept': 3.8708393900773412, 'car_intercept': -3.3045219448534096, 'drive_transit_intercept': 6.575820097396068, 'ride_hail_intercept': 5.876621855049885, 'ride_hail_pooled_intercept': 4.879621406196099, 'ride_hail_transit_intercept': -1.7139282371079103, 'walk_intercept': -1.4566025836692464, 'walk_transit_intercept': -1.8213590332816203}, 'budget': 2.6666666666666665, 'working_directory': '.'}\n",
      "21:47:51 HBMASTER: submitting job (0, 0, 1) to dispatcher\n",
      "21:47:51 DISPATCHER: trying to submit job (0, 0, 1)\n",
      "21:47:51 DISPATCHER: trying to notify the job_runner thread.\n",
      "21:47:51 HBMASTER: job (0, 0, 1) submitted to dispatcher\n",
      "21:47:51 DISPATCHER: Trying to submit another job.\n",
      "21:47:51 start sampling a new configuration.\n",
      "21:47:51 DISPATCHER: starting job (0, 0, 1) on hpbandster.run_Beamville.worker.KiranCHHATRE.9290.2139940538943296\n",
      "21:47:51 done sampling a new configuration.\n",
      "21:47:51 DISPATCHER: job (0, 0, 1) dispatched on hpbandster.run_Beamville.worker.KiranCHHATRE.9290.2139940538943296\n",
      "21:47:51 WORKER: start processing job (0, 0, 1)\n",
      "21:47:51 DISPATCHER: jobs to submit = 0, number of idle workers = 2 -> waiting!\n",
      "21:47:51 HBMASTER: schedule new run for iteration 0\n",
      "21:47:51 WORKER: args: ()\n",
      "21:47:51 HBMASTER: trying submitting job (0, 0, 2) to dispatcher\n",
      "21:47:51 WORKER: kwargs: {'config': {'bike_intercept': -2.83728671320225, 'car_intercept': -4.7986472360373025, 'drive_transit_intercept': 4.2191081942328434, 'ride_hail_intercept': 2.022781299268771, 'ride_hail_pooled_intercept': 6.568881371792894, 'ride_hail_transit_intercept': 8.651901026876518, 'walk_intercept': 8.815712289361016, 'walk_transit_intercept': 2.850806000515493}, 'budget': 2.6666666666666665, 'working_directory': '.'}\n",
      "21:47:51 HBMASTER: submitting job (0, 0, 2) to dispatcher\n",
      "21:47:51 DISPATCHER: trying to submit job (0, 0, 2)\n",
      "21:47:51 DISPATCHER: trying to notify the job_runner thread.\n",
      "21:47:51 HBMASTER: job (0, 0, 2) submitted to dispatcher\n",
      "21:47:51 DISPATCHER: Trying to submit another job.\n",
      "21:47:51 start sampling a new configuration.\n",
      "21:47:51 DISPATCHER: starting job (0, 0, 2) on hpbandster.run_Beamville.worker.KiranCHHATRE.9290.3139940538943296\n",
      "21:47:51 done sampling a new configuration.\n",
      "21:47:51 DISPATCHER: job (0, 0, 2) dispatched on hpbandster.run_Beamville.worker.KiranCHHATRE.9290.3139940538943296\n",
      "21:47:51 WORKER: start processing job (0, 0, 2)\n",
      "21:47:51 HBMASTER: schedule new run for iteration 1\n",
      "21:47:51 HBMASTER: trying submitting job (1, 0, 0) to dispatcher\n",
      "21:47:51 WORKER: args: ()\n",
      "21:47:51 WORKER: kwargs: {'config': {'bike_intercept': -1.3377650264511152, 'car_intercept': 6.742374241060771, 'drive_transit_intercept': -3.758197891357268, 'ride_hail_intercept': -4.450248541183978, 'ride_hail_pooled_intercept': 7.664599608005233, 'ride_hail_transit_intercept': 3.5258988120714516, 'walk_intercept': 9.656071020662816, 'walk_transit_intercept': -3.943998105477942}, 'budget': 2.6666666666666665, 'working_directory': '.'}\n",
      "21:47:51 HBMASTER: submitting job (1, 0, 0) to dispatcher\n",
      "21:47:51 DISPATCHER: trying to submit job (1, 0, 0)\n",
      "21:47:51 DISPATCHER: jobs to submit = 0, number of idle workers = 1 -> waiting!\n",
      "21:47:51 DISPATCHER: trying to notify the job_runner thread.\n",
      "21:47:51 HBMASTER: job (1, 0, 0) submitted to dispatcher\n",
      "21:47:51 DISPATCHER: Trying to submit another job.\n",
      "21:47:51 HBMASTER: running jobs: 4, queue sizes: (3, 4) -> wait\n",
      "21:47:51 DISPATCHER: starting job (1, 0, 0) on hpbandster.run_Beamville.worker.KiranCHHATRE.9290.0139940538943296\n",
      "21:47:51 DISPATCHER: job (1, 0, 0) dispatched on hpbandster.run_Beamville.worker.KiranCHHATRE.9290.0139940538943296\n",
      "21:47:51 DISPATCHER: jobs to submit = 0, number of idle workers = 0 -> waiting!\n",
      "21:47:51 WORKER: start processing job (1, 0, 0)\n",
      "21:47:51 WORKER: args: ()\n",
      "21:47:51 WORKER: kwargs: {'config': {'bike_intercept': 6.735798141434211, 'car_intercept': 4.169577870201257, 'drive_transit_intercept': 4.2739836891513185, 'ride_hail_intercept': -0.34321448944495714, 'ride_hail_pooled_intercept': 0.27099868636175906, 'ride_hail_transit_intercept': 8.930407478529366, 'walk_intercept': -0.16365304099719147, 'walk_transit_intercept': 7.909019504934939}, 'budget': 8.0, 'working_directory': '.'}\n",
      "21:47:51 WORKER: done with job (1, 0, 0), trying to register it.\n",
      "21:47:51 WORKER: registered result for job (1, 0, 0) with dispatcher\n",
      "21:47:51 DISPATCHER: job (1, 0, 0) finished\n",
      "21:47:51 DISPATCHER: register_result: lock acquired\n",
      "21:47:51 DISPATCHER: job (1, 0, 0) on hpbandster.run_Beamville.worker.KiranCHHATRE.9290.0139940538943296 finished\n",
      "21:47:51 job_id: (1, 0, 0)\n",
      "kwargs: {'config': {'bike_intercept': 6.735798141434211, 'car_intercept': 4.169577870201257, 'drive_transit_intercept': 4.2739836891513185, 'ride_hail_intercept': -0.34321448944495714, 'ride_hail_pooled_intercept': 0.27099868636175906, 'ride_hail_transit_intercept': 8.930407478529366, 'walk_intercept': -0.16365304099719147, 'walk_transit_intercept': 7.909019504934939}, 'budget': 8.0, 'working_directory': '.'}\n",
      "result: None\n",
      "exception: Traceback (most recent call last):\n",
      "  File \"/home/berkeleylab/anaconda3/envs/tune/lib/python3.7/site-packages/hpbandster/core/worker.py\", line 206, in start_computation\n",
      "    result = {'result': self.compute(*args, config_id=id, **kwargs),\n",
      "  File \"/home/berkeleylab/Calib_documentation/TUNE_integrate/TUNE_test/worker_n_optimizer/BeamWorker.py\", line 62, in compute\n",
      "    change_conf(config)\n",
      "  File \"/home/berkeleylab/Calib_documentation/TUNE_integrate/TUNE_test/worker_n_optimizer/BeamWorker.py\", line 44, in change_conf\n",
      "    file_text[i] = file_text[i].split('=',1)[0]+'= '\n",
      "IndexError: list index out of range\n",
      "\n",
      "\n",
      "21:47:51 job_callback for (1, 0, 0) started\n",
      "21:47:51 DISPATCHER: Trying to submit another job.\n",
      "21:47:51 job_callback for (1, 0, 0) got condition\n",
      "21:47:51 DISPATCHER: jobs to submit = 0, number of idle workers = 1 -> waiting!\n"
     ]
    },
    {
     "name": "stderr",
     "output_type": "stream",
     "text": [
      "21:47:51 job (1, 0, 0) failed with exception\n",
      "Traceback (most recent call last):\n",
      "  File \"/home/berkeleylab/anaconda3/envs/tune/lib/python3.7/site-packages/hpbandster/core/worker.py\", line 206, in start_computation\n",
      "    result = {'result': self.compute(*args, config_id=id, **kwargs),\n",
      "  File \"/home/berkeleylab/Calib_documentation/TUNE_integrate/TUNE_test/worker_n_optimizer/BeamWorker.py\", line 62, in compute\n",
      "    change_conf(config)\n",
      "  File \"/home/berkeleylab/Calib_documentation/TUNE_integrate/TUNE_test/worker_n_optimizer/BeamWorker.py\", line 44, in change_conf\n",
      "    file_text[i] = file_text[i].split('=',1)[0]+'= '\n",
      "IndexError: list index out of range\n",
      "\n",
      "21:47:51 Only 1 run(s) for budget 8.000000 available, need more than 10 -> can't build model!\n",
      "21:47:51 HBMASTER: Trying to run another job!\n",
      "21:47:51 job_callback for (1, 0, 0) finished\n",
      "21:47:51 start sampling a new configuration.\n",
      "21:47:51 done sampling a new configuration.\n",
      "21:47:51 HBMASTER: schedule new run for iteration 1\n",
      "21:47:51 HBMASTER: trying submitting job (1, 0, 1) to dispatcher\n",
      "21:47:51 HBMASTER: submitting job (1, 0, 1) to dispatcher\n",
      "21:47:51 DISPATCHER: trying to submit job (1, 0, 1)\n",
      "21:47:51 DISPATCHER: trying to notify the job_runner thread.\n",
      "21:47:51 HBMASTER: job (1, 0, 1) submitted to dispatcher\n",
      "21:47:51 HBMASTER: running jobs: 4, queue sizes: (3, 4) -> wait\n",
      "21:47:51 DISPATCHER: Trying to submit another job.\n",
      "21:47:51 DISPATCHER: starting job (1, 0, 1) on hpbandster.run_Beamville.worker.KiranCHHATRE.9290.0139940538943296\n",
      "21:47:51 DISPATCHER: job (1, 0, 1) dispatched on hpbandster.run_Beamville.worker.KiranCHHATRE.9290.0139940538943296\n",
      "21:47:51 WORKER: start processing job (1, 0, 1)\n",
      "21:47:51 WORKER: args: ()\n",
      "21:47:51 WORKER: kwargs: {'config': {'bike_intercept': 5.163538937718638, 'car_intercept': 0.677599951873745, 'drive_transit_intercept': 8.339183961343013, 'ride_hail_intercept': 9.143325593264867, 'ride_hail_pooled_intercept': 6.482602847594206, 'ride_hail_transit_intercept': 6.954690976577313, 'walk_intercept': 2.4268462682026577, 'walk_transit_intercept': 9.601958334188422}, 'budget': 8.0, 'working_directory': '.'}\n",
      "21:47:51 DISPATCHER: jobs to submit = 0, number of idle workers = 0 -> waiting!\n",
      "21:48:25 WORKER: done with job (1, 0, 1), trying to register it.\n",
      "21:48:25 WORKER: done with job (0, 0, 1), trying to register it.\n",
      "21:48:25 WORKER: registered result for job (1, 0, 1) with dispatcher\n",
      "21:48:25 DISPATCHER: job (1, 0, 1) finished\n",
      "21:48:25 DISPATCHER: register_result: lock acquired\n",
      "21:48:25 DISPATCHER: job (1, 0, 1) on hpbandster.run_Beamville.worker.KiranCHHATRE.9290.0139940538943296 finished\n",
      "21:48:25 job_id: (1, 0, 1)\n",
      "kwargs: {'config': {'bike_intercept': 5.163538937718638, 'car_intercept': 0.677599951873745, 'drive_transit_intercept': 8.339183961343013, 'ride_hail_intercept': 9.143325593264867, 'ride_hail_pooled_intercept': 6.482602847594206, 'ride_hail_transit_intercept': 6.954690976577313, 'walk_intercept': 2.4268462682026577, 'walk_transit_intercept': 9.601958334188422}, 'budget': 8.0, 'working_directory': '.'}\n",
      "result: None\n",
      "exception: Traceback (most recent call last):\n",
      "  File \"/home/berkeleylab/anaconda3/envs/tune/lib/python3.7/site-packages/hpbandster/core/worker.py\", line 206, in start_computation\n",
      "    result = {'result': self.compute(*args, config_id=id, **kwargs),\n",
      "  File \"/home/berkeleylab/Calib_documentation/TUNE_integrate/TUNE_test/worker_n_optimizer/BeamWorker.py\", line 81, in compute\n",
      "    df = pd.read_csv(latest_subdir+\"/referenceRealizedModeChoice.csv\").iloc[[0, -1]].drop(['iterations'], axis=1)\n",
      "  File \"/home/berkeleylab/anaconda3/envs/tune/lib/python3.7/site-packages/pandas/io/parsers.py\", line 685, in parser_f\n",
      "    return _read(filepath_or_buffer, kwds)\n",
      "  File \"/home/berkeleylab/anaconda3/envs/tune/lib/python3.7/site-packages/pandas/io/parsers.py\", line 457, in _read\n",
      "    parser = TextFileReader(fp_or_buf, **kwds)\n",
      "  File \"/home/berkeleylab/anaconda3/envs/tune/lib/python3.7/site-packages/pandas/io/parsers.py\", line 895, in __init__\n",
      "    self._make_engine(self.engine)\n",
      "  File \"/home/berkeleylab/anaconda3/envs/tune/lib/python3.7/site-packages/pandas/io/parsers.py\", line 1135, in _make_engine\n",
      "    self._engine = CParserWrapper(self.f, **self.options)\n",
      "  File \"/home/berkeleylab/anaconda3/envs/tune/lib/python3.7/site-packages/pandas/io/parsers.py\", line 1917, in __init__\n",
      "    self._reader = parsers.TextReader(src, **kwds)\n",
      "  File \"pandas/_libs/parsers.pyx\", line 382, in pandas._libs.parsers.TextReader.__cinit__\n",
      "  File \"pandas/_libs/parsers.pyx\", line 689, in pandas._libs.parsers.TextReader._setup_parser_source\n",
      "FileNotFoundError: [Errno 2] File b'/home/berkeleylab/Repository/beam/output/beamville/beamville__2019-12-18_05-47-58/referenceRealizedModeChoice.csv' does not exist: b'/home/berkeleylab/Repository/beam/output/beamville/beamville__2019-12-18_05-47-58/referenceRealizedModeChoice.csv'\n",
      "\n",
      "\n",
      "21:48:26 job_callback for (1, 0, 1) started\n",
      "21:48:25 DISPATCHER: job (0, 0, 1) finished\n",
      "21:48:26 DISPATCHER: Trying to submit another job.\n",
      "21:48:26 DISPATCHER: jobs to submit = 0, number of idle workers = 1 -> waiting!\n",
      "21:48:26 job_callback for (1, 0, 1) got condition\n",
      "21:48:25 WORKER: registered result for job (0, 0, 1) with dispatcher\n",
      "21:48:26 DISPATCHER: register_result: lock acquired\n",
      "21:48:26 DISPATCHER: job (0, 0, 1) on hpbandster.run_Beamville.worker.KiranCHHATRE.9290.2139940538943296 finished\n",
      "21:48:26 job_id: (0, 0, 1)\n",
      "kwargs: {'config': {'bike_intercept': -2.83728671320225, 'car_intercept': -4.7986472360373025, 'drive_transit_intercept': 4.2191081942328434, 'ride_hail_intercept': 2.022781299268771, 'ride_hail_pooled_intercept': 6.568881371792894, 'ride_hail_transit_intercept': 8.651901026876518, 'walk_intercept': 8.815712289361016, 'walk_transit_intercept': 2.850806000515493}, 'budget': 2.6666666666666665, 'working_directory': '.'}\n",
      "result: None\n",
      "exception: Traceback (most recent call last):\n",
      "  File \"/home/berkeleylab/anaconda3/envs/tune/lib/python3.7/site-packages/hpbandster/core/worker.py\", line 206, in start_computation\n",
      "    result = {'result': self.compute(*args, config_id=id, **kwargs),\n",
      "  File \"/home/berkeleylab/Calib_documentation/TUNE_integrate/TUNE_test/worker_n_optimizer/BeamWorker.py\", line 81, in compute\n",
      "    df = pd.read_csv(latest_subdir+\"/referenceRealizedModeChoice.csv\").iloc[[0, -1]].drop(['iterations'], axis=1)\n",
      "  File \"/home/berkeleylab/anaconda3/envs/tune/lib/python3.7/site-packages/pandas/io/parsers.py\", line 685, in parser_f\n",
      "    return _read(filepath_or_buffer, kwds)\n",
      "  File \"/home/berkeleylab/anaconda3/envs/tune/lib/python3.7/site-packages/pandas/io/parsers.py\", line 457, in _read\n",
      "    parser = TextFileReader(fp_or_buf, **kwds)\n",
      "  File \"/home/berkeleylab/anaconda3/envs/tune/lib/python3.7/site-packages/pandas/io/parsers.py\", line 895, in __init__\n",
      "    self._make_engine(self.engine)\n",
      "  File \"/home/berkeleylab/anaconda3/envs/tune/lib/python3.7/site-packages/pandas/io/parsers.py\", line 1135, in _make_engine\n",
      "    self._engine = CParserWrapper(self.f, **self.options)\n",
      "  File \"/home/berkeleylab/anaconda3/envs/tune/lib/python3.7/site-packages/pandas/io/parsers.py\", line 1917, in __init__\n",
      "    self._reader = parsers.TextReader(src, **kwds)\n",
      "  File \"pandas/_libs/parsers.pyx\", line 382, in pandas._libs.parsers.TextReader.__cinit__\n",
      "  File \"pandas/_libs/parsers.pyx\", line 689, in pandas._libs.parsers.TextReader._setup_parser_source\n",
      "FileNotFoundError: [Errno 2] File b'/home/berkeleylab/Repository/beam/output/beamville/beamville__2019-12-18_05-47-58/referenceRealizedModeChoice.csv' does not exist: b'/home/berkeleylab/Repository/beam/output/beamville/beamville__2019-12-18_05-47-58/referenceRealizedModeChoice.csv'\n",
      "\n",
      "\n",
      "21:48:26 job_callback for (0, 0, 1) started\n",
      "21:48:26 job (1, 0, 1) failed with exception\n",
      "Traceback (most recent call last):\n",
      "  File \"/home/berkeleylab/anaconda3/envs/tune/lib/python3.7/site-packages/hpbandster/core/worker.py\", line 206, in start_computation\n",
      "    result = {'result': self.compute(*args, config_id=id, **kwargs),\n",
      "  File \"/home/berkeleylab/Calib_documentation/TUNE_integrate/TUNE_test/worker_n_optimizer/BeamWorker.py\", line 81, in compute\n",
      "    df = pd.read_csv(latest_subdir+\"/referenceRealizedModeChoice.csv\").iloc[[0, -1]].drop(['iterations'], axis=1)\n",
      "  File \"/home/berkeleylab/anaconda3/envs/tune/lib/python3.7/site-packages/pandas/io/parsers.py\", line 685, in parser_f\n",
      "    return _read(filepath_or_buffer, kwds)\n",
      "  File \"/home/berkeleylab/anaconda3/envs/tune/lib/python3.7/site-packages/pandas/io/parsers.py\", line 457, in _read\n",
      "    parser = TextFileReader(fp_or_buf, **kwds)\n",
      "  File \"/home/berkeleylab/anaconda3/envs/tune/lib/python3.7/site-packages/pandas/io/parsers.py\", line 895, in __init__\n",
      "    self._make_engine(self.engine)\n",
      "  File \"/home/berkeleylab/anaconda3/envs/tune/lib/python3.7/site-packages/pandas/io/parsers.py\", line 1135, in _make_engine\n",
      "    self._engine = CParserWrapper(self.f, **self.options)\n",
      "  File \"/home/berkeleylab/anaconda3/envs/tune/lib/python3.7/site-packages/pandas/io/parsers.py\", line 1917, in __init__\n",
      "    self._reader = parsers.TextReader(src, **kwds)\n",
      "  File \"pandas/_libs/parsers.pyx\", line 382, in pandas._libs.parsers.TextReader.__cinit__\n",
      "  File \"pandas/_libs/parsers.pyx\", line 689, in pandas._libs.parsers.TextReader._setup_parser_source\n",
      "FileNotFoundError: [Errno 2] File b'/home/berkeleylab/Repository/beam/output/beamville/beamville__2019-12-18_05-47-58/referenceRealizedModeChoice.csv' does not exist: b'/home/berkeleylab/Repository/beam/output/beamville/beamville__2019-12-18_05-47-58/referenceRealizedModeChoice.csv'\n",
      "\n"
     ]
    },
    {
     "name": "stderr",
     "output_type": "stream",
     "text": [
      "21:48:26 Only 2 run(s) for budget 8.000000 available, need more than 10 -> can't build model!\n",
      "21:48:26 HBMASTER: Trying to run another job!\n",
      "21:48:26 job_callback for (1, 0, 1) finished\n",
      "21:48:26 DISPATCHER: Trying to submit another job.\n",
      "21:48:26 DISPATCHER: jobs to submit = 0, number of idle workers = 2 -> waiting!\n",
      "21:48:26 start sampling a new configuration.\n",
      "21:48:26 done sampling a new configuration.\n",
      "21:48:26 HBMASTER: schedule new run for iteration 2\n",
      "21:48:26 HBMASTER: trying submitting job (2, 0, 0) to dispatcher\n",
      "21:48:26 HBMASTER: submitting job (2, 0, 0) to dispatcher\n",
      "21:48:26 DISPATCHER: trying to submit job (2, 0, 0)\n",
      "21:48:26 DISPATCHER: trying to notify the job_runner thread.\n",
      "21:48:26 HBMASTER: job (2, 0, 0) submitted to dispatcher\n",
      "21:48:26 HBMASTER: running jobs: 4, queue sizes: (3, 4) -> wait\n",
      "21:48:26 DISPATCHER: Trying to submit another job.\n",
      "21:48:26 DISPATCHER: starting job (2, 0, 0) on hpbandster.run_Beamville.worker.KiranCHHATRE.9290.2139940538943296\n",
      "21:48:26 job_callback for (0, 0, 1) got condition\n",
      "21:48:26 job (0, 0, 1) failed with exception\n",
      "Traceback (most recent call last):\n",
      "  File \"/home/berkeleylab/anaconda3/envs/tune/lib/python3.7/site-packages/hpbandster/core/worker.py\", line 206, in start_computation\n",
      "    result = {'result': self.compute(*args, config_id=id, **kwargs),\n",
      "  File \"/home/berkeleylab/Calib_documentation/TUNE_integrate/TUNE_test/worker_n_optimizer/BeamWorker.py\", line 81, in compute\n",
      "    df = pd.read_csv(latest_subdir+\"/referenceRealizedModeChoice.csv\").iloc[[0, -1]].drop(['iterations'], axis=1)\n",
      "  File \"/home/berkeleylab/anaconda3/envs/tune/lib/python3.7/site-packages/pandas/io/parsers.py\", line 685, in parser_f\n",
      "    return _read(filepath_or_buffer, kwds)\n",
      "  File \"/home/berkeleylab/anaconda3/envs/tune/lib/python3.7/site-packages/pandas/io/parsers.py\", line 457, in _read\n",
      "    parser = TextFileReader(fp_or_buf, **kwds)\n",
      "  File \"/home/berkeleylab/anaconda3/envs/tune/lib/python3.7/site-packages/pandas/io/parsers.py\", line 895, in __init__\n",
      "    self._make_engine(self.engine)\n",
      "  File \"/home/berkeleylab/anaconda3/envs/tune/lib/python3.7/site-packages/pandas/io/parsers.py\", line 1135, in _make_engine\n",
      "    self._engine = CParserWrapper(self.f, **self.options)\n",
      "  File \"/home/berkeleylab/anaconda3/envs/tune/lib/python3.7/site-packages/pandas/io/parsers.py\", line 1917, in __init__\n",
      "    self._reader = parsers.TextReader(src, **kwds)\n",
      "  File \"pandas/_libs/parsers.pyx\", line 382, in pandas._libs.parsers.TextReader.__cinit__\n",
      "  File \"pandas/_libs/parsers.pyx\", line 689, in pandas._libs.parsers.TextReader._setup_parser_source\n",
      "FileNotFoundError: [Errno 2] File b'/home/berkeleylab/Repository/beam/output/beamville/beamville__2019-12-18_05-47-58/referenceRealizedModeChoice.csv' does not exist: b'/home/berkeleylab/Repository/beam/output/beamville/beamville__2019-12-18_05-47-58/referenceRealizedModeChoice.csv'\n",
      "\n",
      "21:48:26 Only 1 run(s) for budget 2.666667 available, need more than 10 -> can't build model!\n",
      "21:48:26 HBMASTER: Trying to run another job!\n",
      "21:48:26 job_callback for (0, 0, 1) finished\n",
      "21:48:26 DISPATCHER: job (2, 0, 0) dispatched on hpbandster.run_Beamville.worker.KiranCHHATRE.9290.2139940538943296\n",
      "21:48:26 DISPATCHER: jobs to submit = 0, number of idle workers = 1 -> waiting!\n",
      "21:48:26 WORKER: start processing job (2, 0, 0)\n",
      "21:48:26 start sampling a new configuration.\n",
      "21:48:26 done sampling a new configuration.\n",
      "21:48:26 HBMASTER: schedule new run for iteration 2\n",
      "21:48:26 HBMASTER: trying submitting job (2, 0, 1) to dispatcher\n",
      "21:48:26 HBMASTER: submitting job (2, 0, 1) to dispatcher\n",
      "21:48:26 DISPATCHER: trying to submit job (2, 0, 1)\n",
      "21:48:26 DISPATCHER: trying to notify the job_runner thread.\n",
      "21:48:26 HBMASTER: job (2, 0, 1) submitted to dispatcher\n",
      "21:48:26 DISPATCHER: Trying to submit another job.\n",
      "21:48:26 DISPATCHER: starting job (2, 0, 1) on hpbandster.run_Beamville.worker.KiranCHHATRE.9290.0139940538943296\n",
      "21:48:26 HBMASTER: running jobs: 4, queue sizes: (3, 4) -> wait\n",
      "21:48:26 WORKER: args: ()\n",
      "21:48:26 WORKER: kwargs: {'config': {'bike_intercept': 9.829058060368865, 'car_intercept': 0.228264195148717, 'drive_transit_intercept': 8.660213103948994, 'ride_hail_intercept': 8.23317914141294, 'ride_hail_pooled_intercept': 3.7351356438807173, 'ride_hail_transit_intercept': 4.050079544788421, 'walk_intercept': -3.8331147483077608, 'walk_transit_intercept': 4.504285025840096}, 'budget': 2.6666666666666665, 'working_directory': '.'}\n",
      "21:48:26 WORKER: start processing job (2, 0, 1)\n",
      "21:48:26 DISPATCHER: job (2, 0, 1) dispatched on hpbandster.run_Beamville.worker.KiranCHHATRE.9290.0139940538943296\n",
      "21:48:26 DISPATCHER: jobs to submit = 0, number of idle workers = 0 -> waiting!\n",
      "21:48:26 WORKER: args: ()\n",
      "21:48:26 WORKER: kwargs: {'config': {'bike_intercept': 1.2645058995570455, 'car_intercept': 6.792065254084903, 'drive_transit_intercept': -0.9622928828406403, 'ride_hail_intercept': 4.059437809112776, 'ride_hail_pooled_intercept': -4.270967096285829, 'ride_hail_transit_intercept': 9.844622387854379, 'walk_intercept': 5.4731155322154645, 'walk_transit_intercept': -3.3756792997403173}, 'budget': 2.6666666666666665, 'working_directory': '.'}\n",
      "21:48:51 DISPATCHER: Starting worker discovery\n",
      "21:48:51 DISPATCHER: Found 4 potential workers, 4 currently in the pool.\n",
      "21:48:51 DISPATCHER: Finished worker discovery\n",
      "21:49:51 DISPATCHER: Starting worker discovery\n",
      "21:49:51 DISPATCHER: Found 4 potential workers, 4 currently in the pool.\n",
      "21:49:51 DISPATCHER: Finished worker discovery\n",
      "21:50:51 DISPATCHER: Starting worker discovery\n",
      "21:50:51 DISPATCHER: Found 4 potential workers, 4 currently in the pool.\n",
      "21:50:51 DISPATCHER: Finished worker discovery\n",
      "21:51:51 DISPATCHER: Starting worker discovery\n",
      "21:51:51 DISPATCHER: Found 4 potential workers, 4 currently in the pool.\n",
      "21:51:51 DISPATCHER: Finished worker discovery\n",
      "21:52:51 DISPATCHER: Starting worker discovery\n",
      "21:52:51 DISPATCHER: Found 4 potential workers, 4 currently in the pool.\n",
      "21:52:51 DISPATCHER: Finished worker discovery\n",
      "21:53:44 WORKER: done with job (0, 0, 0), trying to register it.\n",
      "21:53:44 WORKER: registered result for job (0, 0, 0) with dispatcher\n",
      "21:53:44 DISPATCHER: job (0, 0, 0) finished\n",
      "21:53:44 DISPATCHER: register_result: lock acquired\n",
      "21:53:44 DISPATCHER: job (0, 0, 0) on hpbandster.run_Beamville.worker.KiranCHHATRE.9290.1139940538943296 finished\n",
      "21:53:44 job_id: (0, 0, 0)\n",
      "kwargs: {'config': {'bike_intercept': 3.8708393900773412, 'car_intercept': -3.3045219448534096, 'drive_transit_intercept': 6.575820097396068, 'ride_hail_intercept': 5.876621855049885, 'ride_hail_pooled_intercept': 4.879621406196099, 'ride_hail_transit_intercept': -1.7139282371079103, 'walk_intercept': -1.4566025836692464, 'walk_transit_intercept': -1.8213590332816203}, 'budget': 2.6666666666666665, 'working_directory': '.'}\n",
      "result: {'loss': -1.3546322958087664, 'info': -1.3546322958087664}\n",
      "exception: None\n",
      "\n",
      "21:53:44 job_callback for (0, 0, 0) started\n",
      "21:53:44 DISPATCHER: Trying to submit another job.\n",
      "21:53:44 job_callback for (0, 0, 0) got condition\n",
      "21:53:44 DISPATCHER: jobs to submit = 0, number of idle workers = 1 -> waiting!\n",
      "21:53:44 Only 2 run(s) for budget 2.666667 available, need more than 10 -> can't build model!\n",
      "21:53:44 HBMASTER: Trying to run another job!\n",
      "21:53:44 job_callback for (0, 0, 0) finished\n",
      "21:53:44 start sampling a new configuration.\n",
      "21:53:44 done sampling a new configuration.\n",
      "21:53:44 HBMASTER: schedule new run for iteration 2\n",
      "21:53:44 HBMASTER: trying submitting job (2, 0, 2) to dispatcher\n",
      "21:53:44 HBMASTER: submitting job (2, 0, 2) to dispatcher\n",
      "21:53:44 DISPATCHER: trying to submit job (2, 0, 2)\n",
      "21:53:44 DISPATCHER: trying to notify the job_runner thread.\n",
      "21:53:44 HBMASTER: job (2, 0, 2) submitted to dispatcher\n",
      "21:53:44 HBMASTER: running jobs: 4, queue sizes: (3, 4) -> wait\n",
      "21:53:44 DISPATCHER: Trying to submit another job.\n",
      "21:53:44 DISPATCHER: starting job (2, 0, 2) on hpbandster.run_Beamville.worker.KiranCHHATRE.9290.1139940538943296\n",
      "21:53:44 DISPATCHER: job (2, 0, 2) dispatched on hpbandster.run_Beamville.worker.KiranCHHATRE.9290.1139940538943296\n",
      "21:53:44 WORKER: start processing job (2, 0, 2)\n",
      "21:53:44 DISPATCHER: jobs to submit = 0, number of idle workers = 0 -> waiting!\n",
      "21:53:44 WORKER: args: ()\n",
      "21:53:44 WORKER: kwargs: {'config': {'bike_intercept': 9.891922120436863, 'car_intercept': 2.41958820631847, 'drive_transit_intercept': -2.5992262820132965, 'ride_hail_intercept': -3.8155402253363957, 'ride_hail_pooled_intercept': -1.3829786174425291, 'ride_hail_transit_intercept': 0.12953405206519708, 'walk_intercept': -1.228270383327275, 'walk_transit_intercept': 1.5454940029091517}, 'budget': 2.6666666666666665, 'working_directory': '.'}\n"
     ]
    },
    {
     "name": "stdout",
     "output_type": "stream",
     "text": [
      "1.3546322958087664\n"
     ]
    },
    {
     "name": "stderr",
     "output_type": "stream",
     "text": [
      "21:53:46 WORKER: done with job (0, 0, 2), trying to register it.\n",
      "21:53:46 WORKER: registered result for job (0, 0, 2) with dispatcher\n",
      "21:53:46 DISPATCHER: job (0, 0, 2) finished\n",
      "21:53:46 DISPATCHER: register_result: lock acquired\n",
      "21:53:46 DISPATCHER: job (0, 0, 2) on hpbandster.run_Beamville.worker.KiranCHHATRE.9290.3139940538943296 finished\n",
      "21:53:46 job_id: (0, 0, 2)\n",
      "kwargs: {'config': {'bike_intercept': -1.3377650264511152, 'car_intercept': 6.742374241060771, 'drive_transit_intercept': -3.758197891357268, 'ride_hail_intercept': -4.450248541183978, 'ride_hail_pooled_intercept': 7.664599608005233, 'ride_hail_transit_intercept': 3.5258988120714516, 'walk_intercept': 9.656071020662816, 'walk_transit_intercept': -3.943998105477942}, 'budget': 2.6666666666666665, 'working_directory': '.'}\n",
      "result: {'loss': -1.4403263403263407, 'info': -1.4403263403263407}\n",
      "exception: None\n",
      "\n",
      "21:53:46 job_callback for (0, 0, 2) started\n",
      "21:53:46 DISPATCHER: Trying to submit another job.\n",
      "21:53:46 DISPATCHER: jobs to submit = 0, number of idle workers = 1 -> waiting!\n",
      "21:53:46 job_callback for (0, 0, 2) got condition\n",
      "21:53:46 Only 3 run(s) for budget 2.666667 available, need more than 10 -> can't build model!\n",
      "21:53:46 HBMASTER: Trying to run another job!\n",
      "21:53:46 job_callback for (0, 0, 2) finished\n",
      "21:53:46 ITERATION: Advancing config (0, 0, 2) to next budget 8.000000\n",
      "21:53:46 HBMASTER: schedule new run for iteration 0\n",
      "21:53:46 HBMASTER: trying submitting job (0, 0, 2) to dispatcher\n",
      "21:53:46 HBMASTER: submitting job (0, 0, 2) to dispatcher\n",
      "21:53:46 DISPATCHER: trying to submit job (0, 0, 2)\n",
      "21:53:46 DISPATCHER: trying to notify the job_runner thread.\n",
      "21:53:46 HBMASTER: job (0, 0, 2) submitted to dispatcher\n",
      "21:53:46 DISPATCHER: Trying to submit another job.\n",
      "21:53:46 HBMASTER: running jobs: 4, queue sizes: (3, 4) -> wait\n",
      "21:53:46 DISPATCHER: starting job (0, 0, 2) on hpbandster.run_Beamville.worker.KiranCHHATRE.9290.3139940538943296\n",
      "21:53:46 DISPATCHER: job (0, 0, 2) dispatched on hpbandster.run_Beamville.worker.KiranCHHATRE.9290.3139940538943296\n",
      "21:53:46 DISPATCHER: jobs to submit = 0, number of idle workers = 0 -> waiting!\n",
      "21:53:46 WORKER: start processing job (0, 0, 2)\n",
      "21:53:46 WORKER: args: ()\n",
      "21:53:46 WORKER: kwargs: {'config': {'bike_intercept': -1.3377650264511152, 'car_intercept': 6.742374241060771, 'drive_transit_intercept': -3.758197891357268, 'ride_hail_intercept': -4.450248541183978, 'ride_hail_pooled_intercept': 7.664599608005233, 'ride_hail_transit_intercept': 3.5258988120714516, 'walk_intercept': 9.656071020662816, 'walk_transit_intercept': -3.943998105477942}, 'budget': 8.0, 'working_directory': '.'}\n"
     ]
    },
    {
     "name": "stdout",
     "output_type": "stream",
     "text": [
      "1.4403263403263407\n"
     ]
    },
    {
     "name": "stderr",
     "output_type": "stream",
     "text": [
      "21:53:51 DISPATCHER: Starting worker discovery\n",
      "21:53:51 DISPATCHER: Found 4 potential workers, 4 currently in the pool.\n",
      "21:53:51 DISPATCHER: Finished worker discovery\n",
      "21:54:24 WORKER: done with job (2, 0, 1), trying to register it.\n",
      "21:54:24 WORKER: registered result for job (2, 0, 1) with dispatcher\n",
      "21:54:24 DISPATCHER: job (2, 0, 1) finished\n",
      "21:54:24 DISPATCHER: register_result: lock acquired\n",
      "21:54:24 DISPATCHER: job (2, 0, 1) on hpbandster.run_Beamville.worker.KiranCHHATRE.9290.0139940538943296 finished\n",
      "21:54:24 job_id: (2, 0, 1)\n",
      "kwargs: {'config': {'bike_intercept': 1.2645058995570455, 'car_intercept': 6.792065254084903, 'drive_transit_intercept': -0.9622928828406403, 'ride_hail_intercept': 4.059437809112776, 'ride_hail_pooled_intercept': -4.270967096285829, 'ride_hail_transit_intercept': 9.844622387854379, 'walk_intercept': 5.4731155322154645, 'walk_transit_intercept': -3.3756792997403173}, 'budget': 2.6666666666666665, 'working_directory': '.'}\n",
      "result: {'loss': -1.4515928515928518, 'info': -1.4515928515928518}\n",
      "exception: None\n",
      "\n",
      "21:54:24 job_callback for (2, 0, 1) started\n",
      "21:54:24 job_callback for (2, 0, 1) got condition\n",
      "21:54:24 DISPATCHER: Trying to submit another job.\n",
      "21:54:24 Only 4 run(s) for budget 2.666667 available, need more than 10 -> can't build model!\n",
      "21:54:24 HBMASTER: Trying to run another job!\n",
      "21:54:24 DISPATCHER: jobs to submit = 0, number of idle workers = 1 -> waiting!\n",
      "21:54:25 job_callback for (2, 0, 1) finished\n",
      "21:54:25 start sampling a new configuration.\n",
      "21:54:25 done sampling a new configuration.\n",
      "21:54:25 HBMASTER: schedule new run for iteration 3\n",
      "21:54:25 HBMASTER: trying submitting job (3, 0, 0) to dispatcher\n",
      "21:54:25 HBMASTER: submitting job (3, 0, 0) to dispatcher\n",
      "21:54:25 DISPATCHER: trying to submit job (3, 0, 0)\n",
      "21:54:25 DISPATCHER: trying to notify the job_runner thread.\n",
      "21:54:25 HBMASTER: job (3, 0, 0) submitted to dispatcher\n",
      "21:54:25 HBMASTER: running jobs: 4, queue sizes: (3, 4) -> wait\n"
     ]
    },
    {
     "name": "stdout",
     "output_type": "stream",
     "text": [
      "1.4515928515928518\n"
     ]
    },
    {
     "name": "stderr",
     "output_type": "stream",
     "text": [
      "21:54:25 DISPATCHER: Trying to submit another job.\n",
      "21:54:25 DISPATCHER: starting job (3, 0, 0) on hpbandster.run_Beamville.worker.KiranCHHATRE.9290.0139940538943296\n",
      "21:54:25 DISPATCHER: job (3, 0, 0) dispatched on hpbandster.run_Beamville.worker.KiranCHHATRE.9290.0139940538943296\n",
      "21:54:25 DISPATCHER: jobs to submit = 0, number of idle workers = 0 -> waiting!\n",
      "21:54:25 WORKER: start processing job (3, 0, 0)\n",
      "21:54:25 WORKER: args: ()\n",
      "21:54:25 WORKER: kwargs: {'config': {'bike_intercept': 2.2103517032978734, 'car_intercept': 9.596180065159697, 'drive_transit_intercept': 9.274220082162891, 'ride_hail_intercept': -0.8316747547597538, 'ride_hail_pooled_intercept': -4.693657222996418, 'ride_hail_transit_intercept': -2.3959355553296167, 'walk_intercept': -1.5917661203977773, 'walk_transit_intercept': 5.819388099122401}, 'budget': 8.0, 'working_directory': '.'}\n",
      "21:54:26 WORKER: done with job (2, 0, 0), trying to register it.\n",
      "21:54:26 WORKER: registered result for job (2, 0, 0) with dispatcher\n",
      "21:54:26 DISPATCHER: job (2, 0, 0) finished\n",
      "21:54:26 DISPATCHER: register_result: lock acquired\n",
      "21:54:26 DISPATCHER: job (2, 0, 0) on hpbandster.run_Beamville.worker.KiranCHHATRE.9290.2139940538943296 finished\n",
      "21:54:26 job_id: (2, 0, 0)\n",
      "kwargs: {'config': {'bike_intercept': 9.829058060368865, 'car_intercept': 0.228264195148717, 'drive_transit_intercept': 8.660213103948994, 'ride_hail_intercept': 8.23317914141294, 'ride_hail_pooled_intercept': 3.7351356438807173, 'ride_hail_transit_intercept': 4.050079544788421, 'walk_intercept': -3.8331147483077608, 'walk_transit_intercept': 4.504285025840096}, 'budget': 2.6666666666666665, 'working_directory': '.'}\n",
      "result: {'loss': -1.4515928515928518, 'info': -1.4515928515928518}\n",
      "exception: None\n",
      "\n",
      "21:54:26 job_callback for (2, 0, 0) started\n",
      "21:54:26 job_callback for (2, 0, 0) got condition\n",
      "21:54:26 DISPATCHER: Trying to submit another job.\n",
      "21:54:26 Only 5 run(s) for budget 2.666667 available, need more than 10 -> can't build model!\n",
      "21:54:26 HBMASTER: Trying to run another job!\n",
      "21:54:26 job_callback for (2, 0, 0) finished\n",
      "21:54:26 DISPATCHER: jobs to submit = 0, number of idle workers = 1 -> waiting!\n",
      "21:54:26 start sampling a new configuration.\n"
     ]
    },
    {
     "name": "stdout",
     "output_type": "stream",
     "text": [
      "1.4515928515928518\n"
     ]
    },
    {
     "name": "stderr",
     "output_type": "stream",
     "text": [
      "21:54:26 done sampling a new configuration.\n",
      "21:54:27 HBMASTER: schedule new run for iteration 3\n",
      "21:54:27 HBMASTER: trying submitting job (3, 0, 1) to dispatcher\n",
      "21:54:27 HBMASTER: submitting job (3, 0, 1) to dispatcher\n",
      "21:54:27 DISPATCHER: trying to submit job (3, 0, 1)\n",
      "21:54:27 DISPATCHER: trying to notify the job_runner thread.\n",
      "21:54:27 HBMASTER: job (3, 0, 1) submitted to dispatcher\n",
      "21:54:27 HBMASTER: running jobs: 4, queue sizes: (3, 4) -> wait\n",
      "21:54:27 DISPATCHER: Trying to submit another job.\n",
      "21:54:27 DISPATCHER: starting job (3, 0, 1) on hpbandster.run_Beamville.worker.KiranCHHATRE.9290.2139940538943296\n",
      "21:54:27 DISPATCHER: job (3, 0, 1) dispatched on hpbandster.run_Beamville.worker.KiranCHHATRE.9290.2139940538943296\n",
      "21:54:27 DISPATCHER: jobs to submit = 0, number of idle workers = 0 -> waiting!\n",
      "21:54:27 WORKER: start processing job (3, 0, 1)\n",
      "21:54:27 WORKER: args: ()\n",
      "21:54:27 WORKER: kwargs: {'config': {'bike_intercept': 7.046098224682723, 'car_intercept': 1.9472279591953692, 'drive_transit_intercept': -3.302134732429324, 'ride_hail_intercept': -3.0358263594956245, 'ride_hail_pooled_intercept': 6.633835372946441, 'ride_hail_transit_intercept': -1.7369185445632422, 'walk_intercept': 8.653402102523954, 'walk_transit_intercept': -0.8170630655816327}, 'budget': 8.0, 'working_directory': '.'}\n",
      "21:54:51 DISPATCHER: Starting worker discovery\n",
      "21:54:51 DISPATCHER: Found 4 potential workers, 4 currently in the pool.\n",
      "21:54:51 DISPATCHER: Finished worker discovery\n",
      "21:55:51 DISPATCHER: Starting worker discovery\n",
      "21:55:51 DISPATCHER: Found 4 potential workers, 4 currently in the pool.\n",
      "21:55:51 DISPATCHER: Finished worker discovery\n",
      "21:56:51 DISPATCHER: Starting worker discovery\n",
      "21:56:52 DISPATCHER: Found 4 potential workers, 4 currently in the pool.\n",
      "21:56:52 DISPATCHER: Finished worker discovery\n",
      "21:57:52 DISPATCHER: Starting worker discovery\n",
      "21:57:52 DISPATCHER: Found 4 potential workers, 4 currently in the pool.\n",
      "21:57:52 DISPATCHER: Finished worker discovery\n",
      "21:58:52 DISPATCHER: Starting worker discovery\n",
      "21:58:52 DISPATCHER: Found 4 potential workers, 4 currently in the pool.\n",
      "21:58:52 DISPATCHER: Finished worker discovery\n",
      "21:59:52 DISPATCHER: Starting worker discovery\n",
      "21:59:52 DISPATCHER: Found 4 potential workers, 4 currently in the pool.\n",
      "21:59:52 DISPATCHER: Finished worker discovery\n",
      "21:59:59 WORKER: done with job (2, 0, 2), trying to register it.\n",
      "21:59:59 WORKER: registered result for job (2, 0, 2) with dispatcher\n",
      "21:59:59 DISPATCHER: job (2, 0, 2) finished\n",
      "21:59:59 DISPATCHER: register_result: lock acquired\n",
      "21:59:59 DISPATCHER: job (2, 0, 2) on hpbandster.run_Beamville.worker.KiranCHHATRE.9290.1139940538943296 finished\n",
      "21:59:59 job_id: (2, 0, 2)\n",
      "kwargs: {'config': {'bike_intercept': 9.891922120436863, 'car_intercept': 2.41958820631847, 'drive_transit_intercept': -2.5992262820132965, 'ride_hail_intercept': -3.8155402253363957, 'ride_hail_pooled_intercept': -1.3829786174425291, 'ride_hail_transit_intercept': 0.12953405206519708, 'walk_intercept': -1.228270383327275, 'walk_transit_intercept': 1.5454940029091517}, 'budget': 2.6666666666666665, 'working_directory': '.'}\n",
      "result: {'loss': -1.57794231911879, 'info': -1.57794231911879}\n",
      "exception: None\n",
      "\n",
      "21:59:59 job_callback for (2, 0, 2) started\n",
      "21:59:59 DISPATCHER: Trying to submit another job.\n",
      "21:59:59 job_callback for (2, 0, 2) got condition\n",
      "21:59:59 DISPATCHER: jobs to submit = 0, number of idle workers = 1 -> waiting!\n",
      "21:59:59 Only 6 run(s) for budget 2.666667 available, need more than 10 -> can't build model!\n",
      "21:59:59 HBMASTER: Trying to run another job!\n",
      "21:59:59 job_callback for (2, 0, 2) finished\n",
      "21:59:59 ITERATION: Advancing config (2, 0, 2) to next budget 8.000000\n",
      "21:59:59 HBMASTER: schedule new run for iteration 2\n",
      "21:59:59 HBMASTER: trying submitting job (2, 0, 2) to dispatcher\n",
      "21:59:59 HBMASTER: submitting job (2, 0, 2) to dispatcher\n",
      "21:59:59 DISPATCHER: trying to submit job (2, 0, 2)\n",
      "21:59:59 DISPATCHER: trying to notify the job_runner thread.\n",
      "21:59:59 HBMASTER: job (2, 0, 2) submitted to dispatcher\n",
      "21:59:59 DISPATCHER: Trying to submit another job.\n",
      "21:59:59 DISPATCHER: starting job (2, 0, 2) on hpbandster.run_Beamville.worker.KiranCHHATRE.9290.1139940538943296\n",
      "21:59:59 HBMASTER: running jobs: 4, queue sizes: (3, 4) -> wait\n",
      "21:59:59 DISPATCHER: job (2, 0, 2) dispatched on hpbandster.run_Beamville.worker.KiranCHHATRE.9290.1139940538943296\n",
      "21:59:59 DISPATCHER: jobs to submit = 0, number of idle workers = 0 -> waiting!\n",
      "21:59:59 WORKER: start processing job (2, 0, 2)\n",
      "21:59:59 WORKER: args: ()\n",
      "21:59:59 WORKER: kwargs: {'config': {'bike_intercept': 9.891922120436863, 'car_intercept': 2.41958820631847, 'drive_transit_intercept': -2.5992262820132965, 'ride_hail_intercept': -3.8155402253363957, 'ride_hail_pooled_intercept': -1.3829786174425291, 'ride_hail_transit_intercept': 0.12953405206519708, 'walk_intercept': -1.228270383327275, 'walk_transit_intercept': 1.5454940029091517}, 'budget': 8.0, 'working_directory': '.'}\n"
     ]
    },
    {
     "name": "stdout",
     "output_type": "stream",
     "text": [
      "1.57794231911879\n"
     ]
    },
    {
     "name": "stderr",
     "output_type": "stream",
     "text": [
      "22:00:00 WORKER: done with job (0, 0, 2), trying to register it.\n",
      "22:00:00 DISPATCHER: job (0, 0, 2) finished\n",
      "22:00:00 DISPATCHER: register_result: lock acquired\n",
      "22:00:00 DISPATCHER: job (0, 0, 2) on hpbandster.run_Beamville.worker.KiranCHHATRE.9290.3139940538943296 finished\n",
      "22:00:00 job_id: (0, 0, 2)\n",
      "kwargs: {'config': {'bike_intercept': -1.3377650264511152, 'car_intercept': 6.742374241060771, 'drive_transit_intercept': -3.758197891357268, 'ride_hail_intercept': -4.450248541183978, 'ride_hail_pooled_intercept': 7.664599608005233, 'ride_hail_transit_intercept': 3.5258988120714516, 'walk_intercept': 9.656071020662816, 'walk_transit_intercept': -3.943998105477942}, 'budget': 8.0, 'working_directory': '.'}\n",
      "result: {'loss': -1.6976004387769095, 'info': -1.6976004387769095}\n",
      "exception: None\n",
      "\n",
      "22:00:00 job_callback for (0, 0, 2) started\n",
      "22:00:00 DISPATCHER: Trying to submit another job.\n",
      "22:00:00 DISPATCHER: jobs to submit = 0, number of idle workers = 1 -> waiting!\n",
      "22:00:00 job_callback for (0, 0, 2) got condition\n",
      "22:00:00 WORKER: registered result for job (0, 0, 2) with dispatcher\n",
      "22:00:00 Only 3 run(s) for budget 8.000000 available, need more than 10 -> can't build model!\n",
      "22:00:00 HBMASTER: Trying to run another job!\n",
      "22:00:00 job_callback for (0, 0, 2) finished\n",
      "22:00:00 start sampling a new configuration.\n",
      "22:00:00 done sampling a new configuration.\n",
      "22:00:00 HBMASTER: schedule new run for iteration 4\n",
      "22:00:00 HBMASTER: trying submitting job (4, 0, 0) to dispatcher\n",
      "22:00:00 HBMASTER: submitting job (4, 0, 0) to dispatcher\n",
      "22:00:00 DISPATCHER: trying to submit job (4, 0, 0)\n",
      "22:00:00 DISPATCHER: trying to notify the job_runner thread.\n",
      "22:00:00 HBMASTER: job (4, 0, 0) submitted to dispatcher\n",
      "22:00:00 HBMASTER: running jobs: 4, queue sizes: (3, 4) -> wait\n",
      "22:00:00 DISPATCHER: Trying to submit another job.\n"
     ]
    },
    {
     "name": "stdout",
     "output_type": "stream",
     "text": [
      "1.6976004387769095\n"
     ]
    },
    {
     "name": "stderr",
     "output_type": "stream",
     "text": [
      "22:00:00 DISPATCHER: starting job (4, 0, 0) on hpbandster.run_Beamville.worker.KiranCHHATRE.9290.3139940538943296\n",
      "22:00:00 DISPATCHER: job (4, 0, 0) dispatched on hpbandster.run_Beamville.worker.KiranCHHATRE.9290.3139940538943296\n",
      "22:00:00 DISPATCHER: jobs to submit = 0, number of idle workers = 0 -> waiting!\n",
      "22:00:00 WORKER: start processing job (4, 0, 0)\n",
      "22:00:00 WORKER: args: ()\n",
      "22:00:00 WORKER: kwargs: {'config': {'bike_intercept': 8.169105036782994, 'car_intercept': 7.993689000329285, 'drive_transit_intercept': 4.642979226165897, 'ride_hail_intercept': 1.6960011386083815, 'ride_hail_pooled_intercept': 6.953908378217395, 'ride_hail_transit_intercept': 7.806796234773945, 'walk_intercept': -2.11617007734551, 'walk_transit_intercept': 7.963380005583499}, 'budget': 2.6666666666666665, 'working_directory': '.'}\n",
      "22:00:01 WORKER: done with job (3, 0, 0), trying to register it.\n",
      "22:00:01 WORKER: registered result for job (3, 0, 0) with dispatcher\n",
      "22:00:01 DISPATCHER: job (3, 0, 0) finished\n",
      "22:00:01 DISPATCHER: register_result: lock acquired\n",
      "22:00:01 DISPATCHER: job (3, 0, 0) on hpbandster.run_Beamville.worker.KiranCHHATRE.9290.0139940538943296 finished\n",
      "22:00:01 job_id: (3, 0, 0)\n",
      "kwargs: {'config': {'bike_intercept': 2.2103517032978734, 'car_intercept': 9.596180065159697, 'drive_transit_intercept': 9.274220082162891, 'ride_hail_intercept': -0.8316747547597538, 'ride_hail_pooled_intercept': -4.693657222996418, 'ride_hail_transit_intercept': -2.3959355553296167, 'walk_intercept': -1.5917661203977773, 'walk_transit_intercept': 5.819388099122401}, 'budget': 8.0, 'working_directory': '.'}\n",
      "result: {'loss': -1.6976004387769095, 'info': -1.6976004387769095}\n",
      "exception: None\n",
      "\n",
      "22:00:01 job_callback for (3, 0, 0) started\n",
      "22:00:01 job_callback for (3, 0, 0) got condition\n",
      "22:00:01 DISPATCHER: Trying to submit another job.\n",
      "22:00:01 DISPATCHER: jobs to submit = 0, number of idle workers = 1 -> waiting!\n",
      "22:00:01 Only 4 run(s) for budget 8.000000 available, need more than 10 -> can't build model!\n",
      "22:00:01 HBMASTER: Trying to run another job!\n",
      "22:00:01 job_callback for (3, 0, 0) finished\n",
      "22:00:01 start sampling a new configuration.\n",
      "22:00:01 done sampling a new configuration.\n",
      "22:00:01 HBMASTER: schedule new run for iteration 4\n",
      "22:00:01 HBMASTER: trying submitting job (4, 0, 1) to dispatcher\n",
      "22:00:01 HBMASTER: submitting job (4, 0, 1) to dispatcher\n",
      "22:00:01 DISPATCHER: trying to submit job (4, 0, 1)\n",
      "22:00:01 DISPATCHER: trying to notify the job_runner thread.\n",
      "22:00:01 HBMASTER: job (4, 0, 1) submitted to dispatcher\n",
      "22:00:01 HBMASTER: running jobs: 4, queue sizes: (3, 4) -> wait\n",
      "22:00:01 DISPATCHER: Trying to submit another job.\n",
      "22:00:01 DISPATCHER: starting job (4, 0, 1) on hpbandster.run_Beamville.worker.KiranCHHATRE.9290.0139940538943296\n"
     ]
    },
    {
     "name": "stdout",
     "output_type": "stream",
     "text": [
      "1.6976004387769095\n"
     ]
    },
    {
     "name": "stderr",
     "output_type": "stream",
     "text": [
      "22:00:01 DISPATCHER: job (4, 0, 1) dispatched on hpbandster.run_Beamville.worker.KiranCHHATRE.9290.0139940538943296\n",
      "22:00:01 DISPATCHER: jobs to submit = 0, number of idle workers = 0 -> waiting!\n",
      "22:00:01 WORKER: start processing job (4, 0, 1)\n",
      "22:00:01 WORKER: args: ()\n",
      "22:00:01 WORKER: kwargs: {'config': {'bike_intercept': -1.5017921502365947, 'car_intercept': 6.548599870879368, 'drive_transit_intercept': 9.370788722003338, 'ride_hail_intercept': -0.2916988183581042, 'ride_hail_pooled_intercept': 0.13615004404594977, 'ride_hail_transit_intercept': -0.9594828595351341, 'walk_intercept': -3.487316277389265, 'walk_transit_intercept': -0.6672984115193605}, 'budget': 2.6666666666666665, 'working_directory': '.'}\n",
      "22:00:07 WORKER: done with job (3, 0, 1), trying to register it.\n",
      "22:00:07 WORKER: registered result for job (3, 0, 1) with dispatcher\n",
      "22:00:07 DISPATCHER: job (3, 0, 1) finished\n",
      "22:00:07 DISPATCHER: register_result: lock acquired\n",
      "22:00:07 DISPATCHER: job (3, 0, 1) on hpbandster.run_Beamville.worker.KiranCHHATRE.9290.2139940538943296 finished\n",
      "22:00:07 job_id: (3, 0, 1)\n",
      "kwargs: {'config': {'bike_intercept': 7.046098224682723, 'car_intercept': 1.9472279591953692, 'drive_transit_intercept': -3.302134732429324, 'ride_hail_intercept': -3.0358263594956245, 'ride_hail_pooled_intercept': 6.633835372946441, 'ride_hail_transit_intercept': -1.7369185445632422, 'walk_intercept': 8.653402102523954, 'walk_transit_intercept': -0.8170630655816327}, 'budget': 8.0, 'working_directory': '.'}\n",
      "result: {'loss': -1.624873166049637, 'info': -1.624873166049637}\n",
      "exception: None\n",
      "\n",
      "22:00:07 job_callback for (3, 0, 1) started\n",
      "22:00:07 DISPATCHER: Trying to submit another job.\n",
      "22:00:07 DISPATCHER: jobs to submit = 0, number of idle workers = 1 -> waiting!\n",
      "22:00:07 job_callback for (3, 0, 1) got condition\n",
      "22:00:07 Only 5 run(s) for budget 8.000000 available, need more than 10 -> can't build model!\n",
      "22:00:07 HBMASTER: Trying to run another job!\n",
      "22:00:07 job_callback for (3, 0, 1) finished\n",
      "22:00:07 start sampling a new configuration.\n",
      "22:00:07 done sampling a new configuration.\n",
      "22:00:07 HBMASTER: schedule new run for iteration 4\n",
      "22:00:07 HBMASTER: trying submitting job (4, 0, 2) to dispatcher\n",
      "22:00:07 HBMASTER: submitting job (4, 0, 2) to dispatcher\n",
      "22:00:07 DISPATCHER: trying to submit job (4, 0, 2)\n",
      "22:00:08 DISPATCHER: trying to notify the job_runner thread.\n",
      "22:00:08 HBMASTER: job (4, 0, 2) submitted to dispatcher\n",
      "22:00:08 HBMASTER: running jobs: 4, queue sizes: (3, 4) -> wait\n",
      "22:00:08 DISPATCHER: Trying to submit another job.\n",
      "22:00:08 DISPATCHER: starting job (4, 0, 2) on hpbandster.run_Beamville.worker.KiranCHHATRE.9290.2139940538943296\n",
      "22:00:08 DISPATCHER: job (4, 0, 2) dispatched on hpbandster.run_Beamville.worker.KiranCHHATRE.9290.2139940538943296\n",
      "22:00:08 WORKER: start processing job (4, 0, 2)\n",
      "22:00:08 DISPATCHER: jobs to submit = 0, number of idle workers = 0 -> waiting!\n",
      "22:00:08 WORKER: args: ()\n",
      "22:00:08 WORKER: kwargs: {'config': {'bike_intercept': 5.496022263674373, 'car_intercept': 9.472956913980159, 'drive_transit_intercept': -2.4682978029146776, 'ride_hail_intercept': -2.179908588888166, 'ride_hail_pooled_intercept': -2.1125317263810373, 'ride_hail_transit_intercept': -2.4176053508986897, 'walk_intercept': 6.545032435055795, 'walk_transit_intercept': 3.478955054160645}, 'budget': 2.6666666666666665, 'working_directory': '.'}\n"
     ]
    },
    {
     "name": "stdout",
     "output_type": "stream",
     "text": [
      "1.624873166049637\n"
     ]
    },
    {
     "name": "stderr",
     "output_type": "stream",
     "text": [
      "22:00:52 DISPATCHER: Starting worker discovery\n",
      "22:00:52 DISPATCHER: Found 4 potential workers, 4 currently in the pool.\n",
      "22:00:52 DISPATCHER: Finished worker discovery\n",
      "22:01:52 DISPATCHER: Starting worker discovery\n",
      "22:01:52 DISPATCHER: Found 4 potential workers, 4 currently in the pool.\n",
      "22:01:52 DISPATCHER: Finished worker discovery\n",
      "22:02:52 DISPATCHER: Starting worker discovery\n",
      "22:02:52 DISPATCHER: Found 4 potential workers, 4 currently in the pool.\n",
      "22:02:52 DISPATCHER: Finished worker discovery\n",
      "22:03:52 DISPATCHER: Starting worker discovery\n",
      "22:03:52 DISPATCHER: Found 4 potential workers, 4 currently in the pool.\n",
      "22:03:52 DISPATCHER: Finished worker discovery\n",
      "22:04:52 DISPATCHER: Starting worker discovery\n",
      "22:04:52 DISPATCHER: Found 4 potential workers, 4 currently in the pool.\n",
      "22:04:52 DISPATCHER: Finished worker discovery\n",
      "22:05:42 WORKER: done with job (2, 0, 2), trying to register it.\n",
      "22:05:42 WORKER: registered result for job (2, 0, 2) with dispatcher\n",
      "22:05:42 DISPATCHER: job (2, 0, 2) finished\n",
      "22:05:42 DISPATCHER: register_result: lock acquired\n",
      "22:05:42 DISPATCHER: job (2, 0, 2) on hpbandster.run_Beamville.worker.KiranCHHATRE.9290.1139940538943296 finished\n",
      "22:05:42 job_id: (2, 0, 2)\n",
      "kwargs: {'config': {'bike_intercept': 9.891922120436863, 'car_intercept': 2.41958820631847, 'drive_transit_intercept': -2.5992262820132965, 'ride_hail_intercept': -3.8155402253363957, 'ride_hail_pooled_intercept': -1.3829786174425291, 'ride_hail_transit_intercept': 0.12953405206519708, 'walk_intercept': -1.228270383327275, 'walk_transit_intercept': 1.5454940029091517}, 'budget': 8.0, 'working_directory': '.'}\n",
      "result: {'loss': -1.7712509712509716, 'info': -1.7712509712509716}\n",
      "exception: None\n",
      "\n",
      "22:05:42 job_callback for (2, 0, 2) started\n",
      "22:05:42 job_callback for (2, 0, 2) got condition\n",
      "22:05:42 DISPATCHER: Trying to submit another job.\n",
      "22:05:42 DISPATCHER: jobs to submit = 0, number of idle workers = 1 -> waiting!\n",
      "22:05:42 Only 6 run(s) for budget 8.000000 available, need more than 10 -> can't build model!\n",
      "22:05:42 HBMASTER: Trying to run another job!\n",
      "22:05:42 job_callback for (2, 0, 2) finished\n"
     ]
    },
    {
     "name": "stdout",
     "output_type": "stream",
     "text": [
      "1.7712509712509716\n"
     ]
    },
    {
     "name": "stderr",
     "output_type": "stream",
     "text": [
      "22:05:43 WORKER: done with job (4, 0, 0), trying to register it.\n",
      "22:05:43 WORKER: registered result for job (4, 0, 0) with dispatcher\n",
      "22:05:43 DISPATCHER: job (4, 0, 0) finished\n",
      "22:05:43 DISPATCHER: register_result: lock acquired\n",
      "22:05:43 DISPATCHER: job (4, 0, 0) on hpbandster.run_Beamville.worker.KiranCHHATRE.9290.3139940538943296 finished\n",
      "22:05:43 job_id: (4, 0, 0)\n",
      "kwargs: {'config': {'bike_intercept': 8.169105036782994, 'car_intercept': 7.993689000329285, 'drive_transit_intercept': 4.642979226165897, 'ride_hail_intercept': 1.6960011386083815, 'ride_hail_pooled_intercept': 6.953908378217395, 'ride_hail_transit_intercept': 7.806796234773945, 'walk_intercept': -2.11617007734551, 'walk_transit_intercept': 7.963380005583499}, 'budget': 2.6666666666666665, 'working_directory': '.'}\n",
      "result: {'loss': -1.7712509712509716, 'info': -1.7712509712509716}\n",
      "exception: None\n",
      "\n",
      "22:05:43 job_callback for (4, 0, 0) started\n",
      "22:05:43 DISPATCHER: Trying to submit another job.\n",
      "22:05:43 DISPATCHER: jobs to submit = 0, number of idle workers = 2 -> waiting!\n",
      "22:05:43 job_callback for (4, 0, 0) got condition\n",
      "22:05:43 Only 7 run(s) for budget 2.666667 available, need more than 10 -> can't build model!\n",
      "22:05:43 HBMASTER: Trying to run another job!\n",
      "22:05:43 job_callback for (4, 0, 0) finished\n"
     ]
    },
    {
     "name": "stdout",
     "output_type": "stream",
     "text": [
      "1.7712509712509716\n"
     ]
    },
    {
     "name": "stderr",
     "output_type": "stream",
     "text": [
      "22:05:43 WORKER: done with job (4, 0, 1), trying to register it.\n",
      "22:05:43 WORKER: registered result for job (4, 0, 1) with dispatcher\n",
      "22:05:43 DISPATCHER: job (4, 0, 1) finished\n",
      "22:05:43 DISPATCHER: register_result: lock acquired\n",
      "22:05:43 DISPATCHER: job (4, 0, 1) on hpbandster.run_Beamville.worker.KiranCHHATRE.9290.0139940538943296 finished\n",
      "22:05:43 job_id: (4, 0, 1)\n",
      "kwargs: {'config': {'bike_intercept': -1.5017921502365947, 'car_intercept': 6.548599870879368, 'drive_transit_intercept': 9.370788722003338, 'ride_hail_intercept': -0.2916988183581042, 'ride_hail_pooled_intercept': 0.13615004404594977, 'ride_hail_transit_intercept': -0.9594828595351341, 'walk_intercept': -3.487316277389265, 'walk_transit_intercept': -0.6672984115193605}, 'budget': 2.6666666666666665, 'working_directory': '.'}\n",
      "result: {'loss': -1.7712509712509716, 'info': -1.7712509712509716}\n",
      "exception: None\n",
      "\n",
      "22:05:43 job_callback for (4, 0, 1) started\n",
      "22:05:43 DISPATCHER: Trying to submit another job.\n",
      "22:05:43 job_callback for (4, 0, 1) got condition\n",
      "22:05:43 DISPATCHER: jobs to submit = 0, number of idle workers = 3 -> waiting!\n",
      "22:05:44 Only 8 run(s) for budget 2.666667 available, need more than 10 -> can't build model!\n",
      "22:05:44 HBMASTER: Trying to run another job!\n",
      "22:05:44 job_callback for (4, 0, 1) finished\n"
     ]
    },
    {
     "name": "stdout",
     "output_type": "stream",
     "text": [
      "1.7712509712509716\n"
     ]
    },
    {
     "name": "stderr",
     "output_type": "stream",
     "text": [
      "22:05:49 WORKER: done with job (4, 0, 2), trying to register it.\n",
      "22:05:49 WORKER: registered result for job (4, 0, 2) with dispatcher\n",
      "22:05:49 DISPATCHER: job (4, 0, 2) finished\n",
      "22:05:49 DISPATCHER: register_result: lock acquired\n",
      "22:05:49 DISPATCHER: job (4, 0, 2) on hpbandster.run_Beamville.worker.KiranCHHATRE.9290.2139940538943296 finished\n",
      "22:05:49 job_id: (4, 0, 2)\n",
      "kwargs: {'config': {'bike_intercept': 5.496022263674373, 'car_intercept': 9.472956913980159, 'drive_transit_intercept': -2.4682978029146776, 'ride_hail_intercept': -2.179908588888166, 'ride_hail_pooled_intercept': -2.1125317263810373, 'ride_hail_transit_intercept': -2.4176053508986897, 'walk_intercept': 6.545032435055795, 'walk_transit_intercept': 3.478955054160645}, 'budget': 2.6666666666666665, 'working_directory': '.'}\n",
      "result: {'loss': -1.6688514100278808, 'info': -1.6688514100278808}\n",
      "exception: None\n",
      "\n",
      "22:05:49 job_callback for (4, 0, 2) started\n",
      "22:05:49 DISPATCHER: Trying to submit another job.\n",
      "22:05:49 job_callback for (4, 0, 2) got condition\n",
      "22:05:49 DISPATCHER: jobs to submit = 0, number of idle workers = 4 -> waiting!\n",
      "22:05:49 HBMASTER: Trying to run another job!\n",
      "22:05:49 job_callback for (4, 0, 2) finished\n",
      "22:05:49 ITERATION: Advancing config (4, 0, 0) to next budget 8.000000\n",
      "22:05:49 HBMASTER: schedule new run for iteration 4\n",
      "22:05:49 HBMASTER: trying submitting job (4, 0, 0) to dispatcher\n",
      "22:05:49 HBMASTER: submitting job (4, 0, 0) to dispatcher\n",
      "22:05:49 DISPATCHER: trying to submit job (4, 0, 0)\n",
      "22:05:49 DISPATCHER: trying to notify the job_runner thread.\n",
      "22:05:49 HBMASTER: job (4, 0, 0) submitted to dispatcher\n",
      "22:05:49 DISPATCHER: Trying to submit another job.\n",
      "22:05:49 DISPATCHER: starting job (4, 0, 0) on hpbandster.run_Beamville.worker.KiranCHHATRE.9290.0139940538943296\n",
      "22:05:49 DISPATCHER: job (4, 0, 0) dispatched on hpbandster.run_Beamville.worker.KiranCHHATRE.9290.0139940538943296\n",
      "22:05:49 WORKER: start processing job (4, 0, 0)\n",
      "22:05:49 DISPATCHER: jobs to submit = 0, number of idle workers = 3 -> waiting!\n",
      "22:05:49 WORKER: args: ()\n",
      "22:05:49 WORKER: kwargs: {'config': {'bike_intercept': 8.169105036782994, 'car_intercept': 7.993689000329285, 'drive_transit_intercept': 4.642979226165897, 'ride_hail_intercept': 1.6960011386083815, 'ride_hail_pooled_intercept': 6.953908378217395, 'ride_hail_transit_intercept': 7.806796234773945, 'walk_intercept': -2.11617007734551, 'walk_transit_intercept': 7.963380005583499}, 'budget': 8.0, 'working_directory': '.'}\n"
     ]
    },
    {
     "name": "stdout",
     "output_type": "stream",
     "text": [
      "1.6688514100278808\n"
     ]
    },
    {
     "name": "stderr",
     "output_type": "stream",
     "text": [
      "22:05:52 DISPATCHER: Starting worker discovery\n",
      "22:05:52 DISPATCHER: Found 4 potential workers, 4 currently in the pool.\n",
      "22:05:52 DISPATCHER: Finished worker discovery\n",
      "22:06:52 DISPATCHER: Starting worker discovery\n",
      "22:06:52 DISPATCHER: Found 4 potential workers, 4 currently in the pool.\n",
      "22:06:52 DISPATCHER: Finished worker discovery\n",
      "22:07:52 DISPATCHER: Starting worker discovery\n",
      "22:07:52 DISPATCHER: Found 4 potential workers, 4 currently in the pool.\n",
      "22:07:52 DISPATCHER: Finished worker discovery\n",
      "22:07:58 WORKER: done with job (4, 0, 0), trying to register it.\n",
      "22:07:58 WORKER: registered result for job (4, 0, 0) with dispatcher\n",
      "22:07:58 DISPATCHER: job (4, 0, 0) finished\n",
      "22:07:58 DISPATCHER: register_result: lock acquired\n",
      "22:07:58 DISPATCHER: job (4, 0, 0) on hpbandster.run_Beamville.worker.KiranCHHATRE.9290.0139940538943296 finished\n",
      "22:07:58 job_id: (4, 0, 0)\n",
      "kwargs: {'config': {'bike_intercept': 8.169105036782994, 'car_intercept': 7.993689000329285, 'drive_transit_intercept': 4.642979226165897, 'ride_hail_intercept': 1.6960011386083815, 'ride_hail_pooled_intercept': 6.953908378217395, 'ride_hail_transit_intercept': 7.806796234773945, 'walk_intercept': -2.11617007734551, 'walk_transit_intercept': 7.963380005583499}, 'budget': 8.0, 'working_directory': '.'}\n",
      "result: {'loss': -1.1773892773892776, 'info': -1.1773892773892776}\n",
      "exception: None\n",
      "\n",
      "22:07:58 job_callback for (4, 0, 0) started\n",
      "22:07:58 DISPATCHER: Trying to submit another job.\n",
      "22:07:58 job_callback for (4, 0, 0) got condition\n",
      "22:07:58 DISPATCHER: jobs to submit = 0, number of idle workers = 4 -> waiting!\n",
      "22:07:58 Only 7 run(s) for budget 8.000000 available, need more than 10 -> can't build model!\n",
      "22:07:58 HBMASTER: Trying to run another job!\n",
      "22:07:58 job_callback for (4, 0, 0) finished\n"
     ]
    },
    {
     "name": "stdout",
     "output_type": "stream",
     "text": [
      "1.1773892773892776\n"
     ]
    }
   ],
   "source": [
    "\n",
    "result_logger = hpres.json_result_logger(directory='/home/berkeleylab/Calib_documentation/TUNE_integrate/TUNE_test/worker_n_optimizer', overwrite=False)\n",
    "bohb = BOHB(configspace=w.get_configspace(),run_id='Beamville',min_budget=1, max_budget=8, result_logger=result_logger)\n",
    "res = bohb.run(n_iterations=5,min_n_workers=4)\n",
    "\n",
    "\n"
   ]
  },
  {
   "cell_type": "code",
   "execution_count": 5,
   "metadata": {},
   "outputs": [
    {
     "name": "stdout",
     "output_type": "stream",
     "text": [
      "best config: {'bike_intercept': 9.891922120436863, 'car_intercept': 2.41958820631847, 'drive_transit_intercept': -2.5992262820132965, 'ride_hail_intercept': -3.8155402253363957, 'ride_hail_pooled_intercept': -1.3829786174425291, 'ride_hail_transit_intercept': 0.12953405206519708, 'walk_intercept': -1.228270383327275, 'walk_transit_intercept': 1.5454940029091517}\n",
      "total unique configs: 13\n",
      "total executed runs: 16\n",
      "total budget corresponds to these function evaluations: 0.3292181069958848\n",
      "total elapsed time 1077.8852050304413\n"
     ]
    }
   ],
   "source": [
    "\n",
    "id2config = res.get_id2config_mapping()\n",
    "incumbent = res.get_incumbent_id()\n",
    "all_runs = res.get_all_runs()\n",
    "\n",
    "print('best config:', id2config[incumbent]['config'] )\n",
    "print('total unique configs:', len(id2config.keys()) )\n",
    "print('total executed runs:', len(all_runs) )\n",
    "print('total budget corresponds to these function evaluations:', (sum([r.budget for r in all_runs])/243))\n",
    "print('total elapsed time', (all_runs[-1].time_stamps['finished']-all_runs[0].time_stamps['started']))\n",
    "\n"
   ]
  },
  {
   "cell_type": "code",
   "execution_count": 36,
   "metadata": {},
   "outputs": [
    {
     "name": "stderr",
     "output_type": "stream",
     "text": [
      "00:00:10 HBMASTER: shutdown initiated, shutdown_workers = True\n",
      "00:00:10 WORKER: shutting down now!\n",
      "00:00:10 WORKER: shutting down now!\n",
      "00:00:10 WORKER: shutting down now!\n",
      "00:00:10 WORKER: shutting down now!\n"
     ]
    }
   ],
   "source": [
    "bohb.shutdown(shutdown_workers=True)\n",
    "NS.shutdown()\n"
   ]
  },
  {
   "cell_type": "code",
   "execution_count": 12,
   "metadata": {},
   "outputs": [],
   "source": [
    "\n",
    "result = hpres.logged_results_to_HBS_result('/home/berkeleylab/Calib_documentation/TUNE_integrate/TUNE_test/worker_n_optimizer/')\n"
   ]
  },
  {
   "cell_type": "code",
   "execution_count": 11,
   "metadata": {},
   "outputs": [
    {
     "name": "stdout",
     "output_type": "stream",
     "text": [
      "Best config: -1.7712509712509716\n"
     ]
    }
   ],
   "source": [
    "\n",
    "all_runs = result.get_all_runs()\n",
    "id2conf = result.get_id2config_mapping()\n",
    "inc_id = result.get_incumbent_id()\n",
    "inc_runs = result.get_runs_by_id(inc_id)\n",
    "inc_run = inc_runs[-1]\n",
    "inc_loss = inc_run.loss\n",
    "inc_config = id2conf[inc_id]['config']\n",
    "lcs = result.get_learning_curves()\n",
    "\n",
    "print('Best config:', inc_loss)"
   ]
  },
  {
   "cell_type": "code",
   "execution_count": 13,
   "metadata": {},
   "outputs": [],
   "source": [
    "import warnings\n",
    "warnings.filterwarnings(\"ignore\")"
   ]
  },
  {
   "cell_type": "code",
   "execution_count": 25,
   "metadata": {},
   "outputs": [
    {
     "data": {
      "text/plain": [
       "(<Figure size 432x288 with 1 Axes>,\n",
       " <matplotlib.axes._subplots.AxesSubplot at 0x7f46315c1d10>)"
      ]
     },
     "execution_count": 25,
     "metadata": {},
     "output_type": "execute_result"
    },
    {
     "data": {
      "image/png": "[encoded data removed]",
      "text/plain": [
       "<Figure size 432x288 with 1 Axes>"
      ]
     },
     "metadata": {
      "needs_background": "light"
     },
     "output_type": "display_data"
    }
   ],
   "source": [
    "hpvis.losses_over_time(all_runs)"
   ]
  },
  {
   "cell_type": "code",
   "execution_count": 26,
   "metadata": {},
   "outputs": [
    {
     "data": {
      "text/plain": [
       "(<Figure size 432x288 with 1 Axes>,\n",
       " <matplotlib.axes._subplots.AxesSubplot at 0x7f4631629950>)"
      ]
     },
     "execution_count": 26,
     "metadata": {},
     "output_type": "execute_result"
    },
    {
     "data": {
      "image/png": "[encoded data removed]",
      "text/plain": [
       "<Figure size 432x288 with 1 Axes>"
      ]
     },
     "metadata": {
      "needs_background": "light"
     },
     "output_type": "display_data"
    }
   ],
   "source": [
    "hpvis.concurrent_runs_over_time(all_runs)"
   ]
  },
  {
   "cell_type": "code",
   "execution_count": 27,
   "metadata": {},
   "outputs": [
    {
     "data": {
      "text/plain": [
       "(<Figure size 432x288 with 1 Axes>,\n",
       " <matplotlib.axes._subplots.AxesSubplot at 0x7f463155acd0>)"
      ]
     },
     "execution_count": 27,
     "metadata": {},
     "output_type": "execute_result"
    },
    {
     "data": {
      "image/png": "[encoded data removed]",
      "text/plain": [
       "<Figure size 432x288 with 1 Axes>"
      ]
     },
     "metadata": {
      "needs_background": "light"
     },
     "output_type": "display_data"
    }
   ],
   "source": [
    "hpvis.finished_runs_over_time(all_runs)"
   ]
  },
  {
   "cell_type": "code",
   "execution_count": 30,
   "metadata": {},
   "outputs": [
    {
     "name": "stderr",
     "output_type": "stream",
     "text": [
      "23:45:33 locator: <matplotlib.colorbar._ColorbarAutoLocator object at 0x7f46302be050>\n",
      "23:45:33 Using auto colorbar locator on colorbar\n",
      "23:45:33 locator: <matplotlib.colorbar._ColorbarAutoLocator object at 0x7f46302be050>\n",
      "23:45:33 Setting pcolormesh\n"
     ]
    },
    {
     "data": {
      "text/plain": [
       "(<Figure size 432x288 with 2 Axes>,\n",
       " <matplotlib.axes._subplots.AxesSubplot at 0x7f466c3ac0d0>)"
      ]
     },
     "execution_count": 30,
     "metadata": {},
     "output_type": "execute_result"
    },
    {
     "name": "stderr",
     "output_type": "stream",
     "text": [
      "23:45:33 not adjusting title pos because a title was already placed manually: 1.050000\n",
      "23:45:33 title position was updated manually, not adjusting\n",
      "23:45:33 title position was updated manually, not adjusting\n",
      "23:45:33 title position was updated manually, not adjusting\n",
      "23:45:33 title position was updated manually, not adjusting\n",
      "23:45:33 title position was updated manually, not adjusting\n",
      "23:45:33 title position was updated manually, not adjusting\n"
     ]
    },
    {
     "data": {
      "image/png": "[encoded data removed]",
      "text/plain": [
       "<Figure size 432x288 with 2 Axes>"
      ]
     },
     "metadata": {
      "needs_background": "light"
     },
     "output_type": "display_data"
    }
   ],
   "source": [
    "hpvis.correlation_across_budgets(result)"
   ]
  },
  {
   "cell_type": "code",
   "execution_count": 31,
   "metadata": {},
   "outputs": [
    {
     "data": {
      "text/plain": [
       "(<Figure size 432x288 with 4 Axes>,\n",
       " array([[<matplotlib.axes._subplots.AxesSubplot object at 0x7f463027ed50>,\n",
       "         <matplotlib.axes._subplots.AxesSubplot object at 0x7f4630253750>],\n",
       "        [<matplotlib.axes._subplots.AxesSubplot object at 0x7f46302537d0>,\n",
       "         <matplotlib.axes._subplots.AxesSubplot object at 0x7f4630224950>]],\n",
       "       dtype=object))"
      ]
     },
     "execution_count": 31,
     "metadata": {},
     "output_type": "execute_result"
    },
    {
     "data": {
      "image/png": "[encoded data removed]",
      "text/plain": [
       "<Figure size 432x288 with 4 Axes>"
      ]
     },
     "metadata": {
      "needs_background": "light"
     },
     "output_type": "display_data"
    }
   ],
   "source": [
    "hpvis.performance_histogram_model_vs_random(all_runs,id2conf)"
   ]
  },
  {
   "cell_type": "code",
   "execution_count": 16,
   "metadata": {},
   "outputs": [],
   "source": [
    "def realtime_learning_curves(runs):\n",
    "    sr = sorted(runs,key=lambda r: r.budget)\n",
    "    lc = list(filter(lambda t: not t[1] is None, [(r.time_stamps['finished'], r.info) for r in sr]))\n",
    "    \n",
    "    return ([lc,])   \n",
    "    \n",
    "    "
   ]
  },
  {
   "cell_type": "code",
   "execution_count": 23,
   "metadata": {},
   "outputs": [],
   "source": [
    "\n",
    "lcs = result.get_learning_curves(lc_extractor=realtime_learning_curves)\n",
    "\n"
   ]
  },
  {
   "cell_type": "code",
   "execution_count": 24,
   "metadata": {},
   "outputs": [],
   "source": [
    "config_ids = [] \n",
    "times = []\n",
    "\n",
    "for k in lcs.keys():\n",
    "    config_ids.append(k)\n",
    "    \n",
    "for k,v in lcs.items():\n",
    "    for l in v:\n",
    "        if len(l) == 0: continue\n",
    "        tmp = list(zip(*l))\n",
    "        times.append(tmp[0])\n"
   ]
  },
  {
   "cell_type": "code",
   "execution_count": 36,
   "metadata": {},
   "outputs": [
    {
     "data": {
      "text/plain": [
       "[0, 0, 0, 1, 1, 2, 2, 2, 3, 3, 4, 4, 4]"
      ]
     },
     "execution_count": 36,
     "metadata": {},
     "output_type": "execute_result"
    }
   ],
   "source": [
    "\n",
    "HB_iterations = [id[0] for id in config_ids]\n",
    "num_iterations = len(set(HB_iterations))\n",
    "\n",
    "HB_iterations"
   ]
  },
  {
   "cell_type": "code",
   "execution_count": 35,
   "metadata": {},
   "outputs": [
    {
     "data": {
      "text/plain": [
       "5"
      ]
     },
     "execution_count": 35,
     "metadata": {},
     "output_type": "execute_result"
    }
   ],
   "source": [
    "num_iterations"
   ]
  }
 ],
 "metadata": {
  "kernelspec": {
   "display_name": "Python 3",
   "language": "python",
   "name": "python3"
  },
  "language_info": {
   "codemirror_mode": {
    "name": "ipython",
    "version": 3
   },
   "file_extension": ".py",
   "mimetype": "text/x-python",
   "name": "python",
   "nbconvert_exporter": "python",
   "pygments_lexer": "ipython3",
   "version": "3.7.5"
  }
 },
 "nbformat": 4,
 "nbformat_minor": 2
}
