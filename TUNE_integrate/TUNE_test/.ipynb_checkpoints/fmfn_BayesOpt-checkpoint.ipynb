{
 "cells": [
  {
   "cell_type": "code",
   "execution_count": 1,
   "metadata": {},
   "outputs": [],
   "source": [
    "# Function\n",
    "\n",
    "def black_box_function(x,y):\n",
    "    return -x ** 2 - (y - 1) ** 2 + 1"
   ]
  },
  {
   "cell_type": "code",
   "execution_count": 2,
   "metadata": {},
   "outputs": [],
   "source": [
    "from bayes_opt import BayesianOptimization"
   ]
  },
  {
   "cell_type": "code",
   "execution_count": 3,
   "metadata": {},
   "outputs": [],
   "source": [
    "pbounds = {'x': (2,4), 'y': (-3,3)}"
   ]
  },
  {
   "cell_type": "code",
   "execution_count": 4,
   "metadata": {},
   "outputs": [],
   "source": [
    "optimizer = BayesianOptimization(f=black_box_function, pbounds=pbounds,\\\n",
    "                                verbose=2, random_state=1)"
   ]
  },
  {
   "cell_type": "code",
   "execution_count": 8,
   "metadata": {},
   "outputs": [
    {
     "name": "stdout",
     "output_type": "stream",
     "text": [
      "|   iter    |  target   |     x     |     y     |\n",
      "-------------------------------------------------\n",
      "| \u001b[0m 19      \u001b[0m | \u001b[0m-3.223   \u001b[0m | \u001b[0m 2.055   \u001b[0m | \u001b[0m 1.023   \u001b[0m |\n",
      "| \u001b[0m 20      \u001b[0m | \u001b[0m-7.455   \u001b[0m | \u001b[0m 2.835   \u001b[0m | \u001b[0m 0.3521  \u001b[0m |\n",
      "| \u001b[0m 21      \u001b[0m | \u001b[0m-12.11   \u001b[0m | \u001b[0m 2.281   \u001b[0m | \u001b[0m-1.811   \u001b[0m |\n",
      "| \u001b[0m 22      \u001b[0m | \u001b[0m-3.069   \u001b[0m | \u001b[0m 2.0     \u001b[0m | \u001b[0m 1.264   \u001b[0m |\n",
      "| \u001b[0m 23      \u001b[0m | \u001b[0m-3.003   \u001b[0m | \u001b[0m 2.0     \u001b[0m | \u001b[0m 0.9436  \u001b[0m |\n",
      "| \u001b[0m 24      \u001b[0m | \u001b[0m-3.003   \u001b[0m | \u001b[0m 2.0     \u001b[0m | \u001b[0m 1.053   \u001b[0m |\n",
      "| \u001b[0m 25      \u001b[0m | \u001b[0m-3.0     \u001b[0m | \u001b[0m 2.0     \u001b[0m | \u001b[0m 0.993   \u001b[0m |\n",
      "| \u001b[0m 26      \u001b[0m | \u001b[0m-3.0     \u001b[0m | \u001b[0m 2.0     \u001b[0m | \u001b[0m 1.011   \u001b[0m |\n",
      "| \u001b[0m 27      \u001b[0m | \u001b[0m-3.0     \u001b[0m | \u001b[0m 2.0     \u001b[0m | \u001b[0m 0.9856  \u001b[0m |\n",
      "| \u001b[0m 28      \u001b[0m | \u001b[0m-3.0     \u001b[0m | \u001b[0m 2.0     \u001b[0m | \u001b[0m 1.012   \u001b[0m |\n",
      "| \u001b[0m 29      \u001b[0m | \u001b[0m-3.0     \u001b[0m | \u001b[0m 2.0     \u001b[0m | \u001b[0m 0.9835  \u001b[0m |\n",
      "=================================================\n"
     ]
    }
   ],
   "source": [
    "optimizer.maximize(init_points=3,n_iter=8)"
   ]
  },
  {
   "cell_type": "code",
   "execution_count": 9,
   "metadata": {},
   "outputs": [
    {
     "data": {
      "text/plain": [
       "{'target': -3.000005847451667, 'params': {'x': 2.0, 'y': 1.0024181504641494}}"
      ]
     },
     "execution_count": 9,
     "metadata": {},
     "output_type": "execute_result"
    }
   ],
   "source": [
    "optimizer.max"
   ]
  },
  {
   "cell_type": "code",
   "execution_count": 10,
   "metadata": {},
   "outputs": [
    {
     "name": "stdout",
     "output_type": "stream",
     "text": [
      "Iteration 0: \n",
      "\t{'target': -7.135455292718879, 'params': {'x': 2.8340440094051482, 'y': 1.3219469606529488}}\n",
      "Iteration 1: \n",
      "\t{'target': -7.779531005607566, 'params': {'x': 2.0002287496346898, 'y': -1.1860045642089614}}\n",
      "Iteration 2: \n",
      "\t{'target': -19.0, 'params': {'x': 4.0, 'y': 3.0}}\n",
      "Iteration 3: \n",
      "\t{'target': -16.29839645063864, 'params': {'x': 2.3776144540856503, 'y': -2.412527795983739}}\n",
      "Iteration 4: \n",
      "\t{'target': -4.441293113411222, 'params': {'x': 2.104665051994087, 'y': -0.005822117636089974}}\n",
      "Iteration 5: \n",
      "\t{'target': -16.134894722612252, 'params': {'x': 2.2935117816342263, 'y': -2.445968431387213}}\n",
      "Iteration 6: \n",
      "\t{'target': -8.340778037007604, 'params': {'x': 2.3725204227553416, 'y': -0.9266356377417138}}\n",
      "Iteration 7: \n",
      "\t{'target': -4.615504509119164, 'params': {'x': 2.234018272675255, 'y': 0.2096413051833781}}\n",
      "Iteration 8: \n",
      "\t{'target': -3.6576470882512426, 'params': {'x': 2.0, 'y': 0.1890455695593971}}\n",
      "Iteration 9: \n",
      "\t{'target': -3.398647744920824, 'params': {'x': 2.0, 'y': 0.36861442452268206}}\n",
      "Iteration 10: \n",
      "\t{'target': -3.1673092808724457, 'params': {'x': 2.0, 'y': 0.5909654282674316}}\n",
      "Iteration 11: \n",
      "\t{'target': -7.392279298427363, 'params': {'x': 2.79353494846134, 'y': 0.23290040402014167}}\n",
      "Iteration 12: \n",
      "\t{'target': -7.068843753868606, 'params': {'x': 2.8383890288065894, 'y': 1.1113170023805568}}\n",
      "Iteration 13: \n",
      "\t{'target': -6.412432296144895, 'params': {'x': 2.408904499463035, 'y': 2.268704618345673}}\n",
      "Iteration 14: \n",
      "\t{'target': -3.019676787011191, 'params': {'x': 2.0, 'y': 0.8597260287466314}}\n",
      "Iteration 15: \n",
      "\t{'target': -3.020171238694143, 'params': {'x': 2.0, 'y': 1.1420254860725472}}\n",
      "Iteration 16: \n",
      "\t{'target': -3.190874224274128, 'params': {'x': 2.0, 'y': 1.4368915474967763}}\n",
      "Iteration 17: \n",
      "\t{'target': -3.000005847451667, 'params': {'x': 2.0, 'y': 1.0024181504641494}}\n",
      "Iteration 18: \n",
      "\t{'target': -3.2226211374385345, 'params': {'x': 2.0547751863958523, 'y': 1.0228050610704136}}\n",
      "Iteration 19: \n",
      "\t{'target': -7.454735524570369, 'params': {'x': 2.834609604734254, 'y': 0.3521389706745097}}\n",
      "Iteration 20: \n",
      "\t{'target': -12.105849201995525, 'params': {'x': 2.2807738771904678, 'y': -1.8113910654907273}}\n",
      "Iteration 21: \n",
      "\t{'target': -3.069488947369922, 'params': {'x': 2.0, 'y': 1.2636075631880128}}\n",
      "Iteration 22: \n",
      "\t{'target': -3.0031808394027344, 'params': {'x': 2.0, 'y': 0.9436010691348272}}\n",
      "Iteration 23: \n",
      "\t{'target': -3.0027830798449626, 'params': {'x': 2.0, 'y': 1.0527549035158152}}\n",
      "Iteration 24: \n",
      "\t{'target': -3.0000483476678035, 'params': {'x': 2.0, 'y': 0.9930467512770517}}\n",
      "Iteration 25: \n",
      "\t{'target': -3.0001263091751884, 'params': {'x': 2.0, 'y': 1.0112387354799703}}\n",
      "Iteration 26: \n",
      "\t{'target': -3.0002077790346737, 'params': {'x': 2.0000000005523773, 'y': 0.9855855341699822}}\n",
      "Iteration 27: \n",
      "\t{'target': -3.000143293831014, 'params': {'x': 2.0, 'y': 1.0119705401304182}}\n",
      "Iteration 28: \n",
      "\t{'target': -3.0002719271363283, 'params': {'x': 2.0000000006282415, 'y': 0.9835098628458627}}\n"
     ]
    }
   ],
   "source": [
    "for i, res in enumerate(optimizer.res):\n",
    "    print('Iteration {}: \\n\\t{}'.format(i,res))"
   ]
  },
  {
   "cell_type": "code",
   "execution_count": 11,
   "metadata": {},
   "outputs": [
    {
     "name": "stdout",
     "output_type": "stream",
     "text": [
      "|   iter    |  target   |     x     |     y     |\n",
      "-------------------------------------------------\n",
      "| \u001b[95m 30      \u001b[0m | \u001b[95m-0.6743  \u001b[0m | \u001b[95m 1.292   \u001b[0m | \u001b[95m 0.9205  \u001b[0m |\n",
      "| \u001b[95m 31      \u001b[0m | \u001b[95m 0.05928 \u001b[0m | \u001b[95m 0.9585  \u001b[0m | \u001b[95m 1.148   \u001b[0m |\n",
      "| \u001b[95m 32      \u001b[0m | \u001b[95m 0.5105  \u001b[0m | \u001b[95m 0.6943  \u001b[0m | \u001b[95m 0.9139  \u001b[0m |\n",
      "| \u001b[95m 33      \u001b[0m | \u001b[95m 0.802   \u001b[0m | \u001b[95m 0.4315  \u001b[0m | \u001b[95m 1.109   \u001b[0m |\n",
      "| \u001b[95m 34      \u001b[0m | \u001b[95m 0.9486  \u001b[0m | \u001b[95m 0.1977  \u001b[0m | \u001b[95m 0.889   \u001b[0m |\n",
      "=================================================\n"
     ]
    }
   ],
   "source": [
    "optimizer.set_bounds(new_bounds={'x': (-2,3)})\n",
    "optimizer.maximize(init_points=0,n_iter=5)"
   ]
  },
  {
   "cell_type": "code",
   "execution_count": 12,
   "metadata": {},
   "outputs": [],
   "source": [
    "optimizer.probe(params={'x': 0.5, 'y': 0.7}, lazy=True)"
   ]
  },
  {
   "cell_type": "code",
   "execution_count": 13,
   "metadata": {},
   "outputs": [
    {
     "data": {
      "text/plain": [
       "['x', 'y']"
      ]
     },
     "execution_count": 13,
     "metadata": {},
     "output_type": "execute_result"
    }
   ],
   "source": [
    "optimizer.space.keys"
   ]
  },
  {
   "cell_type": "code",
   "execution_count": 15,
   "metadata": {},
   "outputs": [
    {
     "name": "stdout",
     "output_type": "stream",
     "text": [
      "|   iter    |  target   |     x     |     y     |\n",
      "-------------------------------------------------\n",
      "| \u001b[0m 35      \u001b[0m | \u001b[0m 0.66    \u001b[0m | \u001b[0m 0.5     \u001b[0m | \u001b[0m 0.7     \u001b[0m |\n",
      "| \u001b[0m 36      \u001b[0m | \u001b[0m 0.1     \u001b[0m | \u001b[0m-0.3     \u001b[0m | \u001b[0m 0.1     \u001b[0m |\n",
      "=================================================\n"
     ]
    }
   ],
   "source": [
    "optimizer.probe(params=[-0.3,0.1], lazy=True)\n",
    "optimizer.maximize(init_points=0,n_iter=0)"
   ]
  },
  {
   "cell_type": "code",
   "execution_count": 21,
   "metadata": {},
   "outputs": [],
   "source": [
    "from bayes_opt.observer import JSONLogger\n",
    "from bayes_opt.event import Events"
   ]
  },
  {
   "cell_type": "code",
   "execution_count": 23,
   "metadata": {},
   "outputs": [],
   "source": [
    "logger = JSONLogger(path='./logs.json')\n",
    "optimizer.subscribe(Events.OPTMIZATION_STEP, logger)"
   ]
  },
  {
   "cell_type": "code",
   "execution_count": 24,
   "metadata": {},
   "outputs": [
    {
     "name": "stdout",
     "output_type": "stream",
     "text": [
      "|   iter    |  target   |     x     |     y     |\n",
      "-------------------------------------------------\n",
      "| \u001b[0m 37      \u001b[0m | \u001b[0m-6.289   \u001b[0m | \u001b[0m 2.004   \u001b[0m | \u001b[0m 2.81    \u001b[0m |\n",
      "| \u001b[0m 38      \u001b[0m | \u001b[0m 0.7889  \u001b[0m | \u001b[0m-0.4329  \u001b[0m | \u001b[0m 1.154   \u001b[0m |\n",
      "| \u001b[0m 39      \u001b[0m | \u001b[0m 0.8085  \u001b[0m | \u001b[0m-0.345   \u001b[0m | \u001b[0m 0.7308  \u001b[0m |\n",
      "| \u001b[0m 40      \u001b[0m | \u001b[0m 0.9209  \u001b[0m | \u001b[0m-0.03478 \u001b[0m | \u001b[0m 1.279   \u001b[0m |\n",
      "| \u001b[95m 41      \u001b[0m | \u001b[95m 0.9847  \u001b[0m | \u001b[95m-0.1232  \u001b[0m | \u001b[95m 1.009   \u001b[0m |\n",
      "=================================================\n"
     ]
    }
   ],
   "source": [
    "optimizer.maximize(init_points=2,n_iter=3)"
   ]
  },
  {
   "cell_type": "code",
   "execution_count": 25,
   "metadata": {},
   "outputs": [],
   "source": [
    "from bayes_opt.util import load_logs"
   ]
  },
  {
   "cell_type": "code",
   "execution_count": 26,
   "metadata": {},
   "outputs": [
    {
     "name": "stdout",
     "output_type": "stream",
     "text": [
      "0\n"
     ]
    }
   ],
   "source": [
    "new_optimizer = BayesianOptimization(f=black_box_function,\\\n",
    "                                    pbounds={'x':(-2,2),'y':(-2,2)},\\\n",
    "                                    verbose=2,\\\n",
    "                                    random_state=7)\n",
    "\n",
    "print(len(new_optimizer.space))"
   ]
  },
  {
   "cell_type": "code",
   "execution_count": 28,
   "metadata": {},
   "outputs": [],
   "source": [
    "load_logs(new_optimizer, logs=['./logs.json']);"
   ]
  },
  {
   "cell_type": "code",
   "execution_count": 29,
   "metadata": {},
   "outputs": [
    {
     "data": {
      "text/plain": [
       "5"
      ]
     },
     "execution_count": 29,
     "metadata": {},
     "output_type": "execute_result"
    }
   ],
   "source": [
    "len(new_optimizer.space)"
   ]
  },
  {
   "cell_type": "code",
   "execution_count": 30,
   "metadata": {},
   "outputs": [
    {
     "name": "stdout",
     "output_type": "stream",
     "text": [
      "|   iter    |  target   |     x     |     y     |\n",
      "-------------------------------------------------\n",
      "| \u001b[0m 1       \u001b[0m | \u001b[0m-0.6708  \u001b[0m | \u001b[0m 0.633   \u001b[0m | \u001b[0m-0.127   \u001b[0m |\n",
      "| \u001b[0m 2       \u001b[0m | \u001b[0m-3.353   \u001b[0m | \u001b[0m-1.875   \u001b[0m | \u001b[0m 0.08435 \u001b[0m |\n",
      "| \u001b[0m 3       \u001b[0m | \u001b[0m-0.2406  \u001b[0m | \u001b[0m-0.4905  \u001b[0m | \u001b[0m 2.0     \u001b[0m |\n",
      "| \u001b[0m 4       \u001b[0m | \u001b[0m 0.6584  \u001b[0m | \u001b[0m 0.5842  \u001b[0m | \u001b[0m 0.9825  \u001b[0m |\n",
      "| \u001b[0m 5       \u001b[0m | \u001b[0m-12.0    \u001b[0m | \u001b[0m 2.0     \u001b[0m | \u001b[0m-2.0     \u001b[0m |\n",
      "| \u001b[0m 6       \u001b[0m | \u001b[0m 0.7514  \u001b[0m | \u001b[0m 0.1992  \u001b[0m | \u001b[0m 0.5429  \u001b[0m |\n",
      "| \u001b[0m 7       \u001b[0m | \u001b[0m 0.9534  \u001b[0m | \u001b[0m 0.2158  \u001b[0m | \u001b[0m 0.9996  \u001b[0m |\n",
      "| \u001b[0m 8       \u001b[0m | \u001b[0m 0.6433  \u001b[0m | \u001b[0m 0.3735  \u001b[0m | \u001b[0m 1.466   \u001b[0m |\n",
      "| \u001b[0m 9       \u001b[0m | \u001b[0m 0.1672  \u001b[0m | \u001b[0m-0.1987  \u001b[0m | \u001b[0m 0.1093  \u001b[0m |\n",
      "| \u001b[0m 10      \u001b[0m | \u001b[0m 0.9497  \u001b[0m | \u001b[0m-0.02571 \u001b[0m | \u001b[0m 0.7771  \u001b[0m |\n",
      "=================================================\n"
     ]
    }
   ],
   "source": [
    "new_optimizer.maximize(init_points=0,n_iter=10)"
   ]
  },
  {
   "cell_type": "code",
   "execution_count": 36,
   "metadata": {},
   "outputs": [],
   "source": [
    "optimizer = BayesianOptimization(f=None,pbounds={'x':(-2,2),'y':(-3,3)},\\\n",
    "                                 verbose=2, random_state=1)"
   ]
  },
  {
   "cell_type": "code",
   "execution_count": 37,
   "metadata": {},
   "outputs": [],
   "source": [
    "from bayes_opt import UtilityFunction\n",
    "\n",
    "utility = UtilityFunction(kind='ucb', kappa=2.5, xi=0.0)"
   ]
  },
  {
   "cell_type": "code",
   "execution_count": 38,
   "metadata": {},
   "outputs": [
    {
     "data": {
      "text/plain": [
       "{'x': -0.331911981189704, 'y': 1.3219469606529488}"
      ]
     },
     "execution_count": 38,
     "metadata": {},
     "output_type": "execute_result"
    }
   ],
   "source": [
    "next_point_to_probe = optimizer.suggest(utility)\n",
    "next_point_to_probe"
   ]
  },
  {
   "cell_type": "code",
   "execution_count": 40,
   "metadata": {},
   "outputs": [
    {
     "data": {
      "text/plain": [
       "0.7861845912690542"
      ]
     },
     "execution_count": 40,
     "metadata": {},
     "output_type": "execute_result"
    }
   ],
   "source": [
    "target = black_box_function(**next_point_to_probe)\n",
    "target"
   ]
  },
  {
   "cell_type": "code",
   "execution_count": 41,
   "metadata": {},
   "outputs": [],
   "source": [
    "optimizer.register(params=next_point_to_probe, target=target)"
   ]
  },
  {
   "cell_type": "code",
   "execution_count": 42,
   "metadata": {},
   "outputs": [
    {
     "name": "stdout",
     "output_type": "stream",
     "text": [
      "-19.0 {'x': 2.0, 'y': -3.0}\n",
      "-12.194801029414048 {'x': -1.2447710918286998, 'y': -2.412527795983739}\n",
      "0.6381713808008993 {'x': -0.3395244574146384, 'y': 1.4965397889559267}\n",
      "0.5052897389362041 {'x': -0.6435716330974743, 'y': 1.2837707069731576}\n",
      "0.9493808230928116 {'x': -0.019453291773639306, 'y': 1.2241444765020055}\n",
      "{'target': 0.9493808230928116, 'params': {'x': -0.019453291773639306, 'y': 1.2241444765020055}}\n"
     ]
    }
   ],
   "source": [
    "for _ in range(5):\n",
    "    next_point = optimizer.suggest(utility)\n",
    "    target = black_box_function(**next_point)\n",
    "    optimizer.register(params=next_point, target= target)\n",
    "    print(target, next_point)\n",
    "    \n",
    "print(optimizer.max)\n"
   ]
  },
  {
   "cell_type": "markdown",
   "metadata": {},
   "source": [
    "## Discrete Parameters"
   ]
  },
  {
   "cell_type": "code",
   "execution_count": 43,
   "metadata": {},
   "outputs": [],
   "source": [
    "def func_with_discrete_params(x,y,d):\n",
    "    assert type(d) == int\n",
    "    \n",
    "    return ((x+y+d) // (1 + d)) / (1+(x+y)**2)"
   ]
  },
  {
   "cell_type": "code",
   "execution_count": 44,
   "metadata": {},
   "outputs": [],
   "source": [
    "def func_to_be_optimized(x,y,w):\n",
    "    d = int(w)\n",
    "    return func_with_discrete_params(x,y,d)\n",
    "    "
   ]
  },
  {
   "cell_type": "code",
   "execution_count": 45,
   "metadata": {},
   "outputs": [],
   "source": [
    "optimizer = BayesianOptimization(f=func_to_be_optimized,\\\n",
    "                                pbounds={'x':(-10,10),'y':(-10,10),'w':(0,5)},\\\n",
    "                                verbose=2,\\\n",
    "                                random_state=1)"
   ]
  },
  {
   "cell_type": "code",
   "execution_count": 46,
   "metadata": {
    "scrolled": false
   },
   "outputs": [
    {
     "name": "stdout",
     "output_type": "stream",
     "text": [
      "|   iter    |  target   |     w     |     x     |     y     |\n",
      "-------------------------------------------------------------\n",
      "| \u001b[0m 1       \u001b[0m | \u001b[0m-0.06199 \u001b[0m | \u001b[0m 2.085   \u001b[0m | \u001b[0m 4.406   \u001b[0m | \u001b[0m-9.998   \u001b[0m |\n",
      "| \u001b[95m 2       \u001b[0m | \u001b[95m-0.0344  \u001b[0m | \u001b[95m 1.512   \u001b[0m | \u001b[95m-7.065   \u001b[0m | \u001b[95m-8.153   \u001b[0m |\n",
      "| \u001b[0m 3       \u001b[0m | \u001b[0m-0.2177  \u001b[0m | \u001b[0m 0.9313  \u001b[0m | \u001b[0m-3.089   \u001b[0m | \u001b[0m-2.065   \u001b[0m |\n",
      "| \u001b[95m 4       \u001b[0m | \u001b[95m 0.1865  \u001b[0m | \u001b[95m 2.694   \u001b[0m | \u001b[95m-1.616   \u001b[0m | \u001b[95m 3.704   \u001b[0m |\n",
      "| \u001b[0m 5       \u001b[0m | \u001b[0m-0.2187  \u001b[0m | \u001b[0m 1.022   \u001b[0m | \u001b[0m 7.562   \u001b[0m | \u001b[0m-9.452   \u001b[0m |\n",
      "| \u001b[0m 6       \u001b[0m | \u001b[0m 0.009975\u001b[0m | \u001b[0m 5.0     \u001b[0m | \u001b[0m 10.0    \u001b[0m | \u001b[0m 10.0    \u001b[0m |\n",
      "| \u001b[0m 7       \u001b[0m | \u001b[0m 0.0     \u001b[0m | \u001b[0m 5.0     \u001b[0m | \u001b[0m-10.0    \u001b[0m | \u001b[0m 10.0    \u001b[0m |\n",
      "| \u001b[0m 8       \u001b[0m | \u001b[0m 0.09003 \u001b[0m | \u001b[0m 0.0     \u001b[0m | \u001b[0m 0.4916  \u001b[0m | \u001b[0m 10.0    \u001b[0m |\n",
      "| \u001b[0m 9       \u001b[0m | \u001b[0m-0.007481\u001b[0m | \u001b[0m 5.0     \u001b[0m | \u001b[0m-10.0    \u001b[0m | \u001b[0m-10.0    \u001b[0m |\n",
      "| \u001b[0m 10      \u001b[0m | \u001b[0m 0.01989 \u001b[0m | \u001b[0m 5.0     \u001b[0m | \u001b[0m-0.02203 \u001b[0m | \u001b[0m 10.0    \u001b[0m |\n",
      "| \u001b[0m 11      \u001b[0m | \u001b[0m 0.0189  \u001b[0m | \u001b[0m 5.0     \u001b[0m | \u001b[0m 10.0    \u001b[0m | \u001b[0m 0.238   \u001b[0m |\n",
      "| \u001b[0m 12      \u001b[0m | \u001b[0m-0.2149  \u001b[0m | \u001b[0m 0.0     \u001b[0m | \u001b[0m-10.0    \u001b[0m | \u001b[0m 5.282   \u001b[0m |\n",
      "| \u001b[0m 13      \u001b[0m | \u001b[0m 0.05995 \u001b[0m | \u001b[0m 0.0     \u001b[0m | \u001b[0m 10.0    \u001b[0m | \u001b[0m 5.786   \u001b[0m |\n",
      "| \u001b[0m 14      \u001b[0m | \u001b[0m-0.01299 \u001b[0m | \u001b[0m 5.0     \u001b[0m | \u001b[0m-2.367   \u001b[0m | \u001b[0m-10.0    \u001b[0m |\n",
      "| \u001b[0m 15      \u001b[0m | \u001b[0m 0.03637 \u001b[0m | \u001b[0m 5.0     \u001b[0m | \u001b[0m 3.773   \u001b[0m | \u001b[0m 3.575   \u001b[0m |\n",
      "| \u001b[0m 16      \u001b[0m | \u001b[0m-0.01214 \u001b[0m | \u001b[0m 5.0     \u001b[0m | \u001b[0m-10.0    \u001b[0m | \u001b[0m 0.9778  \u001b[0m |\n",
      "| \u001b[0m 17      \u001b[0m | \u001b[0m 0.0     \u001b[0m | \u001b[0m 5.0     \u001b[0m | \u001b[0m 10.0    \u001b[0m | \u001b[0m-10.0    \u001b[0m |\n",
      "| \u001b[0m 18      \u001b[0m | \u001b[0m 0.0     \u001b[0m | \u001b[0m 5.0     \u001b[0m | \u001b[0m-4.58    \u001b[0m | \u001b[0m 5.518   \u001b[0m |\n",
      "| \u001b[0m 19      \u001b[0m | \u001b[0m-0.04988 \u001b[0m | \u001b[0m 0.0     \u001b[0m | \u001b[0m-10.0    \u001b[0m | \u001b[0m-10.0    \u001b[0m |\n",
      "| \u001b[0m 20      \u001b[0m | \u001b[0m 0.1246  \u001b[0m | \u001b[0m 0.0     \u001b[0m | \u001b[0m 2.311   \u001b[0m | \u001b[0m 5.116   \u001b[0m |\n",
      "| \u001b[0m 21      \u001b[0m | \u001b[0m 0.04988 \u001b[0m | \u001b[0m 0.0     \u001b[0m | \u001b[0m 10.0    \u001b[0m | \u001b[0m 10.0    \u001b[0m |\n",
      "| \u001b[0m 22      \u001b[0m | \u001b[0m 0.0456  \u001b[0m | \u001b[0m 2.03    \u001b[0m | \u001b[0m 0.149   \u001b[0m | \u001b[0m 6.397   \u001b[0m |\n",
      "| \u001b[0m 23      \u001b[0m | \u001b[0m 0.0     \u001b[0m | \u001b[0m 5.0     \u001b[0m | \u001b[0m 4.685   \u001b[0m | \u001b[0m-4.936   \u001b[0m |\n",
      "| \u001b[0m 24      \u001b[0m | \u001b[0m 0.06465 \u001b[0m | \u001b[0m 0.0     \u001b[0m | \u001b[0m 5.199   \u001b[0m | \u001b[0m 10.0    \u001b[0m |\n",
      "| \u001b[95m 25      \u001b[0m | \u001b[95m 0.3763  \u001b[0m | \u001b[95m 5.0     \u001b[0m | \u001b[95m-0.6807  \u001b[0m | \u001b[95m 1.968   \u001b[0m |\n",
      "| \u001b[0m 26      \u001b[0m | \u001b[0m 0.0     \u001b[0m | \u001b[0m 5.0     \u001b[0m | \u001b[0m-2.004   \u001b[0m | \u001b[0m-0.557   \u001b[0m |\n",
      "| \u001b[0m 27      \u001b[0m | \u001b[0m 0.1073  \u001b[0m | \u001b[0m 0.0     \u001b[0m | \u001b[0m 10.0    \u001b[0m | \u001b[0m-1.423   \u001b[0m |\n",
      "| \u001b[0m 28      \u001b[0m | \u001b[0m-0.08898 \u001b[0m | \u001b[0m 0.0     \u001b[0m | \u001b[0m-2.046   \u001b[0m | \u001b[0m-10.0    \u001b[0m |\n",
      "| \u001b[0m 29      \u001b[0m | \u001b[0m 0.1915  \u001b[0m | \u001b[0m 0.0     \u001b[0m | \u001b[0m 3.99    \u001b[0m | \u001b[0m-0.1607  \u001b[0m |\n",
      "| \u001b[0m 30      \u001b[0m | \u001b[0m 0.0     \u001b[0m | \u001b[0m 0.0     \u001b[0m | \u001b[0m-10.0    \u001b[0m | \u001b[0m 10.0    \u001b[0m |\n",
      "=============================================================\n"
     ]
    }
   ],
   "source": [
    "optimizer.maximize(alpha=1e-3)"
   ]
  },
  {
   "cell_type": "code",
   "execution_count": 47,
   "metadata": {},
   "outputs": [],
   "source": [
    "optimizer = BayesianOptimization(f=black_box_function,\\\n",
    "                                pbounds={'x':(-2,2),'y':(-3,3)},\\\n",
    "                                verbose=2,\\\n",
    "                                random_state=1)\n"
   ]
  },
  {
   "cell_type": "code",
   "execution_count": 51,
   "metadata": {},
   "outputs": [
    {
     "name": "stdout",
     "output_type": "stream",
     "text": [
      "|   iter    |  target   |     x     |     y     |\n",
      "-------------------------------------------------\n",
      "| \u001b[0m 1       \u001b[0m | \u001b[0m 0.7862  \u001b[0m | \u001b[0m-0.3319  \u001b[0m | \u001b[0m 1.322   \u001b[0m |\n",
      "| \u001b[0m 2       \u001b[0m | \u001b[0m-7.777   \u001b[0m | \u001b[0m-2.0     \u001b[0m | \u001b[0m-1.186   \u001b[0m |\n",
      "| \u001b[0m 3       \u001b[0m | \u001b[0m-12.87   \u001b[0m | \u001b[0m-1.413   \u001b[0m | \u001b[0m-2.446   \u001b[0m |\n",
      "| \u001b[0m 4       \u001b[0m | \u001b[0m-4.287   \u001b[0m | \u001b[0m-1.255   \u001b[0m | \u001b[0m-0.9266  \u001b[0m |\n",
      "| \u001b[0m 5       \u001b[0m | \u001b[0m-1.034   \u001b[0m | \u001b[0m-0.2722  \u001b[0m | \u001b[0m-0.3999  \u001b[0m |\n",
      "| \u001b[95m 6       \u001b[0m | \u001b[95m 0.8292  \u001b[0m | \u001b[95m-0.3635  \u001b[0m | \u001b[95m 0.8034  \u001b[0m |\n",
      "| \u001b[95m 7       \u001b[0m | \u001b[95m 0.9963  \u001b[0m | \u001b[95m 0.05949 \u001b[0m | \u001b[95m 1.013   \u001b[0m |\n",
      "| \u001b[0m 8       \u001b[0m | \u001b[0m 0.7999  \u001b[0m | \u001b[0m 0.1077  \u001b[0m | \u001b[0m 0.5659  \u001b[0m |\n",
      "| \u001b[0m 9       \u001b[0m | \u001b[0m 0.6138  \u001b[0m | \u001b[0m 0.2502  \u001b[0m | \u001b[0m 1.569   \u001b[0m |\n",
      "=================================================\n"
     ]
    }
   ],
   "source": [
    "optimizer.maximize(init_points=1,n_iter=5,\\\n",
    "                   alpha=1e-3, n_restarts_optimizer=5)"
   ]
  },
  {
   "cell_type": "code",
   "execution_count": 52,
   "metadata": {},
   "outputs": [],
   "source": [
    "optimizer.set_gp_params(normalize_y=True)"
   ]
  },
  {
   "cell_type": "markdown",
   "metadata": {},
   "source": [
    "#### increase alpha if necessary"
   ]
  },
  {
   "cell_type": "markdown",
   "metadata": {},
   "source": [
    "#### Observers"
   ]
  },
  {
   "cell_type": "code",
   "execution_count": 55,
   "metadata": {},
   "outputs": [],
   "source": [
    "from bayes_opt.event import DEFAULT_EVENTS"
   ]
  },
  {
   "cell_type": "code",
   "execution_count": 56,
   "metadata": {},
   "outputs": [],
   "source": [
    "optimizer = BayesianOptimization(f=black_box_function,\\\n",
    "                                pbounds={'x':(-2,2),'y':(-3,3)},\\\n",
    "                                verbose=2,\\\n",
    "                                random_state=1)"
   ]
  },
  {
   "cell_type": "code",
   "execution_count": 57,
   "metadata": {},
   "outputs": [],
   "source": [
    "class BasicObserver:\n",
    "    def update(self,event,instance):\n",
    "        print(event)"
   ]
  },
  {
   "cell_type": "code",
   "execution_count": 60,
   "metadata": {},
   "outputs": [],
   "source": [
    "my_observer = BasicObserver()\n",
    "\n",
    "optimizer.subscribe(event=Events.OPTMIZATION_STEP,\\\n",
    "                   subscriber=my_observer,\\\n",
    "                   callback=None)"
   ]
  },
  {
   "cell_type": "code",
   "execution_count": 61,
   "metadata": {},
   "outputs": [
    {
     "name": "stdout",
     "output_type": "stream",
     "text": [
      "optmization:step\n",
      "optmization:step\n",
      "optmization:step\n"
     ]
    }
   ],
   "source": [
    "optimizer.maximize(init_points=1,n_iter=2)"
   ]
  },
  {
   "cell_type": "code",
   "execution_count": 62,
   "metadata": {},
   "outputs": [
    {
     "data": {
      "text/plain": [
       "['optmization:start', 'optmization:step', 'optmization:end']"
      ]
     },
     "execution_count": 62,
     "metadata": {},
     "output_type": "execute_result"
    }
   ],
   "source": [
    "DEFAULT_EVENTS"
   ]
  },
  {
   "cell_type": "code",
   "execution_count": 63,
   "metadata": {},
   "outputs": [],
   "source": [
    "def my_callback(event,instance):\n",
    "    print('my callback')\n",
    "    \n",
    "optimizer.subscribe(event=Events.OPTMIZATION_START,\\\n",
    "                   subscriber='any object',\\\n",
    "                   callback=my_callback)"
   ]
  },
  {
   "cell_type": "code",
   "execution_count": 64,
   "metadata": {},
   "outputs": [
    {
     "name": "stdout",
     "output_type": "stream",
     "text": [
      "my callback\n",
      "optmization:step\n",
      "optmization:step\n",
      "optmization:step\n"
     ]
    }
   ],
   "source": [
    "optimizer.maximize(init_points=1,n_iter=2)"
   ]
  },
  {
   "cell_type": "code",
   "execution_count": null,
   "metadata": {},
   "outputs": [],
   "source": []
  }
 ],
 "metadata": {
  "kernelspec": {
   "display_name": "Python 3",
   "language": "python",
   "name": "python3"
  },
  "language_info": {
   "codemirror_mode": {
    "name": "ipython",
    "version": 3
   },
   "file_extension": ".py",
   "mimetype": "text/x-python",
   "name": "python",
   "nbconvert_exporter": "python",
   "pygments_lexer": "ipython3",
   "version": "3.7.5"
  }
 },
 "nbformat": 4,
 "nbformat_minor": 2
}
