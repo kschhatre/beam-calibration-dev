{
 "cells": [
  {
   "cell_type": "code",
   "execution_count": 2,
   "metadata": {},
   "outputs": [],
   "source": [
    "import torch.optim as optim\n",
    "from ray import tune\n",
    "from ray.tune.examples.mnist_pytorch import get_data_loaders, ConvNet, train, test\n",
    "\n"
   ]
  },
  {
   "cell_type": "code",
   "execution_count": 3,
   "metadata": {},
   "outputs": [],
   "source": [
    "\n",
    "def train_mnist(config):\n",
    "    train_loader, test_loader = get_data_loaders()\n",
    "    model = ConvNet()\n",
    "    optimizer = optim.SGD(model.parameters(), lr=config[\"lr\"])\n",
    "    for i in range(10):\n",
    "        train(model, optimizer, train_loader)\n",
    "        acc = test(model, test_loader)\n",
    "        tune.track.log(mean_accuracy=acc)\n",
    "        \n",
    "\n",
    "def beamville(config):\n",
    "    pass\n",
    "\n",
    "\n"
   ]
  },
  {
   "cell_type": "code",
   "execution_count": 5,
   "metadata": {
    "scrolled": false
   },
   "outputs": [
    {
     "name": "stderr",
     "output_type": "stream",
     "text": [
      "2019-12-09 13:04:21,250\tINFO resource_spec.py:205 -- Starting Ray with 10.11 GiB memory available for workers and up to 5.07 GiB for objects. You can adjust these settings with ray.init(memory=<bytes>, object_store_memory=<bytes>).\n",
      "2019-12-09 13:04:23,493\tINFO function_runner.py:254 -- tune.track signature detected.\n"
     ]
    },
    {
     "name": "stdout",
     "output_type": "stream",
     "text": [
      "== Status ==\n",
      "Using FIFO scheduling algorithm.\n",
      "Resources requested: 0/8 CPUs, 0/0 GPUs, 0.0/10.11 GiB heap, 0.0/3.47 GiB objects\n",
      "Memory usage on this node: 15.0/31.6 GiB\n",
      "\n",
      "\u001b[2m\u001b[33m(pid=raylet)\u001b[0m E1209 13:04:22.418817700    1779 socket_utils_common_posix.cc:202] check for SO_REUSEPORT: {\"created\":\"@1575925462.418798700\",\"description\":\"Protocol not available\",\"errno\":92,\"file\":\"external/com_github_grpc_grpc/src/core/lib/iomgr/socket_utils_common_posix.cc\",\"file_line\":179,\"os_error\":\"Protocol not available\",\"syscall\":\"getsockopt(SO_REUSEPORT)\"}\n",
      "\u001b[2m\u001b[33m(pid=raylet)\u001b[0m E1209 13:04:22.419041000    1779 socket_utils_common_posix.cc:303] setsockopt(TCP_USER_TIMEOUT) Protocol not available\n",
      "\u001b[2m\u001b[33m(pid=raylet)\u001b[0m E1209 13:04:22.487084000    1779 socket_utils_common_posix.cc:303] setsockopt(TCP_USER_TIMEOUT) Protocol not available\n"
     ]
    },
    {
     "name": "stderr",
     "output_type": "stream",
     "text": [
      "2019-12-09 13:04:28,286\tERROR log_sync.py:28 -- Log sync requires rsync to be installed.\n",
      "2019-12-09 13:04:28,301\tWARNING util.py:133 -- The `start_trial` operation took 3.7546021938323975 seconds to complete, which may be a performance bottleneck.\n",
      "2019-12-09 13:04:28,331\tERROR log_sync.py:28 -- Log sync requires rsync to be installed.\n",
      "2019-12-09 13:04:28,366\tERROR log_sync.py:28 -- Log sync requires rsync to be installed.\n"
     ]
    },
    {
     "name": "stdout",
     "output_type": "stream",
     "text": [
      "== Status ==\n",
      "Using FIFO scheduling algorithm.\n",
      "Resources requested: 1/8 CPUs, 0/0 GPUs, 0.0/10.11 GiB heap, 0.0/3.47 GiB objects\n",
      "Memory usage on this node: 15.7/31.6 GiB\n",
      "Result logdir: /home/berkeleylab/ray_results/train_mnist\n",
      "Number of trials: 3 ({'RUNNING': 1, 'PENDING': 2})\n",
      "PENDING trials:\n",
      " - train_mnist_1_lr=0.01:\tPENDING\n",
      " - train_mnist_2_lr=0.1:\tPENDING\n",
      "RUNNING trials:\n",
      " - train_mnist_0_lr=0.001:\tRUNNING\n",
      "\n",
      "Result for train_mnist_2_lr=0.1:\n",
      "  date: 2019-12-09_13-04-30\n",
      "  done: false\n",
      "  experiment_id: f6050377a7714d05acd71dd4f7e9962e\n",
      "  hostname: KiranCHHATRE\n",
      "  iterations_since_restore: 1\n",
      "  mean_accuracy: 0.55625\n",
      "  node_ip: 10.0.0.194\n",
      "  pid: 1799\n",
      "  time_since_restore: 1.4456062316894531\n",
      "  time_this_iter_s: 1.4456062316894531\n",
      "  time_total_s: 1.4456062316894531\n",
      "  timestamp: 1575925470\n",
      "  timesteps_since_restore: 0\n",
      "  training_iteration: 0\n",
      "  trial_id: 7a7bedd0\n",
      "  \n",
      "Result for train_mnist_0_lr=0.001:\n",
      "  date: 2019-12-09_13-04-30\n",
      "  done: false\n",
      "  experiment_id: 644f1001a2c140d4a6d25a1513d49545\n",
      "  hostname: KiranCHHATRE\n",
      "  iterations_since_restore: 1\n",
      "  mean_accuracy: 0.1125\n",
      "  node_ip: 10.0.0.194\n",
      "  pid: 1795\n",
      "  time_since_restore: 1.5455882549285889\n",
      "  time_this_iter_s: 1.5455882549285889\n",
      "  time_total_s: 1.5455882549285889\n",
      "  timestamp: 1575925470\n",
      "  timesteps_since_restore: 0\n",
      "  training_iteration: 0\n",
      "  trial_id: 7a7a9656\n",
      "  \n",
      "Result for train_mnist_1_lr=0.01:\n",
      "  date: 2019-12-09_13-04-30\n",
      "  done: false\n",
      "  experiment_id: 30460a7609bc4a168c2bf5a50da691bf\n",
      "  hostname: KiranCHHATRE\n",
      "  iterations_since_restore: 1\n",
      "  mean_accuracy: 0.13125\n",
      "  node_ip: 10.0.0.194\n",
      "  pid: 1800\n",
      "  time_since_restore: 1.5894865989685059\n",
      "  time_this_iter_s: 1.5894865989685059\n",
      "  time_total_s: 1.5894865989685059\n",
      "  timestamp: 1575925470\n",
      "  timesteps_since_restore: 0\n",
      "  training_iteration: 0\n",
      "  trial_id: 7a7b7b70\n",
      "  \n",
      "== Status ==\n",
      "Using FIFO scheduling algorithm.\n",
      "Resources requested: 3/8 CPUs, 0/0 GPUs, 0.0/10.11 GiB heap, 0.0/3.47 GiB objects\n",
      "Memory usage on this node: 15.9/31.6 GiB\n",
      "Result logdir: /home/berkeleylab/ray_results/train_mnist\n",
      "Number of trials: 3 ({'RUNNING': 3})\n",
      "RUNNING trials:\n",
      " - train_mnist_0_lr=0.001:\tRUNNING, [1 CPUs, 0 GPUs], [pid=1795], 4 s, 7 iter, 0.138 acc\n",
      " - train_mnist_1_lr=0.01:\tRUNNING, [1 CPUs, 0 GPUs], [pid=1800], 4 s, 6 iter, 0.622 acc\n",
      " - train_mnist_2_lr=0.1:\tRUNNING, [1 CPUs, 0 GPUs], [pid=1799], 4 s, 7 iter, 0.816 acc\n",
      "\n"
     ]
    },
    {
     "name": "stderr",
     "output_type": "stream",
     "text": [
      "2019-12-09 13:04:34,062\tINFO tune.py:276 -- Returning an analysis object by default. You can call `analysis.trials` to retrieve a list of trials. This message will be removed in future versions of Tune.\n"
     ]
    },
    {
     "name": "stdout",
     "output_type": "stream",
     "text": [
      "== Status ==\n",
      "Using FIFO scheduling algorithm.\n",
      "Resources requested: 0/8 CPUs, 0/0 GPUs, 0.0/10.11 GiB heap, 0.0/3.47 GiB objects\n",
      "Memory usage on this node: 15.8/31.6 GiB\n",
      "Result logdir: /home/berkeleylab/ray_results/train_mnist\n",
      "Number of trials: 3 ({'TERMINATED': 3})\n",
      "TERMINATED trials:\n",
      " - train_mnist_0_lr=0.001:\tTERMINATED, [1 CPUs, 0 GPUs], [pid=1795], 5 s, 9 iter, 0.134 acc\n",
      " - train_mnist_1_lr=0.01:\tTERMINATED, [1 CPUs, 0 GPUs], [pid=1800], 5 s, 9 iter, 0.75 acc\n",
      " - train_mnist_2_lr=0.1:\tTERMINATED, [1 CPUs, 0 GPUs], [pid=1799], 5 s, 9 iter, 0.887 acc\n",
      "\n"
     ]
    }
   ],
   "source": [
    "\n",
    "analysis = tune.run(train_mnist, \\\n",
    "                    config={\"lr\": tune.grid_search([0.001, 0.01, 0.1])})\n"
   ]
  },
  {
   "cell_type": "code",
   "execution_count": null,
   "metadata": {},
   "outputs": [],
   "source": [
    "\n",
    "print(\"Best config: \", analysis.get_best_config(metric=\"mean_accuracy\"))\n",
    "df = analysis.dataframe()\n"
   ]
  }
 ],
 "metadata": {
  "kernelspec": {
   "display_name": "Python 3",
   "language": "python",
   "name": "python3"
  },
  "language_info": {
   "codemirror_mode": {
    "name": "ipython",
    "version": 3
   },
   "file_extension": ".py",
   "mimetype": "text/x-python",
   "name": "python",
   "nbconvert_exporter": "python",
   "pygments_lexer": "ipython3",
   "version": "3.7.5"
  }
 },
 "nbformat": 4,
 "nbformat_minor": 2
}
