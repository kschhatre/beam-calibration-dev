{
 "cells": [
  {
   "cell_type": "code",
   "execution_count": 4,
   "metadata": {},
   "outputs": [],
   "source": [
    "\n",
    "\n",
    "import os\n",
    "import pandas as pd\n",
    "import numpy as np\n",
    "import glob\n",
    "import itertools \n",
    "import subprocess\n",
    "import math\n",
    "\n",
    "from bayes_opt import BayesianOptimization, UtilityFunction\n",
    "\n",
    "\n",
    "pbounds = {'car_intercept': (-5, 5),\\\n",
    "         'walk_transit_intercept': (-5, 5),\\\n",
    "         'drive_transit_intercept': (-5, 5),\\\n",
    "         'ride_hail_transit_intercept': (-5, 5),\\\n",
    "         'ride_hail_intercept': (-5, 5),\\\n",
    "         'ride_hail_pooled_intercept': (-5, 5), \\\n",
    "         'walk_intercept': (-5, 5),\\\n",
    "         'bike_intercept': (-5, 5)}\n",
    "\n",
    "Repo='/home/berkeleylab/Repository/beam/'\n",
    "Current='/home/berkeleylab/Calib_documentation/TUNE_integrate/TUNE_test'\n",
    "\n"
   ]
  },
  {
   "cell_type": "code",
   "execution_count": 5,
   "metadata": {},
   "outputs": [],
   "source": [
    "\n",
    "\n",
    "def ext_change(param):    \n",
    "    if param == 'edit':\n",
    "        for filename in glob.iglob(os.path.join(Repo, 'test/input/beamville/beam.conf')):\n",
    "            os.rename(filename, filename[:-9] + 'beam.txt')\n",
    "    elif param == 'save':\n",
    "        for filename in glob.iglob(os.path.join(Repo, 'test/input/beamville/beam.txt')):\n",
    "            os.rename(filename, filename[:-8] + 'beam.conf')\n",
    "\n",
    "def change_conf(hyperparams):\n",
    "    \n",
    "    with open(Repo+'test/input/beamville/beam.txt', 'r') as fin:\n",
    "        file_text=fin.readlines()\n",
    "        \n",
    "    for i in range(24,32,1):\n",
    "        file_text[i] = file_text[i].split('=',1)[0]+'= '\n",
    "    \n",
    "    file_text[24] = file_text[24]+str(hyperparams[1])\n",
    "    file_text[25] = file_text[25]+str(hyperparams[7])\n",
    "    file_text[26] = file_text[26]+str(hyperparams[2])\n",
    "    file_text[27] = file_text[27]+str(hyperparams[5])\n",
    "    file_text[28] = file_text[28]+str(hyperparams[3])\n",
    "    file_text[29] = file_text[29]+str(hyperparams[4])\n",
    "    file_text[30] = file_text[30]+str(hyperparams[6])\n",
    "    file_text[31] = file_text[31]+str(hyperparams[0])\n",
    "    \n",
    "    for j in range(24,32,1):\n",
    "        file_text[j] = file_text[j]+' \\n'\n",
    "        \n",
    "    with open(Repo+'test/input/beamville/beam.txt', 'w') as fini:\n",
    "        for i in file_text:\n",
    "            fini.write(i)\n",
    "        \n",
    "      \n",
    "def run_beam():\n",
    "    os.chdir(Repo)\n",
    "    subprocess.call([Repo+'runme.sh'])\n",
    "    os.chdir(Current)\n",
    "\n",
    "def all_subdirs_of(b='/home/berkeleylab/Repository/beam/output/beamville/'):\n",
    "  result = []\n",
    "  for d in os.listdir(b):\n",
    "    bd = os.path.join(b, d)\n",
    "    if os.path.isdir(bd): result.append(bd)\n",
    "  return result\n",
    "\n",
    "def beamville(hyperparams):\n",
    "    ext_change('edit')\n",
    "    change_conf(hyperparams)\n",
    "    ext_change('save') \n",
    "    run_beam()\n",
    "    latest_subdir = max(all_subdirs_of(), key=os.path.getmtime)\n",
    "    df = pd.read_csv(latest_subdir+\"/referenceRealizedModeChoice.csv\").iloc[[0, -1]].drop(['iterations'], axis=1)\n",
    "    acc = (df.iloc[0] - df.iloc[-1]).abs().sum()/df.iloc[0].sum()\n",
    "    return -acc\n"
   ]
  },
  {
   "cell_type": "code",
   "execution_count": 3,
   "metadata": {},
   "outputs": [
    {
     "name": "stdout",
     "output_type": "stream",
     "text": [
      "405\n"
     ]
    },
    {
     "data": {
      "text/plain": [
       "'\\nfor s in reversed(range(s_max+1)):\\n    n = int(math.ceil(int(B/max_iter/(s+1))*eta**s))\\n    r = max_iter*eta**(-s)\\n    \\n    T = [get_random_hyperparameter_configuration() for i in range(n)]\\n    \\n    for i in range(s+1):\\n        n_i = n*eta**(-i)\\n        r_i = r*eta**(i)\\n        val_losses = [run_then_return_val_loss(num_iters=r_i,hyperparameters=t) for t in T]\\n        T = [T[i] for i in argsort(val_losses)[0:int(n_i/eta)]]\\n        \\n        '"
      ]
     },
     "execution_count": 3,
     "metadata": {},
     "output_type": "execute_result"
    }
   ],
   "source": [
    "\n",
    "\n",
    "\n",
    "# Early stopping\n",
    "\n",
    "\n",
    "max_iter = 81 # maximum iterations per configurations\n",
    "eta = 3 # downsampling rate\n",
    "logeta = lambda x: math.log(x)/math.log(eta)\n",
    "s_max = int(logeta(max_iter)) # number of successive halving\n",
    "B = (s_max+1)*max_iter # total iteration per execution of successive halving\n",
    "\n",
    "\n",
    "\n",
    "for s in reversed(range(s_max+1)):\n",
    "    n = int(math.ceil(int(B/max_iter/(s+1))*eta**s))\n",
    "    r = max_iter*eta**(-s)\n",
    "    \n",
    "    T = [get_random_hyperparameter_configuration() for i in range(n)]\n",
    "    \n",
    "    for i in range(s+1):\n",
    "        n_i = n*eta**(-i)\n",
    "        r_i = r*eta**(i)\n",
    "        val_losses = [run_then_return_val_loss(num_iters=r_i,hyperparameters=t) for t in T]\n",
    "        T = [T[i] for i in argsort(val_losses)[0:int(n_i/eta)]]\n",
    "        \n",
    "        \n",
    "    \n",
    "\n",
    "\n",
    "\n",
    "\n",
    "\n",
    "\n",
    "\n",
    "\n",
    "\n",
    "\n",
    "\n",
    "\n",
    "\n",
    "\n",
    "\n",
    "\n",
    "\n",
    "\n",
    "\n",
    "\n",
    "\n",
    "\n",
    "\n",
    "\n",
    "\n",
    "\n",
    "\n",
    "\n",
    "\n",
    "\n",
    "\n"
   ]
  },
  {
   "cell_type": "code",
   "execution_count": 11,
   "metadata": {},
   "outputs": [],
   "source": [
    "\n",
    "\n",
    "# Interface between Early stopping and Bayesian Optimization\n",
    "\n",
    "\n",
    "\n"
   ]
  },
  {
   "cell_type": "code",
   "execution_count": 3,
   "metadata": {
    "scrolled": false
   },
   "outputs": [
    {
     "name": "stdout",
     "output_type": "stream",
     "text": [
      "-0.9590612002376707 {'bike_intercept': 1.2882078314496788, 'car_intercept': 3.4299308421164447, 'drive_transit_intercept': -2.981665038255379, 'ride_hail_intercept': 4.092179864013451, 'ride_hail_pooled_intercept': 3.3396652221109484, 'ride_hail_transit_intercept': 3.239382486785276, 'walk_intercept': 0.2849931989788548, 'walk_transit_intercept': -0.30738047489274933}\n",
      "-1.705215046391517 {'bike_intercept': -4.999999999737802, 'car_intercept': -5.0, 'drive_transit_intercept': 5.0, 'ride_hail_intercept': -5.0, 'ride_hail_pooled_intercept': -5.0, 'ride_hail_transit_intercept': -4.999999998813871, 'walk_intercept': 5.0, 'walk_transit_intercept': 5.0}\n",
      "-1.56815210932858 {'bike_intercept': 5.0, 'car_intercept': -5.0, 'drive_transit_intercept': -5.0, 'ride_hail_intercept': -5.0, 'ride_hail_pooled_intercept': 5.0, 'ride_hail_transit_intercept': 5.0, 'walk_intercept': -5.0, 'walk_transit_intercept': -5.0}\n",
      "{'target': -0.935810594634124, 'params': {'bike_intercept': -0.8297799529742598, 'car_intercept': 2.2032449344215808, 'drive_transit_intercept': -4.998856251826551, 'ride_hail_intercept': -1.9766742736816023, 'ride_hail_pooled_intercept': -3.5324410918288693, 'ride_hail_transit_intercept': -4.0766140523120225, 'walk_intercept': -3.137397886223291, 'walk_transit_intercept': -1.5443927295695223}}\n"
     ]
    }
   ],
   "source": [
    "\n",
    "optimizer = BayesianOptimization(f=None, pbounds=pbounds,verbose=2, random_state=1)\n",
    "utility = UtilityFunction(kind='ucb', kappa=2.5, xi= 0.01)\n",
    "next_point_to_probe = optimizer.suggest(utility)\n",
    "hyperparams=list(next_point_to_probe.values())\n",
    "target = beamville(hyperparams)\n",
    "optimizer.register(params=next_point_to_probe, target=target)\n",
    "\n",
    "for _ in range(3):\n",
    "    next_point = optimizer.suggest(utility)\n",
    "    target = beamville(list(next_point.values()))\n",
    "    optimizer.register(params=next_point, target= target)\n",
    "    print(target, next_point)\n",
    "    \n",
    "print(optimizer.max)\n"
   ]
  },
  {
   "cell_type": "code",
   "execution_count": null,
   "metadata": {},
   "outputs": [],
   "source": []
  }
 ],
 "metadata": {
  "kernelspec": {
   "display_name": "Python 3",
   "language": "python",
   "name": "python3"
  },
  "language_info": {
   "codemirror_mode": {
    "name": "ipython",
    "version": 3
   },
   "file_extension": ".py",
   "mimetype": "text/x-python",
   "name": "python",
   "nbconvert_exporter": "python",
   "pygments_lexer": "ipython3",
   "version": "3.7.5"
  }
 },
 "nbformat": 4,
 "nbformat_minor": 2
}
