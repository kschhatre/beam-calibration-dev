{
 "cells": [
  {
   "cell_type": "code",
   "execution_count": 1,
   "metadata": {},
   "outputs": [],
   "source": [
    "\n",
    "import torch\n",
    "import torch.optim as optim\n",
    "from ray import tune\n",
    "from ray.tune.examples.mnist_pytorch import get_data_loaders, \\\n",
    "ConvNet, train, test\n"
   ]
  },
  {
   "cell_type": "code",
   "execution_count": 2,
   "metadata": {},
   "outputs": [],
   "source": [
    "\n",
    "def train_mnist(config):\n",
    "    train_loader, test_loader = get_data_loaders()\n",
    "    model = ConvNet(config)\n",
    "    optimizer = optim.SGD(model.parameters(), lr=config[\"lr\"])\n",
    "    for i in range(30):\n",
    "        train(model, optimizer, train_loader, torch.device(\"cpu\"))\n",
    "        acc = test(model, test_loader, torch.device(\"cpu\"))\n",
    "        tune.track.log(mean_accuracy=acc)\n",
    "        "
   ]
  },
  {
   "cell_type": "code",
   "execution_count": 3,
   "metadata": {
    "scrolled": false
   },
   "outputs": [
    {
     "name": "stderr",
     "output_type": "stream",
     "text": [
      "2019-12-09 12:37:27,479\tINFO resource_spec.py:205 -- Starting Ray with 10.94 GiB memory available for workers and up to 5.48 GiB for objects. You can adjust these settings with ray.init(memory=<bytes>, object_store_memory=<bytes>).\n",
      "2019-12-09 12:37:29,527\tINFO function_runner.py:254 -- tune.track signature detected.\n"
     ]
    },
    {
     "name": "stdout",
     "output_type": "stream",
     "text": [
      "== Status ==\n",
      "Using FIFO scheduling algorithm.\n",
      "Resources requested: 0/8 CPUs, 0/0 GPUs, 0.0/10.94 GiB heap, 0.0/3.76 GiB objects\n",
      "Memory usage on this node: 13.6/31.6 GiB\n",
      "\n",
      "\u001b[2m\u001b[33m(pid=raylet)\u001b[0m E1209 12:37:28.663476600    1078 socket_utils_common_posix.cc:202] check for SO_REUSEPORT: {\"created\":\"@1575923848.663450800\",\"description\":\"Protocol not available\",\"errno\":92,\"file\":\"external/com_github_grpc_grpc/src/core/lib/iomgr/socket_utils_common_posix.cc\",\"file_line\":179,\"os_error\":\"Protocol not available\",\"syscall\":\"getsockopt(SO_REUSEPORT)\"}\n",
      "\u001b[2m\u001b[33m(pid=raylet)\u001b[0m E1209 12:37:28.663767000    1078 socket_utils_common_posix.cc:303] setsockopt(TCP_USER_TIMEOUT) Protocol not available\n",
      "\u001b[2m\u001b[33m(pid=raylet)\u001b[0m E1209 12:37:28.754279600    1078 socket_utils_common_posix.cc:303] setsockopt(TCP_USER_TIMEOUT) Protocol not available\n"
     ]
    },
    {
     "name": "stderr",
     "output_type": "stream",
     "text": [
      "2019-12-09 12:37:46,584\tERROR log_sync.py:28 -- Log sync requires rsync to be installed.\n",
      "2019-12-09 12:37:46,601\tWARNING util.py:133 -- The `start_trial` operation took 16.159563779830933 seconds to complete, which may be a performance bottleneck.\n",
      "2019-12-09 12:37:46,624\tERROR log_sync.py:28 -- Log sync requires rsync to be installed.\n",
      "2019-12-09 12:37:46,655\tERROR log_sync.py:28 -- Log sync requires rsync to be installed.\n"
     ]
    },
    {
     "name": "stdout",
     "output_type": "stream",
     "text": [
      "== Status ==\n",
      "Using FIFO scheduling algorithm.\n",
      "Resources requested: 1/8 CPUs, 0/0 GPUs, 0.0/10.94 GiB heap, 0.0/3.76 GiB objects\n",
      "Memory usage on this node: 14.4/31.6 GiB\n",
      "Result logdir: /home/berkeleylab/ray_results/train_mnist\n",
      "Number of trials: 3 ({'RUNNING': 1, 'PENDING': 2})\n",
      "PENDING trials:\n",
      " - train_mnist_1_lr=0.01:\tPENDING\n",
      " - train_mnist_2_lr=0.1:\tPENDING\n",
      "RUNNING trials:\n",
      " - train_mnist_0_lr=0.001:\tRUNNING\n",
      "\n"
     ]
    },
    {
     "name": "stderr",
     "output_type": "stream",
     "text": [
      "2019-12-09 12:37:47,787\tERROR trial_runner.py:569 -- Error processing event.\n",
      "Traceback (most recent call last):\n",
      "  File \"/home/berkeleylab/anaconda3/envs/tune/lib/python3.7/site-packages/ray/tune/trial_runner.py\", line 515, in _process_trial\n",
      "    result = self.trial_executor.fetch_result(trial)\n",
      "  File \"/home/berkeleylab/anaconda3/envs/tune/lib/python3.7/site-packages/ray/tune/ray_trial_executor.py\", line 351, in fetch_result\n",
      "    result = ray.get(trial_future[0])\n",
      "  File \"/home/berkeleylab/anaconda3/envs/tune/lib/python3.7/site-packages/ray/worker.py\", line 2121, in get\n",
      "    raise value.as_instanceof_cause()\n",
      "ray.exceptions.RayTaskError(TuneError): \u001b[36mray_WrappedTrackFunc:train()\u001b[39m (pid=1094, host=KiranCHHATRE)\n",
      "  File \"/home/berkeleylab/anaconda3/envs/tune/lib/python3.7/site-packages/ray/tune/trainable.py\", line 176, in train\n",
      "    result = self._train()\n",
      "  File \"/home/berkeleylab/anaconda3/envs/tune/lib/python3.7/site-packages/ray/tune/function_runner.py\", line 199, in _train\n",
      "    self._report_thread_runner_error(block=True)\n",
      "  File \"/home/berkeleylab/anaconda3/envs/tune/lib/python3.7/site-packages/ray/tune/function_runner.py\", line 242, in _report_thread_runner_error\n",
      "    .format(err_tb_str)))\n",
      "ray.tune.error.TuneError: Trial raised an exception. Traceback:\n",
      "\u001b[36mray_WrappedTrackFunc:train()\u001b[39m (pid=1094, host=KiranCHHATRE)\n",
      "  File \"/home/berkeleylab/anaconda3/envs/tune/lib/python3.7/site-packages/ray/tune/function_runner.py\", line 97, in run\n",
      "    self._entrypoint()\n",
      "  File \"/home/berkeleylab/anaconda3/envs/tune/lib/python3.7/site-packages/ray/tune/function_runner.py\", line 145, in entrypoint\n",
      "    return self._trainable_func(config, self._status_reporter)\n",
      "  File \"/home/berkeleylab/anaconda3/envs/tune/lib/python3.7/site-packages/ray/tune/function_runner.py\", line 271, in _trainable_func\n",
      "    output = train_func(config)\n",
      "  File \"<ipython-input-2-8ff360d030e2>\", line 3, in train_mnist\n",
      "TypeError: __init__() takes 1 positional argument but 2 were given\n"
     ]
    },
    {
     "name": "stdout",
     "output_type": "stream",
     "text": [
      "\u001b[2m\u001b[36m(pid=1094)\u001b[0m 2019-12-09 12:37:47,618\tERROR function_runner.py:103 -- Runner Thread raised error.\n",
      "\u001b[2m\u001b[36m(pid=1094)\u001b[0m Traceback (most recent call last):\n",
      "\u001b[2m\u001b[36m(pid=1094)\u001b[0m   File \"/home/berkeleylab/anaconda3/envs/tune/lib/python3.7/site-packages/ray/tune/function_runner.py\", line 97, in run\n",
      "\u001b[2m\u001b[36m(pid=1094)\u001b[0m     self._entrypoint()\n",
      "\u001b[2m\u001b[36m(pid=1094)\u001b[0m   File \"/home/berkeleylab/anaconda3/envs/tune/lib/python3.7/site-packages/ray/tune/function_runner.py\", line 145, in entrypoint\n",
      "\u001b[2m\u001b[36m(pid=1094)\u001b[0m     return self._trainable_func(config, self._status_reporter)\n",
      "\u001b[2m\u001b[36m(pid=1094)\u001b[0m   File \"/home/berkeleylab/anaconda3/envs/tune/lib/python3.7/site-packages/ray/tune/function_runner.py\", line 271, in _trainable_func\n",
      "\u001b[2m\u001b[36m(pid=1094)\u001b[0m     output = train_func(config)\n",
      "\u001b[2m\u001b[36m(pid=1094)\u001b[0m   File \"<ipython-input-2-8ff360d030e2>\", line 3, in train_mnist\n",
      "\u001b[2m\u001b[36m(pid=1094)\u001b[0m TypeError: __init__() takes 1 positional argument but 2 were given\n",
      "\u001b[2m\u001b[36m(pid=1094)\u001b[0m Exception in thread Thread-1:\n",
      "\u001b[2m\u001b[36m(pid=1094)\u001b[0m Traceback (most recent call last):\n",
      "\u001b[2m\u001b[36m(pid=1094)\u001b[0m   File \"/home/berkeleylab/anaconda3/envs/tune/lib/python3.7/threading.py\", line 926, in _bootstrap_inner\n",
      "\u001b[2m\u001b[36m(pid=1094)\u001b[0m     self.run()\n",
      "\u001b[2m\u001b[36m(pid=1094)\u001b[0m   File \"/home/berkeleylab/anaconda3/envs/tune/lib/python3.7/site-packages/ray/tune/function_runner.py\", line 116, in run\n",
      "\u001b[2m\u001b[36m(pid=1094)\u001b[0m     raise e\n",
      "\u001b[2m\u001b[36m(pid=1094)\u001b[0m   File \"/home/berkeleylab/anaconda3/envs/tune/lib/python3.7/site-packages/ray/tune/function_runner.py\", line 97, in run\n",
      "\u001b[2m\u001b[36m(pid=1094)\u001b[0m     self._entrypoint()\n",
      "\u001b[2m\u001b[36m(pid=1094)\u001b[0m   File \"/home/berkeleylab/anaconda3/envs/tune/lib/python3.7/site-packages/ray/tune/function_runner.py\", line 145, in entrypoint\n",
      "\u001b[2m\u001b[36m(pid=1094)\u001b[0m     return self._trainable_func(config, self._status_reporter)\n",
      "\u001b[2m\u001b[36m(pid=1094)\u001b[0m   File \"/home/berkeleylab/anaconda3/envs/tune/lib/python3.7/site-packages/ray/tune/function_runner.py\", line 271, in _trainable_func\n",
      "\u001b[2m\u001b[36m(pid=1094)\u001b[0m     output = train_func(config)\n",
      "\u001b[2m\u001b[36m(pid=1094)\u001b[0m   File \"<ipython-input-2-8ff360d030e2>\", line 3, in train_mnist\n",
      "\u001b[2m\u001b[36m(pid=1094)\u001b[0m TypeError: __init__() takes 1 positional argument but 2 were given\n",
      "\u001b[2m\u001b[36m(pid=1094)\u001b[0m \n",
      "\u001b[2m\u001b[36m(pid=1096)\u001b[0m 2019-12-09 12:37:47,684\tERROR function_runner.py:103 -- Runner Thread raised error.\n",
      "\u001b[2m\u001b[36m(pid=1096)\u001b[0m Traceback (most recent call last):\n",
      "\u001b[2m\u001b[36m(pid=1096)\u001b[0m   File \"/home/berkeleylab/anaconda3/envs/tune/lib/python3.7/site-packages/ray/tune/function_runner.py\", line 97, in run\n",
      "\u001b[2m\u001b[36m(pid=1096)\u001b[0m     self._entrypoint()\n",
      "\u001b[2m\u001b[36m(pid=1096)\u001b[0m   File \"/home/berkeleylab/anaconda3/envs/tune/lib/python3.7/site-packages/ray/tune/function_runner.py\", line 145, in entrypoint\n",
      "\u001b[2m\u001b[36m(pid=1096)\u001b[0m     return self._trainable_func(config, self._status_reporter)\n",
      "\u001b[2m\u001b[36m(pid=1096)\u001b[0m   File \"/home/berkeleylab/anaconda3/envs/tune/lib/python3.7/site-packages/ray/tune/function_runner.py\", line 271, in _trainable_func\n",
      "\u001b[2m\u001b[36m(pid=1096)\u001b[0m     output = train_func(config)\n",
      "\u001b[2m\u001b[36m(pid=1096)\u001b[0m   File \"<ipython-input-2-8ff360d030e2>\", line 3, in train_mnist\n",
      "\u001b[2m\u001b[36m(pid=1096)\u001b[0m TypeError: __init__() takes 1 positional argument but 2 were given\n",
      "\u001b[2m\u001b[36m(pid=1096)\u001b[0m Exception in thread Thread-1:\n",
      "\u001b[2m\u001b[36m(pid=1096)\u001b[0m Traceback (most recent call last):\n",
      "\u001b[2m\u001b[36m(pid=1096)\u001b[0m   File \"/home/berkeleylab/anaconda3/envs/tune/lib/python3.7/threading.py\", line 926, in _bootstrap_inner\n",
      "\u001b[2m\u001b[36m(pid=1096)\u001b[0m     self.run()\n",
      "\u001b[2m\u001b[36m(pid=1096)\u001b[0m   File \"/home/berkeleylab/anaconda3/envs/tune/lib/python3.7/site-packages/ray/tune/function_runner.py\", line 116, in run\n",
      "\u001b[2m\u001b[36m(pid=1096)\u001b[0m     raise e\n",
      "\u001b[2m\u001b[36m(pid=1096)\u001b[0m   File \"/home/berkeleylab/anaconda3/envs/tune/lib/python3.7/site-packages/ray/tune/function_runner.py\", line 97, in run\n",
      "\u001b[2m\u001b[36m(pid=1096)\u001b[0m     self._entrypoint()\n",
      "\u001b[2m\u001b[36m(pid=1096)\u001b[0m   File \"/home/berkeleylab/anaconda3/envs/tune/lib/python3.7/site-packages/ray/tune/function_runner.py\", line 145, in entrypoint\n",
      "\u001b[2m\u001b[36m(pid=1096)\u001b[0m     return self._trainable_func(config, self._status_reporter)\n",
      "\u001b[2m\u001b[36m(pid=1096)\u001b[0m   File \"/home/berkeleylab/anaconda3/envs/tune/lib/python3.7/site-packages/ray/tune/function_runner.py\", line 271, in _trainable_func\n",
      "\u001b[2m\u001b[36m(pid=1096)\u001b[0m     output = train_func(config)\n",
      "\u001b[2m\u001b[36m(pid=1096)\u001b[0m   File \"<ipython-input-2-8ff360d030e2>\", line 3, in train_mnist\n",
      "\u001b[2m\u001b[36m(pid=1096)\u001b[0m TypeError: __init__() takes 1 positional argument but 2 were given\n",
      "\u001b[2m\u001b[36m(pid=1096)\u001b[0m \n"
     ]
    },
    {
     "name": "stderr",
     "output_type": "stream",
     "text": [
      "2019-12-09 12:37:47,877\tERROR trial_runner.py:569 -- Error processing event.\n",
      "Traceback (most recent call last):\n",
      "  File \"/home/berkeleylab/anaconda3/envs/tune/lib/python3.7/site-packages/ray/tune/trial_runner.py\", line 515, in _process_trial\n",
      "    result = self.trial_executor.fetch_result(trial)\n",
      "  File \"/home/berkeleylab/anaconda3/envs/tune/lib/python3.7/site-packages/ray/tune/ray_trial_executor.py\", line 351, in fetch_result\n",
      "    result = ray.get(trial_future[0])\n",
      "  File \"/home/berkeleylab/anaconda3/envs/tune/lib/python3.7/site-packages/ray/worker.py\", line 2121, in get\n",
      "    raise value.as_instanceof_cause()\n",
      "ray.exceptions.RayTaskError(TuneError): \u001b[36mray_WrappedTrackFunc:train()\u001b[39m (pid=1096, host=KiranCHHATRE)\n",
      "  File \"/home/berkeleylab/anaconda3/envs/tune/lib/python3.7/site-packages/ray/tune/trainable.py\", line 176, in train\n",
      "    result = self._train()\n",
      "  File \"/home/berkeleylab/anaconda3/envs/tune/lib/python3.7/site-packages/ray/tune/function_runner.py\", line 199, in _train\n",
      "    self._report_thread_runner_error(block=True)\n",
      "  File \"/home/berkeleylab/anaconda3/envs/tune/lib/python3.7/site-packages/ray/tune/function_runner.py\", line 242, in _report_thread_runner_error\n",
      "    .format(err_tb_str)))\n",
      "ray.tune.error.TuneError: Trial raised an exception. Traceback:\n",
      "\u001b[36mray_WrappedTrackFunc:train()\u001b[39m (pid=1096, host=KiranCHHATRE)\n",
      "  File \"/home/berkeleylab/anaconda3/envs/tune/lib/python3.7/site-packages/ray/tune/function_runner.py\", line 97, in run\n",
      "    self._entrypoint()\n",
      "  File \"/home/berkeleylab/anaconda3/envs/tune/lib/python3.7/site-packages/ray/tune/function_runner.py\", line 145, in entrypoint\n",
      "    return self._trainable_func(config, self._status_reporter)\n",
      "  File \"/home/berkeleylab/anaconda3/envs/tune/lib/python3.7/site-packages/ray/tune/function_runner.py\", line 271, in _trainable_func\n",
      "    output = train_func(config)\n",
      "  File \"<ipython-input-2-8ff360d030e2>\", line 3, in train_mnist\n",
      "TypeError: __init__() takes 1 positional argument but 2 were given\n",
      "2019-12-09 12:37:48,022\tERROR trial_runner.py:569 -- Error processing event.\n",
      "Traceback (most recent call last):\n",
      "  File \"/home/berkeleylab/anaconda3/envs/tune/lib/python3.7/site-packages/ray/tune/trial_runner.py\", line 515, in _process_trial\n",
      "    result = self.trial_executor.fetch_result(trial)\n",
      "  File \"/home/berkeleylab/anaconda3/envs/tune/lib/python3.7/site-packages/ray/tune/ray_trial_executor.py\", line 351, in fetch_result\n",
      "    result = ray.get(trial_future[0])\n",
      "  File \"/home/berkeleylab/anaconda3/envs/tune/lib/python3.7/site-packages/ray/worker.py\", line 2121, in get\n",
      "    raise value.as_instanceof_cause()\n",
      "ray.exceptions.RayTaskError(TuneError): \u001b[36mray_WrappedTrackFunc:train()\u001b[39m (pid=1098, host=KiranCHHATRE)\n",
      "  File \"/home/berkeleylab/anaconda3/envs/tune/lib/python3.7/site-packages/ray/tune/trainable.py\", line 176, in train\n",
      "    result = self._train()\n",
      "  File \"/home/berkeleylab/anaconda3/envs/tune/lib/python3.7/site-packages/ray/tune/function_runner.py\", line 199, in _train\n",
      "    self._report_thread_runner_error(block=True)\n",
      "  File \"/home/berkeleylab/anaconda3/envs/tune/lib/python3.7/site-packages/ray/tune/function_runner.py\", line 242, in _report_thread_runner_error\n",
      "    .format(err_tb_str)))\n",
      "ray.tune.error.TuneError: Trial raised an exception. Traceback:\n",
      "\u001b[36mray_WrappedTrackFunc:train()\u001b[39m (pid=1098, host=KiranCHHATRE)\n",
      "  File \"/home/berkeleylab/anaconda3/envs/tune/lib/python3.7/site-packages/ray/tune/function_runner.py\", line 97, in run\n",
      "    self._entrypoint()\n",
      "  File \"/home/berkeleylab/anaconda3/envs/tune/lib/python3.7/site-packages/ray/tune/function_runner.py\", line 145, in entrypoint\n",
      "    return self._trainable_func(config, self._status_reporter)\n",
      "  File \"/home/berkeleylab/anaconda3/envs/tune/lib/python3.7/site-packages/ray/tune/function_runner.py\", line 271, in _trainable_func\n",
      "    output = train_func(config)\n",
      "  File \"<ipython-input-2-8ff360d030e2>\", line 3, in train_mnist\n",
      "TypeError: __init__() takes 1 positional argument but 2 were given\n"
     ]
    },
    {
     "name": "stdout",
     "output_type": "stream",
     "text": [
      "\u001b[2m\u001b[36m(pid=1098)\u001b[0m 2019-12-09 12:37:47,817\tERROR function_runner.py:103 -- Runner Thread raised error.\n",
      "\u001b[2m\u001b[36m(pid=1098)\u001b[0m Traceback (most recent call last):\n",
      "\u001b[2m\u001b[36m(pid=1098)\u001b[0m   File \"/home/berkeleylab/anaconda3/envs/tune/lib/python3.7/site-packages/ray/tune/function_runner.py\", line 97, in run\n",
      "\u001b[2m\u001b[36m(pid=1098)\u001b[0m     self._entrypoint()\n",
      "\u001b[2m\u001b[36m(pid=1098)\u001b[0m   File \"/home/berkeleylab/anaconda3/envs/tune/lib/python3.7/site-packages/ray/tune/function_runner.py\", line 145, in entrypoint\n",
      "\u001b[2m\u001b[36m(pid=1098)\u001b[0m     return self._trainable_func(config, self._status_reporter)\n",
      "\u001b[2m\u001b[36m(pid=1098)\u001b[0m   File \"/home/berkeleylab/anaconda3/envs/tune/lib/python3.7/site-packages/ray/tune/function_runner.py\", line 271, in _trainable_func\n",
      "\u001b[2m\u001b[36m(pid=1098)\u001b[0m     output = train_func(config)\n",
      "\u001b[2m\u001b[36m(pid=1098)\u001b[0m   File \"<ipython-input-2-8ff360d030e2>\", line 3, in train_mnist\n",
      "\u001b[2m\u001b[36m(pid=1098)\u001b[0m TypeError: __init__() takes 1 positional argument but 2 were given\n",
      "\u001b[2m\u001b[36m(pid=1098)\u001b[0m Exception in thread Thread-1:\n",
      "\u001b[2m\u001b[36m(pid=1098)\u001b[0m Traceback (most recent call last):\n",
      "\u001b[2m\u001b[36m(pid=1098)\u001b[0m   File \"/home/berkeleylab/anaconda3/envs/tune/lib/python3.7/threading.py\", line 926, in _bootstrap_inner\n",
      "\u001b[2m\u001b[36m(pid=1098)\u001b[0m     self.run()\n",
      "\u001b[2m\u001b[36m(pid=1098)\u001b[0m   File \"/home/berkeleylab/anaconda3/envs/tune/lib/python3.7/site-packages/ray/tune/function_runner.py\", line 116, in run\n",
      "\u001b[2m\u001b[36m(pid=1098)\u001b[0m     raise e\n",
      "\u001b[2m\u001b[36m(pid=1098)\u001b[0m   File \"/home/berkeleylab/anaconda3/envs/tune/lib/python3.7/site-packages/ray/tune/function_runner.py\", line 97, in run\n",
      "\u001b[2m\u001b[36m(pid=1098)\u001b[0m     self._entrypoint()\n",
      "\u001b[2m\u001b[36m(pid=1098)\u001b[0m   File \"/home/berkeleylab/anaconda3/envs/tune/lib/python3.7/site-packages/ray/tune/function_runner.py\", line 145, in entrypoint\n",
      "\u001b[2m\u001b[36m(pid=1098)\u001b[0m     return self._trainable_func(config, self._status_reporter)\n",
      "\u001b[2m\u001b[36m(pid=1098)\u001b[0m   File \"/home/berkeleylab/anaconda3/envs/tune/lib/python3.7/site-packages/ray/tune/function_runner.py\", line 271, in _trainable_func\n",
      "\u001b[2m\u001b[36m(pid=1098)\u001b[0m     output = train_func(config)\n",
      "\u001b[2m\u001b[36m(pid=1098)\u001b[0m   File \"<ipython-input-2-8ff360d030e2>\", line 3, in train_mnist\n",
      "\u001b[2m\u001b[36m(pid=1098)\u001b[0m TypeError: __init__() takes 1 positional argument but 2 were given\n",
      "\u001b[2m\u001b[36m(pid=1098)\u001b[0m \n",
      "== Status ==\n",
      "Using FIFO scheduling algorithm.\n",
      "Resources requested: 0/8 CPUs, 0/0 GPUs, 0.0/10.94 GiB heap, 0.0/3.76 GiB objects\n",
      "Memory usage on this node: 14.5/31.6 GiB\n",
      "Result logdir: /home/berkeleylab/ray_results/train_mnist\n",
      "Number of trials: 3 ({'ERROR': 3})\n",
      "ERROR trials:\n",
      " - train_mnist_0_lr=0.001:\tERROR, 1 failures: /home/berkeleylab/ray_results/train_mnist/train_mnist_0_lr=0.001_2019-12-09_12-37-304wv28geu/error_2019-12-09_12-37-48.txt\n",
      " - train_mnist_1_lr=0.01:\tERROR, 1 failures: /home/berkeleylab/ray_results/train_mnist/train_mnist_1_lr=0.01_2019-12-09_12-37-46suu5jb0c/error_2019-12-09_12-37-47.txt\n",
      " - train_mnist_2_lr=0.1:\tERROR, 1 failures: /home/berkeleylab/ray_results/train_mnist/train_mnist_2_lr=0.1_2019-12-09_12-37-46j3s1c604/error_2019-12-09_12-37-47.txt\n",
      "\n"
     ]
    },
    {
     "ename": "TuneError",
     "evalue": "('Trials did not complete', [train_mnist_0_lr=0.001, train_mnist_1_lr=0.01, train_mnist_2_lr=0.1])",
     "output_type": "error",
     "traceback": [
      "\u001b[0;31m---------------------------------------------------------------------------\u001b[0m",
      "\u001b[0;31mTuneError\u001b[0m                                 Traceback (most recent call last)",
      "\u001b[0;32m<ipython-input-3-b01098188f63>\u001b[0m in \u001b[0;36m<module>\u001b[0;34m\u001b[0m\n\u001b[1;32m      1\u001b[0m analysis = tune.run(\n\u001b[1;32m      2\u001b[0m     \u001b[0mtrain_mnist\u001b[0m\u001b[0;34m,\u001b[0m\u001b[0;34m\u001b[0m\u001b[0;34m\u001b[0m\u001b[0m\n\u001b[0;32m----> 3\u001b[0;31m     config={\"lr\": tune.grid_search([0.001, 0.01, 0.1])})\n\u001b[0m",
      "\u001b[0;32m~/anaconda3/envs/tune/lib/python3.7/site-packages/ray/tune/tune.py\u001b[0m in \u001b[0;36mrun\u001b[0;34m(run_or_experiment, name, stop, config, resources_per_trial, num_samples, local_dir, upload_dir, trial_name_creator, loggers, sync_to_cloud, sync_to_driver, checkpoint_freq, checkpoint_at_end, keep_checkpoints_num, checkpoint_score_attr, global_checkpoint_period, export_formats, max_failures, restore, search_alg, scheduler, with_server, server_port, verbose, resume, queue_trials, reuse_actors, trial_executor, raise_on_failed_trial, return_trials, ray_auto_init, sync_function)\u001b[0m\n\u001b[1;32m    267\u001b[0m     \u001b[0;32mif\u001b[0m \u001b[0merrored_trials\u001b[0m\u001b[0;34m:\u001b[0m\u001b[0;34m\u001b[0m\u001b[0;34m\u001b[0m\u001b[0m\n\u001b[1;32m    268\u001b[0m         \u001b[0;32mif\u001b[0m \u001b[0mraise_on_failed_trial\u001b[0m\u001b[0;34m:\u001b[0m\u001b[0;34m\u001b[0m\u001b[0;34m\u001b[0m\u001b[0m\n\u001b[0;32m--> 269\u001b[0;31m             \u001b[0;32mraise\u001b[0m \u001b[0mTuneError\u001b[0m\u001b[0;34m(\u001b[0m\u001b[0;34m\"Trials did not complete\"\u001b[0m\u001b[0;34m,\u001b[0m \u001b[0merrored_trials\u001b[0m\u001b[0;34m)\u001b[0m\u001b[0;34m\u001b[0m\u001b[0;34m\u001b[0m\u001b[0m\n\u001b[0m\u001b[1;32m    270\u001b[0m         \u001b[0;32melse\u001b[0m\u001b[0;34m:\u001b[0m\u001b[0;34m\u001b[0m\u001b[0;34m\u001b[0m\u001b[0m\n\u001b[1;32m    271\u001b[0m             \u001b[0mlogger\u001b[0m\u001b[0;34m.\u001b[0m\u001b[0merror\u001b[0m\u001b[0;34m(\u001b[0m\u001b[0;34m\"Trials did not complete: %s\"\u001b[0m\u001b[0;34m,\u001b[0m \u001b[0merrored_trials\u001b[0m\u001b[0;34m)\u001b[0m\u001b[0;34m\u001b[0m\u001b[0;34m\u001b[0m\u001b[0m\n",
      "\u001b[0;31mTuneError\u001b[0m: ('Trials did not complete', [train_mnist_0_lr=0.001, train_mnist_1_lr=0.01, train_mnist_2_lr=0.1])"
     ]
    }
   ],
   "source": [
    "analysis = tune.run(\n",
    "    train_mnist,\n",
    "    config={\"lr\": tune.grid_search([0.001, 0.01, 0.1])})"
   ]
  },
  {
   "cell_type": "code",
   "execution_count": 4,
   "metadata": {},
   "outputs": [
    {
     "ename": "NameError",
     "evalue": "name 'analysis' is not defined",
     "output_type": "error",
     "traceback": [
      "\u001b[0;31m---------------------------------------------------------------------------\u001b[0m",
      "\u001b[0;31mNameError\u001b[0m                                 Traceback (most recent call last)",
      "\u001b[0;32m<ipython-input-4-248bc38c43ba>\u001b[0m in \u001b[0;36m<module>\u001b[0;34m\u001b[0m\n\u001b[0;32m----> 1\u001b[0;31m \u001b[0mprint\u001b[0m\u001b[0;34m(\u001b[0m\u001b[0;34m\"Best config: \"\u001b[0m\u001b[0;34m,\u001b[0m \u001b[0manalysis\u001b[0m\u001b[0;34m.\u001b[0m\u001b[0mget_best_config\u001b[0m\u001b[0;34m(\u001b[0m\u001b[0mmetric\u001b[0m\u001b[0;34m=\u001b[0m\u001b[0;34m\"mean_accuracy\"\u001b[0m\u001b[0;34m)\u001b[0m\u001b[0;34m)\u001b[0m\u001b[0;34m\u001b[0m\u001b[0;34m\u001b[0m\u001b[0m\n\u001b[0m",
      "\u001b[0;31mNameError\u001b[0m: name 'analysis' is not defined"
     ]
    }
   ],
   "source": [
    "print(\"Best config: \", analysis.get_best_config(metric=\"mean_accuracy\"))"
   ]
  },
  {
   "cell_type": "code",
   "execution_count": 5,
   "metadata": {},
   "outputs": [
    {
     "ename": "NameError",
     "evalue": "name 'analysis' is not defined",
     "output_type": "error",
     "traceback": [
      "\u001b[0;31m---------------------------------------------------------------------------\u001b[0m",
      "\u001b[0;31mNameError\u001b[0m                                 Traceback (most recent call last)",
      "\u001b[0;32m<ipython-input-5-2c8606ba9fe7>\u001b[0m in \u001b[0;36m<module>\u001b[0;34m\u001b[0m\n\u001b[0;32m----> 1\u001b[0;31m \u001b[0mdf\u001b[0m \u001b[0;34m=\u001b[0m \u001b[0manalysis\u001b[0m\u001b[0;34m.\u001b[0m\u001b[0mdataframe\u001b[0m\u001b[0;34m(\u001b[0m\u001b[0;34m)\u001b[0m\u001b[0;34m\u001b[0m\u001b[0;34m\u001b[0m\u001b[0m\n\u001b[0m",
      "\u001b[0;31mNameError\u001b[0m: name 'analysis' is not defined"
     ]
    }
   ],
   "source": [
    "df = analysis.dataframe()"
   ]
  },
  {
   "cell_type": "code",
   "execution_count": null,
   "metadata": {},
   "outputs": [],
   "source": []
  }
 ],
 "metadata": {
  "kernelspec": {
   "display_name": "Python 3",
   "language": "python",
   "name": "python3"
  },
  "language_info": {
   "codemirror_mode": {
    "name": "ipython",
    "version": 3
   },
   "file_extension": ".py",
   "mimetype": "text/x-python",
   "name": "python",
   "nbconvert_exporter": "python",
   "pygments_lexer": "ipython3",
   "version": "3.7.5"
  }
 },
 "nbformat": 4,
 "nbformat_minor": 2
}
