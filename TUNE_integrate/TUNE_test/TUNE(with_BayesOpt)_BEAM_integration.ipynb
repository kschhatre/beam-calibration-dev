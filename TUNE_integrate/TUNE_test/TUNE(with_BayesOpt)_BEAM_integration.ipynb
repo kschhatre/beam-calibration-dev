{
 "cells": [
  {
   "cell_type": "code",
   "execution_count": 46,
   "metadata": {},
   "outputs": [],
   "source": [
    "\n",
    "\n",
    "import os\n",
    "import pandas as pd\n",
    "import numpy as np\n",
    "import glob\n",
    "import itertools \n",
    "import subprocess\n",
    "from collections import defaultdict\n",
    "\n",
    "from bayes_opt import BayesianOptimization, UtilityFunction\n",
    "from bayes_opt.observer import JSONLogger\n",
    "from bayes_opt.event import Events, DEFAULT_EVENTS\n",
    "from bayes_opt.util import load_logs\n",
    "\n",
    "pbounds = {'car_intercept': (-5, 5),\\\n",
    "         'walk_transit_intercept': (-5, 5),\\\n",
    "         'drive_transit_intercept': (-5, 5),\\\n",
    "         'ride_hail_transit_intercept': (-5, 5),\\\n",
    "         'ride_hail_intercept': (-5, 5),\\\n",
    "         'ride_hail_pooled_intercept': (-5, 5), \\\n",
    "         'walk_intercept': (-5, 5),\\\n",
    "         'bike_intercept': (-5, 5)}\n",
    "\n",
    "Repo='/home/berkeleylab/Repository/beam/'\n",
    "Current='/home/berkeleylab/Calib_documentation/TUNE_integrate/TUNE_test'\n",
    "\n"
   ]
  },
  {
   "cell_type": "code",
   "execution_count": 47,
   "metadata": {},
   "outputs": [],
   "source": [
    "\n",
    "\n",
    "def ext_change(param):    \n",
    "    if param == 'edit':\n",
    "        for filename in glob.iglob(os.path.join(Repo, 'test/input/beamville/beam.conf')):\n",
    "            os.rename(filename, filename[:-9] + 'beam.txt')\n",
    "    elif param == 'save':\n",
    "        for filename in glob.iglob(os.path.join(Repo, 'test/input/beamville/beam.txt')):\n",
    "            os.rename(filename, filename[:-8] + 'beam.conf')\n",
    "\n",
    "def change_conf(hyperparams):\n",
    "    \n",
    "    with open(Repo+'test/input/beamville/beam.txt', 'r') as fin:\n",
    "        file_text=fin.readlines()\n",
    "        \n",
    "    for i in range(24,32,1):\n",
    "        file_text[i] = file_text[i].split('=',1)[0]+'= '\n",
    "    \n",
    "    file_text[24] = file_text[24]+str(hyperparams[0])\n",
    "    file_text[25] = file_text[25]+str(hyperparams[1])\n",
    "    file_text[26] = file_text[26]+str(hyperparams[2])\n",
    "    file_text[27] = file_text[27]+str(hyperparams[3])\n",
    "    file_text[28] = file_text[28]+str(hyperparams[4])\n",
    "    file_text[29] = file_text[29]+str(hyperparams[5])\n",
    "    file_text[30] = file_text[30]+str(hyperparams[6])\n",
    "    file_text[31] = file_text[31]+str(hyperparams[7])\n",
    "    \n",
    "    for j in range(24,32,1):\n",
    "        file_text[j] = file_text[j]+' \\n'\n",
    "        \n",
    "    with open(Repo+'test/input/beamville/beam.txt', 'w') as fini:\n",
    "        for i in file_text:\n",
    "            fini.write(i)\n",
    "        \n",
    "      \n",
    "def run_beam():\n",
    "    os.chdir(Repo)\n",
    "    subprocess.call([Repo+'runme.sh'])\n",
    "    os.chdir(Current)\n",
    "\n",
    "def all_subdirs_of(b='/home/berkeleylab/Repository/beam/output/beamville/'):\n",
    "  result = []\n",
    "  for d in os.listdir(b):\n",
    "    bd = os.path.join(b, d)\n",
    "    if os.path.isdir(bd): result.append(bd)\n",
    "  return result\n",
    "\n",
    "def beamville(hyperparams):\n",
    "    ext_change('edit')\n",
    "    change_conf(hyperparams)\n",
    "    ext_change('save') \n",
    "    run_beam()\n",
    "    latest_subdir = max(all_subdirs_of(), key=os.path.getmtime)\n",
    "    df = pd.read_csv(latest_subdir+\"/referenceRealizedModeChoice.csv\").iloc[[0, -1]].drop(['iterations'], axis=1)\n",
    "    acc = (df.iloc[0] - df.iloc[-1]).abs().sum()/df.iloc[0].sum()\n",
    "    return acc\n"
   ]
  },
  {
   "cell_type": "code",
   "execution_count": 43,
   "metadata": {},
   "outputs": [
    {
     "ename": "KeyError",
     "evalue": "0",
     "output_type": "error",
     "traceback": [
      "\u001b[0;31m---------------------------------------------------------------------------\u001b[0m",
      "\u001b[0;31mKeyError\u001b[0m                                  Traceback (most recent call last)",
      "\u001b[0;32m<ipython-input-43-ac75b1caa77a>\u001b[0m in \u001b[0;36m<module>\u001b[0;34m\u001b[0m\n\u001b[1;32m      8\u001b[0m \u001b[0;32mfor\u001b[0m \u001b[0m_\u001b[0m \u001b[0;32min\u001b[0m \u001b[0mrange\u001b[0m\u001b[0;34m(\u001b[0m\u001b[0;36m5\u001b[0m\u001b[0;34m)\u001b[0m\u001b[0;34m:\u001b[0m\u001b[0;34m\u001b[0m\u001b[0;34m\u001b[0m\u001b[0m\n\u001b[1;32m      9\u001b[0m     \u001b[0mnext_point\u001b[0m \u001b[0;34m=\u001b[0m \u001b[0moptimizer\u001b[0m\u001b[0;34m.\u001b[0m\u001b[0msuggest\u001b[0m\u001b[0;34m(\u001b[0m\u001b[0mutility\u001b[0m\u001b[0;34m)\u001b[0m\u001b[0;34m\u001b[0m\u001b[0;34m\u001b[0m\u001b[0m\n\u001b[0;32m---> 10\u001b[0;31m     \u001b[0mtarget\u001b[0m \u001b[0;34m=\u001b[0m \u001b[0mbeamville\u001b[0m\u001b[0;34m(\u001b[0m\u001b[0mnext_point\u001b[0m\u001b[0;34m)\u001b[0m\u001b[0;34m\u001b[0m\u001b[0;34m\u001b[0m\u001b[0m\n\u001b[0m\u001b[1;32m     11\u001b[0m     \u001b[0moptimizer\u001b[0m\u001b[0;34m.\u001b[0m\u001b[0mregister\u001b[0m\u001b[0;34m(\u001b[0m\u001b[0mparams\u001b[0m\u001b[0;34m=\u001b[0m\u001b[0mnext_point\u001b[0m\u001b[0;34m,\u001b[0m \u001b[0mtarget\u001b[0m\u001b[0;34m=\u001b[0m \u001b[0mtarget\u001b[0m\u001b[0;34m)\u001b[0m\u001b[0;34m\u001b[0m\u001b[0;34m\u001b[0m\u001b[0m\n\u001b[1;32m     12\u001b[0m     \u001b[0mprint\u001b[0m\u001b[0;34m(\u001b[0m\u001b[0mtarget\u001b[0m\u001b[0;34m,\u001b[0m \u001b[0mnext_point\u001b[0m\u001b[0;34m)\u001b[0m\u001b[0;34m\u001b[0m\u001b[0;34m\u001b[0m\u001b[0m\n",
      "\u001b[0;32m<ipython-input-42-5cc26d9f1a60>\u001b[0m in \u001b[0;36mbeamville\u001b[0;34m(hyperparams)\u001b[0m\n\u001b[1;32m     40\u001b[0m \u001b[0;32mdef\u001b[0m \u001b[0mbeamville\u001b[0m\u001b[0;34m(\u001b[0m\u001b[0mhyperparams\u001b[0m\u001b[0;34m)\u001b[0m\u001b[0;34m:\u001b[0m\u001b[0;34m\u001b[0m\u001b[0;34m\u001b[0m\u001b[0m\n\u001b[1;32m     41\u001b[0m     \u001b[0mext_change\u001b[0m\u001b[0;34m(\u001b[0m\u001b[0;34m'edit'\u001b[0m\u001b[0;34m)\u001b[0m\u001b[0;34m\u001b[0m\u001b[0;34m\u001b[0m\u001b[0m\n\u001b[0;32m---> 42\u001b[0;31m     \u001b[0mchange_conf\u001b[0m\u001b[0;34m(\u001b[0m\u001b[0mhyperparams\u001b[0m\u001b[0;34m)\u001b[0m\u001b[0;34m\u001b[0m\u001b[0;34m\u001b[0m\u001b[0m\n\u001b[0m\u001b[1;32m     43\u001b[0m     \u001b[0mext_change\u001b[0m\u001b[0;34m(\u001b[0m\u001b[0;34m'save'\u001b[0m\u001b[0;34m)\u001b[0m\u001b[0;34m\u001b[0m\u001b[0;34m\u001b[0m\u001b[0m\n\u001b[1;32m     44\u001b[0m     \u001b[0mrun_beam\u001b[0m\u001b[0;34m(\u001b[0m\u001b[0;34m)\u001b[0m\u001b[0;34m\u001b[0m\u001b[0;34m\u001b[0m\u001b[0m\n",
      "\u001b[0;32m<ipython-input-42-5cc26d9f1a60>\u001b[0m in \u001b[0;36mchange_conf\u001b[0;34m(hyperparams)\u001b[0m\n\u001b[1;32m     12\u001b[0m         \u001b[0mfile_text\u001b[0m\u001b[0;34m=\u001b[0m\u001b[0mfin\u001b[0m\u001b[0;34m.\u001b[0m\u001b[0mreadlines\u001b[0m\u001b[0;34m(\u001b[0m\u001b[0;34m)\u001b[0m\u001b[0;34m\u001b[0m\u001b[0;34m\u001b[0m\u001b[0m\n\u001b[1;32m     13\u001b[0m \u001b[0;34m\u001b[0m\u001b[0m\n\u001b[0;32m---> 14\u001b[0;31m     \u001b[0mfile_text\u001b[0m\u001b[0;34m[\u001b[0m\u001b[0;36m24\u001b[0m\u001b[0;34m]\u001b[0m \u001b[0;34m=\u001b[0m \u001b[0mfile_text\u001b[0m\u001b[0;34m[\u001b[0m\u001b[0;36m24\u001b[0m\u001b[0;34m]\u001b[0m\u001b[0;34m.\u001b[0m\u001b[0msplit\u001b[0m\u001b[0;34m(\u001b[0m\u001b[0;34m'='\u001b[0m\u001b[0;34m,\u001b[0m\u001b[0;36m1\u001b[0m\u001b[0;34m)\u001b[0m\u001b[0;34m[\u001b[0m\u001b[0;36m0\u001b[0m\u001b[0;34m]\u001b[0m\u001b[0;34m+\u001b[0m\u001b[0;34m'= '\u001b[0m\u001b[0;34m+\u001b[0m\u001b[0mstr\u001b[0m\u001b[0;34m(\u001b[0m\u001b[0mhyperparams\u001b[0m\u001b[0;34m[\u001b[0m\u001b[0;36m0\u001b[0m\u001b[0;34m]\u001b[0m\u001b[0;34m)\u001b[0m\u001b[0;34m+\u001b[0m\u001b[0;34m' \\n'\u001b[0m\u001b[0;34m\u001b[0m\u001b[0;34m\u001b[0m\u001b[0m\n\u001b[0m\u001b[1;32m     15\u001b[0m     \u001b[0mfile_text\u001b[0m\u001b[0;34m[\u001b[0m\u001b[0;36m25\u001b[0m\u001b[0;34m]\u001b[0m \u001b[0;34m=\u001b[0m \u001b[0mfile_text\u001b[0m\u001b[0;34m[\u001b[0m\u001b[0;36m25\u001b[0m\u001b[0;34m]\u001b[0m\u001b[0;34m.\u001b[0m\u001b[0msplit\u001b[0m\u001b[0;34m(\u001b[0m\u001b[0;34m'='\u001b[0m\u001b[0;34m,\u001b[0m\u001b[0;36m1\u001b[0m\u001b[0;34m)\u001b[0m\u001b[0;34m[\u001b[0m\u001b[0;36m0\u001b[0m\u001b[0;34m]\u001b[0m\u001b[0;34m+\u001b[0m\u001b[0;34m'= '\u001b[0m\u001b[0;34m+\u001b[0m\u001b[0mstr\u001b[0m\u001b[0;34m(\u001b[0m\u001b[0mhyperparams\u001b[0m\u001b[0;34m[\u001b[0m\u001b[0;36m1\u001b[0m\u001b[0;34m]\u001b[0m\u001b[0;34m)\u001b[0m\u001b[0;34m+\u001b[0m\u001b[0;34m' \\n'\u001b[0m\u001b[0;34m\u001b[0m\u001b[0;34m\u001b[0m\u001b[0m\n\u001b[1;32m     16\u001b[0m     \u001b[0mfile_text\u001b[0m\u001b[0;34m[\u001b[0m\u001b[0;36m26\u001b[0m\u001b[0;34m]\u001b[0m \u001b[0;34m=\u001b[0m \u001b[0mfile_text\u001b[0m\u001b[0;34m[\u001b[0m\u001b[0;36m26\u001b[0m\u001b[0;34m]\u001b[0m\u001b[0;34m.\u001b[0m\u001b[0msplit\u001b[0m\u001b[0;34m(\u001b[0m\u001b[0;34m'='\u001b[0m\u001b[0;34m,\u001b[0m\u001b[0;36m1\u001b[0m\u001b[0;34m)\u001b[0m\u001b[0;34m[\u001b[0m\u001b[0;36m0\u001b[0m\u001b[0;34m]\u001b[0m\u001b[0;34m+\u001b[0m\u001b[0;34m'= '\u001b[0m\u001b[0;34m+\u001b[0m\u001b[0mstr\u001b[0m\u001b[0;34m(\u001b[0m\u001b[0mhyperparams\u001b[0m\u001b[0;34m[\u001b[0m\u001b[0;36m2\u001b[0m\u001b[0;34m]\u001b[0m\u001b[0;34m)\u001b[0m\u001b[0;34m+\u001b[0m\u001b[0;34m' \\n'\u001b[0m\u001b[0;34m\u001b[0m\u001b[0;34m\u001b[0m\u001b[0m\n",
      "\u001b[0;31mKeyError\u001b[0m: 0"
     ]
    }
   ],
   "source": [
    "\n",
    "optimizer = BayesianOptimization(f=None, pbounds=pbounds,verbose=2, random_state=1)\n",
    "utility = UtilityFunction(kind='ucb', kappa=2.5, xi= 0.01)\n",
    "next_point_to_probe = optimizer.suggest(utility)\n",
    "self.adj = defaultdict(list)\n",
    "hyperparams=list(next_point_to_probe.values())\n",
    "target = beamville(hyperparams)\n",
    "optimizer.register(params=next_point_to_probe, target=target)\n",
    "\n",
    "for _ in range(5):\n",
    "    next_point = optimizer.suggest(utility)\n",
    "    target = beamville(next_point)\n",
    "    optimizer.register(params=next_point, target= target)\n",
    "    print(target, next_point)\n",
    "    \n",
    "print(optimizer.max)\n"
   ]
  },
  {
   "cell_type": "code",
   "execution_count": null,
   "metadata": {},
   "outputs": [],
   "source": []
  }
 ],
 "metadata": {
  "kernelspec": {
   "display_name": "Python 3",
   "language": "python",
   "name": "python3"
  },
  "language_info": {
   "codemirror_mode": {
    "name": "ipython",
    "version": 3
   },
   "file_extension": ".py",
   "mimetype": "text/x-python",
   "name": "python",
   "nbconvert_exporter": "python",
   "pygments_lexer": "ipython3",
   "version": "3.7.5"
  }
 },
 "nbformat": 4,
 "nbformat_minor": 2
}
