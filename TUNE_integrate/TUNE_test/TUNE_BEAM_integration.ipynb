{
 "cells": [
  {
   "cell_type": "code",
   "execution_count": 2,
   "metadata": {},
   "outputs": [],
   "source": [
    "import torch.optim as optim\n",
    "from ray import tune\n",
    "from ray.tune.examples.mnist_pytorch import get_data_loaders, ConvNet, train, test\n",
    "\n"
   ]
  },
  {
   "cell_type": "code",
   "execution_count": 3,
   "metadata": {},
   "outputs": [],
   "source": [
    "\n",
    "def train_mnist(config):\n",
    "    train_loader, test_loader = get_data_loaders()\n",
    "    model = ConvNet()\n",
    "    optimizer = optim.SGD(model.parameters(), lr=config[\"lr\"])\n",
    "    for i in range(10):\n",
    "        train(model, optimizer, train_loader)\n",
    "        acc = test(model, test_loader)\n",
    "        tune.track.log(mean_accuracy=acc)\n",
    "        \n",
    "\n",
    "\n"
   ]
  },
  {
   "cell_type": "code",
   "execution_count": 11,
   "metadata": {},
   "outputs": [],
   "source": [
    "\n",
    "def beamville(config):\n",
    "    pass\n"
   ]
  },
  {
   "cell_type": "code",
   "execution_count": 5,
   "metadata": {
    "collapsed": true
   },
   "outputs": [
    {
     "name": "stderr",
     "output_type": "stream",
     "text": [
      "2019-12-09 13:04:21,250\tINFO resource_spec.py:205 -- Starting Ray with 10.11 GiB memory available for workers and up to 5.07 GiB for objects. You can adjust these settings with ray.init(memory=<bytes>, object_store_memory=<bytes>).\n",
      "2019-12-09 13:04:23,493\tINFO function_runner.py:254 -- tune.track signature detected.\n"
     ]
    },
    {
     "name": "stdout",
     "output_type": "stream",
     "text": [
      "== Status ==\n",
      "Using FIFO scheduling algorithm.\n",
      "Resources requested: 0/8 CPUs, 0/0 GPUs, 0.0/10.11 GiB heap, 0.0/3.47 GiB objects\n",
      "Memory usage on this node: 15.0/31.6 GiB\n",
      "\n",
      "\u001b[2m\u001b[33m(pid=raylet)\u001b[0m E1209 13:04:22.418817700    1779 socket_utils_common_posix.cc:202] check for SO_REUSEPORT: {\"created\":\"@1575925462.418798700\",\"description\":\"Protocol not available\",\"errno\":92,\"file\":\"external/com_github_grpc_grpc/src/core/lib/iomgr/socket_utils_common_posix.cc\",\"file_line\":179,\"os_error\":\"Protocol not available\",\"syscall\":\"getsockopt(SO_REUSEPORT)\"}\n",
      "\u001b[2m\u001b[33m(pid=raylet)\u001b[0m E1209 13:04:22.419041000    1779 socket_utils_common_posix.cc:303] setsockopt(TCP_USER_TIMEOUT) Protocol not available\n",
      "\u001b[2m\u001b[33m(pid=raylet)\u001b[0m E1209 13:04:22.487084000    1779 socket_utils_common_posix.cc:303] setsockopt(TCP_USER_TIMEOUT) Protocol not available\n"
     ]
    },
    {
     "name": "stderr",
     "output_type": "stream",
     "text": [
      "2019-12-09 13:04:28,286\tERROR log_sync.py:28 -- Log sync requires rsync to be installed.\n",
      "2019-12-09 13:04:28,301\tWARNING util.py:133 -- The `start_trial` operation took 3.7546021938323975 seconds to complete, which may be a performance bottleneck.\n",
      "2019-12-09 13:04:28,331\tERROR log_sync.py:28 -- Log sync requires rsync to be installed.\n",
      "2019-12-09 13:04:28,366\tERROR log_sync.py:28 -- Log sync requires rsync to be installed.\n"
     ]
    },
    {
     "name": "stdout",
     "output_type": "stream",
     "text": [
      "== Status ==\n",
      "Using FIFO scheduling algorithm.\n",
      "Resources requested: 1/8 CPUs, 0/0 GPUs, 0.0/10.11 GiB heap, 0.0/3.47 GiB objects\n",
      "Memory usage on this node: 15.7/31.6 GiB\n",
      "Result logdir: /home/berkeleylab/ray_results/train_mnist\n",
      "Number of trials: 3 ({'RUNNING': 1, 'PENDING': 2})\n",
      "PENDING trials:\n",
      " - train_mnist_1_lr=0.01:\tPENDING\n",
      " - train_mnist_2_lr=0.1:\tPENDING\n",
      "RUNNING trials:\n",
      " - train_mnist_0_lr=0.001:\tRUNNING\n",
      "\n",
      "Result for train_mnist_2_lr=0.1:\n",
      "  date: 2019-12-09_13-04-30\n",
      "  done: false\n",
      "  experiment_id: f6050377a7714d05acd71dd4f7e9962e\n",
      "  hostname: KiranCHHATRE\n",
      "  iterations_since_restore: 1\n",
      "  mean_accuracy: 0.55625\n",
      "  node_ip: 10.0.0.194\n",
      "  pid: 1799\n",
      "  time_since_restore: 1.4456062316894531\n",
      "  time_this_iter_s: 1.4456062316894531\n",
      "  time_total_s: 1.4456062316894531\n",
      "  timestamp: 1575925470\n",
      "  timesteps_since_restore: 0\n",
      "  training_iteration: 0\n",
      "  trial_id: 7a7bedd0\n",
      "  \n",
      "Result for train_mnist_0_lr=0.001:\n",
      "  date: 2019-12-09_13-04-30\n",
      "  done: false\n",
      "  experiment_id: 644f1001a2c140d4a6d25a1513d49545\n",
      "  hostname: KiranCHHATRE\n",
      "  iterations_since_restore: 1\n",
      "  mean_accuracy: 0.1125\n",
      "  node_ip: 10.0.0.194\n",
      "  pid: 1795\n",
      "  time_since_restore: 1.5455882549285889\n",
      "  time_this_iter_s: 1.5455882549285889\n",
      "  time_total_s: 1.5455882549285889\n",
      "  timestamp: 1575925470\n",
      "  timesteps_since_restore: 0\n",
      "  training_iteration: 0\n",
      "  trial_id: 7a7a9656\n",
      "  \n",
      "Result for train_mnist_1_lr=0.01:\n",
      "  date: 2019-12-09_13-04-30\n",
      "  done: false\n",
      "  experiment_id: 30460a7609bc4a168c2bf5a50da691bf\n",
      "  hostname: KiranCHHATRE\n",
      "  iterations_since_restore: 1\n",
      "  mean_accuracy: 0.13125\n",
      "  node_ip: 10.0.0.194\n",
      "  pid: 1800\n",
      "  time_since_restore: 1.5894865989685059\n",
      "  time_this_iter_s: 1.5894865989685059\n",
      "  time_total_s: 1.5894865989685059\n",
      "  timestamp: 1575925470\n",
      "  timesteps_since_restore: 0\n",
      "  training_iteration: 0\n",
      "  trial_id: 7a7b7b70\n",
      "  \n",
      "== Status ==\n",
      "Using FIFO scheduling algorithm.\n",
      "Resources requested: 3/8 CPUs, 0/0 GPUs, 0.0/10.11 GiB heap, 0.0/3.47 GiB objects\n",
      "Memory usage on this node: 15.9/31.6 GiB\n",
      "Result logdir: /home/berkeleylab/ray_results/train_mnist\n",
      "Number of trials: 3 ({'RUNNING': 3})\n",
      "RUNNING trials:\n",
      " - train_mnist_0_lr=0.001:\tRUNNING, [1 CPUs, 0 GPUs], [pid=1795], 4 s, 7 iter, 0.138 acc\n",
      " - train_mnist_1_lr=0.01:\tRUNNING, [1 CPUs, 0 GPUs], [pid=1800], 4 s, 6 iter, 0.622 acc\n",
      " - train_mnist_2_lr=0.1:\tRUNNING, [1 CPUs, 0 GPUs], [pid=1799], 4 s, 7 iter, 0.816 acc\n",
      "\n"
     ]
    },
    {
     "name": "stderr",
     "output_type": "stream",
     "text": [
      "2019-12-09 13:04:34,062\tINFO tune.py:276 -- Returning an analysis object by default. You can call `analysis.trials` to retrieve a list of trials. This message will be removed in future versions of Tune.\n"
     ]
    },
    {
     "name": "stdout",
     "output_type": "stream",
     "text": [
      "== Status ==\n",
      "Using FIFO scheduling algorithm.\n",
      "Resources requested: 0/8 CPUs, 0/0 GPUs, 0.0/10.11 GiB heap, 0.0/3.47 GiB objects\n",
      "Memory usage on this node: 15.8/31.6 GiB\n",
      "Result logdir: /home/berkeleylab/ray_results/train_mnist\n",
      "Number of trials: 3 ({'TERMINATED': 3})\n",
      "TERMINATED trials:\n",
      " - train_mnist_0_lr=0.001:\tTERMINATED, [1 CPUs, 0 GPUs], [pid=1795], 5 s, 9 iter, 0.134 acc\n",
      " - train_mnist_1_lr=0.01:\tTERMINATED, [1 CPUs, 0 GPUs], [pid=1800], 5 s, 9 iter, 0.75 acc\n",
      " - train_mnist_2_lr=0.1:\tTERMINATED, [1 CPUs, 0 GPUs], [pid=1799], 5 s, 9 iter, 0.887 acc\n",
      "\n"
     ]
    }
   ],
   "source": [
    "\n",
    "analysis = tune.run(train_mnist, \\\n",
    "                    config={\"lr\": tune.grid_search([0.001, 0.01, 0.1])})\n"
   ]
  },
  {
   "cell_type": "code",
   "execution_count": 6,
   "metadata": {},
   "outputs": [
    {
     "name": "stdout",
     "output_type": "stream",
     "text": [
      "Best config:  {'lr': 0.1}\n"
     ]
    }
   ],
   "source": [
    "\n",
    "print(\"Best config: \", analysis.get_best_config(metric=\"mean_accuracy\"))\n"
   ]
  },
  {
   "cell_type": "code",
   "execution_count": 10,
   "metadata": {},
   "outputs": [
    {
     "data": {
      "text/html": [
       "<div>\n",
       "<style scoped>\n",
       "    .dataframe tbody tr th:only-of-type {\n",
       "        vertical-align: middle;\n",
       "    }\n",
       "\n",
       "    .dataframe tbody tr th {\n",
       "        vertical-align: top;\n",
       "    }\n",
       "\n",
       "    .dataframe thead th {\n",
       "        text-align: right;\n",
       "    }\n",
       "</style>\n",
       "<table border=\"1\" class=\"dataframe\">\n",
       "  <thead>\n",
       "    <tr style=\"text-align: right;\">\n",
       "      <th></th>\n",
       "      <th>mean_accuracy</th>\n",
       "      <th>trial_id</th>\n",
       "      <th>training_iteration</th>\n",
       "      <th>time_this_iter_s</th>\n",
       "      <th>done</th>\n",
       "      <th>timesteps_total</th>\n",
       "      <th>episodes_total</th>\n",
       "      <th>experiment_id</th>\n",
       "      <th>date</th>\n",
       "      <th>timestamp</th>\n",
       "      <th>time_total_s</th>\n",
       "      <th>pid</th>\n",
       "      <th>hostname</th>\n",
       "      <th>node_ip</th>\n",
       "      <th>time_since_restore</th>\n",
       "      <th>timesteps_since_restore</th>\n",
       "      <th>iterations_since_restore</th>\n",
       "      <th>config/lr</th>\n",
       "      <th>logdir</th>\n",
       "    </tr>\n",
       "  </thead>\n",
       "  <tbody>\n",
       "    <tr>\n",
       "      <th>0</th>\n",
       "      <td>0.134375</td>\n",
       "      <td>7a7a9656</td>\n",
       "      <td>9</td>\n",
       "      <td>0.310090</td>\n",
       "      <td>False</td>\n",
       "      <td>NaN</td>\n",
       "      <td>NaN</td>\n",
       "      <td>644f1001a2c140d4a6d25a1513d49545</td>\n",
       "      <td>2019-12-09_13-04-33</td>\n",
       "      <td>1575925473</td>\n",
       "      <td>5.267463</td>\n",
       "      <td>1795</td>\n",
       "      <td>KiranCHHATRE</td>\n",
       "      <td>10.0.0.194</td>\n",
       "      <td>5.267463</td>\n",
       "      <td>0</td>\n",
       "      <td>10</td>\n",
       "      <td>0.001</td>\n",
       "      <td>/home/berkeleylab/ray_results/train_mnist/trai...</td>\n",
       "    </tr>\n",
       "    <tr>\n",
       "      <th>1</th>\n",
       "      <td>0.750000</td>\n",
       "      <td>7a7b7b70</td>\n",
       "      <td>9</td>\n",
       "      <td>0.317874</td>\n",
       "      <td>False</td>\n",
       "      <td>NaN</td>\n",
       "      <td>NaN</td>\n",
       "      <td>30460a7609bc4a168c2bf5a50da691bf</td>\n",
       "      <td>2019-12-09_13-04-34</td>\n",
       "      <td>1575925474</td>\n",
       "      <td>5.325331</td>\n",
       "      <td>1800</td>\n",
       "      <td>KiranCHHATRE</td>\n",
       "      <td>10.0.0.194</td>\n",
       "      <td>5.325331</td>\n",
       "      <td>0</td>\n",
       "      <td>10</td>\n",
       "      <td>0.010</td>\n",
       "      <td>/home/berkeleylab/ray_results/train_mnist/trai...</td>\n",
       "    </tr>\n",
       "    <tr>\n",
       "      <th>2</th>\n",
       "      <td>0.887500</td>\n",
       "      <td>7a7bedd0</td>\n",
       "      <td>9</td>\n",
       "      <td>0.329541</td>\n",
       "      <td>False</td>\n",
       "      <td>NaN</td>\n",
       "      <td>NaN</td>\n",
       "      <td>f6050377a7714d05acd71dd4f7e9962e</td>\n",
       "      <td>2019-12-09_13-04-33</td>\n",
       "      <td>1575925473</td>\n",
       "      <td>5.077146</td>\n",
       "      <td>1799</td>\n",
       "      <td>KiranCHHATRE</td>\n",
       "      <td>10.0.0.194</td>\n",
       "      <td>5.077146</td>\n",
       "      <td>0</td>\n",
       "      <td>10</td>\n",
       "      <td>0.100</td>\n",
       "      <td>/home/berkeleylab/ray_results/train_mnist/trai...</td>\n",
       "    </tr>\n",
       "  </tbody>\n",
       "</table>\n",
       "</div>"
      ],
      "text/plain": [
       "   mean_accuracy  trial_id  training_iteration  time_this_iter_s   done  \\\n",
       "0       0.134375  7a7a9656                   9          0.310090  False   \n",
       "1       0.750000  7a7b7b70                   9          0.317874  False   \n",
       "2       0.887500  7a7bedd0                   9          0.329541  False   \n",
       "\n",
       "   timesteps_total  episodes_total                     experiment_id  \\\n",
       "0              NaN             NaN  644f1001a2c140d4a6d25a1513d49545   \n",
       "1              NaN             NaN  30460a7609bc4a168c2bf5a50da691bf   \n",
       "2              NaN             NaN  f6050377a7714d05acd71dd4f7e9962e   \n",
       "\n",
       "                  date   timestamp  time_total_s   pid      hostname  \\\n",
       "0  2019-12-09_13-04-33  1575925473      5.267463  1795  KiranCHHATRE   \n",
       "1  2019-12-09_13-04-34  1575925474      5.325331  1800  KiranCHHATRE   \n",
       "2  2019-12-09_13-04-33  1575925473      5.077146  1799  KiranCHHATRE   \n",
       "\n",
       "      node_ip  time_since_restore  timesteps_since_restore  \\\n",
       "0  10.0.0.194            5.267463                        0   \n",
       "1  10.0.0.194            5.325331                        0   \n",
       "2  10.0.0.194            5.077146                        0   \n",
       "\n",
       "   iterations_since_restore  config/lr  \\\n",
       "0                        10      0.001   \n",
       "1                        10      0.010   \n",
       "2                        10      0.100   \n",
       "\n",
       "                                              logdir  \n",
       "0  /home/berkeleylab/ray_results/train_mnist/trai...  \n",
       "1  /home/berkeleylab/ray_results/train_mnist/trai...  \n",
       "2  /home/berkeleylab/ray_results/train_mnist/trai...  "
      ]
     },
     "execution_count": 10,
     "metadata": {},
     "output_type": "execute_result"
    }
   ],
   "source": [
    "analysis.dataframe()\n"
   ]
  },
  {
   "cell_type": "code",
   "execution_count": null,
   "metadata": {},
   "outputs": [],
   "source": []
  }
 ],
 "metadata": {
  "kernelspec": {
   "display_name": "Python 3",
   "language": "python",
   "name": "python3"
  },
  "language_info": {
   "codemirror_mode": {
    "name": "ipython",
    "version": 3
   },
   "file_extension": ".py",
   "mimetype": "text/x-python",
   "name": "python",
   "nbconvert_exporter": "python",
   "pygments_lexer": "ipython3",
   "version": "3.7.5"
  }
 },
 "nbformat": 4,
 "nbformat_minor": 2
}
