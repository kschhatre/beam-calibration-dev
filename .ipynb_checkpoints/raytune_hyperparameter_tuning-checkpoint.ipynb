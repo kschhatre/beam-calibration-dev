{
 "cells": [
  {
   "cell_type": "markdown",
   "metadata": {},
   "source": [
    "<center><font size=\"3.5\"><b>Hyperparameter optimization using raytune / RISELab</b></font></center>"
   ]
  },
  {
   "cell_type": "code",
   "execution_count": 1,
   "metadata": {
    "scrolled": true
   },
   "outputs": [],
   "source": [
    "# Installables\n",
    "#!pip install ray[tune] torch torchvision filelock\n",
    "\n",
    "# Dependencies \n",
    "\n",
    "import torch.optim as optim\n",
    "from ray import tune\n",
    "from ray.tune.examples.mnist_pytorch import get_data_loaders, ConvNet, train, test"
   ]
  },
  {
   "cell_type": "markdown",
   "metadata": {},
   "source": [
    "### Grid search to train CNN using PyTorch and tune"
   ]
  },
  {
   "cell_type": "code",
   "execution_count": 2,
   "metadata": {},
   "outputs": [
    {
     "name": "stderr",
     "output_type": "stream",
     "text": [
      "2019-11-25 10:42:56,851\tINFO resource_spec.py:205 -- Starting Ray with 11.62 GiB memory available for workers and up to 5.82 GiB for objects. You can adjust these settings with ray.init(memory=<bytes>, object_store_memory=<bytes>).\n",
      "2019-11-25 10:42:59,033\tINFO function_runner.py:254 -- tune.track signature detected.\n"
     ]
    },
    {
     "name": "stdout",
     "output_type": "stream",
     "text": [
      "== Status ==\n",
      "Using FIFO scheduling algorithm.\n",
      "Resources requested: 0/8 CPUs, 0/0 GPUs, 0.0/11.62 GiB heap, 0.0/4.0 GiB objects\n",
      "Memory usage on this node: 12.6/31.6 GiB\n",
      "\n",
      "\u001b[2m\u001b[33m(pid=raylet)\u001b[0m E1125 10:42:57.841189900    2145 socket_utils_common_posix.cc:202] check for SO_REUSEPORT: {\"created\":\"@1574707377.841170700\",\"description\":\"Protocol not available\",\"errno\":92,\"file\":\"external/com_github_grpc_grpc/src/core/lib/iomgr/socket_utils_common_posix.cc\",\"file_line\":179,\"os_error\":\"Protocol not available\",\"syscall\":\"getsockopt(SO_REUSEPORT)\"}\n",
      "\u001b[2m\u001b[33m(pid=raylet)\u001b[0m E1125 10:42:57.841419100    2145 socket_utils_common_posix.cc:303] setsockopt(TCP_USER_TIMEOUT) Protocol not available\n",
      "\u001b[2m\u001b[33m(pid=raylet)\u001b[0m E1125 10:42:57.911507000    2145 socket_utils_common_posix.cc:303] setsockopt(TCP_USER_TIMEOUT) Protocol not available\n"
     ]
    },
    {
     "name": "stderr",
     "output_type": "stream",
     "text": [
      "2019-11-25 10:43:20,503\tERROR log_sync.py:28 -- Log sync requires rsync to be installed.\n",
      "2019-11-25 10:43:20,518\tWARNING util.py:133 -- The `start_trial` operation took 20.30329155921936 seconds to complete, which may be a performance bottleneck.\n",
      "2019-11-25 10:43:20,549\tERROR log_sync.py:28 -- Log sync requires rsync to be installed.\n",
      "2019-11-25 10:43:20,588\tERROR log_sync.py:28 -- Log sync requires rsync to be installed.\n"
     ]
    },
    {
     "name": "stdout",
     "output_type": "stream",
     "text": [
      "== Status ==\n",
      "Using FIFO scheduling algorithm.\n",
      "Resources requested: 1/8 CPUs, 0/0 GPUs, 0.0/11.62 GiB heap, 0.0/4.0 GiB objects\n",
      "Memory usage on this node: 13.2/31.6 GiB\n",
      "Result logdir: /home/berkeleylab/ray_results/train_mnist\n",
      "Number of trials: 3 ({'RUNNING': 1, 'PENDING': 2})\n",
      "PENDING trials:\n",
      " - train_mnist_1_lr=0.01:\tPENDING\n",
      " - train_mnist_2_lr=0.1:\tPENDING\n",
      "RUNNING trials:\n",
      " - train_mnist_0_lr=0.001:\tRUNNING\n",
      "\n",
      "Result for train_mnist_2_lr=0.1:\n",
      "  date: 2019-11-25_10-43-22\n",
      "  done: false\n",
      "  experiment_id: 6374e3ea813b454e99af8e7ef6061734\n",
      "  hostname: KiranCHHATRE\n",
      "  iterations_since_restore: 1\n",
      "  mean_accuracy: 0.5375\n",
      "  node_ip: 10.0.0.194\n",
      "  pid: 2160\n",
      "  time_since_restore: 1.2691292762756348\n",
      "  time_this_iter_s: 1.2691292762756348\n",
      "  time_total_s: 1.2691292762756348\n",
      "  timestamp: 1574707402\n",
      "  timesteps_since_restore: 0\n",
      "  training_iteration: 0\n",
      "  trial_id: 67a9baa8\n",
      "  \n",
      "Result for train_mnist_0_lr=0.001:\n",
      "  date: 2019-11-25_10-43-22\n",
      "  done: false\n",
      "  experiment_id: f530b5ec3a6f44888eb22c79bcd4ae76\n",
      "  hostname: KiranCHHATRE\n",
      "  iterations_since_restore: 1\n",
      "  mean_accuracy: 0.10625\n",
      "  node_ip: 10.0.0.194\n",
      "  pid: 2161\n",
      "  time_since_restore: 1.3842628002166748\n",
      "  time_this_iter_s: 1.3842628002166748\n",
      "  time_total_s: 1.3842628002166748\n",
      "  timestamp: 1574707402\n",
      "  timesteps_since_restore: 0\n",
      "  training_iteration: 0\n",
      "  trial_id: 67a3f76c\n",
      "  \n",
      "Result for train_mnist_1_lr=0.01:\n",
      "  date: 2019-11-25_10-43-22\n",
      "  done: false\n",
      "  experiment_id: 98aa74c9ffd54f46a7e4bf5c8bdae444\n",
      "  hostname: KiranCHHATRE\n",
      "  iterations_since_restore: 1\n",
      "  mean_accuracy: 0.175\n",
      "  node_ip: 10.0.0.194\n",
      "  pid: 2164\n",
      "  time_since_restore: 1.5934054851531982\n",
      "  time_this_iter_s: 1.5934054851531982\n",
      "  time_total_s: 1.5934054851531982\n",
      "  timestamp: 1574707402\n",
      "  timesteps_since_restore: 0\n",
      "  training_iteration: 0\n",
      "  trial_id: 67a9040a\n",
      "  \n"
     ]
    },
    {
     "name": "stderr",
     "output_type": "stream",
     "text": [
      "2019-11-25 10:43:25,542\tINFO tune.py:276 -- Returning an analysis object by default. You can call `analysis.trials` to retrieve a list of trials. This message will be removed in future versions of Tune.\n"
     ]
    },
    {
     "name": "stdout",
     "output_type": "stream",
     "text": [
      "== Status ==\n",
      "Using FIFO scheduling algorithm.\n",
      "Resources requested: 0/8 CPUs, 0/0 GPUs, 0.0/11.62 GiB heap, 0.0/4.0 GiB objects\n",
      "Memory usage on this node: 13.3/31.6 GiB\n",
      "Result logdir: /home/berkeleylab/ray_results/train_mnist\n",
      "Number of trials: 3 ({'TERMINATED': 3})\n",
      "TERMINATED trials:\n",
      " - train_mnist_0_lr=0.001:\tTERMINATED, [1 CPUs, 0 GPUs], [pid=2161], 4 s, 9 iter, 0.275 acc\n",
      " - train_mnist_1_lr=0.01:\tTERMINATED, [1 CPUs, 0 GPUs], [pid=2164], 4 s, 9 iter, 0.722 acc\n",
      " - train_mnist_2_lr=0.1:\tTERMINATED, [1 CPUs, 0 GPUs], [pid=2160], 4 s, 9 iter, 0.881 acc\n",
      "\n",
      "== Status ==\n",
      "Using FIFO scheduling algorithm.\n",
      "Resources requested: 0/8 CPUs, 0/0 GPUs, 0.0/11.62 GiB heap, 0.0/4.0 GiB objects\n",
      "Memory usage on this node: 13.3/31.6 GiB\n",
      "Result logdir: /home/berkeleylab/ray_results/train_mnist\n",
      "Number of trials: 3 ({'TERMINATED': 3})\n",
      "TERMINATED trials:\n",
      " - train_mnist_0_lr=0.001:\tTERMINATED, [1 CPUs, 0 GPUs], [pid=2161], 4 s, 9 iter, 0.275 acc\n",
      " - train_mnist_1_lr=0.01:\tTERMINATED, [1 CPUs, 0 GPUs], [pid=2164], 4 s, 9 iter, 0.722 acc\n",
      " - train_mnist_2_lr=0.1:\tTERMINATED, [1 CPUs, 0 GPUs], [pid=2160], 4 s, 9 iter, 0.881 acc\n",
      "\n",
      "Best config:  {'lr': 0.1}\n"
     ]
    }
   ],
   "source": [
    "def train_mnist(config):\n",
    "    train_loader, test_loader = get_data_loaders()\n",
    "    model = ConvNet()\n",
    "    optimizer = optim.SGD(model.parameters(), lr=config[\"lr\"])\n",
    "    for i in range(10):\n",
    "        train(model, optimizer, train_loader)\n",
    "        acc = test(model, test_loader)\n",
    "        tune.track.log(mean_accuracy=acc)\n",
    "\n",
    "\n",
    "analysis = tune.run(\n",
    "    train_mnist, config={\"lr\": tune.grid_search([0.001, 0.01, 0.1])})\n",
    "\n",
    "print(\"Best config: \", analysis.get_best_config(metric=\"mean_accuracy\"))\n",
    "\n",
    "# Get a dataframe for analyzing trial results.\n",
    "df = analysis.dataframe()"
   ]
  },
  {
   "cell_type": "code",
   "execution_count": 4,
   "metadata": {},
   "outputs": [
    {
     "name": "stdout",
     "output_type": "stream",
     "text": [
      "The tensorboard extension is already loaded. To reload it, use:\n",
      "  %reload_ext tensorboard\n"
     ]
    },
    {
     "data": {
      "text/html": [
       "\n",
       "      <iframe id=\"tensorboard-frame-5121f35752245a11\" width=\"100%\" height=\"800\" frameborder=\"0\">\n",
       "      </iframe>\n",
       "      <script>\n",
       "        (function() {\n",
       "          const frame = document.getElementById(\"tensorboard-frame-5121f35752245a11\");\n",
       "          const url = new URL(\"/\", window.location);\n",
       "          url.port = 6006;\n",
       "          frame.src = url;\n",
       "        })();\n",
       "      </script>\n",
       "  "
      ],
      "text/plain": [
       "<IPython.core.display.HTML object>"
      ]
     },
     "metadata": {},
     "output_type": "display_data"
    }
   ],
   "source": [
    "%load_ext tensorboard\n",
    "%tensorboard --logdir ~/ray_results\n"
   ]
  },
  {
   "cell_type": "markdown",
   "metadata": {},
   "source": [
    "\n",
    "Features | Resources \n",
    "--- | ---  \n",
    "**Compatible Frameworks** | PyTorch, Keras \n",
    "**Visualization** | TensorBoard\n",
    "**SOTA Algorithms** | Population Based Training (DeepMind), Viziers Median Stopping Rule (Google), HypeBand/ASHA (CMU)\n",
    "**Tuning Libraries** | Ax (Facebook), HyperOpt, BayesOpt, Grid/ Random search, SigOpt, Nevergrad, Scikit-Optimize, BOHB\n",
    "**Contribution/ Extension** | Yes\n",
    "\n",
    "\n",
    "> #### Contribution of new algorithms/ model-based suggestion algorithms: API setup documentation available\n"
   ]
  },
  {
   "cell_type": "markdown",
   "metadata": {},
   "source": [
    "### Distributed Experimentation on local/ cloud cluster\n",
    "\n",
    "- Independent of other responses\n",
    "- Controlled for variance and uncontrollable error\n",
    "- Reproducible between model candidates"
   ]
  }
 ],
 "metadata": {
  "kernelspec": {
   "display_name": "Python 3",
   "language": "python",
   "name": "python3"
  },
  "language_info": {
   "codemirror_mode": {
    "name": "ipython",
    "version": 3
   },
   "file_extension": ".py",
   "mimetype": "text/x-python",
   "name": "python",
   "nbconvert_exporter": "python",
   "pygments_lexer": "ipython3",
   "version": "3.7.5"
  }
 },
 "nbformat": 4,
 "nbformat_minor": 2
}
